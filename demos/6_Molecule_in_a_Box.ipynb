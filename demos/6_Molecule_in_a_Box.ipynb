{
 "cells": [
  {
   "cell_type": "markdown",
   "metadata": {},
   "source": [
    "## Demo 6: Molecule in a Box (a.k.a. Poor man's molecule)\n",
    "\n",
    "### Introduction\n",
    "\n",
    "In this in-class iPython notebook, we'll learn how to work with a matrix representation of the Hamiltonian operator, $\\hat{H}$.  We'll use this to get the eigenfunctions and eigenvalues (i.e. the energies) of $\\hat{H}$ for a potential $V(x)$ that will serve as a simple representation of a molecule with two nuclei and a single electron (e.g. $H_2^+$). \n",
    "\n",
    "We'll **review** some of the stuff you've learned so far : \n",
    "\n",
    "1. Creating and using functions in ipython.\n",
    "\n",
    "And we'll play around with some **new concepts** :\n",
    "\n",
    "1. Matrix representation of a Hamiltonian.\n",
    "2. Finding eigenvalues and eigenvectors of a matrix with numpy.\n",
    "3. Degenerate energy levels.\n",
    "\n",
    "## Before you start ...\n",
    "\n",
    "Remember our conventions:\n",
    "1. <i class=\"fa fa-book\"></i> means you only need to read an execute the boxes.\n",
    "2. <i class=\"fa fa-wrench\"></i> means you need also to complete code, indicated by instructions in capital letters.\n",
    "3. <i class=\"fa fa-gear\"></i> means there is question you should answer based on the results you've obtained so far. Stop coding and start theorizing!\n",
    "\n",
    "\n",
    "### Have fun!"
   ]
  },
  {
   "cell_type": "markdown",
   "metadata": {},
   "source": [
    "### <i class=\"fa fa-book\"></i> Step 1: Import the set of modules and functions that we'll be using\n",
    "\n",
    "We are going to make extensive use of our ipython library (qworld) in this demo."
   ]
  },
  {
   "cell_type": "code",
   "execution_count": null,
   "metadata": {
    "collapsed": false
   },
   "outputs": [],
   "source": [
    "% pylab inline\n",
    "import numpy as np\n",
    "from matplotlib import pyplot as plt\n",
    "#Now we'll import a module that let's us specify that path to our Chem160_library, and import it as a module\n",
    "import imp\n",
    "#This is how we'll import our own homemade modules\n",
    "qworld = imp.load_source('qworld', '../library/quantumWorld.py')"
   ]
  },
  {
   "cell_type": "markdown",
   "metadata": {},
   "source": [
    "###  <i class=\"fa fa-wrench\"></i> Step 2:  Let's write a function that generates a potential that mimics a diatomic molecule.\n",
    "\n",
    "A diatomic molecule comprises two nuclei, that can be represented a two positive point charges, and a given number of electrons. The electrostatic attraction between electrons and nuclei is the fundamental force that estabilizes atoms and molecules. Later in the course we will see in detail how to solve the Schrodinger equation for a diatomic system. For now we will mimic the basic structure of a homonuclear diatomic molecule using a simple potential with two finite square wells, that partially recreates the atractive potential experienced by electrons in these systems.\n",
    "\n",
    "The next function generates such a potential, check it out and take note of the parameters that describe the potential."
   ]
  },
  {
   "cell_type": "code",
   "execution_count": null,
   "metadata": {
    "collapsed": false
   },
   "outputs": [],
   "source": [
    "def box_with_barrier_V(x, R, r, r_pad, D):\n",
    "    '''Builds a box with barrier potential, V_x\n",
    "    inputs:\n",
    "        --> x -- array of positions\n",
    "        --> R -- Length of barrier\n",
    "        --> r -- length of the wells\n",
    "        --> r_pad -- length of regions that \"pad\" the wells at the boundaries\n",
    "        --> D -- height of barrier\n",
    "    '''\n",
    "    L = R + 2*r + 2*r_pad  #This is the length of the entire box. \n",
    "    V_x = np.zeros_like(x) #initialize V_x as an array of zeros. \n",
    "    for i in range(len(x)):\n",
    "        #Let's build it in a piece-wise manner. \n",
    "        if x[i] < 0 or x[i] > L:\n",
    "            print 'error, values of x must be between 0 and L'\n",
    "            return None\n",
    "        elif x[i] <= r_pad:  # x is between 0 and r\n",
    "            V_x[i] = 0\n",
    "        elif x[i] <= r_pad + r: # x is between 0 and r\n",
    "            V_x[i] = -D\n",
    "        elif x[i] <= r_pad + r + R:\n",
    "            V_x[i] = 0\n",
    "        elif x[i] <= r_pad + 2*r + R:\n",
    "            V_x[i] = -D\n",
    "        elif x[i] <= 2*r_pad + 2*r + R : # x is between 0 and r\n",
    "            V_x[i] = 0\n",
    "    return V_x"
   ]
  },
  {
   "cell_type": "markdown",
   "metadata": {},
   "source": [
    "Now let's see how this potential looks like. You will need to add a line of code."
   ]
  },
  {
   "cell_type": "code",
   "execution_count": null,
   "metadata": {
    "collapsed": false
   },
   "outputs": [],
   "source": [
    "D = 10 #the height of the barrier\n",
    "R = 5 # the width of the barrier, \n",
    "r = 1 # the width of the wells\n",
    "r_pad = 2 # the width of the boundary regions that \"pad\" the wells,\n",
    "L = R + 2*r + 2*r_pad # the width of the entire box. \n",
    "\n",
    "#An array of positions\n",
    "x = np.arange(0,L,0.01) \n",
    "\n",
    "########(ONE LINE) CALL THE FUNCTION WE CREATED ABOVE TO GENERATE THE POTENTIAL\n",
    "# assigning it to the variable Vx \n",
    "\n",
    "#############\n",
    "\n",
    "\n",
    "#Let's plot!\n",
    "fig, ax = plt.subplots(1)\n",
    "fig.set_size_inches(10, 8)\n",
    "plt.plot(x, Vx, linewidth = 4)\n",
    "#Some plot parameters\n",
    "plt.axis((0,L,-(D+5), 10))\n",
    "plt.xlabel('x -- position', fontsize = 16)\n",
    "plt.ylabel('V(x)', fontsize = 16)\n",
    "plt.title('Molecule in a box potential', fontsize = 16)\n",
    "plt.show()"
   ]
  },
  {
   "cell_type": "markdown",
   "metadata": {},
   "source": [
    "### <i class=\"fa fa-gear\"></i> Identify in the previous plot which features correspond to the parameters D, R and r. What would be the positions of the nuclei in our model? Discuss it with your classmates."
   ]
  },
  {
   "cell_type": "markdown",
   "metadata": {},
   "source": [
    "### <i class=\"fa fa-wrench\"></i> Step 3: Write a function to generate the matrix representation of the Hamiltonian."
   ]
  },
  {
   "cell_type": "markdown",
   "metadata": {},
   "source": [
    "We saw in class today that the H matrix has the following structure <br> <br>\n",
    "$$ H = \\left( \\begin{array}{ccccc}\n",
    "2t+V_1 & -t & 0 & 0 & ... \\\\\n",
    "-t & 2t+V_2 & -t & 0 & ... \\\\\n",
    "0 & -t & 2t+V_3 & - t & ... \\\\\n",
    ".. & .. & .. & .. & ..  \\end{array} \\right)$$ <br> <br>\n",
    "where $t = \\frac{\\hbar^2}{2 m a^2}$, and $a$ is the spacing of the grid. We will write a function that, given an array x and a potential V_x, defined over x, returns the Hamiltonian matrix associated to the discretized potential."
   ]
  },
  {
   "cell_type": "code",
   "execution_count": null,
   "metadata": {
    "collapsed": false
   },
   "outputs": [],
   "source": [
    "def build_H_matrix(x, V_x, m = 1, h_bar = 1):\n",
    "    ''' this function builds the matrix representation of H, \n",
    "    given x, the position array, and V_x as input\n",
    "    '''\n",
    "    a = x[1] - x[0] #x is the dx of the grid.  We can get it by taking the diff of the first two \n",
    "                    #entries in x\n",
    "    t = h_bar**2 / (2 * m * a**2) # the parameter t, as defined by schrier\n",
    "    \n",
    "    # initialize H_matrix as a matrix of zeros, with appropriate size. \n",
    "    H_matrix = np.zeros((len(V_x), len(V_x)))   \n",
    "    for i in range(len(V_x)): #Start adding the appropriate elements to the matrix\n",
    "        \n",
    "        ########(ONE LINE) ASSIGN TO THE H_matrix[i][i], THE DIAGONAL ELEMENTS OF H, THE APPROPRIATE VALUE\n",
    "\n",
    "        #########\n",
    "        \n",
    "        #special case, first row of H\n",
    "        if i == 0: \n",
    "            #Assignt to H_matrix[i][i+1],the off-diagonal elements of H\n",
    "            #The appropriate values, for the first row  \n",
    "            H_matrix[i][i+1] = -t\n",
    "        elif i == len(V_x) - 1: #special case, last row of H\n",
    "            H_matrix[i][i-1] = -t\n",
    "        else:  # for all the other rows\n",
    "            ########(TWO LINES) ASSIGN TO H_matrix[i][i+1] AND H_matrix[i][i-1]\n",
    "            #(THE OFF-DIAGONAL ELEMENTS OF H) THE APPROPRIATE VALUE          \n",
    "\n",
    "            \n",
    "            ################\n",
    "    return H_matrix"
   ]
  },
  {
   "cell_type": "markdown",
   "metadata": {},
   "source": [
    "### <i class=\"fa fa-book\"></i> Step 4: Finding the eigenfunctions of the hamiltonian for large barrier widths."
   ]
  },
  {
   "cell_type": "markdown",
   "metadata": {},
   "source": [
    "Now that we have the matrix-representation of $\\hat{H}$, we can solve the time-independent Schrodinger equation $\\hat{H}\\psi(x) = E\\psi(x)$ by asking numpy to find the eigenvalues and eigenvectors of $\\hat{H}$. We can do this using the **eig** function that can be found in the **numpy.linalg** module."
   ]
  },
  {
   "cell_type": "code",
   "execution_count": null,
   "metadata": {
    "collapsed": false
   },
   "outputs": [],
   "source": [
    "from numpy.linalg import eig"
   ]
  },
  {
   "cell_type": "markdown",
   "metadata": {},
   "source": [
    "** Read the following code carefully, as you will need to understand it to complete the rest of the demo. **"
   ]
  },
  {
   "cell_type": "code",
   "execution_count": null,
   "metadata": {
    "collapsed": false
   },
   "outputs": [],
   "source": [
    "R = 5 #Width of barrier\n",
    "\n",
    "D = 10 #height of barrier\n",
    "r = 1 #width of the two wells. \n",
    "r_pad = 2 #with of the \"padding\" region to the left of the wells\n",
    "L = R + 2*r + 2*r_pad #Total size of the box. \n",
    "\n",
    "#array of positions\n",
    "x = np.arange(0, L, 0.01) \n",
    "#Construct the potential\n",
    "V_x = box_with_barrier_V(x, R, r, r_pad, D) \n",
    "\n",
    "# Using the potential and the build_H_matrix function defined above, \n",
    "# we can build the H matrix, assigned to H\n",
    "H = build_H_matrix(x, V_x) \n",
    "\n",
    "#using the eig function from numpy.linalg, get eigenvectors \n",
    "# and eigenfunctions.  Assign output to eigenvalues, and eigenvectors\n",
    "#READ THE DOCUMENTATION OF eig TO GET A SENSE OF THE OUTPUTS\n",
    "eigenvalues, eigenvectors = eig(H)\n",
    "\n",
    "#Next, we use the numpy.argsort function to \n",
    "#sort the eigenvalues and get the indices of the \n",
    "#sorted eigenvalues\n",
    "sort_index = numpy.argsort(eigenvalues)\n",
    "ind1 = sort_index[0] #index of the lowest energy eigenvalue\n",
    "ind2 = sort_index[1] #index of the second lowest one\n",
    "\n",
    "#and we use these indices to plot the eigenfunctions associated to them\n",
    "plt.figure()\n",
    "psi0 = eigenvectors[:,ind1]\n",
    "psi1 = eigenvectors[:,ind2]\n",
    "\n",
    "psi0 = qworld.normalize_wf(x, psi0)\n",
    "psi1 = qworld.normalize_wf(x, psi1)\n",
    "\n",
    "plt.plot(x, psi0, linewidth = 4) #lowest energy\n",
    "plt.plot(x, psi1, linewidth = 4) #next lowest energy\n",
    "plt.xlabel('x', fontsize = 20)\n",
    "plt.ylabel('Psi(x)', fontsize = 20)\n",
    "plt.legend({'Psi0', 'Psi1'})\n",
    "\n",
    "#and in a different figure, we use these indices to plot the \n",
    "#pdfs associated to these eigenfunctions\n",
    "plt.figure()\n",
    "pdf_0 = qworld.probabilityDensity(psi0)\n",
    "pdf_1 = qworld.probabilityDensity(psi1)\n",
    "\n",
    "plt.plot(x, pdf_0, linewidth = 4)\n",
    "plt.plot(x, pdf_1, linewidth = 4)\n",
    "\n",
    "plt.xlabel('x', fontsize = 20)\n",
    "plt.ylabel('pdf', fontsize = 20)\n",
    "plt.legend({'pdf0', 'pdf1'})"
   ]
  },
  {
   "cell_type": "markdown",
   "metadata": {},
   "source": [
    "### <i class=\"fa fa-gear\"></i> Question: Do the two eigenfunctions look like they're localized in each of the wells or not?"
   ]
  },
  {
   "cell_type": "markdown",
   "metadata": {},
   "source": [
    "### <i class=\"fa fa-wrench\"></i> Step 5: Finding the eigenfunctions of the hamiltonian for a smaller barrier width.\n",
    "\n",
    "Now we will perform the same calculation we did in step 4 for a width of 0.2 instead of 5.0. You will write some code."
   ]
  },
  {
   "cell_type": "code",
   "execution_count": null,
   "metadata": {
    "collapsed": false
   },
   "outputs": [],
   "source": [
    "R = 0.2\n",
    "\n",
    "D = 10 #height of barrier\n",
    "r = 1 #width of the two wells. \n",
    "r_pad = 2 #with of the \"padding\" region to the left of the wells\n",
    "L = R + 2*r + 2*r_pad #Total size of the box. \n",
    "\n",
    "x = np.arange(0, L, 0.01) #array of positions\n",
    "\n",
    "##### (ONE LINE) USING THE box_with_barrier_V FUNCTION, GENERATE THE POTENTIAL\n",
    "\n",
    "################################################################################\n",
    "\n",
    "\n",
    "##### (ONE LINE) USING THE build_H_matrix FUNCTION, GENERATE THE MATRIX FOR THE HAMILTONIAN (H)\n",
    "\n",
    "##############################################################################################\n",
    "\n",
    "##### (ONE LINE) NOW USING THE eig FUNCTION FROM NUMPY, CALCULATE THE EIGENVECTORS \n",
    "# AND EIGENVALUES OF THE MATRIX H\n",
    "\n",
    "####################################################################################\n",
    "\n",
    "#Next, we use the numpy.argsort function to \n",
    "#sort the eigenvalues and get the indices of the \n",
    "#sorted eigenvalues\n",
    "sort_index = numpy.argsort(eigenvalues)\n",
    "ind1 = sort_index[0]\n",
    "ind2 = sort_index[1]\n",
    "\n",
    "#and we use these indices to plot the eigenvectors associated to them\n",
    "plt.figure()\n",
    "psi0 = eigenvectors[:,ind1]\n",
    "psi1 = eigenvectors[:,ind2]\n",
    "psi0 = qworld.normalize_wf(x, psi0)\n",
    "psi1 = qworld.normalize_wf(x, psi1)\n",
    "\n",
    "plt.plot(x, psi0, linewidth = 4) #lowest energy\n",
    "plt.plot(x, psi1, linewidth = 4) #next lowest energy\n",
    "plt.xlabel('x', fontsize = 20)\n",
    "plt.ylabel('Psi(x)', fontsize = 20)\n",
    "plt.legend({'Psi0', 'Psi1'})\n",
    "\n",
    "#and in a different figure, we use these indices to plot the \n",
    "#pdfs associated to these eigenfunctions\n",
    "plt.figure()\n",
    "pdf_0 = qworld.probabilityDensity(psi0)\n",
    "pdf_1 = qworld.probabilityDensity(psi1)\n",
    "\n",
    "plt.plot(x, pdf_0, linewidth = 4)\n",
    "plt.plot(x, pdf_1, linewidth = 4)\n",
    "\n",
    "plt.xlabel('x', fontsize = 20)\n",
    "plt.ylabel('pdf', fontsize = 20)\n",
    "plt.legend({'pdf0', 'pdf1'})\n",
    "plt.show()"
   ]
  },
  {
   "cell_type": "markdown",
   "metadata": {},
   "source": [
    "### <i class=\"fa fa-gear\"></i> Question: What do the eigenfunctions look like for small barrier widths? Do the two eigenfunctions look like they're localized in each of the wells or not?\n",
    "\n",
    "### <i class=\"fa fa-gear\"></i> Question: Can you tell which is the bonding and which is the anti-bonding wavefunction? "
   ]
  },
  {
   "cell_type": "markdown",
   "metadata": {},
   "source": [
    "###  <i class=\"fa fa-wrench\"></i> Step 6: Analyzing the energy splitting for different values of the barrier width."
   ]
  },
  {
   "cell_type": "markdown",
   "metadata": {},
   "source": [
    "What if we now vary the value of R, the width of the barrier, from R = 3 (relatively wide barrier) to R = 0, (no barrier).  And for each value of R, we'll get the two lowest energy eigenvalues. We'll first build the array of values of R, for which we'll obtain the eigenvalues for."
   ]
  },
  {
   "cell_type": "code",
   "execution_count": null,
   "metadata": {
    "collapsed": false
   },
   "outputs": [],
   "source": [
    "R1 = np.arange(3, 1, -1)\n",
    "R2 = np.arange(1.9, 0, -0.1)\n",
    "Rarray = np.concatenate((R1, R2), axis = 1)\n",
    "print 'We are going to scan the two lowest energy eigenvalues for these values of barrier width:'\n",
    "print Rarray"
   ]
  },
  {
   "cell_type": "markdown",
   "metadata": {},
   "source": [
    "Now we will calculate the two lowest eigenvalues for all the widths in our list."
   ]
  },
  {
   "cell_type": "code",
   "execution_count": null,
   "metadata": {
    "collapsed": false
   },
   "outputs": [],
   "source": [
    "D = 10 #height of barrier\n",
    "r = 1 #width of the two wells. \n",
    "r_pad = 2 #with of the \"padding\" region to the left of the wells\n",
    "\n",
    "E_1 = [] #two empty lists, where we'll store the lowest energy eigenvallues\n",
    "E_2 = []\n",
    "\n",
    "\n",
    "for R in Rarray:\n",
    "    print 'Obtaining the eigenvalues of H for R = ', R\n",
    "    L = R + 2*r + 2*r_pad\n",
    "    #build array of positions\n",
    "    x = np.arange(0, L, 0.01)\n",
    "    #Build the potential V(x)\n",
    "    V_x = box_with_barrier_V(x, R, r, r_pad, D)\n",
    "    #build the H matrix\n",
    "    H = build_H_matrix(x, V_x)\n",
    "    \n",
    "    ########(ONE LINE) USE THE EIG FUNCTION TO GET THE EIGENVALUES AND EIGENVECTORS\n",
    "    #Assign the output to eigenvalues, eigenvectors variables\n",
    "    \n",
    "    ###########\n",
    "   \n",
    "    #This is how we'll sort the eigenvalues\n",
    "    #from lowest to highest energy\n",
    "    sort_index = numpy.argsort(eigenvalues)\n",
    "\n",
    "    #we append to E_1 the lowest energy\n",
    "    E_1.append(eigenvalues[sort_index[0]]) \n",
    "    #we append to E_2 the 2nd lowest energy\n",
    "    E_2.append(eigenvalues[sort_index[1]]) "
   ]
  },
  {
   "cell_type": "markdown",
   "metadata": {},
   "source": [
    "Now let's plot the two lowest eigenvalues as a function of the barrier width. ** Use the function my_plotting_function you used in the last demo**. It is now included in our qworld library. If you don't remember the instructions, use help."
   ]
  },
  {
   "cell_type": "code",
   "execution_count": null,
   "metadata": {
    "collapsed": true
   },
   "outputs": [],
   "source": [
    "help(qworld.my_plotting_function)"
   ]
  },
  {
   "cell_type": "code",
   "execution_count": null,
   "metadata": {
    "collapsed": false
   },
   "outputs": [],
   "source": [
    "#################################\n",
    "# (ONE LINE) DEFINE THE LIST OF FUNCTIONS TO PLOT\n",
    "\n",
    "# (ONE LINE) DEFINE A LIST OF LABELS\n",
    "\n",
    "# (ONE LINE) CALL my_plotting_function TO PLOT THE VALUES OF E1 AND E2 AS A FUNCTION OF R\n"
   ]
  },
  {
   "cell_type": "markdown",
   "metadata": {},
   "source": [
    "### <i class=\"fa fa-gear\"></i> Question: How does the splitting of the energies change as the barrier width gets smaller? \n",
    "\n",
    "### <i class=\"fa fa-gear\"></i> Question: In a molecule, what will the gap between E1 and E2 correspond to?\n"
   ]
  },
  {
   "cell_type": "markdown",
   "metadata": {
    "collapsed": true
   },
   "source": [
    "## <i class=\"fa fa-book\"></i> Step 7. What did you learn in this demo?\n",
    "\n",
    "### 1. How to use the finite difference method to solve the Schrodinger equation in a matrix representation.\n",
    "\n",
    "### 2. How to find eigenvectors and eigenfunctions of a matrix using numpy.\n",
    "\n",
    "### 3. The connection between the form of a double squared potential and the localization of the wavefunction.\n",
    "\n",
    "### 4. The connection between the form of a double squared potential and the degeneracy of the eigenvalues."
   ]
  },
  {
   "cell_type": "code",
   "execution_count": null,
   "metadata": {
    "collapsed": true
   },
   "outputs": [],
   "source": []
  }
 ],
 "metadata": {
  "kernelspec": {
   "display_name": "Python 2",
   "language": "python",
   "name": "python2"
  },
  "language_info": {
   "codemirror_mode": {
    "name": "ipython",
    "version": 2
   },
   "file_extension": ".py",
   "mimetype": "text/x-python",
   "name": "python",
   "nbconvert_exporter": "python",
   "pygments_lexer": "ipython2",
   "version": "2.7.9"
  }
 },
 "nbformat": 4,
 "nbformat_minor": 0
}
