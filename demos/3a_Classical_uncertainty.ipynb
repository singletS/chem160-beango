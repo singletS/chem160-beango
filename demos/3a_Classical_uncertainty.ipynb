{
 "cells": [
  {
   "cell_type": "markdown",
   "metadata": {},
   "source": [
    "# Demo 3b: Classical uncertainty\n",
    "## Introduction\n",
    "In this iPython notebook, we'll play around with the notion of probability and uncertainty in the setting of a classical particle in a box. \n",
    "\n",
    "![](files/Boxed_particle.gif)\n",
    "\n",
    "We'll **review** some of the stuff you learned in PSET_1 such as: \n",
    "\n",
    "1.  A for loop within a for loop!\n",
    "2.  Plotting a histogram.\n",
    "3.  Calculating the mean of an array of numbers.\n",
    "\n",
    "And we'll play around with some **new concepts** :\n",
    "\n",
    "\n",
    "1.  Verlet integrator function.\n",
    "2.  Phase space plots.\n",
    "3.  Sampling from a probability distribution function.\n",
    "4.  Plotting a scatter plot.\n"
   ]
  },
  {
   "cell_type": "markdown",
   "metadata": {},
   "source": [
    "# Step 1 : let's import some useful modules"
   ]
  },
  {
   "cell_type": "code",
   "execution_count": null,
   "metadata": {
    "collapsed": false
   },
   "outputs": [],
   "source": [
    "%matplotlib inline  \n",
    "import numpy as np #python numerical library\n",
    "from scipy import integrate #a function to integrate\n",
    "import matplotlib.pyplot as plt #plotting library"
   ]
  },
  {
   "cell_type": "markdown",
   "metadata": {},
   "source": [
    "# Step 2: Define some functions that we'll use further below.\n",
    "### Browse them and get a sense of what they're doing and what the inputs and outputs are!!\n"
   ]
  },
  {
   "cell_type": "markdown",
   "metadata": {},
   "source": [
    "## Velocity Verlet algorithm\n",
    "updates positions and velocities given an acceleration function $a(x)$ as:\n",
    "\n",
    "$$\n",
    "x_{n+1} =x_{n} + v_n dt + \\frac{a(x_n)dt^2}{2}\n",
    "$$\n",
    "$$\n",
    "v_{n+1} =v_{n} + \\frac{a(x_n) + a(x_{n+1})}{2 dt}\n",
    "$$\n"
   ]
  },
  {
   "cell_type": "code",
   "execution_count": null,
   "metadata": {
    "collapsed": false
   },
   "outputs": [],
   "source": [
    "def verlet(x, v, dt, a):\n",
    "    '''\n",
    "    This is a simple implementation of the velocity Verlet algorithm.\n",
    "    INPUT\n",
    "    x: scalar or vector of current positions\n",
    "    v: scalar or vector of current velocities\n",
    "    dt: scalar double of the current time step\n",
    "    a: a function pointer to the acceleration function\n",
    "    \n",
    "    OUTPUT:\n",
    "    xnew: scalar or vector of the updated positions. The data type (scalar or vector) will be the \n",
    "          same as what is passed in to x, as the type will be infered.\n",
    "    vnew: scalar of vector of the updated velocities. The data type (scalar or vector) will be the \n",
    "          same as what is passed in to v, as the type will be infered.\n",
    "    '''\n",
    "    xnew = x + v*dt + a(x)*dt**2/2\n",
    "    vnew = v + (a(x) + a(xnew))/2*dt\n",
    "    return xnew, vnew"
   ]
  },
  {
   "cell_type": "markdown",
   "metadata": {},
   "source": [
    "## Our acceleration function\n",
    "In this case, where the classical particle in a box does not undergo acceleration, the $a(x)$ function is embarrasingly trivial:\n",
    "\n",
    "$$\n",
    "a(x)=0\n",
    "$$"
   ]
  },
  {
   "cell_type": "code",
   "execution_count": null,
   "metadata": {
    "collapsed": false
   },
   "outputs": [],
   "source": [
    "def a_box(x):\n",
    "    '''\n",
    "    This defines the acceleration of a particle in a box, which is zero. If you think this is silly, well it is. \n",
    "    But this is the last time we'll use such a simple acceleration function :)\n",
    "    INPUT:\n",
    "    x: scalar, not used at all\n",
    "    OUTPUT:\n",
    "    a: a scalar that returns the acceleration due to gravity\n",
    "    '''\n",
    "    a=0\n",
    "    return a"
   ]
  },
  {
   "cell_type": "markdown",
   "metadata": {},
   "source": [
    "## Trajectory Integrator\n",
    "This function is where we get the full trajectory of the particle from **startTime** to **stopTime**, with time step **dt**, by iteratively calling the Verlet integrator function. At the heart of the function is a for loop (can you see it???)  \n",
    "\n",
    "The important input values here will be the initial position and velocity, x0, v0\n",
    "\n",
    "### <i class=\"fa fa-exclamation-circle\"></i> (find and understand the portion of the code that specifies the boundary conditions, i.e. where we tell the particle to bounce off the walls.)"
   ]
  },
  {
   "cell_type": "code",
   "execution_count": null,
   "metadata": {
    "collapsed": false
   },
   "outputs": [],
   "source": [
    "def ode_integrate_box(x0, v0, a, startTime = 0.0, stopTime = 7.0, dt = 0.01, mass = 1.0):\n",
    "    '''\n",
    "    This is the method that we created to stop the copying and pasting that we were doing to solve\n",
    "    ODEs.\n",
    "    INPUT\n",
    "    x0 = scalar or vector of initial positions\n",
    "    v0 = scalar or vector of initial velocities\n",
    "    a = function pointer to the acceleration function. Note that this can only be position dependent\n",
    "    startTime = optional argument, keyworded. Scalar that defines the starting point of the time array\n",
    "    stopTime = optional argument, keyworded. Scalar that defines the ending point of the time array\n",
    "    dt = optional argument, keyworded. Scalar that defines the time step of the time array\n",
    "    mass = optional argument, keyworded. Scalar that defines the mass of the object\n",
    "    OUTPUT\n",
    "    t = vector of times\n",
    "    xlist = vector of positions from the propagation\n",
    "    vlist = vector of velocities from the propagation\n",
    "    '''\n",
    "    t = np.arange(startTime, stopTime, dt)\n",
    "\n",
    "    # This creates a zeroed out array that's the shape of the time array. This is important for a few reasons\n",
    "    # 1) We already know that we want to have collected a position and velocity at each time, t\n",
    "    # 2) By creating all of our arrays at once, we avoid any troubles with memory that could complicate issues.\n",
    "    xlist = np.zeros_like(t) \n",
    "    vlist = np.zeros_like(t)\n",
    "\n",
    "    # Here, we apply our initial conditions\n",
    "    xlist[0] = x0 \n",
    "    vlist[0] = v0    \n",
    "    \n",
    "    # We've set up a for loop that loops over the entire time array that we've defined above.\n",
    "    # What this is saying is that it will perform the inside of the loop for each of the values of i\n",
    "    # and i will range from 1 to the length of t, the time array\n",
    "    for i in range(1, len(t)):\n",
    "        xlist[i], vlist[i] = verlet(xlist[i-1],\n",
    "                                    vlist[i-1],\n",
    "                                    dt,\n",
    "                                    a_box) \n",
    "        ####THIS IS WHERE THE PARTICLE BOUNCES OFF THE WALLS####\n",
    "        if xlist[i] <= 0.0: # If statement to check whether the object has hit the walls of the box\n",
    "            xlist[i] = 0.0\n",
    "            vlist[i] = -vlist[i] #the velocity changes directions\n",
    "        elif xlist[i] >= L:\n",
    "            xlist[i] = L\n",
    "            vlist[i] = -vlist[i] #the velocity changes direction\n",
    "\n",
    "    return t, xlist, mass*vlist  #what does the funtion return?  the time array, the list of positions, and of momenta"
   ]
  },
  {
   "cell_type": "markdown",
   "metadata": {},
   "source": [
    "# Step 3: Initial Conditions\n",
    "\n",
    "## Let's define some parameter values and initialize our variables\n",
    "\n",
    "Among the parameter values that we'll define, are the **mean and variance of the normal/Gaussian distributions** that we'll use to sample initial positions and velocities of our particle. \n",
    "\n",
    "Recall that the probability density function (pdf) for the normal distribution is given by <br>\n",
    "$$P(x) = \\frac{1}{{\\sigma \\sqrt {2\\pi } }}e^{ -  \\frac{(x - x_o )^2}{ 2\\sigma^2 } } $$\n",
    "\n",
    "First we'll define the **parameters $x_o$ and $\\sigma$, the mean and the variance**, for the normal/Gaussian distributions we'll use to draw values of the initial velocity and position, v0, and x0\n",
    "\n",
    "\n"
   ]
  },
  {
   "cell_type": "markdown",
   "metadata": {},
   "source": [
    "### <i class=\"fa fa-flask\"></i> Experiment with different values\n",
    "\n",
    "* First, run the code below with a very small value of sigma_velocity and sigma_position, to simulate a delta function (e.g. 0.001).\n",
    "\n",
    "* Second, run it again with a larger value of sigma_velocity and sigma_position (e.g. 0.2 - 0.5)"
   ]
  },
  {
   "cell_type": "code",
   "execution_count": null,
   "metadata": {
    "collapsed": false
   },
   "outputs": [],
   "source": [
    "L=10 # this is the length of the box. \n",
    "\n",
    "#This defines the parameters of the normal distribution\n",
    "# that we'll use to draw random positions and velocities\n",
    "\n",
    "##################\n",
    "###You should play around with different values!!!\n",
    "mu_velocity =   # mean\n",
    "sigma_velocity =   # variance\n",
    "\n",
    "mu_position =   # mean\n",
    "sigma_position =   # variance"
   ]
  },
  {
   "cell_type": "markdown",
   "metadata": {},
   "source": [
    "and some other parameters and empty variable lists (i.e. the empty lists where we'll store our initial and final positions and momenta)"
   ]
  },
  {
   "cell_type": "code",
   "execution_count": null,
   "metadata": {
    "collapsed": false
   },
   "outputs": [],
   "source": [
    "stopT = 50 #this is the final time of each trajectory,\n",
    "\n",
    "#num_iter is the number of different times that we'll repeat the trajectory simulation\n",
    "# each time with different initial velocities and positions\n",
    "num_iter = 500\n",
    "\n",
    "p0_list = [] #an empty list with initial momenta\n",
    "x0_list = []  # and positions\n",
    "\n",
    "pf_list = [] #an empty list with final momenta\n",
    "xf_list = [] # and positions"
   ]
  },
  {
   "cell_type": "markdown",
   "metadata": {},
   "source": [
    "# Step 4: Now to the action!\n",
    "Let's run many (**num_iter**) trajectories of the classical particle in a box.\n",
    "But with random initial positions and velocities drawn from normal/gaussian distributions"
   ]
  },
  {
   "cell_type": "code",
   "execution_count": null,
   "metadata": {
    "collapsed": false
   },
   "outputs": [],
   "source": [
    "#We'll plot all the phase space trajectories in the same figure, so let's set up our figure\n",
    "x_list_full = []\n",
    "p_list_full = []\n",
    "for iter in range(num_iter): # a for loop that runs the trajectories for many iterations\n",
    "\n",
    "    ###########################\n",
    "    #### This is where we define the random initial position\n",
    "    ### Write two lines of code: \n",
    "    ###The first, assigns to x0 a random number drawn \n",
    "    ### from a normal gaussian distribution with parameters mu_position, sigma_position\n",
    "    ### The second, assigns to v0 a random number drawn\n",
    "    ### from a normal gaussian distribution with parameters mu_position, sigma_position\n",
    "    ###HINT use the numpy.random library, and google is your friend.    \n",
    "    \n",
    "    #########################\n",
    "\n",
    "\n",
    "    #we call the ode_integrate_box function to give us our trajectory!\n",
    "    time, xlist, plist = ode_integrate_box(x0, v0, a_box, stopTime = stopT)\n",
    "\n",
    "    x0_list.append(x0) #store a list of all the initial positions and momenta\n",
    "    p0_list.append(v0)\n",
    "    \n",
    "    xf_list.append(xlist[-1]) #store a list of all the final positions and momenta.   \n",
    "    pf_list.append(plist[-1]) #the [-1] index returns the last item in a list. \n",
    "    x_list_full.append(xlist)\n",
    "    p_list_full.append(plist)"
   ]
  },
  {
   "cell_type": "markdown",
   "metadata": {},
   "source": [
    "## Let's plot time vs position for the last particle"
   ]
  },
  {
   "cell_type": "code",
   "execution_count": null,
   "metadata": {
    "collapsed": false
   },
   "outputs": [],
   "source": [
    "plt.figure(figsize=(10,8))\n",
    "plt.plot(time,xlist)\n",
    "plt.title('Particle in a Box')\n",
    "plt.xlabel('Time')\n",
    "plt.ylabel('Position')\n",
    "plt.show()"
   ]
  },
  {
   "cell_type": "markdown",
   "metadata": {},
   "source": [
    "## Let's plot time vs momentum for the last particle"
   ]
  },
  {
   "cell_type": "code",
   "execution_count": null,
   "metadata": {
    "collapsed": false
   },
   "outputs": [],
   "source": [
    "plt.figure(figsize=(10,8))\n",
    "plt.plot(time,plist)\n",
    "plt.title('Particle in a Box')\n",
    "plt.xlabel('Time')\n",
    "plt.ylabel('Momentum')\n",
    "plt.show()"
   ]
  },
  {
   "cell_type": "markdown",
   "metadata": {},
   "source": [
    "## Now the phase plot of all particles!\n",
    "### We will be plotting all dynamical variables (Position & Momentum)"
   ]
  },
  {
   "cell_type": "code",
   "execution_count": null,
   "metadata": {
    "collapsed": false
   },
   "outputs": [],
   "source": [
    "plt.figure(figsize=(10,8))\n",
    "plt.plot(x_list_full,p_list_full,'bo')\n",
    "plt.title('Particle in a Box')\n",
    "plt.xlabel('Position')\n",
    "plt.ylabel('Momentum')\n",
    "plt.show()"
   ]
  },
  {
   "cell_type": "markdown",
   "metadata": {},
   "source": [
    "### <i class=\"fa fa-question-circle\"></i> What do horizontal straight lines mean in this plot?\n",
    "### <i class=\"fa fa-question-circle\"></i> Would this change with a different $a(x)$?"
   ]
  },
  {
   "cell_type": "markdown",
   "metadata": {},
   "source": [
    "# Step 5: Visualize distributions of particles\n",
    "## Initial velocities"
   ]
  },
  {
   "cell_type": "code",
   "execution_count": null,
   "metadata": {
    "collapsed": false
   },
   "outputs": [],
   "source": [
    "#Create a figure: \n",
    "plt.figure(figsize=(10,8))\n",
    "\n",
    "#Call the matplotlib.pyplot function that plots a histogram.  Google it up!\n",
    "count, bins, ignored = plt.hist(p0_list, 20, normed = True)\n",
    "\n",
    "#We'll overlay the analytical expression for the normal distribution too.  The x values are the bins. \n",
    "normal_dist = 1/(sigma_velocity * np.sqrt(2 * np.pi))*np.exp( - (bins - mu_velocity)**2 / (2 * sigma_velocity**2) )\n",
    "\n",
    "#Let's plot!\n",
    "plt.plot(bins, normal_dist, linewidth=2, color='r')\n",
    "plt.xlabel('initial velocity', fontsize=24)\n",
    "plt.ylabel('frequency', fontsize=24)\n",
    "plt.xlim((mu_velocity - 2, mu_velocity + 2))\n",
    "plt.title('Distributions of initial velocities', fontsize=24)\n",
    "plt.show()"
   ]
  },
  {
   "cell_type": "markdown",
   "metadata": {},
   "source": [
    "## Initial positions"
   ]
  },
  {
   "cell_type": "code",
   "execution_count": null,
   "metadata": {
    "collapsed": false
   },
   "outputs": [],
   "source": [
    "#Create a figure: \n",
    "plt.figure(figsize=(10,8))\n",
    "\n",
    "#Call the matplotlib.pyplot function that plots a histogram.  Google it up!\n",
    "count, bins, ignored = plt.hist(x0_list, 20, normed = True)\n",
    "\n",
    "#We'll overlay the analytical expression for the normal distribution too.  The x values are the bins. \n",
    "normal_dist = 1/(sigma_position * np.sqrt(2 * np.pi))*np.exp( - (bins - mu_position)**2 / (2 * sigma_position**2) )\n",
    "\n",
    "#Let's plot!\n",
    "plt.plot(bins, normal_dist, linewidth=2, color='r')\n",
    "plt.xlabel('initial position', fontsize=24)\n",
    "plt.ylabel('frequency', fontsize=24)\n",
    "plt.xlim((0,L))\n",
    "plt.title('Distributions of initial positions', fontsize=24)\n",
    "plt.show()"
   ]
  },
  {
   "cell_type": "markdown",
   "metadata": {},
   "source": [
    "## Phase plot"
   ]
  },
  {
   "cell_type": "code",
   "execution_count": null,
   "metadata": {
    "collapsed": false
   },
   "outputs": [],
   "source": [
    "#Create a figure: \n",
    "plt.figure(figsize=(10,8))\n",
    "v=plt.plot(x0_list, p0_list, 'o')\n",
    "plt.xlabel('initial position', fontsize=24)\n",
    "plt.ylabel('initial momentum', fontsize=24)\n",
    "plt.title('Scatter plot of initial positions and momenta', fontsize=24)\n",
    "plt.xlim((0,L))\n",
    "plt.ylim((2,8))\n",
    "plt.show()"
   ]
  },
  {
   "cell_type": "markdown",
   "metadata": {},
   "source": [
    "# What about the final velocities and positions? "
   ]
  },
  {
   "cell_type": "code",
   "execution_count": null,
   "metadata": {
    "collapsed": false
   },
   "outputs": [],
   "source": [
    "#Create a figure: \n",
    "plt.figure(figsize=(10,8))\n",
    "plt.hist(np.abs(pf_list))\n",
    "plt.xlabel('final velocity', fontsize=24)\n",
    "plt.ylabel('frequency', fontsize=24)\n",
    "plt.xlim((0, mu_velocity + 2))\n",
    "plt.title('Distributions of absolute final velocities', fontsize=24)\n",
    "plt.show()"
   ]
  },
  {
   "cell_type": "code",
   "execution_count": null,
   "metadata": {
    "collapsed": false
   },
   "outputs": [],
   "source": [
    "#Create a figure: \n",
    "plt.figure(figsize=(10,8))\n",
    "plt.hist(xf_list, 10)\n",
    "plt.xlabel('final position', fontsize=24)\n",
    "plt.ylabel('frequency', fontsize=24)\n",
    "plt.xlim((0,L))\n",
    "plt.title('Distributions of final positions', fontsize=24)\n",
    "plt.show()"
   ]
  },
  {
   "cell_type": "code",
   "execution_count": null,
   "metadata": {
    "collapsed": false
   },
   "outputs": [],
   "source": [
    "#Create a figure: \n",
    "plt.figure(figsize=(10,8))\n",
    "plt.plot(xf_list, pf_list, 'o')\n",
    "plt.xlabel('final position', fontsize=24)\n",
    "plt.ylabel('final velocity', fontsize=24)\n",
    "plt.title('Scatter plot of final positions and velocities', fontsize=24)\n",
    "plt.xlim((0,L))\n",
    "plt.ylim((-10,10))\n",
    "plt.show()"
   ]
  },
  {
   "cell_type": "markdown",
   "metadata": {},
   "source": [
    "# Step 6: Calculate the expectation value\n",
    "\n",
    "## Hint: google up a function in numpy that lets you take the expectation/expected value of an array of numbers.\n",
    "\n",
    "Run it and assign the values to the variables:\n",
    "* x0_list to x0_mean\n",
    "* p0_list to p0_mean\n",
    "* xf_list to xf_mean\n",
    "* pf_list to pf_mean\n"
   ]
  },
  {
   "cell_type": "code",
   "execution_count": null,
   "metadata": {
    "collapsed": true
   },
   "outputs": [],
   "source": [
    "# One line of code per variable\n"
   ]
  },
  {
   "cell_type": "code",
   "execution_count": null,
   "metadata": {
    "collapsed": false
   },
   "outputs": [],
   "source": [
    "print(\"The expected initial position is %f\"%x0_mean)\n",
    "print(\"The expected initial momentum is %f\"%p0_mean)\n",
    "\n",
    "print(\"The expected final position is %f\"%xf_mean)\n",
    "print(\"The expected final momentum is %f\"%pf_mean)"
   ]
  },
  {
   "cell_type": "code",
   "execution_count": null,
   "metadata": {
    "collapsed": true
   },
   "outputs": [],
   "source": []
  }
 ],
 "metadata": {
  "kernelspec": {
   "display_name": "Python 2",
   "language": "python",
   "name": "python2"
  },
  "language_info": {
   "codemirror_mode": {
    "name": "ipython",
    "version": 2
   },
   "file_extension": ".py",
   "mimetype": "text/x-python",
   "name": "python",
   "nbconvert_exporter": "python",
   "pygments_lexer": "ipython2",
   "version": "2.7.9"
  }
 },
 "nbformat": 4,
 "nbformat_minor": 0
}
