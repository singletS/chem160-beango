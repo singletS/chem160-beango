{
 "cells": [
  {
   "cell_type": "markdown",
   "metadata": {},
   "source": [
    "# Quantum Scattering"
   ]
  },
  {
   "cell_type": "markdown",
   "metadata": {},
   "source": [
    "## Introduction\n",
    "\n",
    "This iPython demo will start to give you some intuition for quantum scattering through a time dependent picture. \n",
    "\n",
    "To do this we will implement the Crank-Nicholson scheme, which provides an incredibly efficient and accurate technique for propagating wavefunctions forward in an implicit fashion. The technique works by assuming that:\n",
    "\n",
    "$$\\psi(t + dt) = \\frac{1 - \\frac{1}{2}i H dt }{1 + \\frac{1}{2}i H dt} \\psi(t) $$\n",
    "\n",
    "Now, it's quite difficult to propagate this equation as written, but we find that it's relatively easy to write in an implicit fashion. This means that we're solving a system of equations where:\n",
    "\n",
    "$$ (1 + \\frac{1}{2}i H dt) \\psi(t + dt) = (1 + \\frac{1}{2}i H dt)^\\dagger \\psi(t ).$$\n",
    "$$ A \\psi(t + dt) = A^\\dagger \\psi(t ).$$\n",
    "\n",
    "\n",
    "This can be thought of as the average of the forward propagator applied at time $t$ and the reverse propagator applied at time $t + dt.$ Then, this scheme basically works to ensure that quantum mechanics maintains its time-reversal symmetry at all times. This is precisely the bit that makes the Crank-Nicholson propagator very robust.\n",
    "\n",
    "For the purpose of this demo we just want you get familiar with the steps of the propagation algorithm, as you will need it for the next homework. We also want you to play around with the initial conditions of propagation (momentum of the initial wavepacket and height of the barrier) and see how these conditions impact the scattering process.<br><br>\n",
    "\n",
    "\n",
    "## <i class=\"fa fa-book\"></i> Step 1: Import the required modules and define common variables.\n",
    "\n",
    "Take note of the variables we are defining as you will have to play around with them. "
   ]
  },
  {
   "cell_type": "code",
   "execution_count": null,
   "metadata": {
    "collapsed": false
   },
   "outputs": [],
   "source": [
    "import numpy as np\n",
    "import scipy.sparse as sparse\n",
    "import scipy.sparse.linalg\n",
    "from scipy.integrate import simps\n",
    "import imp\n",
    "qworld = imp.load_source('qworld', '../library/quantumWorld.py')\n",
    "\n",
    "% pylab inline\n",
    "\n",
    "m = 938.27        # mass\n",
    "hbar = 0.1973        # hbar\n",
    "c = 3.0e2         # speed of light\n",
    "\n",
    "dx = 0.001 # Distance between x points\n",
    "a = -1.2\n",
    "b = 1.2\n",
    "x = np.arange(a, b, dx)\n",
    "nx = len(x)\n",
    "pi = np.pi\n",
    "print np.shape(x)\n",
    "\n",
    "T = 0.07 # Total time\n",
    "\n",
    "dt = .1e-3 # dt\n",
    "time_steps = int(T/dt) # Number of time steps\n",
    "niter = 1 # Save psi_t every niter steps\n",
    "time = np.arange(0, T, dt)"
   ]
  },
  {
   "cell_type": "markdown",
   "metadata": {},
   "source": [
    "## <i class=\"fa fa-book\"></i> Step 2: Let's define some useful functions for the propagation.\n",
    "\n",
    "Get familiar with the names of the following functions, as you will be calling them in the next steps."
   ]
  },
  {
   "cell_type": "code",
   "execution_count": null,
   "metadata": {
    "collapsed": true
   },
   "outputs": [],
   "source": [
    "##############################\n",
    "# BLACK BOX METHODS\n",
    "##############################\n",
    "\n",
    "def Psi0(x, k=200000.0, x0 = -0.100):\n",
    "    '''\n",
    "    Initial state for a travelling gaussian wave packet.\n",
    "    '''\n",
    "    a  = 0.030 \n",
    "    prefactor = (1.0/(2.0*pi*a**2))**0.25\n",
    "    K1 = np.exp(-1.0*(x-x0)**2/(4.*a**2))\n",
    "    K2 = np.exp(1j*k*x)\n",
    "    return prefactor*K1*K2\n",
    "\n",
    "def delta_abs(x, height = 5, cutoff = 0.4):\n",
    "    '''\n",
    "    This function takes in an array of positions and returns a scattering potential\n",
    "    with absorbing boundary conditions.\n",
    "    Just use as a black box\n",
    "    '''\n",
    "    potential = np.zeros(len(x), dtype=complex)\n",
    "    potential[0.5*len(potential)] = height\n",
    "    d = 0.1\n",
    "    for i in range(len(x)):\n",
    "        if x[i] >= cutoff:\n",
    "            potential[i] = -1j*(1.0/(np.cosh((x[i] - cutoff)**2/d**2))**2 - 1.0)\n",
    "        if x[i] <= -cutoff:\n",
    "            potential[i] = -1j*(1.0/(np.cosh((x[i] + cutoff)**2/d**2))**2 - 1.0)\n",
    "    return potential\n",
    "\n",
    "def build_KE(dx, nx):\n",
    "    '''\n",
    "    THis method just returns the tridiagonal kinetic energy. Ask if you have any questions.\n",
    "    dx: separation in the x grid\n",
    "    nx: number of points in the x grid\n",
    "    '''\n",
    "    prefactor = -(1j*hbar*c)/(2.*m)\n",
    "    data = np.ones((3, nx))\n",
    "    data[1] = -2*data[1]\n",
    "    diags = [-1,0,1]\n",
    "    D2 = prefactor / dx**2 * sparse.spdiags(data,diags,nx,nx)\n",
    "    return D2\n",
    "\n",
    "\n",
    "def build_potential(x, V_func, nx):\n",
    "    '''\n",
    "    This method just returns a sparse diagonal matrix with the potential on the diagonals\n",
    "    x: x grid\n",
    "    V_func: function that defines the potential (we use delta_abs in this example)\n",
    "    nx: number of points in the x grid\n",
    "    '''\n",
    "    k2 = (1j*c)/hbar\n",
    "    V_data = V_func(x)\n",
    "    V_diags = [0]\n",
    "    V = k2 * sparse.spdiags(V_data, V_diags, nx, nx)\n",
    "    I = sparse.identity(nx)\n",
    "    return V, V_data, I\n",
    "\n",
    "def forwardcn(psi, A, Ad):\n",
    "    '''\n",
    "    This method takes one step forward using the crank nicholson propagator. As promised, it uses the sparse solver\n",
    "    to find where A \\psi(t + dt) = A^\\dagger \\psi(t)\n",
    "    '''\n",
    "    psi = sparse.linalg.spsolve(A,Ad*psi)\n",
    "    return psi\n",
    "\n",
    "\n",
    "def animate_psi(psit, name='test.mp4'):\n",
    "    '''\n",
    "    This method produces an animation of the saved wavefunctions. Note, this can be a slow method\n",
    "    '''\n",
    "    def init():\n",
    "        '''\n",
    "        Animation interior function\n",
    "        '''\n",
    "        line.set_data([], [])\n",
    "        return line,\n",
    "\n",
    "    def animate(i):\n",
    "        '''\n",
    "        Animation interior function\n",
    "        '''\n",
    "        line.set_data(x, np.abs(psit[i,:]/2.0)**2)\n",
    "        return line,\n",
    "    \n",
    "    from matplotlib import animation\n",
    "    fig = plt.figure()\n",
    "    fig.set_size_inches(10, 8)\n",
    "    ax = plt.axes(xlim=(-0.5, 0.5), ylim=(-0.1, 10.0)) #create single axis in figure\n",
    "    ax.plot(x, V_data/5.0, lw=2)\n",
    "    line, = ax.plot([], [], lw=2)\n",
    "    ani = animation.FuncAnimation(fig, animate, np.arange(1, np.shape(psit)[0]), init_func=init)\n",
    "    ani.save(name, fps=60)\n",
    "    return ani"
   ]
  },
  {
   "cell_type": "markdown",
   "metadata": {},
   "source": [
    "## <i class=\"fa fa-wrench\"></i> Step 3: Now create a wavepacket to propagate. \n",
    "\n",
    "First, we need to create a wavepacket. Call the Psi0 method that is defined above. Note that k is the incoming momentum of the packet. For this first test, lets use k=-200.0. (The minus sign is related with the direction of the momentum. This wavepacket will move to the right.)"
   ]
  },
  {
   "cell_type": "code",
   "execution_count": null,
   "metadata": {
    "collapsed": false
   },
   "outputs": [],
   "source": [
    "# Define the value of the momentum for your wavepacket\n",
    "k_value=-100\n",
    "\n",
    "# CALL THE FUNCTION Psi0 TO BUILD A WAVEPACKET WITH k=k_value AND INITIAL POSITION (x0) of -0.2\n",
    "# assign it to the variable PsiaR (1 LINE)\n",
    "PsiaR = \n",
    "# normalizing the wavepacket\n",
    "PsiaR = PsiaR/np.sqrt(simps(np.abs(PsiaR)**2, x))\n",
    "\n",
    "# verifying normalization\n",
    "print simps(np.abs(PsiaR)**2, x)"
   ]
  },
  {
   "cell_type": "markdown",
   "metadata": {},
   "source": [
    "We will now generate the matrices for the potential energy and the kinetic energy, that we will use to build our Hamiltonian. We will also create an array to save the wavepacket wavefunctions as a function of time and the autocorrelation function."
   ]
  },
  {
   "cell_type": "code",
   "execution_count": null,
   "metadata": {
    "collapsed": false
   },
   "outputs": [],
   "source": [
    "# CALL THE FUNCTION build_KE THAT CONSTRUCT THE KINETIC ENERGY MATRIX (1 LINE)\n",
    "# assign it to the variable D2\n",
    "D2 = \n",
    "#build a delta function barrier (use the \"black_box\" definition delta_abs)\n",
    "# by calling THE FUNCTION build_potential THAT CONSTRUCT THE POTENTIAL ENERGY MATRIX (1 LINE)\n",
    "# assign the output to the variables V, V_data and I\n",
    "V, V_data, I = \n",
    "\n",
    "# Generating an array to store the wavepacket at different times\n",
    "psitaR = np.zeros((int((time_steps)/niter+1), len(PsiaR)), dtype=complex)\n",
    "# generating a matrix to store the correlation function at different times\n",
    "Caa = np.zeros(( int(time_steps/niter+1), ), dtype=complex)"
   ]
  },
  {
   "cell_type": "markdown",
   "metadata": {},
   "source": [
    "Now assign to the first column of psitaR (psitaR[0, :]) the variable PsiaR, that corresponds to the initial wavepacket. Also compute the first element of the autocorrelation function. The autocorrelation function at a time $t'$ for the incident wavepacket is defined as:\n",
    "\n",
    "$$ C(t')=\\int \\psi(t=t',x)^* \\psi(t=0,x)  dx $$"
   ]
  },
  {
   "cell_type": "code",
   "execution_count": null,
   "metadata": {
    "collapsed": false
   },
   "outputs": [],
   "source": [
    "# ASSIGN PsiaR TO THE FIRST ELEMENT OF THE VARIABLES psitaR (1 LINe)\n",
    "psitaR[0, :] = \n",
    "\n",
    "# COMPUTE THE AUTOCORRELATION FUNCTION AT t=0 (1 LINE)  \n",
    "Caa[0] = "
   ]
  },
  {
   "cell_type": "markdown",
   "metadata": {},
   "source": [
    "## <i class=\"fa fa-wrench\"></i> Step 4: Perform the propagation\n",
    "\n",
    "The first thing we need to do before propagating is computing the $A$ (A) and $A^\\dagger$ (Ad) Matrices required for the Crank-Nicholson propagation. According to the introduction these matrices will be given by:\n",
    "$$A = I - \\frac{dt}{2}(D2 + V) $$\n",
    "and\n",
    "$$A^\\dagger = I + \\frac{dt}{2}(D2+V)$$\n",
    "(Note that D2 already has the imaginary prefactor)"
   ]
  },
  {
   "cell_type": "code",
   "execution_count": null,
   "metadata": {
    "collapsed": true
   },
   "outputs": [],
   "source": [
    "# DEFINE THE A AND A^{dagger} MATRICES (2 LINES)\n",
    "# Remember we have defined the kinetic energy and potential energy matrix in the previous step as D2 and V.\n",
    "A = \n",
    "Ad = "
   ]
  },
  {
   "cell_type": "markdown",
   "metadata": {},
   "source": [
    "Now fill in the loop such that it updates the wavefunction *Psiar* using the *forwardcn* method and fill in the correlation function computation."
   ]
  },
  {
   "cell_type": "code",
   "execution_count": null,
   "metadata": {
    "collapsed": false
   },
   "outputs": [],
   "source": [
    "j = 1\n",
    "for i in range(time_steps):\n",
    "    # CALL THE forwardcn FUNCTION TO PROPAGATE 1 TIME STEP, ASSIGN THE RESULT TO PsiaR (1 LINE)\n",
    "    PsiaR = \n",
    "    if i%niter == 0:\n",
    "        # SAVE THE NEW PsiaR VALUE TO THE j-th ELEMENT OF THE psitaR MATRIX (1 LINE)\n",
    "        psitaR[j, :] = \n",
    "        # COMPUTE THE AUTOCORRELATION FUNCTION FOR THE j-th TIME STEP (1 LINE)  \n",
    "        Caa[j] = \n",
    "        j+=1"
   ]
  },
  {
   "cell_type": "markdown",
   "metadata": {},
   "source": [
    "Now we will plot the value of the autocorrelation function as a function of time."
   ]
  },
  {
   "cell_type": "code",
   "execution_count": null,
   "metadata": {
    "collapsed": false
   },
   "outputs": [],
   "source": [
    "tarray=dt*np.arange(0,len(Caa))\n",
    "plt.figure(1)\n",
    "plt.ylabel('|C(t)|',fontsize=12)\n",
    "plt.xlabel('Time',fontsize=12)\n",
    "plt.title(\"Autocorrelation function: $<\\psi(0) | \\psi(t)>$\")\n",
    "plt.plot(tarray,np.abs(Caa))\n",
    "plt.show()"
   ]
  },
  {
   "cell_type": "markdown",
   "metadata": {},
   "source": [
    "## <i class=\"fa fa-book\"></i> Step 6: Animate the propagation."
   ]
  },
  {
   "cell_type": "code",
   "execution_count": null,
   "metadata": {
    "collapsed": false
   },
   "outputs": [],
   "source": [
    "anim=animate_psi(psitaR)\n",
    "qworld.embedAnimation(anim,plt)"
   ]
  },
  {
   "cell_type": "markdown",
   "metadata": {
    "collapsed": true
   },
   "source": [
    "## <i class=\"fa fa-wrench\"></i> Step 7: Time to play around.\n",
    "\n",
    "Now we want you to play around with the momentum and the shape of the potential.\n",
    "\n",
    "1. Now, try a smaller k (Let's say k=-800). What happens with the transmission? Note that k is related to the temperature, so a larger k corresponds to a higher temperature and a smaller k to a lower temperature.\n",
    "1. Change the height of the potential in the definition of the function delta_abs. The default value is 5, raise it to 10. How does that change the transmission?"
   ]
  },
  {
   "cell_type": "code",
   "execution_count": null,
   "metadata": {
    "collapsed": true
   },
   "outputs": [],
   "source": []
  }
 ],
 "metadata": {
  "kernelspec": {
   "display_name": "Python 2",
   "language": "python",
   "name": "python2"
  },
  "language_info": {
   "codemirror_mode": {
    "name": "ipython",
    "version": 2
   },
   "file_extension": ".py",
   "mimetype": "text/x-python",
   "name": "python",
   "nbconvert_exporter": "python",
   "pygments_lexer": "ipython2",
   "version": "2.7.10"
  }
 },
 "nbformat": 4,
 "nbformat_minor": 0
}
