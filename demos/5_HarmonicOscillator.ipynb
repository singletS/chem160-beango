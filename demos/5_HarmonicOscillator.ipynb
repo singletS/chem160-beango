{
 "cells": [
  {
   "cell_type": "markdown",
   "metadata": {},
   "source": [
    "# The harmonic oscillator and introduction to the quantumWorld library\n",
    "\n",
    "## Introduction\n",
    "\n",
    "Throughout the first weeks of classes, we have learned how to define functions.  We have also built functions repeatedly so far and and will be throughout the course.  Why rewrite them every time we need them if we can **create our own python module and import these functions** whenever we need?\n",
    "\n",
    "In this iPython notebook we'll learn how to import the set of functions that we have written (and that we'll keep updating) in the file quantumWorld.py. We'll also get familiar with the quantum harmonic oscillator and its eigenfunctions. \n",
    "\n",
    "We'll **review** some of the stuff you've learned so far : \n",
    "\n",
    "1.  Plotting with iPython.\n",
    "2. Importing libraries and reading documentation in iPython.\n",
    "\n",
    "And we'll play around with some **new concepts** :\n",
    "\n",
    "1.  The quantumWorld library.\n",
    "2.  Solutions to the 1D quantum harmonic oscillator.\n",
    "\n",
    "## Before you start ...\n",
    "\n",
    "In addition to the symbols <i class=\"fa fa-book\"></i> and <i class=\"fa fa-wrench\"></i> that you saw in the previous demo, we have added a third one: <i class=\"fa fa-gear\"></i>. When you see <i class=\"fa fa-gear\"></i>, a question will be posted to call your attention towards certain result or concept. Stop coding and start theorizing!\n",
    "\n",
    "## Have fun!"
   ]
  },
  {
   "cell_type": "markdown",
   "metadata": {},
   "source": [
    "## <i class=\"fa fa-book\"></i> Step 1: Importing libraries.\n",
    "\n",
    "Here is what we usually import:"
   ]
  },
  {
   "cell_type": "code",
   "execution_count": null,
   "metadata": {
    "collapsed": false
   },
   "outputs": [],
   "source": [
    "% matplotlib inline\n",
    "import numpy as np\n",
    "from matplotlib import pyplot as plt"
   ]
  },
  {
   "cell_type": "markdown",
   "metadata": {},
   "source": [
    "We'll use the lines below now to import our quantumWorld.py, calling it qworld:"
   ]
  },
  {
   "cell_type": "code",
   "execution_count": null,
   "metadata": {
    "collapsed": false
   },
   "outputs": [],
   "source": [
    "#Now we'll import a module that let us specify the path to our quantumWorld library, and import it as a module\n",
    "import imp\n",
    "#This is how we'll import our own homemade modules\n",
    "qworld = imp.load_source('qworld', '../library/quantumWorld.py')"
   ]
  },
  {
   "cell_type": "markdown",
   "metadata": {},
   "source": [
    "## <i class=\"fa fa-book\"></i> Step 2: Getting familiar with the functions inside quantumWorld.\n",
    "\n",
    "In order to find out what's inside our library of functions, we can use the following lines of code:\n",
    "\n",
    "The following will print out a list with the names of all of the functions that are in the library\n"
   ]
  },
  {
   "cell_type": "code",
   "execution_count": null,
   "metadata": {
    "collapsed": false
   },
   "outputs": [],
   "source": [
    "dir(qworld)"
   ]
  },
  {
   "cell_type": "markdown",
   "metadata": {},
   "source": [
    "And the pydoc module will let us print out the documentation for all the available functions"
   ]
  },
  {
   "cell_type": "code",
   "execution_count": null,
   "metadata": {
    "collapsed": false
   },
   "outputs": [],
   "source": [
    "help(qworld)"
   ]
  },
  {
   "cell_type": "markdown",
   "metadata": {},
   "source": [
    "If you want to print out the documentation for a single function, you can call the pydoc.doc() function, but use as input the function you are interested in \n",
    "\n",
    "```python\n",
    "help(quantumWorld.FUNCTION_NAME)\n",
    "```"
   ]
  },
  {
   "cell_type": "code",
   "execution_count": null,
   "metadata": {
    "collapsed": false
   },
   "outputs": [],
   "source": [
    "# print out the documentation for the 1D particle in a box function inside our library \n",
    "help(qworld.box_1D_eigenfunction)"
   ]
  },
  {
   "cell_type": "markdown",
   "metadata": {},
   "source": [
    "## <i class=\"fa fa-wrench\"></i> Step 3:  Plotting the Harmonic Oscillator Potential $V(x)$\n",
    "Now let's start calling some of the functions that we've written in quantumWorld. \n",
    "\n",
    "We'll plot a harmonic potential, defined as: $$V(x) = V(x_0) + \\frac{1}{2}m\\omega^2(x - x0)^2$$\n",
    "\n",
    "By calling a function that we've provided in the quantumWorld module, called harmonic_oscillator_V (from V, the potential).\n",
    "\n",
    "**Print out the documentation for quantumWorld.harmonic_oscillator_V**\n"
   ]
  },
  {
   "cell_type": "code",
   "execution_count": null,
   "metadata": {
    "collapsed": false
   },
   "outputs": [],
   "source": [
    "# PRINT THE DOCUMENTATION OF THE QUANTUM WORLD LIBRARY (1 LINE OF CODE)\n",
    "# HINT: USE HELP\n"
   ]
  },
  {
   "cell_type": "markdown",
   "metadata": {},
   "source": [
    "**Now we will calculate the potential V(x) for three different values of $\\omega$ and store it in a list. Pay attention to how we call the functions from the quantumWorld library.**"
   ]
  },
  {
   "cell_type": "code",
   "execution_count": null,
   "metadata": {
    "collapsed": false
   },
   "outputs": [],
   "source": [
    "#Define a range of values of x. \n",
    "x = np.arange(-10, 10, 0.01)\n",
    "m=1 #the mass of our particle\n",
    "\n",
    "#Create a list of different values of omega\n",
    "omega_list = [5,10,15]\n",
    "\n",
    "#We'll store all of the potentials in this empty list\n",
    "V_x_list = []\n",
    "\n",
    "#For each value of omega, get the V(x), the harmonic oscillator potential\n",
    "for omega in omega_list:\n",
    "    #Notice how were calling the function that is part of the quantumWorld module/library\n",
    "    V_x = qworld.harmonic_oscillator_V(x, m, omega)\n",
    "    #Append it to the list of potentials\n",
    "    V_x_list.append(V_x)"
   ]
  },
  {
   "cell_type": "markdown",
   "metadata": {},
   "source": [
    "Now your task is to plot the three potentials in the list using a **for-loop**, all three in the same plot (just like you did in your first homework). We have already added some code, you will need just to complete the indicated line. Take a look at all the variables you can change to personalize and enhance your plots."
   ]
  },
  {
   "cell_type": "code",
   "execution_count": null,
   "metadata": {
    "collapsed": false
   },
   "outputs": [],
   "source": [
    "### ADD THE MISSING LINE IN THE FOR-LOOP\n",
    "fts=14\n",
    "lw=2\n",
    "plt.figure(figsize=(10,7))\n",
    "c=-1\n",
    "for V_x in V_x_list:\n",
    "    c+=1\n",
    "    the_label='Harmonic Potential with $\\omega=$'+str(omega_list[c])\n",
    "    #### ADD 1 LINE OF CODE HERE TO PLOT V_x vs x ################\n",
    "    #### remember to assign the label and change the line width to the lw value\n",
    "    #### HINT: check your cheat sheet\n",
    "\n",
    "    ###############################################\n",
    "plt.legend(loc='upper center',fontsize=fts)\n",
    "plt.ylabel('f(x)',fontsize=fts)\n",
    "plt.xlabel('x',fontsize=fts)\n",
    "plt.yticks(fontsize=fts)\n",
    "plt.xticks(fontsize=fts)\n",
    "plt.show()"
   ]
  },
  {
   "cell_type": "markdown",
   "metadata": {},
   "source": [
    "##  <i class=\"fa fa-wrench\"></i> Step 4:  Create a function to plot\n",
    "\n",
    "Creating a single personalized plot requires a long paragraph of code. Copying and pasting the same code everytime you need to plot something would be pretty inefficient and it wouldn't look nice. \n",
    "\n",
    "When you need to execute the same code several times for just just different parameters, it is useful and more elegant to turn that code into a function. If you have a set of functions that you use frequently, you can put them into a library, from which you can call them, just like we did with our quantumWorld library. \n",
    "\n",
    "So now we will turn our code for plotting into a function. Complete the missing code."
   ]
  },
  {
   "cell_type": "code",
   "execution_count": null,
   "metadata": {
    "collapsed": false
   },
   "outputs": [],
   "source": [
    "\"\"\"\"\" DEFINE A FUNCTION THAT RECEIVE THE FOLLOWING INPUT:\n",
    "    \n",
    "    INPUTS (IN ORDER):\n",
    "        - x: array with x values\n",
    "        functions_list: list of functions you want to plot\n",
    "        labels_list: list of labels. It should have the same size as functions_list\n",
    "        title: title of the plot (Default: 'Plot')\n",
    "        xlab: name of the xlabel (default: 'x')\n",
    "        ylab: name of the ylabel (default: 'f(x)')\n",
    "        fts: fontsize for legend, axes and labels (default: 12)\n",
    "        lw: linewidth for the lines of the plot (default: 2)\n",
    "        fs: figure size (default:(10,7))\n",
    "        \n",
    "    TO PLOT THE FUNCTIONS IN functions_list AS A FUNCTION OF x\n",
    "\"\"\"\"\"\n",
    "# COMPLETE THE FUNCTION BELOW\n",
    "\n",
    "def my_plotting_function(x,functions_list,labels_list,title='Plot',xlab='x',ylab='f(x)',fts=12,lw=2,fs=(10,8)):\n",
    "    plt.figure(figsize=fs)\n",
    "    c=-1\n",
    "    # WRITE A FOR LOOP TO PLOT ALL THE FUNCTIONS IN functions_list (3 LINES of code)\n",
    "    # use the integer c to assign the corresponding label from the labels_list\n",
    "    # HINT: the code is similar to the one in the previous step\n",
    "\n",
    "    \n",
    "    \n",
    "    plt.legend(loc='center left',fontsize=fts,bbox_to_anchor=(1, 0.5))\n",
    "    plt.ylabel(ylab,fontsize=fts)\n",
    "    plt.xlabel(xlab,fontsize=fts)\n",
    "    plt.yticks(fontsize=fts)\n",
    "    plt.xticks(fontsize=fts)\n",
    "    plt.title(title,fontsize=fts)\n",
    "    plt.show()\n",
    "    plt.show()"
   ]
  },
  {
   "cell_type": "markdown",
   "metadata": {},
   "source": [
    "Now you can verify the plotting function is working well by executing the next box. It should generate a plot similar to the one in step 3."
   ]
  },
  {
   "cell_type": "code",
   "execution_count": null,
   "metadata": {
    "collapsed": true
   },
   "outputs": [],
   "source": [
    "labels=['V(x) for $omega$=5','V(x) for $omega$=10','V(x) for $omega$=15']\n",
    "my_plotting_function(x,V_x_list,labels,title='My plotting function plotting harmonics',xlab='x',ylab='V(x)',fts=16,lw=2,fs=(10,7))"
   ]
  },
  {
   "cell_type": "markdown",
   "metadata": {},
   "source": [
    "##  <i class=\"fa fa-wrench\"></i> Step 5: Plotting the Harmonic Oscillator Eigenfunctions and PDFs for small quantum number such as n = 2\n",
    "\n",
    "What does the eigenfunction and associated Probability Density Functions (PDFs) for the Harmonic Oscillator look like for a small value of n, say if n = 2? <br>\n",
    "\n",
    "The general solution for the wavefunction of the 1D Harmonic Oscillator can be written as:\n",
    "\n",
    "$$ \\psi_n(x) = \\frac{1}{\\sqrt{2^n\\,n!}} \\cdot \\left(\\frac{m\\omega}{\\pi \\hbar}\\right)^{1/4} \\cdot e^{- \\frac{m\\omega x^2}{2 \\hbar}} \\cdot H_n\\left(\\sqrt{\\frac{m\\omega}{\\hbar}} x \\right), \\qquad n = 0,1,2,\\ldots $$\n",
    "\n",
    "where $n$ is the corresponding quantum number and the functions $H_n\\left(x \\right)$ represent the Hermite polynomials:\n",
    "\n",
    "$$ H_n(x)=(-1)^n e^{x^2}\\frac{d^n}{dx^n}\\left(e^{-x^2}\\right) $$\n",
    "\n",
    "As you see, this function, although not difficult, might take a bit more time to code. To speed up the process of calculating the wavefunction and visualizing it we included a function called **harmonic_oscillator_wf** inside **quantumWorld** to obtain the wavefunction. We also have a function **probabilityDensity** to get the associated PDF.\n",
    "\n",
    "First, print the documentation for these two functions (and **READ IT!!!**):"
   ]
  },
  {
   "cell_type": "code",
   "execution_count": null,
   "metadata": {
    "collapsed": false
   },
   "outputs": [],
   "source": [
    "#######(TWO LINES) PRINT THE DOCUMENTATION OF THE FUNCTIONS harmonic_oscillator_wf and probabilityDensity\n",
    "\n",
    "#############################"
   ]
  },
  {
   "cell_type": "markdown",
   "metadata": {},
   "source": [
    "Now use these two functions to get the wavefunction, the probability density function, and plot them. "
   ]
  },
  {
   "cell_type": "code",
   "execution_count": null,
   "metadata": {
    "collapsed": false
   },
   "outputs": [],
   "source": [
    "#let's define our values of n, omega, m\n",
    "n=2\n",
    "omega = 1\n",
    "m=1 \n",
    "hbar = 1\n",
    "\n",
    "#############################\n",
    "# CREATE YOUR HARMONIC OSCILLATOR POTENTIAL USING THE harmonic_oscillator_V FUNCTION FROM THE LIBRARY\n",
    "# (1 LINE OF CODE)\n",
    "V_x = qworld.harmonic_oscillator_V(x, m, omega)\n",
    "\n",
    "# CALL THE harmonic_oscillator_wf FUNCTION IN quantumWorld AND ASSIGNS IT TO A VARIABLE CALLED wf\n",
    "# (1 LINE OF CODE)\n",
    "wf = \n",
    "\n",
    "# NOW CALL probabilityDensity TO OBTAIN THE PDF ASSOCIATED TO THE WAVEFUNCTION\n",
    "# (1 LINE OF CODE)\n",
    "pdf = \n",
    "#############################\n",
    "\n",
    "\n",
    "#IN ORDER TO PLOT THE WAVEFUNCTION AND THE PDF OVERLAYED WITH THE HARMONIC POTENTIAL, \n",
    "# we'll multiply them by a scaling factor\n",
    "#(Try setting it to 1, and you'll see how small the wavefunction and PDF look)\n",
    "scaling_factor = (n+1)*max(V_x)\n",
    "\n",
    "# DEFINE A LIST OF FUNCTIONS WITH the arrays V_x, wf and pdf (don't forget to multiply V_x and\n",
    "# pdf by the scaling factor)\n",
    "# (1 LINE)\n",
    "f_list=\n",
    "\n",
    "# DEFINE A LIST OF LABELS (WRITE DOWN THE LABELS AS STRINGS)\n",
    "# (1 LINE)\n",
    "labels=\n",
    "\n",
    "# CALL YOUR PLOTTING FUNCTION TO CREATE THE PLOT\n",
    "# (1 LONG LINE)\n",
    "\n"
   ]
  },
  {
   "cell_type": "markdown",
   "metadata": {},
   "source": [
    "##  <i class=\"fa fa-wrench\"></i> Step 6:  Plot the Harmonic Oscillator PDF for a larger quantum number (n = 20) using your plotting function"
   ]
  },
  {
   "cell_type": "markdown",
   "metadata": {},
   "source": [
    "Now you might wonder, how the wavefunction and PDF look like for a larger value of n? Let's say, n=20? Well, we'll find out. You just have to repeat what you did in the previous step for n=20. Let's do it!"
   ]
  },
  {
   "cell_type": "code",
   "execution_count": null,
   "metadata": {
    "collapsed": false
   },
   "outputs": [],
   "source": [
    "n=20\n",
    "\n",
    "#############################\n",
    "###(ONE LINE) WRITE CODE THAT CALLS THE harmonic_oscillator_wf FUNCTION IN \n",
    "### THE quantumWorld LIBRARY AND ASSIGNS TO A VARIABLE CALLED wf\n",
    "wf = \n",
    "#############################\n",
    "\n",
    "#############################\n",
    "###(ONE LINE) WRITE A SINGLE LINE OF CODE THAT CALLS THE probabilityDensity FUNCTION IN \n",
    "### THE quantumWorld LIBRARY AND ASSIGNS TO A VARIABLE CALLED pdf\n",
    "pdf = \n",
    "#############################\n",
    "\n",
    "#IN ORDER TO PLOT THE WAVEFUNCTION AND THE PDF OVERLAYED WITH THE HARMONIC POTENTIAL, \n",
    "# we'll multiply them by a scaling factor\n",
    "scaling_factor = (n+1)*max(V_x)\n",
    "\n",
    "# DEFINE A LIST OF FUNCTIONS WITH the arrays V_x, wf and pdf (don't forget to multiply V_x and\n",
    "# pdf by the scaling factor)\n",
    "# (1 LINE)\n",
    "f_list=\n",
    "\n",
    "# DEFINE A LIST OF LABELS (WRITE DOWN THE LABELS AS STRINGS)\n",
    "# (1 LINE)\n",
    "labels=\n",
    "\n",
    "# CALL YOUR PLOTTING FUNCTION TO CREATE THE PLOT\n",
    "# (1 LONG LINE)\n"
   ]
  },
  {
   "cell_type": "markdown",
   "metadata": {},
   "source": [
    "Now that you have your plot you can compare it with the plot for n=2. What's happening with the PDF as $n$ increases? What is the physical meaning of the PDF? Based on your answers take a couple of minutes to think over the next question:"
   ]
  },
  {
   "cell_type": "markdown",
   "metadata": {},
   "source": [
    "## <i class=\"fa fa-gear\"></i> Question: Which PDF reminds you more of a classical oscillator?  Why? "
   ]
  },
  {
   "cell_type": "markdown",
   "metadata": {
    "collapsed": false
   },
   "source": [
    "To help you answer this question check also this cool gif by Sbyrnes321 - \n",
    "(Own work. Licensed under CC0 via Commons - https://commons.wikimedia.org/wiki/File:QuantumHarmonicOscillatorAnimation.gif#/media/File:QuantumHarmonicOscillatorAnimation.gif)\n",
    "\n",
    "(Now that you are an expert animating your plots, you could do things as cool as this one.)\n",
    "\n",
    "![](files/QuantumHarmonicOscillatorAnimation.gif)\n",
    "\n",
    "(A–B) show some classical trajectories for a harmonic oscillator (represented as a ball attached to a spring). In C–H, some solutions to the Schrödinger Equation are shown, where the horizontal axis is position, and the vertical axis is the real part (blue) or imaginary part (red) of the wavefunction. C-F are eigenstates (can you tell the values of $n$ ? Hint: count the number of nodes) and G-H are superpositions of eigenstates. "
   ]
  },
  {
   "cell_type": "markdown",
   "metadata": {},
   "source": [
    "## <i class=\"fa fa-book\"></i> Step 7. What did you learn in this demo?\n",
    "\n",
    "### 1. What is a library and why it is useful.\n",
    "\n",
    "### 2. How to call and use the quantumWorld library.\n",
    "\n",
    "### 3. The functional form of the solutions to the quantum 1D harmonic oscillator and the connection with the classical harmonic oscillator.\n",
    "\n",
    "### 4. How to improve your plots and create functions for plotting."
   ]
  },
  {
   "cell_type": "code",
   "execution_count": null,
   "metadata": {
    "collapsed": true
   },
   "outputs": [],
   "source": []
  }
 ],
 "metadata": {
  "kernelspec": {
   "display_name": "Python 2",
   "language": "python",
   "name": "python2"
  },
  "language_info": {
   "codemirror_mode": {
    "name": "ipython",
    "version": 2
   },
   "file_extension": ".py",
   "mimetype": "text/x-python",
   "name": "python",
   "nbconvert_exporter": "python",
   "pygments_lexer": "ipython2",
   "version": "2.7.10"
  }
 },
 "nbformat": 4,
 "nbformat_minor": 0
}
