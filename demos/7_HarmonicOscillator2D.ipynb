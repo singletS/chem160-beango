{
 "cells": [
  {
   "cell_type": "markdown",
   "metadata": {},
   "source": [
    "## Demo 7: Two-Dimensional isotropic and anisotropic harmonic oscillator. <br>\n",
    "\n",
    "### Introduction"
   ]
  },
  {
   "cell_type": "markdown",
   "metadata": {},
   "source": [
    "In this in-class iPython notebook, we'll play around with the 2D Harmonic Oscillator. We'll plot the potential as 3D plot $V(x,y)$. <br>  We'll then write python functions that return the eigenfunctions of the isotropic and anisotropic Harmonic Oscillator. <br>We'll use these to plot the eigenfunctions that correspond to the anisotropic Harmonic Oscillator that is obtained after obtaining the normal modes for the linear triatomic molecule that is analyzed in the ** pencast The Multidimensional Schrodinger Equation**.\n",
    "\n",
    "We'll **review** some of the stuff you've learned so far : \n",
    "\n",
    "1. The harmonic oscillator.\n",
    "\n",
    "And we'll play around with some **new concepts** :\n",
    "\n",
    "1. Plotting 3D functions in python. \n",
    "2. Generalization of the 1D harmonic oscillator to several dimensions.\n",
    "\n",
    "### Have fun!"
   ]
  },
  {
   "cell_type": "markdown",
   "metadata": {},
   "source": [
    "### <i class=\"fa fa-book\"></i> Step 1: Import the required modules.\n",
    "\n",
    "Some of these modules are related to 3D plotting, take note of those as you might need them for future homeworks."
   ]
  },
  {
   "cell_type": "code",
   "execution_count": 1,
   "metadata": {
    "collapsed": false
   },
   "outputs": [
    {
     "name": "stdout",
     "output_type": "stream",
     "text": [
      "Populating the interactive namespace from numpy and matplotlib\n"
     ]
    }
   ],
   "source": [
    "% pylab inline\n",
    "import numpy as np\n",
    "from matplotlib import pyplot as plt\n",
    "#we'll use the next one for 3D plotting\n",
    "import mpl_toolkits.mplot3d.axes3d as axes3d\n",
    "from scipy.integrate import simps\n",
    "#We'll use misc and hermval to generate the eigenfunctions of the H.O. \n",
    "from scipy import misc\n",
    "from numpy.polynomial.hermite import hermval\n",
    "import imp\n",
    "import pydoc ##this let's us print out the available functions in our library, as well as the documentation\n",
    "#This is how we'll import our own homemade modules\n",
    "qworld = imp.load_source('qworld', '../library/quantumWorld.py')"
   ]
  },
  {
   "cell_type": "markdown",
   "metadata": {},
   "source": [
    "### <i class=\"fa fa-book\"></i> Step 2: create a grid for a 3D plot."
   ]
  },
  {
   "cell_type": "markdown",
   "metadata": {},
   "source": [
    "In order to make a 3D plot of $V(x,y)$, we'll need to create a meshgrid. **Read online the documentation and examples for numpy.meshgrid() function, which is used routinely to generate 2D or higher-dimensional grids.**\n",
    "http://docs.scipy.org/doc/numpy/reference/generated/numpy.meshgrid.html"
   ]
  },
  {
   "cell_type": "code",
   "execution_count": null,
   "metadata": {
    "collapsed": false
   },
   "outputs": [],
   "source": [
    "x = np.arange(-10,10,0.1)\n",
    "y = np.arange(-10,10,0.1)\n",
    "xx, yy = np.meshgrid(x,y)"
   ]
  },
  {
   "cell_type": "markdown",
   "metadata": {},
   "source": [
    "### <i class=\"fa fa-wrench\"></i> Step 3: Obtain a potential for a 2D Harmonic Oscillator and plot it!"
   ]
  },
  {
   "cell_type": "markdown",
   "metadata": {},
   "source": [
    "A particle in a 2D harmonic potential experiences a harmonic potential in each of the dimensions. Therefore, the potential corresponds to a function $V(x,y)$ that can be written as:\n",
    "\n",
    "$$V(x,y) = \\frac{1}{2}k_x(x - x_0)^2 + \\frac{1}{2}k_y(y - y_0)^2$$ \n",
    "\n",
    "where $x_0$ and $y_0$ are the equilibrium coordinates and $k_x$ and $k_y$ are the two \"spring constants\". Next, we'll write a function that given as input a x-y meshgrid and $k_x$ and $k_y$, returns a 2D harmonic potential."
   ]
  },
  {
   "cell_type": "code",
   "execution_count": null,
   "metadata": {
    "collapsed": false
   },
   "outputs": [],
   "source": [
    "def harmonic_potential_2D(xx, yy, kx, ky, x0=0, y0=0):\n",
    "    '''2-D harmonic oscillator potential, defined on a meshgrid\n",
    "    INPUTS: \n",
    "        xx --> x-coordinate matrix of an x-y meshgrid\n",
    "        yy --> y-coordinate matrix of an x-y meshgrid\n",
    "        kx, ky --> spring constants\n",
    "    '''\n",
    "    ################# \n",
    "    # (ONE LINE) WRITE CODE THAT ASSIGNS TO THE VARIABLE Vxy, THE EXPRESSION ABOVE FOR V(x,y)\n",
    "    ###################\n",
    "    Vxy = \n",
    "    return Vxy"
   ]
  },
  {
   "cell_type": "markdown",
   "metadata": {},
   "source": [
    "Let's set the values of the two spring constants and generate the potential:"
   ]
  },
  {
   "cell_type": "code",
   "execution_count": null,
   "metadata": {
    "collapsed": false
   },
   "outputs": [],
   "source": [
    "kx = 0.1\n",
    "ky = 0.1\n",
    "\n",
    "Vxy = harmonic_potential_2D(xx, yy, kx, ky)"
   ]
  },
  {
   "cell_type": "markdown",
   "metadata": {},
   "source": [
    "And now let's create a 3D plot of the potential. If you want to learn more about 3D plotting, check out this tutorial: \n",
    "\n",
    "http://nbviewer.ipython.org/github/jrjohansson/scientific-python-lectures/blob/master/Lecture-4-Matplotlib.ipynb"
   ]
  },
  {
   "cell_type": "code",
   "execution_count": null,
   "metadata": {
    "collapsed": false
   },
   "outputs": [],
   "source": [
    "#Set the figure\n",
    "fig = plt.figure()\n",
    "fig.set_size_inches(10, 8)\n",
    "ax = fig.add_subplot(111, projection = '3d')\n",
    "#Plot as a surface\n",
    "ax.plot_surface(xx, yy, Vxy, rstride = 8, cstride=8, alpha = 0.25)\n",
    "#Set z, x, y, axes\n",
    "ax.set_zlim3d(-2,12)\n",
    "ax.set_xlim3d(-12,12)\n",
    "ax.set_ylim3d(-12,12)\n",
    "#This sets the angle at which we view the plot\n",
    "ax.view_init(30, -60)\n",
    "\n",
    "#THIS IS FANCY BUT USELESS: Plots the projections onto the xy, xz, yz planes\n",
    "cset = ax.contour(xx, yy, Vxy, zdir='z', offset = -1, cmap = cm.coolwarm)\n",
    "cset = ax.contour(xx, yy, Vxy, zdir='x', offset = -13, cmap = cm.coolwarm)\n",
    "cset = ax.contour(xx, yy, Vxy, zdir='y', offset = 13, cmap = cm.coolwarm)\n",
    "\n",
    "#label axes and add title\n",
    "plt.xlabel('x coordinate', fontsize = 13)\n",
    "plt.ylabel('y coordinate', fontsize = 13)\n",
    "plt.title('V(x,y) Isotropic HO Potential', fontsize = 16)\n",
    "plt.show()\n"
   ]
  },
  {
   "cell_type": "markdown",
   "metadata": {},
   "source": [
    "Another way to visualize $V(x,y)$ is to plot the contour lines of equal value of the potential (isopotential lines). Look at the following code to create isocontour plots."
   ]
  },
  {
   "cell_type": "code",
   "execution_count": null,
   "metadata": {
    "collapsed": false
   },
   "outputs": [],
   "source": [
    "#Create new figure\n",
    "fig, ax = plt.subplots()\n",
    "#This is the function we call to create contours. \n",
    "cset = ax.contour(xx,yy,Vxy)\n",
    "#Set axes labels and title\n",
    "plt.xlabel('x coordinate', fontsize = 13)\n",
    "plt.ylabel('y coordinate', fontsize = 13)\n",
    "plt.title('Contour Plot, Isotropic HO Potential', fontsize = 16)\n",
    "plt.show()"
   ]
  },
  {
   "cell_type": "markdown",
   "metadata": {},
   "source": [
    "### <i class=\"fa fa-wrench\"></i> Step 4: Write a function that returns the solutions to the 2D isotropic HO."
   ]
  },
  {
   "cell_type": "markdown",
   "metadata": {},
   "source": [
    "Next, we'll write a function that returns the analytic solution to the isotropic 2D Harmonic Oscillator potential.  **Refer to pencast The Multidimensional Schrodinger Equation : 2D Isotropic Harmonic Oscillator** Recall that these eigenfunctions are given by the somewhat complicated expression:<br>\n",
    "$$\\psi(x,y)=\\frac{\\sqrt{\\frac{m\\omega}{\\pi\\hbar}}}{\\sqrt{2^l 2^m l! m!}}H_l(\\sqrt{\\frac{m\\omega}{\\hbar}}x)H_m(\\sqrt{\\frac{m\\omega}{\\hbar}}y)e^{-\\frac{m\\omega}{2\\hbar}(x^2+y^2)} $$\n",
    "\n",
    "Where $H_l$ and $H_m$ are the Hermite polynomials.\n",
    "\n",
    "### <i class=\"fa fa-gear\"></i> You might wonder, how does this formula relate to the formula for a 1D HO? Discuss it with your partners. \n",
    "\n",
    "and then proceed to complete the next function."
   ]
  },
  {
   "cell_type": "code",
   "execution_count": null,
   "metadata": {
    "collapsed": false
   },
   "outputs": [],
   "source": [
    "#Isotropic 2D harmonic oscillator\n",
    "def harmonic_oscillator_2D(xx, yy, l, m, mass = 1.0, omega = 1.0, hbar = 1.0):\n",
    "    '''Returns the wavefunction for the 2D isotropic Harmonic Oscillator, given the following inputs: \n",
    "    INPUTS: \n",
    "        xx --> x-axis values for a 2D grid \n",
    "        yy --> y-axis values for a 2D grid\n",
    "        l --> l quantum number \n",
    "        m --> m quantum number\n",
    "        mass --> mass (defaults to atomic units)\n",
    "        omega --> oscillator frequency, defaults to atomic units. \n",
    "        hbar --> planck's constant divided by 2*pi\n",
    "    '''\n",
    "    #This is related to how the function np.polynomail.hermite.hermval\n",
    "    #works.\n",
    "    coeff_l = np.zeros((l+1, ))\n",
    "    coeff_l[l] = 1.0\n",
    "    coeff_m = np.zeros((m+1, ))\n",
    "    coeff_m[m] = 1.0\n",
    "    #Hermite polynomials required for the HO eigenfunctions\n",
    "    hermite_l = np.polynomial.hermite.hermval(np.sqrt(mass*omega/hbar)*xx, coeff_l)\n",
    "    hermite_m = np.polynomial.hermite.hermval(np.sqrt(mass*omega/hbar)*yy, coeff_m)\n",
    "    #This is the prefactors in the expression for the HO eigenfucntions\n",
    "    prefactor = (mass*omega/(np.pi*hbar))**(1.0/2.0)/(np.sqrt(2**l*2**m*misc.factorial(l)*misc.factorial(m)))\n",
    "    ####################################\n",
    "    # (ONE LINE) WRITE THE FORMULA FOR THE GAUSSIAN FUNCTION IN THE EXPRESSION FOR THE 2D ISOTROPIC HO\n",
    "    #And the gaussians in the expression for the HO eigenfunctions\n",
    "\n",
    "    #####################################\n",
    "    #The eigenfunction is the product of all of the above. \n",
    "    return prefactor*gaussian*hermite_l*hermite_m"
   ]
  },
  {
   "cell_type": "markdown",
   "metadata": {},
   "source": [
    "### <i class=\"fa fa-wrench\"></i> Step 5: Plot the isotropic wavefunctions."
   ]
  },
  {
   "cell_type": "markdown",
   "metadata": {},
   "source": [
    "As an exercise, plot different states of the isotropic 2D Harmonic oscillator to get a feel for what the wavefunctions look like.  Do this by modifying the two quantum numbers $l$ and $m$. Also play around with the tilt angle of the plot in order to visualize better the results."
   ]
  },
  {
   "cell_type": "code",
   "execution_count": null,
   "metadata": {
    "collapsed": false
   },
   "outputs": [],
   "source": [
    "#########################\n",
    "#########################\n",
    "# (THREE LINES) CREATE A MESH GRID OVER WHICH WEĹL EVALUATE THE WAVEFUNCTIONS\n",
    "#First, assign to the variable x a numpy array that goes from -5 to 5, intervals of 0.1\n",
    "#Same for variable y\n",
    "#assign to xx, yy a numpy meshgrid constructed using np.meshgrid\n",
    "\n",
    "\n",
    "\n",
    "##########################\n",
    "\n",
    "#Define the relevant parameter values.  We'll use atomic units\n",
    "mass = 1\n",
    "omega = 1\n",
    "hbar = 1\n",
    "\n",
    "#############################################\n",
    "#Define the values of the two quantum numbers.\n",
    "# TRY DIFFERENT VALUES OF m AND l TO GET A SENSE OF HOW THE EIGENFUNCTION CHANGE (START WITH 0)\n",
    "l=1\n",
    "m=1\n",
    "##############\n",
    "\n",
    "########################################\n",
    "# (ONE LINE) CALL THE HARMONIC OSCILLATOR 2D FUNCTION ABOVE, ASSIGN THE OUTPUT TO Psi_xy\n",
    "#######################################\n",
    "\n",
    "#############################################\n",
    "\n",
    "# Plotting\n",
    "#Set figure\n",
    "fig = plt.figure()\n",
    "fig.set_size_inches(10, 8)\n",
    "#add a subplot for '3d' plotting\n",
    "ax = fig.add_subplot(111, projection = '3d')\n",
    "#plot surface, with some  parameters. \n",
    "ax.plot_surface(xx, yy, Psi_xy, alpha = 0.4, rstride=1, cstride=1, cmap=cm.jet, linewidth=0, antialiased=False)\n",
    "# PLAY AROUND WITH THE TILT ANGLES TO HELP YOU VISUALIZE BETTER THE RESULTS\n",
    "ax.view_init(45, 60)\n",
    "#Add title and axes labels\n",
    "plt.title('2D HO, l='+str(l)+', m='+str(m), fontsize=14)\n",
    "plt.xlabel('x coordinate', fontsize=14)\n",
    "plt.ylabel('y coordinate', fontsize=14)\n",
    "plt.show()\n"
   ]
  },
  {
   "cell_type": "markdown",
   "metadata": {},
   "source": [
    "### <i class=\"fa fa-wrench\"></i> Step 6: write a function that returns eigenfunctions for a not-necessarily isotropic Harmonic Oscillator.  "
   ]
  },
  {
   "cell_type": "markdown",
   "metadata": {},
   "source": [
    "**Notice that the function we wrote above is just a special case of this one. (we could get away with just using the next function, even for the case of the isotropic HO)**\n",
    "The expression for the anisotropic harmonic oscillator is given by:\n",
    "\n",
    "$$\\psi(x,y)=A H_l(\\sqrt{\\frac{m_A\\omega_A}{\\hbar}}Q_A)H_m(\\sqrt{\\frac{m_B\\omega_B}{\\hbar}}Q_B)e^{-\n",
    "\\frac{m_A\\omega_A}{2\\hbar}Q_A^2}e^{-\\frac{m_B\\omega_B}{2\\hbar}Q_B^2} $$ <br>\n",
    "\n",
    "Where A is the appropriate normalization factor, and $Q_A$ and $Q_B$ are the normal mode coordinates. The following function returns the previous expression:"
   ]
  },
  {
   "cell_type": "code",
   "execution_count": null,
   "metadata": {
    "collapsed": false
   },
   "outputs": [],
   "source": [
    "def harmonic_oscillator_2D_aniso(xx, yy, l, m, mass_1=1.0, mass_2=1, omega_1=1.0, omega_2=1, hbar = 1.0):\n",
    "    '''Returns the wavefunction for the 2D anisotropic Harmonic Oscillator, given the following inputs: \n",
    "    INPUTS: \n",
    "        xx --> x-axis values for a 2D grid \n",
    "        yy --> y-axis values for a 2D grid\n",
    "        l --> quantum number associated to x dimension\n",
    "        m --> quantum number, associated to y dimension\n",
    "        mass_1,_2 --> mass (defaults to atomic units)\n",
    "        omega_1,_2 --> oscillator frequency, defaults to atomic units. \n",
    "        hbar --> planck's constant divided by 2*pi\n",
    "    '''\n",
    "    #This is related to how the function np.polynomail.hermite.hermval\n",
    "    #works.\n",
    "    coeff_l = np.zeros((l+1, ))\n",
    "    coeff_l[l] = 1.0\n",
    "    coeff_m = np.zeros((m+1, ))\n",
    "    coeff_m[m] = 1.0                                                                     \n",
    "    #Hermite polynomials required for the HO eigenfunctions\n",
    "    hermite_1 = np.polynomial.hermite.hermval(np.sqrt(mass_1*omega_1/hbar)*xx, coeff_l)\n",
    "    hermite_2 = np.polynomial.hermite.hermval(np.sqrt(mass_2*omega_2/hbar)*yy, coeff_m)\n",
    "    # These are the prefactors in the expression for the HO eigenfucntions\n",
    "    prefactor_1 = (mass_1*omega_1/(np.pi*hbar))**(1.0/4.0)/(np.sqrt(2**l*misc.factorial(l)))\n",
    "    prefactor_2 = (mass_2*omega_2/(np.pi*hbar))**(1.0/4.0)/(np.sqrt(2**m*misc.factorial(m)))\n",
    "    \n",
    "    ###################################################################\n",
    "    # (TWO LINES) WRITE THE FORMULAS FOR THE GAUSSIAN FUNCTIONS IN THE EXPRESSION FOR THE 2D ANISOTROPIC HO\n",
    "\n",
    "    \n",
    "    ####################################################################\n",
    "    \n",
    "    #The eigenfunction is the product of all of the above. \n",
    "    psi = prefactor_1*prefactor_2*gaussian_1*gaussian_2*hermite_1*hermite_2\n",
    "    return psi"
   ]
  },
  {
   "cell_type": "markdown",
   "metadata": {},
   "source": [
    "And now lets plot the anisotropic wavefunctions that correspond to the potential we saw in the pencast Normal Modes of a Linear Triatomic Molecule : \n",
    "$$V(x,y) =\\frac{1}{2}m_A\\omega_A^2Q_A^2 + \\frac{1}{2}m_B\\omega_B^2Q_B^2 =  \\frac{3}{2}m\\omega_0^2Q_A^2 + \\frac{1}{2}m\\omega_0^2Q_B^2$$\n",
    "\n",
    "Where $Q_A$ and $Q_B$ are the two eigenvectors of normal modes of the linear triatomic molecule. As an exercise, plot different states of the anisotropic 2D Harmonic oscillator to get a feel for what the wavefunctions look like.  Do this by modifying the two quantum numbers $l$ and $m$. Play around with the tilt angle of the plot in order to visualize better the results."
   ]
  },
  {
   "cell_type": "code",
   "execution_count": null,
   "metadata": {
    "collapsed": false
   },
   "outputs": [],
   "source": [
    "#Define the relevant parameter values.\n",
    "m0 = 1\n",
    "omega_0 = 1\n",
    "#\n",
    "mass_A = m0/6.0\n",
    "mass_B = m0/2.0\n",
    "omega_A = sqrt(18)*omega_0 \n",
    "omega_B = sqrt(2)*omega_0 \n",
    "hbar = 1\n",
    "\n",
    "\n",
    "#############################################\n",
    "#Define the values of the two quantum numbers.\n",
    "# TRY DIFFERENT VALUES OF m AND l TO GET A SENSE OF HOW THE EIGENFUNCTIONS CHANGE (START WITH 0)\n",
    "l=1\n",
    "m=1\n",
    "############################################\n",
    "\n",
    "##################################################################################\n",
    "# (ONE LINE) CALL THE harmonic_oscillator_2D_aniso FUNCTION ABOVE, ASSIGN THE OUTPUT TO psi\n",
    "\n",
    "###################################################################################\n",
    "\n",
    "#plotting\n",
    "#set figure\n",
    "fig = plt.figure()\n",
    "fig.set_size_inches(10, 8)\n",
    "#add a subplot for '3d' plotting\n",
    "ax = fig.add_subplot(111, projection = '3d')\n",
    "#PLot a surface\n",
    "ax.plot_surface(xx, yy, psi, alpha = 0.4, rstride=1, cstride=1, cmap=cm.jet, linewidth=0, antialiased=False)\n",
    "# PLAY AROUND WITH THE TILT ANGLES TO HELP YOU VISUALIZE BETTER THE RESULTS\n",
    "ax.view_init(45, 30)\n",
    "\n",
    "#Add title and legends\n",
    "plt.title('2D HO, l='+str(l)+', m='+str(m), fontsize=14)\n",
    "plt.xlabel('x coordinate', fontsize=14)\n",
    "plt.ylabel('y coordinate', fontsize=14)\n",
    "plt.show()"
   ]
  },
  {
   "cell_type": "markdown",
   "metadata": {},
   "source": [
    "### <i class=\"fa fa-gear\"></i> You might wonder, how does the number of nodal planes of the wavefunction relate to the values of l and m? Discuss it with your partners. "
   ]
  },
  {
   "cell_type": "markdown",
   "metadata": {
    "collapsed": false
   },
   "source": [
    "## <i class=\"fa fa-book\"></i> Step 7. Check out what you learned in this demo.<br>\n",
    "\n",
    "### 1. Create 3D plots with python. <br>\n",
    "\n",
    "### 2. The expressions for the quantum multidimensional harmonic oscillator and its solutions. <br>\n",
    "\n",
    "### 3. The connections between the 1D harmonic oscillator and its multidimensional generalization."
   ]
  },
  {
   "cell_type": "code",
   "execution_count": null,
   "metadata": {
    "collapsed": true
   },
   "outputs": [],
   "source": []
  }
 ],
 "metadata": {
  "kernelspec": {
   "display_name": "Python 2",
   "language": "python",
   "name": "python2"
  },
  "language_info": {
   "codemirror_mode": {
    "name": "ipython",
    "version": 2
   },
   "file_extension": ".py",
   "mimetype": "text/x-python",
   "name": "python",
   "nbconvert_exporter": "python",
   "pygments_lexer": "ipython2",
   "version": "2.7.10"
  }
 },
 "nbformat": 4,
 "nbformat_minor": 0
}
