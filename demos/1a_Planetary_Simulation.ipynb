{
 "cells": [
  {
   "cell_type": "markdown",
   "metadata": {},
   "source": [
    "# Planet Physics Simulation\n",
    "#### Disclaimer: Do not modify this iPython notebook.  If you want to modify it, copy it to a different directory, one that is not automatically updated, and modify it there"
   ]
  },
  {
   "cell_type": "markdown",
   "metadata": {},
   "source": [
    "The goal of this iPython notebook is to create a planet simulation demo \n",
    "\n",
    "First we need to import some python modules"
   ]
  },
  {
   "cell_type": "code",
   "execution_count": null,
   "metadata": {
    "collapsed": false
   },
   "outputs": [],
   "source": [
    "import numpy as np\n",
    "from matplotlib import pyplot as plt\n",
    "from matplotlib import animation"
   ]
  },
  {
   "cell_type": "markdown",
   "metadata": {},
   "source": [
    "We define the planet object, in order to assign atributes'with the __init__ function\n"
   ]
  },
  {
   "cell_type": "code",
   "execution_count": null,
   "metadata": {
    "collapsed": false
   },
   "outputs": [],
   "source": [
    "class planet:\n",
    "    def __init__(self,m,v,p,F,a):\n",
    "        self.mass = m\n",
    "        self.vel = v\n",
    "        self.position = p\n",
    "        self.acceleration = a\n",
    "        self.force = F\n"
   ]
  },
  {
   "cell_type": "markdown",
   "metadata": {},
   "source": [
    "We next define several functions, which update the acceleration, velocities, and positions of the planetary system"
   ]
  },
  {
   "cell_type": "code",
   "execution_count": null,
   "metadata": {
    "collapsed": false
   },
   "outputs": [],
   "source": [
    "#This function updates the acceleration of the planets. \n",
    "def update_acceleration(planet_list):\n",
    "    total, = np.shape(planet_list) #total number of planets\n",
    "    for i in range(total-1): #for each pairwise interaction between planets\n",
    "        for j in range(i+1,total):\n",
    "            #Since the first element in the list is a fixed planet (e.g. earth), we don't update the force on it.\n",
    "            if i == 0 :\n",
    "                rij = np.subtract(planet_list[i].position, planet_list[j].position) #get a position vector\n",
    "                distance = np.sqrt(np.dot(rij,rij)) #distance between earth and planet j\n",
    "                magnitude_f = (0.2458*planet_list[i].mass * planet_list[j].mass/np.power(distance,2)) # get magnitude of force\n",
    "                vect_force = np.multiply(magnitude_f,rij) #Force vector on planet j \n",
    "                planet_list[j].force = vect_force #\n",
    "           #calculate the forces between all pairs of planets\n",
    "            else :\n",
    "                rij = np.subtract(planet_list[i].position, planet_list[j].position) #get a position vector\n",
    "                distance = np.sqrt(np.dot(rij,rij)) #distance between two planets and planet j\n",
    "                magnitude_f = (0.2458*planet_list[i].mass * planet_list[j].mass/np.power(distance,2)) # get magnitude of force\n",
    "                vect_force = np.multiply(magnitude_f,rij) #Force vector on planet j \n",
    "                planet_list[j].force = vect_force + planet_list[j].force # update forces on planet j\n",
    "                planet_list[i].force = np.multiply(-1,vect_force) + planet_list[i].force # update forces on planet i\n",
    "            \n",
    "    for i in range(1,total):\n",
    "        planet_list[i].acceleration = np.multiply(1/planet_list[i].mass, planet_list[i].force) # a = F/m"
   ]
  },
  {
   "cell_type": "code",
   "execution_count": null,
   "metadata": {
    "collapsed": false
   },
   "outputs": [],
   "source": [
    "#Next, the function that updates the velocities:\n",
    "def update_vel(planet_list,t_step):\n",
    "    total, = np.shape(planet_list) # total number of planets\n",
    "    for i in range(1,total): #for each planet\n",
    "        planet_list[i].vel = planet_list[i].vel + t_step * planet_list[i].acceleration #simple finite differences update"
   ]
  },
  {
   "cell_type": "code",
   "execution_count": null,
   "metadata": {
    "collapsed": false
   },
   "outputs": [],
   "source": [
    "#And the function that updates the positions:\n",
    "def update_pos(planet_list,t_step):\n",
    "    total, = np.shape(planet_list) # total number of planets\n",
    "    for i in range(1,total): # for each planet\n",
    "        planet_list[i].position = planet_list[i].position + t_step * planet_list[i].vel # simple finite differences update\n",
    "        \n"
   ]
  },
  {
   "cell_type": "markdown",
   "metadata": {},
   "source": [
    "Next, we define our parameters: "
   ]
  },
  {
   "cell_type": "code",
   "execution_count": null,
   "metadata": {
    "collapsed": false
   },
   "outputs": [],
   "source": [
    "#time\n",
    "time=300\n",
    "\n",
    "######Earth######\n",
    "mass_earth = 81.3\n",
    "vel_earth = 0\n",
    "pos_earth = [0,0]\n",
    "\n",
    "#####MOON#####\n",
    "mass_moon = 1\n",
    "vel_moon = [0,0.578] #velocity vector [vx, vy]\n",
    "pos_moon = [40,0]   #position vector\n",
    "\n",
    "####ASTEROID#####\n",
    "mass_asteroid = 1  #0.1\n",
    "vel_asteroid = [0.5,0]   #velocity vector\n",
    "pos_asteroid = [0,52]     #position vector"
   ]
  },
  {
   "cell_type": "markdown",
   "metadata": {},
   "source": [
    "Let's initialized the planet objects by calling the class we created way at the top!"
   ]
  },
  {
   "cell_type": "code",
   "execution_count": null,
   "metadata": {
    "collapsed": false
   },
   "outputs": [],
   "source": [
    "earth = planet(mass_earth,vel_earth,pos_earth,[0,0],[0,0]) \n",
    "moon = planet(mass_moon,vel_moon,pos_moon,[0,0],[0,0])\n",
    "asteroid = planet(mass_asteroid,vel_asteroid,pos_asteroid,[0,0],[0,0])\n",
    "\n",
    "system = []\n",
    "system.append(earth)\n",
    "system.append(moon)\n",
    "system.append(asteroid)"
   ]
  },
  {
   "cell_type": "markdown",
   "metadata": {},
   "source": [
    "Run the simulation for our toy planetary system"
   ]
  },
  {
   "cell_type": "code",
   "execution_count": null,
   "metadata": {
    "collapsed": false
   },
   "outputs": [],
   "source": [
    "t_step = 0.1 # define the time step\n",
    "niter = int(time/t_step) # The number of iterations is the total time divided by the time step\n",
    "data_moon=np.zeros([niter,2]) # a matrix of zeros, where we'll hold all the positions for the moon\n",
    "data_asteroid = np.zeros([niter,2]) # a matrix of zeros, where we'll hold all positions for the asteroid\n",
    "\n",
    "for i in range(niter): # for each iteration\n",
    "    update_acceleration(system) # update the system's acceleration\n",
    "    update_vel(system,t_step) # update the velocities\n",
    "    update_pos(system,t_step) # update the positions\n",
    "    data_moon[i,:] = system[1].position #store the moon's positions in the matrix\n",
    "    data_asteroid[i,:] = system[2].position # store the asteroid's position in the matrix\n",
    "    "
   ]
  },
  {
   "cell_type": "markdown",
   "metadata": {},
   "source": [
    "And below, we create an animation of our planetary simulation"
   ]
  },
  {
   "cell_type": "code",
   "execution_count": null,
   "metadata": {
    "collapsed": false
   },
   "outputs": [],
   "source": [
    "rate = 10\n",
    "# Define a circle object\n",
    "circle1=plt.Circle((0,0),10,color='b')\n",
    "#figure where animation will take place\n",
    "fig = plt.figure()\n",
    "#Axes of figure\n",
    "ax = plt.axes(xlim=(-100, 100), ylim=(-100, 100))\n",
    "#Add a circle to figure\n",
    "ax.add_patch(circle1)\n",
    "#Aspect ration of x and y axes\n",
    "ax.set_aspect('equal')\n",
    "#Define some properties of the objects to animate\n",
    "line1, = ax.plot([], [], 'go',lw=1)\n",
    "line2, = ax.plot([],[],'ro',lw=1)\n",
    "\n",
    "#Initialize each frame as empty\n",
    "def init():\n",
    "    line1.set_data([], [])\n",
    "    line2.set_data([],[])\n",
    "    return line1, line2\n",
    "\n",
    "#animate function, which returs the animated object in each frame\n",
    "def animate(i):\n",
    "    line1.set_data(data_moon[i*rate,0],data_moon[i*rate,1] ) #\n",
    "    line2.set_data(data_asteroid[i*rate,0],data_asteroid[i*rate,1] ) # \n",
    "    return line1, line2\n",
    "\n",
    "#call the animation function\n",
    "anim = animation.FuncAnimation(fig, animate, init_func=init,\n",
    "                               frames=niter/rate, interval=1,blit=False)"
   ]
  },
  {
   "cell_type": "markdown",
   "metadata": {},
   "source": [
    "Now let's create a function to animate the planets as an .mp4 movie... there is some magic behind the scenes here, Don't worry about it too much.\n",
    "\n",
    "**If curious:** First we create a temporary file to hold our movie, then we draw each frame of the movie and then we embed this in HTML code bacause Jupyter is a web-based platform.\n",
    "\n"
   ]
  },
  {
   "cell_type": "code",
   "execution_count": null,
   "metadata": {
    "collapsed": false
   },
   "outputs": [],
   "source": [
    "from tempfile import NamedTemporaryFile\n",
    "\n",
    "VIDEO_TAG = \"\"\"<video controls>\n",
    " <source src=\"data:video/x-m4v;base64,{0}\" type=\"video/mp4\">\n",
    " Your browser does not support the video tag.\n",
    "</video>\"\"\"\n",
    "\n",
    "def anim_to_html(anim):\n",
    "    if not hasattr(anim, '_encoded_video'):\n",
    "        with NamedTemporaryFile(suffix='.mp4') as f:\n",
    "            anim.save(f.name, fps=20, extra_args=['-vcodec', 'libx264'])\n",
    "            video = open(f.name, \"rb\").read()\n",
    "        anim._encoded_video = video.encode(\"base64\")\n",
    "    \n",
    "    return VIDEO_TAG.format(anim._encoded_video)\n",
    "\n",
    "from IPython.display import HTML\n",
    "\n",
    "def display_animation(anim):\n",
    "    plt.close(anim._fig)\n",
    "    return HTML(anim_to_html(anim))"
   ]
  },
  {
   "cell_type": "markdown",
   "metadata": {},
   "source": [
    " Now we can run our function, like your movie? Right-click it to save."
   ]
  },
  {
   "cell_type": "code",
   "execution_count": null,
   "metadata": {
    "collapsed": false
   },
   "outputs": [],
   "source": [
    "# call our new function to display the animation\n",
    "display_animation(anim)"
   ]
  }
 ],
 "metadata": {
  "kernelspec": {
   "display_name": "Python 2",
   "language": "python",
   "name": "python2"
  },
  "language_info": {
   "codemirror_mode": {
    "name": "ipython",
    "version": 2
   },
   "file_extension": ".py",
   "mimetype": "text/x-python",
   "name": "python",
   "nbconvert_exporter": "python",
   "pygments_lexer": "ipython2",
   "version": "2.7.9"
  }
 },
 "nbformat": 4,
 "nbformat_minor": 0
}
