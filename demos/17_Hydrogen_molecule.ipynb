{
 "cells": [
  {
   "cell_type": "markdown",
   "metadata": {},
   "source": [
    "# Hydrogen Molecule \n",
    "We're going to explore the approximate solutions to the hydrogen molecular ion and the hydrogen molecule, so that we can gain a better understanding of the construction and intrepertation of approximate molecular basis functions. \n",
    "\n",
    "We're going to construct a very basic approximation to the Hydrogen molecule's groundstate using states based on the Hydrogen molecular ion. We'll then explore how to improve upon these approximations.\n",
    "\n",
    "\n",
    "## <i class=\"fa fa-book\"></i> Step 1: Preliminaries"
   ]
  },
  {
   "cell_type": "code",
   "execution_count": null,
   "metadata": {
    "collapsed": false
   },
   "outputs": [],
   "source": [
    "# scipy stuff\n",
    "from scipy.integrate import simps\n",
    "from scipy.misc import factorial\n",
    "from scipy.special import genlaguerre, binom, eval_genlaguerre\n",
    "from scipy.integrate import simps, quad\n",
    "# matplotlib\n",
    "import matplotlib.pyplot as plt\n",
    "%matplotlib inline\n",
    "# numpy\n",
    "import numpy as np\n",
    "# Qworld\n",
    "import os\n",
    "import sys\n",
    "sys.path.append('../library')\n",
    "sys.path.append('../../library')\n",
    "sys.path.append('/home/student/chem160/library')\n",
    "#This is how we'll import our own home-made modules\n",
    "import quantumWorld as qworld"
   ]
  },
  {
   "cell_type": "markdown",
   "metadata": {},
   "source": [
    "## Step 1: $H_2$ - The First Try\n",
    "\n",
    "Here we can see the different interactions we have to take in to account:\n",
    "![](files/hydrogen_inter.png)\n",
    "\n",
    "The Hydrogen molecule has the following hamiltonian:\n",
    "$$ H = -\\frac{\\hbar^2}{2m_e}\\left( \\nabla_1^2 + \\nabla_2^2 \\right) - \\frac{e^2}{4 \\pi \\epsilon_0 r_{1A}} - \\frac{e^2}{4 \\pi \\epsilon_0 r_{1B}} - \\frac{e^2}{4 \\pi \\epsilon_0 r_{2A}} - \\frac{e^2}{4 \\pi \\epsilon_0 r_{2B}} + \\frac{e^2}{4 \\pi \\epsilon_0 r_{12}} + \\frac{e^2}{4 \\pi \\epsilon_0 r_{AB}}$$\n",
    "\n",
    "Which looks substantially more complicated than before. We note that the electronic hamiltonian in atomic units is just given by:\n",
    "$$ H = - \\frac{\\hbar^2}{2m_e}\\left( \\nabla_1^2 + \\nabla_2^2 \\right) - \\frac{e^2}{r_{1A}} - \\frac{e^2}{r_{1B}} - \\frac{e^2}{r_{2A}} - \\frac{e^2}{r_{2B}} + \\frac{e^2}{r_{12}}$$\n",
    "$$ H = H_{1c} + H_{2c} + \\frac{e^2}{r_{12}},$$\n",
    "where\n",
    "$$H_{1c} = -\\nabla_1^2 - \\frac{e^2}{r_{1A}} - \\frac{e^2}{r_{1B}} $$\n",
    "and\n",
    "$$H_{2c} = -\\nabla_2^2 - \\frac{e^2}{r_{2A}} - \\frac{e^2}{r_{2B}}.$$\n",
    "\n",
    "We're going to assume that our ground state wavefunction can be written in the form:\n",
    "$$ \\psi_g = \\frac{1}{\\sqrt{2}} \\psi_1^1 \\psi_2^2\\left( \\sigma^1_\\uparrow \\sigma^2_\\downarrow - \\sigma^2_\\uparrow \\sigma^1_\\downarrow \\right),$$\n",
    "where,\n",
    "$$ \\psi_1 = \\frac{N_1}{\\sqrt{\\pi}} \\left( e^{-r_A} + e^{-r_B}\\right) $$\n",
    "$$ \\psi_2 = \\frac{N_2}{\\sqrt{\\pi}} \\left( e^{-r_A} - e^{-r_B}\\right) $$\n",
    "and we will use\n",
    "$$\\phi_1 = \\frac{1}{\\sqrt{\\pi}} e^{-r_A} $$\n",
    "and\n",
    "$$\\phi_2 = \\frac{1}{\\sqrt{\\pi}} e^{-r_B} $$\n",
    "and the superscript denotes the electron occupying that orbital. Note that $S^2(\\psi_g) = 0.$"
   ]
  },
  {
   "cell_type": "markdown",
   "metadata": {},
   "source": [
    "### The complete calculations\n",
    "#### For sake of completeness, but it's it not important to understand the details\n",
    "\n",
    "Using the wavefunction that we've defined above, we can then move on to computing our electronic energy using the following integral:\n",
    "$$E_g^E = \\int \\int \\psi_1^1 \\psi_1^2 \\left( H_{1C} + H_{2C} + \\frac{1}{r_{12}} \\right) \\psi_1^1 \\psi_1^2 d^3 r_1 d^3 r_2 $$\n",
    "$$E_g^E = \\int \\psi_1^1 H_{1c} \\psi_{1}^1 d^3 r_1 \\int \\left(\\psi_1^2 \\right)^2 d^3 r_2 +  \\int \\psi_1^2 H_{2c} \\psi_{1}^2 d^3 r_2 \\int \\left(\\psi_1^1 \\right)^2 d^3 r_1 + J_{11}$$\n",
    "$$E_g^E = 2E_{1C} + J_{11}$$\n",
    "\n",
    "$$E_{C} =  \\frac{1}{2 + 2 S_{12}(R)} \\int  \\left(\\phi_1 + \\phi_2 \\right) H_C \\left(\\phi_1 + \\phi_2 \\right) d^3 r$$\n",
    "$$E_{C} =  \\frac{1}{2 + 2 S_{12}(R)} \\int  \\left(\\phi_1 \\right) H_C \\left(\\phi_1 \\right) d^3 r + \\int  \\left(\\phi_2 \\right) H_C \\left(\\phi_1 \\right) d^3 r + \\int  \\left(\\phi_1 \\right) H_C \\left(\\phi_2 \\right) d^3 r + \\int  \\left(\\phi_2 \\right) H_C \\left(\\phi_2 \\right) d^3 r$$\n",
    "$$E_{C} =  \\frac{1}{2 + 2 S_{12}(R)} \\left( H_{11} + H_{12} + H_{21} + H_{22} \\right)$$\n",
    "\n",
    "And from symmetry, $H_{11} = H_{22}$ and $H_{12} = H_{21}$.\n",
    "\n",
    "Working through the integrals, we find that:\n",
    "$$H_{11} = T_{11} + V_{11A} + V_{11B}$$\n",
    "where $T_{11} = \\frac{1}{2}$, $V_{11A} = -1$, and $V_{11B} = -\\frac{1}{R} + \\left( 1 + \\frac{1}{R} \\right)e^{-2R}$.\n",
    "$$H_{12} = T_{12} + 2V_{12A}$$\n",
    "with $T_{12} = -\\frac{1}{2} \\left( S_{12}(R) - 2(1 + R)e^{-2R}  \\right)$, and $V_{12A} = -\\left( 1 + R \\right) e^{-R}$\n",
    "\n",
    "Finally, $$J_{11} = \\frac{1}{\\left(1 + S_{12}(R) \\right)^2} \\left( \\frac{1}{2} (11,11) + \\frac{1}{2} (11,22) + (12,12) + 2(11,12) \\right),$$\n",
    "where:\n",
    "$$(11,11) = \\frac{5}{8}$$\n",
    "$$(11,22) = \\frac{1}{R} \\left( 1 - \\left( 1 + \\frac{11}{8}R + \\frac{3}{4}R^2 + \\frac{1}{6}R^3 \\right) e^{-2R} \\right)$$\n",
    "$$(11,12) = \\left( R + \\frac{1}{8} + \\frac{5}{16 R} - \\left( \\frac{1}{8} + \\frac{5}{16 R} \\right)e^{-2 R} \\right)e^{-R}$$\n",
    "$$(12,12) = \\frac{1}{5}\\left[ \\left(\\frac{25}{8} - \\frac{23}{4} R - 3 R^2 - \\frac{1}{3} R^3 \\right)e^{-2R} + \\frac{6}{R} \\left\\{ \\left( 0.57722 + \\ln(R)\\right)S_{12}(R)^2 + A^2 Ei(-4 R) - 2 A S_{12}(R) Ei(-2R) \\right \\} \\right]$$\n",
    "where\n",
    "$$A = \\left( 1 - R + \\frac{1}{3} R^2 \\right) e^{R} $$\n",
    "and\n",
    "$$ Ei(-x) = \\int_{x}^{\\infty} \\frac{1}{x} e^{-x} dx.$$\n",
    "Ei(x) is known as the exponential integral, and, fortunately, a black-box function in scipy called expi in the scipy.special part of the namespace.\n",
    "\n",
    "$$J_{12}(R) = \\frac{1}{1 - S_{12}(R)^2} \\left( \\frac{1}{2} (11,11) + \\frac{1}{2} (11,22) - (12,12) \\right) $$\n",
    "\n",
    "$$ K_{12}(R) = \\frac{1}{2 \\left( 1 + S_{12}(R)^2 \\right)} \\left( (11,11) - (11,12)  \\right) $$\n",
    "\n",
    "$$ J_{22}(R) = \\frac{1}{\\left( 1 - S_{12}(R) \\right)^2} \\left( \\frac{1}{2} (11,11) + \\frac{1}{2} (11,22) + (12,12) - 2(11,12) \\right) $$\n",
    "\n",
    "#### Stop and breathe"
   ]
  },
  {
   "cell_type": "markdown",
   "metadata": {},
   "source": [
    "### Here are the helper function for the previous functions"
   ]
  },
  {
   "cell_type": "code",
   "execution_count": null,
   "metadata": {
    "collapsed": false
   },
   "outputs": [],
   "source": [
    "'''\n",
    "The documentation is basically the formulas above. \n",
    "'''\n",
    "\n",
    "def T11(R):\n",
    "    return 0.5\n",
    "\n",
    "def T12(R):\n",
    "    return -0.5*(S12(R) - 2.0*(1.0+R)*np.exp(-R))\n",
    "\n",
    "def V11A(R):\n",
    "    return -1.0\n",
    "\n",
    "def V11B(R):\n",
    "    return -1.0/R + (1.0 + 1.0/R)*np.exp(-2.0*R)\n",
    "\n",
    "def V12A(R):\n",
    "    return -(1.0 + R)*np.exp(-R)\n",
    "\n",
    "def V12B(R):\n",
    "    return -(1.0 + R)*np.exp(-R)\n",
    "\n",
    "def H11(R):\n",
    "    return T11(R) + V11A(R) + V11B(R)\n",
    "\n",
    "def H12(R):\n",
    "    return T12(R) + V12A(R) + V12B(R)\n",
    "\n",
    "def S12(R):\n",
    "    return (1 + R + R**2/3.0)*np.exp(-R)\n",
    "\n",
    "# Two electron integrals\n",
    "def _1111(R):\n",
    "    asdf = np.ones_like(R)\n",
    "    return 5.0/8.0*asdf\n",
    "\n",
    "def _1122(R):\n",
    "    return (1.0 - (1.0 + 11.0/8.0*R + 3.0/4.0*R*R + 1.0/6.0*R**3 )*np.exp(-2.0*R))/R\n",
    "\n",
    "\n",
    "def _1112(R):\n",
    "    return (R + (1.0/8.0 + 5.0/(16.0*R))*(1.0 - np.exp(-2.0*R)) )*np.exp(-R)\n",
    "    \n",
    "\n",
    "def _1212(R):\n",
    "    from scipy.special import expi\n",
    "    A = (1.0 - R + R*R/3.0)*np.exp(R)\n",
    "    return 1.0/5.0*((25.0/8.0 - 23.0/4.0*R - 3.0*R*R - R**3.0/3.0)*np.exp(-2.0*R) +\n",
    "                    6.0/R*((0.57722 + np.log(R))*S12(R)**2.0 + A*A*expi(-4.0*R) - 2.0*A*S12(R)*expi(-2.0*R)))     \n",
    "    \n",
    "def J11(R):\n",
    "    return 1.0/(1.0+S12(R))**2*(0.5*_1111(R) + 0.5*_1122(R) + _1212(R) + 2.0*_1112(R))\n",
    "\n",
    "def V(R):\n",
    "    return 1.0/R\n",
    "\n",
    "def J12(R):\n",
    "    return 1.0/(1.0-S12(R)**2)*(0.5*_1111(R) + 0.5*_1122(R) - _1212(R))\n",
    "\n",
    "def J22(R):\n",
    "    return (0.5*_1111(R) + 0.5*_1122(R) + _1212(R) - 2.0*_1112(R))/(1.0 - S12(R))**2\n",
    "\n",
    "def K12(R):\n",
    "    return 1.0/(2.0*(1.0-S12(R)**2))*(_1111(R) - _1122(R))"
   ]
  },
  {
   "cell_type": "markdown",
   "metadata": {},
   "source": [
    "## <i class=\"fa fa-wrench\"></i> PES functions\n",
    "You'll need to use the functions defined above in the formula for the ground state energy:\n",
    "$$E_{ground} = 2 \\frac{H_{11}(R) + H_{12}(R)}{1 + S_{12}(R)} + J_{11}(R) + V(R)$$\n",
    "and the excited state energy\n",
    "$$E_{excited} = 2 \\frac{H_{11}(R) - H_{12}(R)}{1 - S_{12}(R)} + J_{22}(R) + V(R)$$\n",
    "and plot them."
   ]
  },
  {
   "cell_type": "code",
   "execution_count": null,
   "metadata": {
    "collapsed": false
   },
   "outputs": [],
   "source": [
    "def Eground(R):\n",
    "    # Translate the formula above into code.\n",
    "\n",
    "    return e\n",
    "\n",
    "def Eexcited(R):\n",
    "    #Translate the formula above into code\n",
    "\n",
    "    return e\n",
    "\n",
    "R = np.arange(0.2, 10.0, 0.1)\n",
    "Rmin = np.argmin(Eground(R))\n",
    "Emin = np.min(Eground(R))\n",
    "print('Ground minima at %2.2f Bohr with E=%f Hartrees'%(R[Rmin],Emin))\n",
    "# Plot Eground and Eexcited as a function of R on the same plot\n",
    "plt.plot(R,Eground(R),label='$E_{ground}$')\n",
    "plt.plot(R,Eexcited(R),label='$E_{excited}$')\n",
    "plt.ylabel('$PES$')\n",
    "plt.xlabel('R')\n",
    "plt.ylim(-1.3,1)\n",
    "plt.legend()\n",
    "plt.show()"
   ]
  },
  {
   "cell_type": "markdown",
   "metadata": {},
   "source": [
    "### <i class=\"fa fa-line-chart\"></i>  Plotting hamiltonian elements\n",
    "It's also useful to plot $J_{11}(R)$, $H_{11}(R)$, and $H_{12}(R)$ on a second figure and $(11,11)(R)$, $(12,12)(R)$, $(11,22)(R)$, and $(11,12)(R)$ on the third figure.\n"
   ]
  },
  {
   "cell_type": "code",
   "execution_count": null,
   "metadata": {
    "collapsed": false
   },
   "outputs": [],
   "source": [
    "# Plot J11, H11, and H12 as a function of R on the same plot\n",
    "plt.plot(R,J11(R),label='$J_{11}$')\n",
    "plt.plot(R,H11(R),label='$H_{11}$')\n",
    "plt.plot(R,H12(R),label='$H_{12}$')\n",
    "plt.ylabel('$PES$')\n",
    "plt.xlabel('R')\n",
    "plt.legend()\n",
    "plt.show()\n",
    "# Plot the 4 integrals, _1111, _1122, _1212, and _1112 as a function of R on the same plot.\n",
    "# What do you notice?\n",
    "plt.plot(R,_1111(R),label='$Int_{1111}$')\n",
    "plt.plot(R,_1122(R),label='$Int_{1122}$')\n",
    "plt.plot(R,_1212(R),label='$Int_{1212}$')\n",
    "plt.plot(R,_1112(R),label='$Int_{1112}$')\n",
    "plt.ylabel('$Integral(R)$')\n",
    "plt.xlabel('R')\n",
    "plt.legend(loc='best',ncol=2)\n",
    "plt.show()"
   ]
  },
  {
   "cell_type": "markdown",
   "metadata": {},
   "source": [
    "## Step 2:Configuration Interaction\n",
    "\n",
    "You may have noticed that the ground state PES doesn't converge to two neutral Hydrogen atoms in the infinite separation limit.  We can fix this by saying that because our assumed groundstate wavefunction can mix with some excited state wavefunctions to create a better wavefunction. This is similar to the expansion of the triangle function into sine waves. We found that our approximation to the triangle function got much much better as we included more and more sine functions. In this example, we're going to ask what happens if we mix our groundstate with our excited state. We'll do this by finding the eigenvalues of this matrix:\n",
    "\n",
    "$$ \\left[\n",
    "  \\begin{array}{ c c }\n",
    "     E_{ground}(R) -V(R) & K_{12}(R) \\\\\n",
    "     K_{12}(R) & E_{excited}(R) -V(R)\n",
    "  \\end{array} \\right] $$\n",
    "\n",
    "Where we've built the matrix by computing the following:\n",
    "\n",
    "$$ \\left[\n",
    "  \\begin{array}{ c c }\n",
    "     \\langle \\psi_{ground} | H_e | \\psi_{ground} \\rangle & \\langle \\psi_{ground} | H_e | \\psi_{excited} \\rangle \\\\\n",
    "     \\langle \\psi_{excited} | H_e | \\psi_{ground} \\rangle & \\langle \\psi_{excited} | H_e | \\psi_{excited} \\rangle\n",
    "  \\end{array} \\right] $$\n",
    "\n",
    "  \n",
    "And we'll want to find the eigenvalues of this matrix at the values of R that we're interested in. The smallest eigenvalue is going to provide the CI-corrected groundstate and then largest one is going to be the CI-corrected excited state.\n",
    "\n",
    "You'll need to fill in the matrix elements of the A matrix in the ECI method, and then run the cell below. What do you see?"
   ]
  },
  {
   "cell_type": "code",
   "execution_count": null,
   "metadata": {
    "collapsed": true
   },
   "outputs": [],
   "source": [
    "def ECI(R):\n",
    "    from numpy.linalg import eigh\n",
    "\n",
    "    # Fill in A using the formula above\n",
    "    A = np.array([[ ,   ],\n",
    "                  [  ,  ]])\n",
    "    E, psi = eigh(A)\n",
    "    return np.min(E), np.max(E)"
   ]
  },
  {
   "cell_type": "code",
   "execution_count": null,
   "metadata": {
    "collapsed": false,
    "scrolled": true
   },
   "outputs": [],
   "source": [
    "ci_groundstate = np.zeros_like(R)\n",
    "ci_excitedstate = np.zeros_like(R)\n",
    "for i in range(len(R)):\n",
    "    gE, eE =  ECI(R[i])\n",
    "    ci_groundstate[i] = gE + V(R[i])\n",
    "    ci_excitedstate[i] = eE + V(R[i])\n",
    "    \n",
    "# Plot Eground(R) vs the ci_groundstate, what do you notice? \n",
    "plt.plot(R,Eground(R),label='$E_{0}$')\n",
    "plt.plot(R,ci_groundstate,label='$CI_{0}$')\n",
    "plt.legend()\n",
    "# Plot Eexcited(R) vs the ci_excitedstate, what do you notice? \n",
    "plt.plot(R,Eexcited(R),label='$E_{1}$')\n",
    "plt.plot(R,ci_excitedstate,label='$CI_{1}$')\n",
    "plt.legend(ncol=2)\n",
    "plt.show()\n"
   ]
  },
  {
   "cell_type": "markdown",
   "metadata": {
    "collapsed": true
   },
   "source": [
    "### Questions <br> Which forces are included in the Hamiltonian? <br> Why does the solution improve when you add excitations? <br> \n"
   ]
  }
 ],
 "metadata": {
  "kernelspec": {
   "display_name": "Python 2",
   "language": "python",
   "name": "python2"
  },
  "language_info": {
   "codemirror_mode": {
    "name": "ipython",
    "version": 2
   },
   "file_extension": ".py",
   "mimetype": "text/x-python",
   "name": "python",
   "nbconvert_exporter": "python",
   "pygments_lexer": "ipython2",
   "version": "2.7.10"
  }
 },
 "nbformat": 4,
 "nbformat_minor": 0
}
