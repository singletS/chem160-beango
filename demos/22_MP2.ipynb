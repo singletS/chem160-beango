{
 "cells": [
  {
   "cell_type": "markdown",
   "metadata": {},
   "source": [
    "# 2nd Order <br> Moller-Plesset Perturbation \n",
    "\n",
    "We're going to implement 2nd order Moller Plesset perturbation theory (MP2) in python.\n",
    "\n",
    "We're going to the scaffolding of **PyQuante**, so that we don't have to fight with integrals, inputs, etc. \n",
    "\n",
    "The main conceptual idea behind MP2 can be ilustrated in the following image:\n",
    "\n",
    "![](files/MP2_excitations.png)\n",
    "\n",
    "We are creating 'excitations' ($\\Psi_{1-5}$) between occupied orbitals and unoccupied (virtual) of the ground state ($\\Psi_{0}$)\n",
    "and instead of treating them exactly (use Cinfiguration Interaction, computationally expensive) we are treating them pertubatively (rather inexpensive, but cannot apply variational theorem <i class=\"fa fa-frown-o\"></i>).\n"
   ]
  },
  {
   "cell_type": "markdown",
   "metadata": {},
   "source": [
    "## <i class=\"fa fa-book\"></i>  Preliminaries"
   ]
  },
  {
   "cell_type": "code",
   "execution_count": null,
   "metadata": {
    "collapsed": false
   },
   "outputs": [],
   "source": [
    "# our bread and butter\n",
    "import numpy as np\n",
    "import matplotlib.pyplot as plt\n",
    "%matplotlib inline\n",
    "# PyQuante stuff\n",
    "from PyQuante.Ints import getbasis, get2ints # Used to grab the basis and integrals\n",
    "from PyQuante.hartree_fock import rhf # Gives us the RHF answer so that we can apply MP2 perturbatively to it\n",
    "from PyQuante.Molecule import Molecule \n",
    "from PyQuante.MP import TransformIntsMP2 # Transforms the integrals from AO to MO\n",
    "from PyQuante.cints import ijkl2intindex # Gets the intindex\n",
    "from PyQuante import configure_output # Prints the output\n",
    "\n",
    "configure_output()\n",
    "\n",
    "# add all probables spots for the quantum world library\n",
    "import sys\n",
    "sys.path.append('../library')\n",
    "sys.path.append('../../library')\n",
    "sys.path.append('/home/student/chem160/library')\n",
    "#This is how we'll import our own home-made modules\n",
    "import quantumWorld as qworld\n",
    "qworld.fancy_plotting()\n",
    "# convenient units\n",
    "hartree_to_kcal = 627.503"
   ]
  },
  {
   "cell_type": "markdown",
   "metadata": {},
   "source": [
    "## Part 1: Writing the MP2 Method\n",
    "\n",
    "From lecture, we saw that the second order correction to the energy within perturbation theory is given by:\n",
    "$$ E_n^{(2)} = \\sum_{n \\neq m} \\frac{| \\langle \\psi_m^{(0)} | V | \\psi_n^{(0)} \\rangle  |^2}{E^{0}_n - E^{0}_m}.$$\n",
    "\n",
    "The above general expression can be made specific for a restricted closed-shell system.\n",
    "With the Hartree-Fock 0$^{th}$ order wave function, we get the following 2nd-order energy correction:\n",
    "\n",
    "$$ E^{(2)} = \\sum_{i j a b} \\langle \\psi_i(r_1) \\psi_j(r_2) | \\frac{1}{r_{12}} | \\psi_a(r_1) \\psi_b(r_2) \\rangle \\frac{2 \\langle \\psi_a(r_1) \\psi_b(r_2) | \\frac{1}{r_{12}} | \\psi_i(r_1) \\psi_j(r_2) \\rangle - \\langle \\psi_a(r_1) \\psi_b(r_2) | \\frac{1}{r_{12}} | \\psi_j(r_1) \\psi_i(r_2) \\rangle}{\\epsilon_i + \\epsilon_j - \\epsilon_a - \\epsilon_b},$$\n",
    "which, in chemists notation, is:\n",
    "$$ E^{(2)} = \\sum_{i j a b} (ia|jb) \\frac{2 (ai|bj) - (aj|bi)}{\\epsilon_i + \\epsilon_j - \\epsilon_a - \\epsilon_b}.$$\n",
    "\n",
    "Remember that the total energy is going to be given by $E_{HF} + E^{(2)}$. (Note $(ia|jb)=(ai|bj)$, why?)\n",
    "\n",
    "This is what we will implement today. To start, we first grab the basis functions and integrals in the atomic orbital basis from PyQuante. Next, we get the relevant molecular information for the orbital (namely, number of occupied and virtual orbitals). We'll use the fact that the number of virtual orbitals is equal to the total number of orbitals in our basis minus the closed ones. Finally, we will transform atomic orbitals to molecular orbitals.\n",
    "\n",
    "With all the pre-requisite work done, we can actually write the loops that perform the sum. We'll start by initializing the energy as zero. From there, we'll loop through all the occupied orbitals, a and b, and all the unoccupied orbitals, i and j, and add each contribution to the energy given by the formula up above."
   ]
  },
  {
   "cell_type": "code",
   "execution_count": null,
   "metadata": {
    "collapsed": false
   },
   "outputs": [],
   "source": [
    "def MP2(molecule, orbs, orbe, nvirt = None, basis=None):    \n",
    "    # First, compute basis functions\n",
    "    bfs = getbasis(molecule)\n",
    "    aoints = get2ints(bfs)\n",
    "    \n",
    "    # Compute the location of occupied and unoccupied orbitals\n",
    "    nclosed, nopen = molecule.get_closedopen()\n",
    "    if nvirt == None:\n",
    "        nvirt = len(bfs) - nclosed\n",
    "    occs = range(nclosed)\n",
    "    unoccs = range(nclosed, nclosed + nvirt)\n",
    "    \n",
    "    # Finally, transform the the AO Integrals into the MO Basis\n",
    "    moints = TransformIntsMP2(aoints, orbs, nclosed)\n",
    "    \n",
    "    \n",
    "    energy = 0.0\n",
    "    for a in occs:\n",
    "        for b in occs:\n",
    "            for i in unoccs:\n",
    "                for j in unoccs:\n",
    "                    arbi = moints[ijkl2intindex(a, i, b, j)]\n",
    "                    asbj = moints[ijkl2intindex(a, j, b, i)]\n",
    "                    #####Fill the energy sum below############\n",
    "                    energy \n",
    "    return energy"
   ]
  },
  {
   "cell_type": "markdown",
   "metadata": {},
   "source": [
    "## Part 2: Applying MP2 to Water <i class=\"fa fa-drupal\">\n",
    "\n",
    "![](files/Water_xyz.png)\n",
    "\n",
    "We're going to start by dealing with water in the equilibrium geometry. First, we're going to run HF on it and then we're going to pass that to the MP2 method that we just wrote. \n",
    "\n",
    "### <i class=\"fa fa-question-circle\"></i> Questions\n",
    "* How does the correlation corrected answer compare with the experimental value of $-76.480$ Hartrees?\n",
    "* What about the Full-CI answer of $-76.211$ Hartrees?"
   ]
  },
  {
   "cell_type": "code",
   "execution_count": null,
   "metadata": {
    "collapsed": false
   },
   "outputs": [],
   "source": [
    "# CODE HERE!#############\n",
    "# define the molecular geometry\n",
    "h2o=Molecule('water',\n",
    "             atomlist = [(1 ,(0.0,0.0,0.0)),\n",
    "                         (1 ,( 0.0,0.0,0.0)),\n",
    "                         (1 ,(0.0,0.0,0.0))],\n",
    "             units='Angstrom')\n",
    "\n",
    "# First, we need to get the results from Hartree-Fock\n",
    "en, orbital_energies, orbitals = rhf(h2o)\n",
    "corr = MP2(h2o, orbitals, orbital_energies)\n",
    "mp2_e = en + corr\n",
    "# print stuff\n",
    "print(\"Hartree Fock Energy = %f\"%en)\n",
    "print(\"MP2 Correlation Energy =  %f\"%corr)\n",
    "print(\"Total Energy = %f\"%( mp2_e  ))\n",
    "# CODE HERE!###############\n",
    "# calculate energy differences and percent difference\n",
    "# Experiment\n",
    "exp_e =\n",
    "diff_e= \n",
    "percent_e =\n",
    "print(\"Error experiment = %f (%f %%)\"%(diff_e,percent_e ) )\n",
    "# Theory (FULLCI)\n",
    "theory_e =\n",
    "diff_e= \n",
    "percent_e =\n",
    "print(\"Error theory = %f (%f %%)\"%(diff_e,percent_e ) )"
   ]
  },
  {
   "cell_type": "markdown",
   "metadata": {},
   "source": [
    "### Effect of basis set with correlation \n",
    "\n",
    "Next, let's how the correlation changes as we add more virtual orbitals.\n",
    "\n",
    "We're going to run MP2 for all included virtual orbitals, from 0 (the HF answer) to the maximum allowed by the basis set."
   ]
  },
  {
   "cell_type": "code",
   "execution_count": null,
   "metadata": {
    "collapsed": false
   },
   "outputs": [],
   "source": [
    "basis_function = getbasis(h2o)\n",
    "nclosed, nopen = h2o.get_closedopen()\n",
    "nvirt_max = len(basis_function) - nclosed\n",
    "nvirt_array = np.arange(0, nvirt_max+1)\n",
    "en_ar = np.zeros_like(nvirt_array, dtype=float)\n",
    "\n",
    "# CODE here\n",
    "for indx,nvirt in enumerate(nvirt_array):\n",
    "    # do a MP2 calculation using nvirt instead of the usual nvirt_max\n",
    "\n",
    "    # save the value\n",
    "    en_ar[indx] = corr\n",
    "\n",
    "# plot\n",
    "plt.plot(nvirt_array, en_ar)\n",
    "plt.title('Effect of basis set on correlation')\n",
    "plt.xlabel(\"Number of virtual orbitals\")\n",
    "plt.ylabel(\"Correlation energy\")\n",
    "plt.show()"
   ]
  },
  {
   "cell_type": "markdown",
   "metadata": {},
   "source": [
    "## Part 3: Applying MP2 to $H_2$ Dissociation\n",
    "\n",
    "![](files/h2_diss.png)\n",
    "\n",
    "Below, we're going to see one of the significant failings of MP2, and that's the fact the potential energy surfaces diverge when the internuclear radius gets too large. The fact that this diverges is a direct result of this being a perturbative theory and not a variational one. We'll see this below.\n",
    "\n",
    "To explore this, we'll want to compute both the HF and MP2 energies as a function of internuclear distance for $H_2$ in **Angstroms**. \n",
    "\n",
    "#### Remember to specify your units!"
   ]
  },
  {
   "cell_type": "code",
   "execution_count": null,
   "metadata": {
    "collapsed": false
   },
   "outputs": [],
   "source": [
    "r_array = np.arange(0.1, 20.0, 0.1)\n",
    "hf_energy_array = np.zeros_like(r_array)\n",
    "mp2_energy_array = np.zeros_like(r_array)\n",
    "\n",
    "# FOR loop, fill me, calculate at each r\n",
    "for indx,r in enumerate(r_array):\n",
    "    # create molecule\n",
    "\n",
    "    # do HF calculation\n",
    "\n",
    "    # do MP2 calculation\n",
    "\n",
    "    # save values\n",
    "    hf_energy_array[indx] = en\n",
    "    mp2_energy_array[indx] = corr + en"
   ]
  },
  {
   "cell_type": "markdown",
   "metadata": {},
   "source": [
    "### <i class=\"fa fa-table\"></i> Load FULLCI data"
   ]
  },
  {
   "cell_type": "code",
   "execution_count": null,
   "metadata": {
    "collapsed": false
   },
   "outputs": [],
   "source": [
    "data = np.loadtxt('files/H2_fullci_angs.dat')\n",
    "fullci_r = data[:,0]\n",
    "fullci_e = data[:,1]"
   ]
  },
  {
   "cell_type": "markdown",
   "metadata": {},
   "source": [
    "### <i class=\"fa fa-line-chart\"></i> and compare"
   ]
  },
  {
   "cell_type": "code",
   "execution_count": null,
   "metadata": {
    "collapsed": false
   },
   "outputs": [],
   "source": [
    "plt.plot(r_array, hf_energy_array, label='HF')\n",
    "plt.plot(r_array, mp2_energy_array,label='MP2')\n",
    "plt.plot(fullci_r , fullci_e, label='FULLCI')\n",
    "plt.ylim([-2, 0])\n",
    "plt.legend(loc='best')\n",
    "plt.title('Dissociation of $H_2$')\n",
    "plt.xlabel('Dissociation distance')\n",
    "plt.ylabel('Energy')\n",
    "plt.show()"
   ]
  }
 ],
 "metadata": {
  "kernelspec": {
   "display_name": "Python 2",
   "language": "python",
   "name": "python2"
  },
  "language_info": {
   "codemirror_mode": {
    "name": "ipython",
    "version": 2
   },
   "file_extension": ".py",
   "mimetype": "text/x-python",
   "name": "python",
   "nbconvert_exporter": "python",
   "pygments_lexer": "ipython2",
   "version": "2.7.10"
  }
 },
 "nbformat": 4,
 "nbformat_minor": 0
}
