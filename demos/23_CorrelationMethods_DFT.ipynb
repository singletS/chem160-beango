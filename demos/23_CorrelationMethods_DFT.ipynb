{
 "cells": [
  {
   "cell_type": "markdown",
   "metadata": {},
   "source": [
    "# Exploring Correlation Methods and DFT\n",
    "\n",
    "Today we are going to get some intuition on the interplay of accuracy and computational that is often an issue when dealing with computational problems.\n",
    "\n",
    "We will be looking at some precomputed calculation that were made on a professional Quantum Chemistry software package (**Orca**).\n",
    "\n",
    "For correlation methods we will focus our attention on the energetics of methane:\n",
    "\n",
    "![](files/methane.png)\n",
    "\n",
    "For dft we will focus our attention on the dipole moment of Hydroquinone, remember that energetics are not directly comparable with DFT since these are under a different Hamiltonian. When comparing relative energy values are used, in this case we will use dipole moments.\n",
    "\n",
    "![](files/hydroquinone.png)\n",
    "\n"
   ]
  },
  {
   "cell_type": "markdown",
   "metadata": {},
   "source": [
    "First let's load some preliminaries\n",
    "## <i class=\"fa fa-book\"></i>  Preliminaries"
   ]
  },
  {
   "cell_type": "code",
   "execution_count": null,
   "metadata": {
    "collapsed": false
   },
   "outputs": [],
   "source": [
    "# our bread and butter\n",
    "import numpy as np\n",
    "import matplotlib.pyplot as plt\n",
    "%matplotlib inline\n",
    "\n",
    "# add all probables spots for the quantum world library\n",
    "import sys\n",
    "sys.path.append('../library')\n",
    "sys.path.append('../../library')\n",
    "sys.path.append('/home/student/chem160/library')\n",
    "#This is how we'll import our own home-made modules\n",
    "import quantumWorld as qworld\n",
    "qworld.fancy_plotting()\n",
    "# convenient units\n",
    "hartree_to_kcal = 627.503"
   ]
  },
  {
   "cell_type": "markdown",
   "metadata": {},
   "source": [
    "## Part 1: Loading the data\n",
    "\n",
    "Our data is stored in python **pickle** format, let's load it:"
   ]
  },
  {
   "cell_type": "code",
   "execution_count": null,
   "metadata": {
    "collapsed": false
   },
   "outputs": [],
   "source": [
    "import pickle\n",
    "afile = open('files/data_methane.pckl')\n",
    "data = pickle.load(afile )\n",
    "afile.close()"
   ]
  },
  {
   "cell_type": "markdown",
   "metadata": {},
   "source": [
    "Once we load it it will be a dictionary of dictionaries, exploring the following correlation methods:\n",
    "\n",
    "* HF\n",
    "* MP2\n",
    "* QCISD\n",
    "* CCSD\n",
    "* CCSD(T)\n",
    "* DLPNO-CCSD\n",
    "\n",
    "Each method can be accesed via:\n",
    "\n",
    "```python\n",
    "data[method]\n",
    "```\n",
    "for example 'MP2' calculation data is:\n",
    "\n",
    "```python\n",
    "data['MP2']\n",
    "```\n",
    "\n",
    "### Try loading one type of method, what type of data is inside?"
   ]
  },
  {
   "cell_type": "code",
   "execution_count": null,
   "metadata": {
    "collapsed": false
   },
   "outputs": [],
   "source": []
  },
  {
   "cell_type": "markdown",
   "metadata": {},
   "source": [
    "Each method has information on various aspects of the calculations:\n",
    "\n",
    "* **Basis_set**, basis set  used.\n",
    "* **Nbasis**, number of basis functions.\n",
    "* **Energy**, final energy calculation.\n",
    "* **Ctime**, computing time in seconds.\n",
    "* **E_corr**, correlation energy recovered, remember $E_{corr} = E_{method}-E_{HF}$\n",
    "* **E_corr_percent**, percent of correlation energy recovered, in this case, comparing with the exact energy. In formula this would be $ \\frac{|E_{corr}|}{|E_{exact}-E_{HF}|} \\times 100$\n",
    "\n",
    "Each of these elements is an array, so for example if you wanted to access the Calculation times for MP2 methods, you would use:\n",
    "\n",
    "\n",
    "```python\n",
    "data['MP2']['Ctime']\n",
    "```\n",
    "\n",
    "# Try it out!"
   ]
  },
  {
   "cell_type": "code",
   "execution_count": null,
   "metadata": {
    "collapsed": false
   },
   "outputs": [],
   "source": []
  },
  {
   "cell_type": "markdown",
   "metadata": {},
   "source": [
    "## Part 2 : Finding trends\n",
    "\n",
    "We will do plotting and curve fitting to figure out the trends for multiple methods.\n",
    "\n",
    "For this we have the utility function **qworld.polynomial_fit(x,y)** which recieves as input an array vector **x** and **y** of data and will return a array **x_fit, y_fit** and **label_fit** which represents the fitted polynomial.\n",
    "\n",
    "### Fitting a trend example"
   ]
  },
  {
   "cell_type": "code",
   "execution_count": null,
   "metadata": {
    "collapsed": false
   },
   "outputs": [],
   "source": [
    "# set the data\n",
    "x = np.linspace(0,100,100)\n",
    "y = 0.3 * np.power(x,2.5)*(1+0.3*np.sin(x))\n",
    "# get the fit\n",
    "x_fit,y_fit,label_fit = qworld.polynomial_fit(x,y)\n",
    "#plotting stuff\n",
    "plt.plot(x,y,'o',label='Data')\n",
    "plt.plot(x_fit,y_fit,label=label_fit)\n",
    "plt.xlabel('$x$')\n",
    "plt.ylabel('$f(x)$')\n",
    "plt.title('Polynomial fit of trend')\n",
    "plt.legend(loc='best')\n",
    "plt.show()"
   ]
  },
  {
   "cell_type": "markdown",
   "metadata": {},
   "source": [
    "## Your mission: <br> find out trends for multiple variables <i class=\"fa fa-line-chart\"></i>\n",
    "Mainly using x as a dimention for the number of basis sets, for multiple methods, investigate:\n",
    "\n",
    "* Scaling factor for computing times\n",
    "* Correlation energy retrieved.\n",
    "* Percent of Correlation energy calculated.\n",
    "\n",
    "\n",
    "### <i class=\"fa fa-line-chart\"></i> Effect on computing time\n"
   ]
  },
  {
   "cell_type": "code",
   "execution_count": null,
   "metadata": {
    "collapsed": false
   },
   "outputs": [],
   "source": [
    "for method in data.keys():\n",
    "    x = data[method]['Nbasis']\n",
    "    ###fill the data to be plotted on y\n",
    "    \n",
    "    ###fit the data\n",
    "    \n",
    "    ##make plots\n",
    "\n",
    "\n",
    "plt.xlabel('Number of Basis sets')\n",
    "plt.ylabel('Computing time $(s)$')\n",
    "plt.title('Polynomial fit of trend')\n",
    "plt.legend(loc='best',ncol=2,prop={'size':16})\n",
    "plt.show()"
   ]
  },
  {
   "cell_type": "markdown",
   "metadata": {},
   "source": [
    "### <i class=\"fa fa-line-chart\"></i> Effect on correlation energy\n"
   ]
  },
  {
   "cell_type": "code",
   "execution_count": null,
   "metadata": {
    "collapsed": false
   },
   "outputs": [],
   "source": [
    "\n",
    "plt.xlabel('Number of Basis sets')\n",
    "plt.ylabel('$E_{corr}$')\n",
    "plt.title('Polynomial fit of trend')\n",
    "plt.legend(loc='best',ncol=2,prop={'size':16})\n",
    "plt.show()"
   ]
  },
  {
   "cell_type": "markdown",
   "metadata": {},
   "source": [
    "### <i class=\"fa fa-line-chart\"></i> Effect on percent of correlation energy"
   ]
  },
  {
   "cell_type": "code",
   "execution_count": null,
   "metadata": {
    "collapsed": false
   },
   "outputs": [],
   "source": [
    "\n",
    "plt.xlabel('Number of Basis sets')\n",
    "plt.ylabel('$E_{corr}$%')\n",
    "plt.title('Polynomial fit of trend')\n",
    "plt.legend(loc='best',ncol=2,prop={'size':16})\n",
    "plt.show()"
   ]
  },
  {
   "cell_type": "markdown",
   "metadata": {},
   "source": [
    "### <i class=\"fa fa-question-circle\"></i> Questions\n",
    "\n",
    "* Any other ideas on possible interesting trends to look at?\n",
    "* What would be the sweet spot between accurate and still not to expensive?"
   ]
  },
  {
   "cell_type": "markdown",
   "metadata": {},
   "source": [
    "## Part 3: Loading the DFT data\n",
    "\n",
    "Our data is stored in python **pickle** format, let's load it:"
   ]
  },
  {
   "cell_type": "code",
   "execution_count": null,
   "metadata": {
    "collapsed": true
   },
   "outputs": [],
   "source": [
    "import pickle\n",
    "afile = open('files/dft_methane.pckl')\n",
    "dft = pickle.load(afile )\n",
    "afile.close()"
   ]
  },
  {
   "cell_type": "markdown",
   "metadata": {},
   "source": [
    "This dictionary will have the following functionals:\n",
    "\n",
    "* LDA\n",
    "* BP86\n",
    "* VWN\n",
    "* PBE\n",
    "* B3LYP \n",
    "* PBE0 \n",
    "* TPSS \n",
    "* TPSS0 \n",
    "* M06-2X \n",
    "* M06L\n",
    "* B2PLYP\n",
    "* mPW2PLYP \n",
    "* PWPB95"
   ]
  },
  {
   "cell_type": "markdown",
   "metadata": {},
   "source": [
    "Each method has information on various aspects of the calculations:\n",
    "\n",
    "* **Basis_set**, basis set  used.\n",
    "* **Nbasis**, number of basis functions.\n",
    "* **DipoleM**, final dipole moment.\n",
    "* **Ctime**, computing time in seconds.\n",
    "* **Erorr**, difference between dipole moment and experimental value $Error = |E_{method}-E_{Exp}|$\n",
    "\n",
    "\n",
    "Each of these elements is an array, so for example if you wanted to access the Calculation times for MP2 methods, you would use:\n",
    "\n",
    "\n",
    "```python\n",
    "data['B3LYP']['Ctime']\n",
    "```\n",
    "\n",
    "# Try it out!"
   ]
  },
  {
   "cell_type": "code",
   "execution_count": null,
   "metadata": {
    "collapsed": true
   },
   "outputs": [],
   "source": []
  },
  {
   "cell_type": "markdown",
   "metadata": {},
   "source": [
    "## Part 4 : Finding trends\n",
    "\n",
    "We will do plotting and curve fitting to figure out the trends for multiple methods.\n",
    "\n",
    "## Your mission: <br> find out trends for multiple variables <i class=\"fa fa-line-chart\"></i>\n",
    "Mainly using x as a dimention for the number of basis sets, for multiple methods, investigate:\n",
    "\n",
    "* Scaling factor for computing times\n",
    "* Error\n",
    "\n",
    "\n",
    "### <i class=\"fa fa-line-chart\"></i> Effect on computing time\n",
    "\n"
   ]
  },
  {
   "cell_type": "code",
   "execution_count": null,
   "metadata": {
    "collapsed": true
   },
   "outputs": [],
   "source": []
  },
  {
   "cell_type": "markdown",
   "metadata": {},
   "source": [
    "### <i class=\"fa fa-line-chart\"></i>  Effect on accuracy"
   ]
  },
  {
   "cell_type": "code",
   "execution_count": null,
   "metadata": {
    "collapsed": true
   },
   "outputs": [],
   "source": []
  },
  {
   "cell_type": "markdown",
   "metadata": {},
   "source": [
    "### <i class=\"fa fa-question-circle\"></i> Questions\n",
    "\n",
    "* Any other ideas on possible interesting trends to look at?\n",
    "* What would be the sweet spot between accurate and still not to expensive?\n",
    "* How do DFT methods comapre with CC methods in computing time-wise?"
   ]
  },
  {
   "cell_type": "markdown",
   "metadata": {},
   "source": [
    "# DFT in Pyquante\n",
    "In the following part, we'll run 3 different DFT functionals: 1 that performs the local density approximation (SVWN), one that performs the generalized gradient approximation (AM05), and one that is a 'hybrid' functional (BLYP)."
   ]
  },
  {
   "cell_type": "code",
   "execution_count": null,
   "metadata": {
    "collapsed": true
   },
   "outputs": [],
   "source": [
    "from PyQuante.Molecule import Molecule\n",
    "from PyQuante.dft import *\n",
    "from PyQuante import configure_output\n",
    "import PyQuante.DFunctionals as dfun \n",
    "import time\n",
    "\n",
    "configure_output()"
   ]
  },
  {
   "cell_type": "markdown",
   "metadata": {},
   "source": [
    "###  Define a molecule here"
   ]
  },
  {
   "cell_type": "code",
   "execution_count": null,
   "metadata": {
    "collapsed": true
   },
   "outputs": [],
   "source": [
    "mol=Molecule('mol',\n",
    "             atomlist =  )\n"
   ]
  },
  {
   "cell_type": "markdown",
   "metadata": {},
   "source": [
    "## LDA functional"
   ]
  },
  {
   "cell_type": "code",
   "execution_count": null,
   "metadata": {
    "collapsed": true
   },
   "outputs": [],
   "source": [
    "start_time = time.time()\n",
    "en,orbe,orbs = dft(mol,functional='LDA')\n",
    "lda_time = time.time() - start_time\n",
    "print(lda_time)"
   ]
  },
  {
   "cell_type": "markdown",
   "metadata": {},
   "source": [
    "## AM05: The GGA one"
   ]
  },
  {
   "cell_type": "code",
   "execution_count": null,
   "metadata": {
    "collapsed": true
   },
   "outputs": [],
   "source": [
    "start_time = time.time()\n",
    "en,orbe,orbs = dft(mol,functional='AM05')\n",
    "am05_time = time.time() - start_time\n",
    "print(am05_time)"
   ]
  },
  {
   "cell_type": "markdown",
   "metadata": {},
   "source": [
    "### BLYP: The Hybrid One"
   ]
  },
  {
   "cell_type": "code",
   "execution_count": null,
   "metadata": {
    "collapsed": true
   },
   "outputs": [],
   "source": [
    "start_time = time.time()\n",
    "en,orbe,orbs = dft(mol,functional='BLYP')\n",
    "blyp_time = time.time() - start_time\n",
    "print(blyp_time)"
   ]
  }
 ],
 "metadata": {
  "kernelspec": {
   "display_name": "Python 2",
   "language": "python",
   "name": "python2"
  },
  "language_info": {
   "codemirror_mode": {
    "name": "ipython",
    "version": 2
   },
   "file_extension": ".py",
   "mimetype": "text/x-python",
   "name": "python",
   "nbconvert_exporter": "python",
   "pygments_lexer": "ipython2",
   "version": "2.7.10"
  }
 },
 "nbformat": 4,
 "nbformat_minor": 0
}
