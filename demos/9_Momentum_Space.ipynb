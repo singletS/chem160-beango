{
 "cells": [
  {
   "cell_type": "markdown",
   "metadata": {},
   "source": [
    "# Demo 9:  Momentum Space"
   ]
  },
  {
   "cell_type": "markdown",
   "metadata": {},
   "source": [
    "In this demo, we'll go ahead and verify some of the claims that were made in class today about the the momentum space representation of quantum mechanics.\n",
    "\n",
    "We will first explore some properties of the momentum space eigenfunctions, and then move to exploring the both the position and momentum space eigenstates for the Eckart well. \n",
    "\n"
   ]
  },
  {
   "cell_type": "markdown",
   "metadata": {},
   "source": [
    "# <i class=\"fa fa-book\"></i> Step 1: Import the required modules."
   ]
  },
  {
   "cell_type": "code",
   "execution_count": null,
   "metadata": {
    "collapsed": false
   },
   "outputs": [],
   "source": [
    "import numpy as np\n",
    "import matplotlib.pyplot as plt\n",
    "import scipy as sp\n",
    "from scipy import integrate\n",
    "% matplotlib inline\n",
    "##this let's us print out the available functions in our library\n",
    "import pydoc \n",
    "#This is how we'll import our own home-made modules\n",
    "import sys\n",
    "sys.path.append('../library')\n",
    "sys.path.append('../../library')\n",
    "sys.path.append('/home/student/chem160/library')\n",
    "import quantumWorld as qworld\n",
    "qworld.fancy_plotting()"
   ]
  },
  {
   "cell_type": "markdown",
   "metadata": {},
   "source": [
    "# <i class=\"fa fa-book\"></i> Step 2: Initial conditions\n",
    "\n",
    "We are defining a grid using the following values:"
   ]
  },
  {
   "cell_type": "code",
   "execution_count": null,
   "metadata": {
    "collapsed": false
   },
   "outputs": [],
   "source": [
    "NPTS = 2048\n",
    "XSTART = -20.0\n",
    "XEND = 20.0\n",
    "x = np.linspace(XSTART,XEND,NPTS)"
   ]
  },
  {
   "cell_type": "markdown",
   "metadata": {},
   "source": [
    "# <i class=\"fa fa-wrench\"></i> Step 3: Defining functions\n",
    "## Momentum eigenfunction\n",
    "\n",
    "We saw in lecture that the momentum operator was\n",
    "$$-i \\hbar \\frac{d}{dx},$$\n",
    "which implies that the eigenstates are given by:\n",
    "$$ \\frac{1}{\\sqrt{2 \\hbar \\pi}} e^{i p x/\\hbar}.$$\n",
    "\n",
    "Let's absorb $\\hbar$ and use the substitution $k=p/\\hbar$ and work with functions of $\\frac{1}{\\sqrt{2\\pi}}e^{ikx}$ instead of $\\frac{1}{\\sqrt{2\\pi\\hbar}}e^{ipx/\\hbar}$.\n",
    "\n"
   ]
  },
  {
   "cell_type": "code",
   "execution_count": null,
   "metadata": {
    "collapsed": false
   },
   "outputs": [],
   "source": [
    "def momentum_eigenfunction(k, x):\n",
    "    '''\n",
    "    This function will return the value of a momentum eigenfunction with momentum k at position x\n",
    "    \n",
    "    INPUT\n",
    "    --------------------------\n",
    "    k: scalar or vector that represents the momentum\n",
    "    x: scalar or vector that represents the position\n",
    "    \n",
    "    OUTPUT\n",
    "    --------------------------\n",
    "    Value of the momentum eigenfunction for momentum k and position x\n",
    "    '''\n",
    "    # ONE LINE OF CODE\n",
    "    \n",
    "    return psi"
   ]
  },
  {
   "cell_type": "markdown",
   "metadata": {},
   "source": [
    "## Overlap\n",
    "This tells us that the overlap of two momentum eigenfunctions momenta $k_1$ and $k_2$, respectively, is going to be given by\n",
    "$$\\frac{1}{2\\pi} \\int_{-\\infty}^{\\infty} (e^{i k_1 x})^\\dagger e^{i k_2 x}  dx, $$\n",
    "which simplifies to:\n",
    "$$\\delta(k_1 - k_2).$$"
   ]
  },
  {
   "cell_type": "code",
   "execution_count": null,
   "metadata": {
    "collapsed": true
   },
   "outputs": [],
   "source": [
    "def overlap(x, k1, k2):\n",
    "    '''\n",
    "    This function will return the inner part of the integrand to be used in a second to actually\n",
    "    do the integration. We will want to return \\psi^\\dagger \\psi\n",
    "    INPUT\n",
    "    --------------------------\n",
    "    k1: scalar or vector that represents the momentum of the first plane wave\n",
    "    k2: scalar or vector that represents the momentum of the second plane wave\n",
    "    x: scalar or vector that represents the position\n",
    "      \n",
    "    OUTPUT\n",
    "    --------------------------\n",
    "    The value of the overlap integrand for momenta k1 and k2 and position x.\n",
    "    '''\n",
    "    # CODE HERE\n",
    "\n",
    "    return  integrand"
   ]
  },
  {
   "cell_type": "markdown",
   "metadata": {},
   "source": [
    "# <i class=\"fa fa-wrench\"></i> Step 4: Are they orthogonal?\n",
    "\n",
    "Next, let's actually perform the integration to check the fact that they are indeed orthogonal. We're going to store the overlaps in something called an *overlap matrix*.\n",
    "\n",
    "This will be an incredibly important matrix later in the course when we explore electronic structure. For now, we will begin by trying to understand it's physical interpretation before we understand the applications later in the course.\n",
    "\n",
    "To build the overlap matrix, you'll want to do the following:\n",
    "\n",
    "* Make an array of momenta that ranges from 0 to 2$\\pi$ in steps of $\\pi/5$\n",
    "* Pre-allocate a matrix of zeros of size NxN where N is the length of the k_array. I did this via: **overlap_matrix = np.zeros((len(k_array), len(k_array)))**\n",
    "* Next, write two for loops to loop over each combination of k1 and k2. For each combination, you will integrate the overlap function that you wrote above using the quad function and assigning it to the corresponding element of the overlap matrix. I would recomend doing this via **integral, error = integrate.quad(overlap, -upperLim, upperLim, args=(k1, k2), limit=2000)** \n",
    "* Finally, we'll plot the overlap matrix with the matshow method. Simply type **matshow(np.abs(overlap_matrix))**"
   ]
  },
  {
   "cell_type": "code",
   "execution_count": null,
   "metadata": {
    "collapsed": false
   },
   "outputs": [],
   "source": [
    "upperLim = 10000\n",
    "k_array = np.arange(0, 2*np.pi, np.pi/5)\n",
    "overlap_matrix = np.zeros((len(k_array), len(k_array)))\n",
    "for i,k1 in enumerate(k_array):\n",
    "    for j,k2 in enumerate(k_array):\n",
    "        # One line of code\n",
    "        \n",
    "        overlap_matrix[i, j]= integral"
   ]
  },
  {
   "cell_type": "markdown",
   "metadata": {},
   "source": [
    "## <i class=\"fa fa-line-chart\"></i> Plot the matrix\n",
    "Notice that we only see that the diagonal elements have magnitude."
   ]
  },
  {
   "cell_type": "code",
   "execution_count": null,
   "metadata": {
    "collapsed": false
   },
   "outputs": [],
   "source": [
    "plt.matshow(np.abs(overlap_matrix),cmap=plt.cm.bone_r)\n",
    "plt.xlabel('Index')\n",
    "plt.ylabel('Index')\n",
    "plt.colorbar()\n",
    "plt.show()"
   ]
  },
  {
   "cell_type": "markdown",
   "metadata": {},
   "source": [
    "## <i class=\"fa fa-question-circle\"></i> Does this provide an insight into orthogonality? <br> What would the matrix look like if the eigenfunctions weren't orthogonal?"
   ]
  },
  {
   "cell_type": "markdown",
   "metadata": {},
   "source": [
    "#  Step 5: Eckart well\n",
    "\n",
    "Now, let's turn our attention to examining the Eckart well, that we discussed in class. First, let's go ahead and write functions that return the barrier. \n",
    "\n",
    "## <i class=\"fa fa-wrench\"></i> Define the potential\n",
    "\n",
    "In the position space, we get:\n",
    "$$V(x) = \\frac{- V_0}{ cosh^2(\\frac{x}{a}) },$$\n"
   ]
  },
  {
   "cell_type": "code",
   "execution_count": null,
   "metadata": {
    "collapsed": false
   },
   "outputs": [],
   "source": [
    "def eckart_position(x, V0 = 10.0, a = 1.0):\n",
    "    '''\n",
    "    Write a function that returns the eckart potential in the position representation\n",
    "    INPUT\n",
    "    -----------------\n",
    "    x: scalar or vector that represents the position\n",
    "    V0: keyworded argument with a default value of 10.0. It's just the depth of the well\n",
    "    a: keyworded argument with a default value of 1.0. It's related to the width of the well\n",
    "    \n",
    "    OUTPUT\n",
    "    ----------------\n",
    "    The value of the eckart well in the position representation\n",
    "    '''\n",
    "    # one line of code\n",
    "\n",
    "    return Vx"
   ]
  },
  {
   "cell_type": "markdown",
   "metadata": {},
   "source": [
    "and in the momentum space we get:\n",
    "$$V(k) = -a^2 k \\sqrt{\\frac{\\pi}{2}} \\frac{V_0}{sinh(\\frac{a k \\pi}{2})} $$"
   ]
  },
  {
   "cell_type": "code",
   "execution_count": null,
   "metadata": {
    "collapsed": true
   },
   "outputs": [],
   "source": [
    "def eckart_momentum(k, V0 = 10.0, a = 1.0):\n",
    "    '''\n",
    "    Write a function that returns the eckart potential in the momentum representation\n",
    "    INPUT\n",
    "    -----------------\n",
    "    k: scalar or vector that represents the momentum\n",
    "    V0: keyworded argument with a default value of 10.0. It's just the depth of the well\n",
    "    a: keyworded argument with a default value of 1.0. It's related to the width of the well\n",
    "    \n",
    "    OUTPUT\n",
    "    ----------------\n",
    "    The value of the eckart well in the momentum representation\n",
    "    '''\n",
    "    # one line of code\n",
    "\n",
    "    return Vk"
   ]
  },
  {
   "cell_type": "markdown",
   "metadata": {},
   "source": [
    "## <i class=\"fa fa-wrench\"></i> Using DVR\n",
    "With the potentials in hand, we will next use the DVR method to compute the approximate wavefunctions and energies. This method is in principle similar to the finite difference methods that were introduced earlier in that it permits the computation of discritized eigenstates. The most significant difference here is that it is much more accurate, efficient, and rapidly converging. Because it is much more robust, we will use it both here and in the considerable exercise. \n",
    "\n",
    "The first thing to do is to make the discritized Hamiltonian matrix. \n",
    "\n",
    "The method to do this is in the quantumWorld module called  **Hmatrix_dvr(x,vx)** (ie, call qworld.Hmatrix_dvr() ). The Hdvr method takes 2 arguments:\n",
    "\n",
    "1. **x**, a position grid vector with number of points **NPTS**, from **XSTART** to **XEND**.\n",
    "2. **vx**, a vector representing a potential $V(x)$ evaluated at **x**, in this case (eckart_space).\n",
    "\n",
    "We will get back the discretized Hamiltonian in that order. \n",
    "\n",
    "Next, we need to compute the eigenvalues and vectors of this newly discretized Hamiltonian. We will do this by calling the hermitian eigensolver (eigh) in the following way: **E, Psi = sp.linalg.eigh(H)**.\n",
    "Obtaining eigenvales **E** and eigenfunctions **Psi**.\n",
    "\n",
    "Create **H** and solve below:"
   ]
  },
  {
   "cell_type": "code",
   "execution_count": null,
   "metadata": {
    "collapsed": false
   },
   "outputs": [],
   "source": [
    "# two lines of code\n"
   ]
  },
  {
   "cell_type": "markdown",
   "metadata": {},
   "source": [
    "## Extra: On DVR\n",
    "While this method was written to be used as a black box, feel free to read more about it in this wonderful review article written by JC Light (http://light-group.uchicago.edu/dvr-rev.pdf). "
   ]
  },
  {
   "cell_type": "markdown",
   "metadata": {},
   "source": [
    "## Potential in space ($x$)\n"
   ]
  },
  {
   "cell_type": "code",
   "execution_count": null,
   "metadata": {
    "collapsed": false
   },
   "outputs": [],
   "source": [
    "plt.plot(x,eckart_position(x))\n",
    "plt.title('Position Space Representation of Eckart Well')\n",
    "plt.xlabel('Position $x$')\n",
    "plt.ylabel('$V(x)$')\n",
    "plt.xlim([-10.0, 10.0])\n",
    "plt.show()"
   ]
  },
  {
   "cell_type": "markdown",
   "metadata": {},
   "source": [
    "## Eigenfunctions in position space ($x$)"
   ]
  },
  {
   "cell_type": "code",
   "execution_count": null,
   "metadata": {
    "collapsed": false
   },
   "outputs": [],
   "source": [
    "scaling = np.max(np.abs(eckart_position(x)))*10\n",
    "\n",
    "for i in [1,2,3,4,30]:\n",
    "    y = scaling*np.abs(Psi[:,i])**2+E[i]\n",
    "    plt.plot(x,y,label='$\\psi_{%d}$'%i)\n",
    "\n",
    "plt.plot(x,eckart_position(x),label='well',lw=4)\n",
    "plt.title('Position Space Representation of Eigenfunctions')\n",
    "plt.xlabel('Position $x$')\n",
    "plt.ylabel('$V(x),|\\psi(x)|^2$')\n",
    "plt.xlim([-10,10])\n",
    "plt.legend(loc='best',ncol=2)\n",
    "plt.show()"
   ]
  },
  {
   "cell_type": "markdown",
   "metadata": {},
   "source": [
    "## Transforming into momentum space <br> Also known as K-space\n",
    "\n",
    "Since in quantum mechanics, the De Broglie relation $p = \\hbar k$ states that momentum and wavevectors for a free particle are proportional to each other.\n",
    "\n",
    "Now we compute the frequency space representation of the eigenstates. \n",
    "\n",
    "We do this by numerically taking the fourier transform using the fast fourier transform algorithm.\n",
    "\n",
    "See these notes if you want to learn more about the FFT: http://www.math.ethz.ch/education/bachelor/seminars/fs2008/nas/woerner.pdf\n",
    "\n",
    "It's one of the single most important algorithms ever developed!"
   ]
  },
  {
   "cell_type": "code",
   "execution_count": null,
   "metadata": {
    "collapsed": false
   },
   "outputs": [],
   "source": [
    "Psi_k = np.zeros_like(Psi, dtype=complex)\n",
    "\n",
    "for i in range(len(x)):\n",
    "    Psi_k[:, i] = np.fft.fftshift(np.fft.fft(Psi[:, i]))/np.sqrt(len(x))\n",
    "freq = np.fft.fftshift(np.fft.fftfreq(len(x), d = np.diff(x)[0]))"
   ]
  },
  {
   "cell_type": "markdown",
   "metadata": {},
   "source": [
    "## K-space eigenfunctions\n",
    "\n",
    "First superimposed over the well "
   ]
  },
  {
   "cell_type": "code",
   "execution_count": null,
   "metadata": {
    "collapsed": false
   },
   "outputs": [],
   "source": [
    "scaling = np.max(np.abs(eckart_position(x)))/2.0\n",
    "\n",
    "for i in [1,2,3,4,30]:\n",
    "    y = scaling*Psi_k[:,i]+E[i]\n",
    "    plt.plot(x,y,label='$\\psi_{%d}$'%i)\n",
    "\n",
    "plt.plot(x,eckart_momentum(x),label='well',lw=4)\n",
    "plt.title('Momentum Space Representation of Eckart Well')\n",
    "plt.xlabel('Position $x$')\n",
    "plt.ylabel('$V(k)$')\n",
    "plt.xlim([-10,10])\n",
    "plt.legend(loc='best',ncol=2)\n",
    "plt.show()\n"
   ]
  },
  {
   "cell_type": "markdown",
   "metadata": {},
   "source": [
    "Since we have complex-valued eigenfunctions, we can get more intuition with the pdf ($|\\psi(k)|^2$) then plotting just the real and imaginary part:"
   ]
  },
  {
   "cell_type": "code",
   "execution_count": null,
   "metadata": {
    "collapsed": false
   },
   "outputs": [],
   "source": [
    "scaling = 10\n",
    "\n",
    "for indx,i in enumerate([1,2,3,30,500]):\n",
    "    y = scaling * np.abs(Psi_k[:,i])**2 +indx\n",
    "    plt.plot(x,y,label='$\\psi_{%d}$'%i)\n",
    "    \n",
    "plt.title('Momentum Space Representation of Eigenfunctions')\n",
    "plt.xlabel('Momentum $k$')\n",
    "plt.ylabel('$|\\psi(p)|^2$')\n",
    "plt.xlim([-5,5])\n",
    "plt.legend(loc='best',ncol=2)\n",
    "plt.show()\n"
   ]
  },
  {
   "cell_type": "markdown",
   "metadata": {
    "collapsed": false
   },
   "source": [
    "## <i class=\"fa fa-question-circle\"></i> <br> How do you interpret the pdfs of the momentum eigenfunctions? <br> How do the parameter $V_0$ and $a$ affect the well? <br> and the eigenfunctions?\n"
   ]
  },
  {
   "cell_type": "code",
   "execution_count": null,
   "metadata": {
    "collapsed": true
   },
   "outputs": [],
   "source": []
  }
 ],
 "metadata": {
  "kernelspec": {
   "display_name": "Python 2",
   "language": "python",
   "name": "python2"
  },
  "language_info": {
   "codemirror_mode": {
    "name": "ipython",
    "version": 2
   },
   "file_extension": ".py",
   "mimetype": "text/x-python",
   "name": "python",
   "nbconvert_exporter": "python",
   "pygments_lexer": "ipython2",
   "version": "2.7.9"
  }
 },
 "nbformat": 4,
 "nbformat_minor": 0
}
