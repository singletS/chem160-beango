{
 "cells": [
  {
   "cell_type": "markdown",
   "metadata": {},
   "source": [
    "# Molecular Simulation\n",
    "## Solvated Alanine\n",
    "#### Disclaimer: Do not modify this iPython notebook.  If you want to modify it, copy it to a different directory, one that is not automatically updated, and modify it there\n",
    "\n",
    "First, this is alanine, one of the 20 amino acids encoded by the genetic code:"
   ]
  },
  {
   "cell_type": "code",
   "execution_count": 1,
   "metadata": {
    "collapsed": false
   },
   "outputs": [
    {
     "data": {
      "text/html": [
       "<div id=\"molecule_b81d3ec2-ec05-4974-bd65-a28d06042563\"></div>\n",
       "           <script type=\"text/javascript\">\n",
       "           require.config({baseUrl: \"/\",\n",
       "                             paths: {imolecule: ['nbextensions/imolecule.min', 'https://rawgit.com/patrickfuller/imolecule/master/js/build/imolecule.min']}});\n",
       "           require(['imolecule'], function () {\n",
       "               var $d = $('#molecule_b81d3ec2-ec05-4974-bd65-a28d06042563');\n",
       "               $d.width(400); $d.height(300);\n",
       "               $d.imolecule = jQuery.extend({}, imolecule);\n",
       "               $d.imolecule.create($d, {drawingType: 'ball and stick',\n",
       "                                        cameraType: 'perspective',\n",
       "                                        shader: 'lambert'});\n",
       "               $d.imolecule.draw({\"atoms\":[{\"charge\":-0.318620,\"element\":\"N\",\"location\":[-1.041515,1.237746,0.436969]},{\"charge\":0.100400,\"element\":\"C\",\"location\":[-0.209315,0.027546,0.468969]},{\"charge\":0.057106,\"element\":\"H\",\"location\":[-0.219015,-0.393454,1.474269]},{\"charge\":-0.039491,\"element\":\"C\",\"location\":[-0.764815,-0.999654,-0.519531]},{\"charge\":0.321440,\"element\":\"C\",\"location\":[1.204785,0.380046,0.085569]},{\"charge\":-0.249265,\"element\":\"O\",\"location\":[1.429485,1.399346,-0.523131]},{\"charge\":-0.479541,\"element\":\"O\",\"location\":[2.214685,-0.438354,0.420169]},{\"charge\":0.118947,\"element\":\"H\",\"location\":[-1.048815,1.647246,-0.485231]},{\"charge\":0.118947,\"element\":\"H\",\"location\":[-1.979415,1.040146,0.752269]},{\"charge\":0.024991,\"element\":\"H\",\"location\":[-0.755215,-0.578554,-1.524831]},{\"charge\":0.024991,\"element\":\"H\",\"location\":[-0.147415,-1.897554,-0.495731]},{\"charge\":0.024991,\"element\":\"H\",\"location\":[-1.787715,-1.254554,-0.242231]},{\"charge\":0.295103,\"element\":\"H\",\"location\":[3.104285,-0.169954,0.152469]}],\"bonds\":[{\"atoms\":[9,3],\"order\":1},{\"atoms\":[5,4],\"order\":2},{\"atoms\":[3,10],\"order\":1},{\"atoms\":[3,11],\"order\":1},{\"atoms\":[3,1],\"order\":1},{\"atoms\":[7,0],\"order\":1},{\"atoms\":[4,6],\"order\":1},{\"atoms\":[4,1],\"order\":1},{\"atoms\":[12,6],\"order\":1},{\"atoms\":[0,1],\"order\":1},{\"atoms\":[0,8],\"order\":1},{\"atoms\":[1,2],\"order\":1}],\"formula\":\"C3H7NO2\",\"molecular_weight\":89.093180,\"units\":{\"molecular_weight\":\"g / mol\"}});\n",
       "\n",
       "               $d.resizable({\n",
       "                   aspectRatio: 400 / 300,\n",
       "                   resize: function (evt, ui) {\n",
       "                       $d.imolecule.renderer.setSize(ui.size.width,\n",
       "                                                     ui.size.height);\n",
       "                   }\n",
       "               });\n",
       "           });\n",
       "           </script>"
      ],
      "text/plain": [
       "<IPython.core.display.HTML object>"
      ]
     },
     "metadata": {},
     "output_type": "display_data"
    }
   ],
   "source": [
    "import imolecule\n",
    "imolecule.draw('files/alanine.xyz')"
   ]
  },
  {
   "cell_type": "markdown",
   "metadata": {},
   "source": [
    "Alanine does not exist in vacuum, it is normally in a biological enviroment surrounded by water, so we have to solvate it!"
   ]
  },
  {
   "cell_type": "code",
   "execution_count": 2,
   "metadata": {
    "collapsed": false
   },
   "outputs": [
    {
     "data": {
      "text/html": [
       "<div id=\"molecule_33fb6d2a-b647-423f-9d5d-cfb83c70db66\"></div>\n",
       "           <script type=\"text/javascript\">\n",
       "           require.config({baseUrl: \"/\",\n",
       "                             paths: {imolecule: ['nbextensions/imolecule.min', 'https://rawgit.com/patrickfuller/imolecule/master/js/build/imolecule.min']}});\n",
       "           require(['imolecule'], function () {\n",
       "               var $d = $('#molecule_33fb6d2a-b647-423f-9d5d-cfb83c70db66');\n",
       "               $d.width(400); $d.height(300);\n",
       "               $d.imolecule = jQuery.extend({}, imolecule);\n",
       "               $d.imolecule.create($d, {drawingType: 'ball and stick',\n",
       "                                        cameraType: 'perspective',\n",
       "                                        shader: 'lambert'});\n",
       "               $d.imolecule.draw({\"atoms\":[{\"charge\":-0.318620,\"element\":\"N\",\"location\":[-1.213449,0.385820,1.560751]},{\"charge\":0.100400,\"element\":\"C\",\"location\":[-0.340449,-0.806180,1.528751]},{\"charge\":0.057106,\"element\":\"H\",\"location\":[-0.297449,-1.214180,2.545751]},{\"charge\":-0.039491,\"element\":\"C\",\"location\":[-0.892449,-1.851180,0.568751]},{\"charge\":0.321440,\"element\":\"C\",\"location\":[1.080551,-0.431180,1.102751]},{\"charge\":-0.249265,\"element\":\"O\",\"location\":[1.450551,0.601820,0.533751]},{\"charge\":-0.479541,\"element\":\"O\",\"location\":[1.954551,-1.411180,1.385751]},{\"charge\":0.118947,\"element\":\"H\",\"location\":[-1.231449,0.794820,0.626751]},{\"charge\":0.118947,\"element\":\"H\",\"location\":[-2.183449,0.078820,1.710751]},{\"charge\":0.024991,\"element\":\"H\",\"location\":[-0.921449,-1.474180,-0.460249]},{\"charge\":0.024991,\"element\":\"H\",\"location\":[-0.274449,-2.755180,0.567751]},{\"charge\":0.024991,\"element\":\"H\",\"location\":[-1.901449,-2.148180,0.863751]},{\"charge\":0.295103,\"element\":\"H\",\"location\":[2.854551,-1.071180,1.219751]},{\"charge\":0.205233,\"element\":\"H\",\"location\":[4.815551,1.860820,-7.126249]},{\"charge\":-0.410466,\"element\":\"O\",\"location\":[5.396551,2.009820,-6.358249]},{\"charge\":0.205233,\"element\":\"H\",\"location\":[5.500551,1.085820,-6.061249]},{\"charge\":0.205233,\"element\":\"H\",\"location\":[-6.533449,-0.337180,-4.919249]},{\"charge\":-0.410466,\"element\":\"O\",\"location\":[-5.837449,-0.661180,-4.328249]},{\"charge\":0.205233,\"element\":\"H\",\"location\":[-5.156449,0.028820,-4.348249]},{\"charge\":0.205233,\"element\":\"H\",\"location\":[3.508551,2.900820,4.891751]},{\"charge\":-0.410466,\"element\":\"O\",\"location\":[3.301551,3.259820,5.779751]},{\"charge\":0.205233,\"element\":\"H\",\"location\":[2.660551,3.957820,5.553751]},{\"charge\":0.205233,\"element\":\"H\",\"location\":[0.575551,7.070820,-0.184249]},{\"charge\":-0.410466,\"element\":\"O\",\"location\":[0.425551,6.441820,0.538751]},{\"charge\":0.205233,\"element\":\"H\",\"location\":[0.708551,5.599820,0.144751]},{\"charge\":0.205233,\"element\":\"H\",\"location\":[3.316551,-0.889180,-7.241249]},{\"charge\":-0.410466,\"element\":\"O\",\"location\":[3.752551,-1.161180,-8.077249]},{\"charge\":0.205233,\"element\":\"H\",\"location\":[3.822551,-2.117180,-7.910249]},{\"charge\":0.205233,\"element\":\"H\",\"location\":[6.590551,-3.939180,4.637751]},{\"charge\":-0.410466,\"element\":\"O\",\"location\":[6.336551,-3.494180,3.812751]},{\"charge\":0.205233,\"element\":\"H\",\"location\":[7.150551,-2.989180,3.631751]},{\"charge\":0.205233,\"element\":\"H\",\"location\":[8.112551,-1.894180,6.565751]},{\"charge\":-0.410466,\"element\":\"O\",\"location\":[7.914551,-2.654180,5.980751]},{\"charge\":0.205233,\"element\":\"H\",\"location\":[7.869551,-3.399180,6.597751]},{\"charge\":0.205233,\"element\":\"H\",\"location\":[-4.864449,1.254820,-0.854249]},{\"charge\":-0.410466,\"element\":\"O\",\"location\":[-4.189449,1.889820,-1.129249]},{\"charge\":0.205233,\"element\":\"H\",\"location\":[-3.633449,1.406820,-1.760249]},{\"charge\":0.205233,\"element\":\"H\",\"location\":[0.851551,-1.319180,9.394751]},{\"charge\":-0.410466,\"element\":\"O\",\"location\":[0.035551,-0.903180,9.067751]},{\"charge\":0.205233,\"element\":\"H\",\"location\":[-0.651449,-1.291180,9.629751]},{\"charge\":0.205233,\"element\":\"H\",\"location\":[7.446551,-4.910180,1.395751]},{\"charge\":-0.410466,\"element\":\"O\",\"location\":[7.161551,-5.166180,0.499751]},{\"charge\":0.205233,\"element\":\"H\",\"location\":[6.555551,-5.904180,0.669751]},{\"charge\":0.205233,\"element\":\"H\",\"location\":[-4.323449,-1.335180,-6.930249]},{\"charge\":-0.410466,\"element\":\"O\",\"location\":[-4.678449,-1.760180,-7.726249]},{\"charge\":0.205233,\"element\":\"H\",\"location\":[-5.215449,-2.498180,-7.401249]},{\"charge\":0.205233,\"element\":\"H\",\"location\":[-6.792449,0.829820,8.112751]},{\"charge\":-0.410466,\"element\":\"O\",\"location\":[-6.187449,1.393820,7.608751]},{\"charge\":0.205233,\"element\":\"H\",\"location\":[-5.361449,1.305820,8.123751]},{\"charge\":0.205233,\"element\":\"H\",\"location\":[-3.991449,7.767820,4.182751]},{\"charge\":-0.410466,\"element\":\"O\",\"location\":[-3.977449,7.007820,4.783751]},{\"charge\":0.205233,\"element\":\"H\",\"location\":[-3.792449,6.245820,4.216751]},{\"charge\":0.205233,\"element\":\"H\",\"location\":[4.120551,0.856820,2.593751]},{\"charge\":-0.410466,\"element\":\"O\",\"location\":[4.387551,1.686820,3.023751]},{\"charge\":0.205233,\"element\":\"H\",\"location\":[5.276551,1.456820,3.357751]},{\"charge\":0.205233,\"element\":\"H\",\"location\":[6.462551,0.853820,-0.852249]},{\"charge\":-0.410466,\"element\":\"O\",\"location\":[6.754551,0.458820,-0.007249]},{\"charge\":0.205233,\"element\":\"H\",\"location\":[7.657551,0.810820,0.077751]},{\"charge\":0.205233,\"element\":\"H\",\"location\":[2.967551,4.998820,-5.767249]},{\"charge\":-0.410466,\"element\":\"O\",\"location\":[2.633551,5.840820,-5.404249]},{\"charge\":0.205233,\"element\":\"H\",\"location\":[3.435551,6.265820,-5.069249]},{\"charge\":0.205233,\"element\":\"H\",\"location\":[-9.984449,-1.688180,0.588751]},{\"charge\":-0.410466,\"element\":\"O\",\"location\":[-10.087449,-2.594180,0.919751]},{\"charge\":0.205233,\"element\":\"H\",\"location\":[-9.924449,-2.483180,1.869751]},{\"charge\":0.205233,\"element\":\"H\",\"location\":[3.664551,5.742820,0.511751]},{\"charge\":-0.410466,\"element\":\"O\",\"location\":[4.509551,6.172820,0.740751]},{\"charge\":0.205233,\"element\":\"H\",\"location\":[5.048551,5.896820,-0.021249]},{\"charge\":0.205233,\"element\":\"H\",\"location\":[-3.643449,1.571820,-7.772249]},{\"charge\":-0.410466,\"element\":\"O\",\"location\":[-3.604449,1.772820,-6.819249]},{\"charge\":0.205233,\"element\":\"H\",\"location\":[-4.059449,2.631820,-6.776249]},{\"charge\":0.205233,\"element\":\"H\",\"location\":[8.632551,3.907820,1.878751]},{\"charge\":-0.410466,\"element\":\"O\",\"location\":[8.364551,3.989820,0.946751]},{\"charge\":0.205233,\"element\":\"H\",\"location\":[7.533551,4.488820,1.034751]},{\"charge\":0.205233,\"element\":\"H\",\"location\":[6.716551,-1.564180,-0.132249]},{\"charge\":-0.410466,\"element\":\"O\",\"location\":[7.241551,-2.260180,0.310751]},{\"charge\":0.205233,\"element\":\"H\",\"location\":[7.078551,-3.072180,-0.208249]},{\"charge\":0.205233,\"element\":\"H\",\"location\":[-5.921449,5.355820,-4.433249]},{\"charge\":-0.410466,\"element\":\"O\",\"location\":[-4.957449,5.302820,-4.533249]},{\"charge\":0.205233,\"element\":\"H\",\"location\":[-4.644449,5.948820,-3.874249]},{\"charge\":0.205233,\"element\":\"H\",\"location\":[-3.936449,-6.975180,-5.580249]},{\"charge\":-0.410466,\"element\":\"O\",\"location\":[-3.694449,-6.893180,-4.638249]},{\"charge\":0.205233,\"element\":\"H\",\"location\":[-2.999449,-7.566180,-4.545249]},{\"charge\":0.205233,\"element\":\"H\",\"location\":[3.202551,-0.762180,8.221751]},{\"charge\":-0.410466,\"element\":\"O\",\"location\":[3.196551,-0.416180,7.308751]},{\"charge\":0.205233,\"element\":\"H\",\"location\":[2.562551,0.317820,7.438751]},{\"charge\":0.205233,\"element\":\"H\",\"location\":[8.490551,-0.466180,4.834751]},{\"charge\":-0.410466,\"element\":\"O\",\"location\":[8.698551,0.123820,5.581751]},{\"charge\":0.205233,\"element\":\"H\",\"location\":[7.929551,0.727820,5.545751]},{\"charge\":0.205233,\"element\":\"H\",\"location\":[-5.345449,-3.331180,2.732751]},{\"charge\":-0.410466,\"element\":\"O\",\"location\":[-5.696449,-3.964180,2.090751]},{\"charge\":0.205233,\"element\":\"H\",\"location\":[-4.915449,-4.492180,1.859751]},{\"charge\":0.205233,\"element\":\"H\",\"location\":[-7.166449,-4.944180,-3.790249]},{\"charge\":-0.410466,\"element\":\"O\",\"location\":[-6.744449,-5.814180,-3.848249]},{\"charge\":0.205233,\"element\":\"H\",\"location\":[-7.092449,-6.283180,-3.073249]},{\"charge\":0.205233,\"element\":\"H\",\"location\":[1.100551,-0.801180,-7.015249]},{\"charge\":-0.410466,\"element\":\"O\",\"location\":[1.393551,-1.490180,-6.394249]},{\"charge\":0.205233,\"element\":\"H\",\"location\":[0.724551,-1.474180,-5.695249]},{\"charge\":0.205233,\"element\":\"H\",\"location\":[-6.518449,4.952820,-0.231249]},{\"charge\":-0.410466,\"element\":\"O\",\"location\":[-6.781449,5.504820,-0.998249]},{\"charge\":0.205233,\"element\":\"H\",\"location\":[-6.500449,4.962820,-1.746249]},{\"charge\":0.205233,\"element\":\"H\",\"location\":[2.854551,-2.269180,4.911751]},{\"charge\":-0.410466,\"element\":\"O\",\"location\":[3.144551,-1.985180,4.029751]},{\"charge\":0.205233,\"element\":\"H\",\"location\":[4.082551,-1.779180,4.167751]},{\"charge\":0.205233,\"element\":\"H\",\"location\":[5.568551,1.407820,6.054751]},{\"charge\":-0.410466,\"element\":\"O\",\"location\":[5.913551,0.748820,5.421751]},{\"charge\":0.205233,\"element\":\"H\",\"location\":[5.304551,0.006820,5.608751]},{\"charge\":0.205233,\"element\":\"H\",\"location\":[9.088551,1.563820,-2.573249]},{\"charge\":-0.410466,\"element\":\"O\",\"location\":[8.517551,2.134820,-2.034249]},{\"charge\":0.205233,\"element\":\"H\",\"location\":[9.068551,2.327820,-1.252249]},{\"charge\":0.205233,\"element\":\"H\",\"location\":[3.101551,1.723820,10.076751]},{\"charge\":-0.410466,\"element\":\"O\",\"location\":[3.163551,0.782820,9.839751]},{\"charge\":0.205233,\"element\":\"H\",\"location\":[4.077551,0.565820,10.086751]},{\"charge\":0.205233,\"element\":\"H\",\"location\":[-5.362449,5.145820,2.433751]},{\"charge\":-0.410466,\"element\":\"O\",\"location\":[-5.168449,5.132820,1.482751]},{\"charge\":0.205233,\"element\":\"H\",\"location\":[-4.362449,5.666820,1.392751]},{\"charge\":0.205233,\"element\":\"H\",\"location\":[3.571551,6.492820,-2.628249]},{\"charge\":-0.410466,\"element\":\"O\",\"location\":[2.967551,6.629820,-1.880249]},{\"charge\":0.205233,\"element\":\"H\",\"location\":[2.580551,7.497820,-2.075249]},{\"charge\":0.205233,\"element\":\"H\",\"location\":[2.481551,2.218820,-0.517249]},{\"charge\":-0.410466,\"element\":\"O\",\"location\":[2.144551,2.984820,-1.027249]},{\"charge\":0.205233,\"element\":\"H\",\"location\":[1.250551,3.034820,-0.648249]},{\"charge\":0.205233,\"element\":\"H\",\"location\":[1.112551,1.683820,-8.221249]},{\"charge\":-0.410466,\"element\":\"O\",\"location\":[0.249551,1.333820,-8.497249]},{\"charge\":0.205233,\"element\":\"H\",\"location\":[-0.379449,1.992820,-8.163249]},{\"charge\":0.205233,\"element\":\"H\",\"location\":[6.041551,6.466820,3.794751]},{\"charge\":-0.410466,\"element\":\"O\",\"location\":[6.580551,5.693820,4.036751]},{\"charge\":0.205233,\"element\":\"H\",\"location\":[5.938551,5.159820,4.535751]},{\"charge\":0.205233,\"element\":\"H\",\"location\":[3.205551,-4.624180,9.364751]},{\"charge\":-0.410466,\"element\":\"O\",\"location\":[2.575551,-4.135180,8.813751]},{\"charge\":0.205233,\"element\":\"H\",\"location\":[1.906551,-4.802180,8.588751]},{\"charge\":0.205233,\"element\":\"H\",\"location\":[-0.540449,-8.944180,2.818751]},{\"charge\":-0.410466,\"element\":\"O\",\"location\":[-0.236449,-9.016180,1.897751]},{\"charge\":0.205233,\"element\":\"H\",\"location\":[0.698551,-8.759180,1.952751]},{\"charge\":0.205233,\"element\":\"H\",\"location\":[6.419551,1.337820,-3.639249]},{\"charge\":-0.410466,\"element\":\"O\",\"location\":[5.584551,1.129820,-3.185249]},{\"charge\":0.205233,\"element\":\"H\",\"location\":[5.053551,1.913820,-3.413249]},{\"charge\":0.205233,\"element\":\"H\",\"location\":[-4.304449,-3.287180,-0.833249]},{\"charge\":-0.410466,\"element\":\"O\",\"location\":[-4.006449,-2.413180,-0.545249]},{\"charge\":0.205233,\"element\":\"H\",\"location\":[-4.735449,-1.820180,-0.784249]},{\"charge\":0.205233,\"element\":\"H\",\"location\":[-4.468449,-8.068180,1.342751]},{\"charge\":-0.410466,\"element\":\"O\",\"location\":[-3.709449,-8.581180,1.660751]},{\"charge\":0.205233,\"element\":\"H\",\"location\":[-2.953449,-8.158180,1.220751]},{\"charge\":0.205233,\"element\":\"H\",\"location\":[9.210551,-1.378180,-0.246249]},{\"charge\":-0.410466,\"element\":\"O\",\"location\":[9.524551,-1.304180,-1.170249]},{\"charge\":0.205233,\"element\":\"H\",\"location\":[8.721551,-1.011180,-1.626249]},{\"charge\":0.205233,\"element\":\"H\",\"location\":[2.238551,6.560820,3.171751]},{\"charge\":-0.410466,\"element\":\"O\",\"location\":[3.130551,6.386820,3.522751]},{\"charge\":0.205233,\"element\":\"H\",\"location\":[3.690551,6.583820,2.746751]},{\"charge\":0.205233,\"element\":\"H\",\"location\":[-2.136449,4.129820,-3.638249]},{\"charge\":-0.410466,\"element\":\"O\",\"location\":[-2.728449,3.469820,-3.243249]},{\"charge\":0.205233,\"element\":\"H\",\"location\":[-2.800449,2.811820,-3.949249]},{\"charge\":0.205233,\"element\":\"H\",\"location\":[-9.428449,0.122820,4.412751]},{\"charge\":-0.410466,\"element\":\"O\",\"location\":[-9.589449,-0.455180,3.643751]},{\"charge\":0.205233,\"element\":\"H\",\"location\":[-9.710449,-1.323180,4.056751]},{\"charge\":0.205233,\"element\":\"H\",\"location\":[0.676551,-4.392180,-8.170249]},{\"charge\":-0.410466,\"element\":\"O\",\"location\":[0.357551,-4.798180,-7.349249]},{\"charge\":0.205233,\"element\":\"H\",\"location\":[-0.603449,-4.872180,-7.485249]},{\"charge\":0.205233,\"element\":\"H\",\"location\":[-7.886449,3.195820,-3.926249]},{\"charge\":-0.410466,\"element\":\"O\",\"location\":[-7.677449,3.166820,-2.978249]},{\"charge\":0.205233,\"element\":\"H\",\"location\":[-6.706449,3.153820,-2.935249]},{\"charge\":0.205233,\"element\":\"H\",\"location\":[-4.810449,0.427820,1.677751]},{\"charge\":-0.410466,\"element\":\"O\",\"location\":[-4.258449,-0.358180,1.546751]},{\"charge\":0.205233,\"element\":\"H\",\"location\":[-4.632449,-1.014180,2.154751]},{\"charge\":0.205233,\"element\":\"H\",\"location\":[-8.608449,1.735820,1.781751]},{\"charge\":-0.410466,\"element\":\"O\",\"location\":[-8.426449,2.687820,1.844751]},{\"charge\":0.205233,\"element\":\"H\",\"location\":[-8.248449,2.906820,0.911751]},{\"charge\":0.205233,\"element\":\"H\",\"location\":[-2.810449,4.820820,-6.670249]},{\"charge\":-0.410466,\"element\":\"O\",\"location\":[-1.894449,4.740820,-6.356249]},{\"charge\":0.205233,\"element\":\"H\",\"location\":[-1.620449,5.669820,-6.282249]},{\"charge\":0.205233,\"element\":\"H\",\"location\":[-6.673449,-6.653180,5.651751]},{\"charge\":-0.410466,\"element\":\"O\",\"location\":[-5.787449,-7.013180,5.497751]},{\"charge\":0.205233,\"element\":\"H\",\"location\":[-5.946449,-7.771180,4.913751]},{\"charge\":0.205233,\"element\":\"H\",\"location\":[-4.661449,-6.434180,-2.579249]},{\"charge\":-0.410466,\"element\":\"O\",\"location\":[-4.367449,-6.147180,-1.687249]},{\"charge\":0.205233,\"element\":\"H\",\"location\":[-3.537449,-5.699180,-1.920249]},{\"charge\":0.205233,\"element\":\"H\",\"location\":[4.187551,-6.933180,-5.428249]},{\"charge\":-0.410466,\"element\":\"O\",\"location\":[3.375551,-6.687180,-4.962249]},{\"charge\":0.205233,\"element\":\"H\",\"location\":[2.881551,-6.170180,-5.622249]},{\"charge\":0.205233,\"element\":\"H\",\"location\":[1.063551,3.549820,-4.665249]},{\"charge\":-0.410466,\"element\":\"O\",\"location\":[1.862551,3.005820,-4.803249]},{\"charge\":0.205233,\"element\":\"H\",\"location\":[2.379551,3.241820,-4.009249]},{\"charge\":0.205233,\"element\":\"H\",\"location\":[-9.793449,1.526820,-0.477249]},{\"charge\":-0.410466,\"element\":\"O\",\"location\":[-8.878449,1.628820,-0.782249]},{\"charge\":0.205233,\"element\":\"H\",\"location\":[-8.973449,2.130820,-1.619249]},{\"charge\":0.205233,\"element\":\"H\",\"location\":[-1.000449,-9.120180,-0.679249]},{\"charge\":-0.410466,\"element\":\"O\",\"location\":[-1.287449,-8.808180,-1.557249]},{\"charge\":0.205233,\"element\":\"H\",\"location\":[-2.239449,-8.986180,-1.558249]},{\"charge\":0.205233,\"element\":\"H\",\"location\":[2.677551,1.301820,-5.445249]},{\"charge\":-0.410466,\"element\":\"O\",\"location\":[3.143551,0.449820,-5.333249]},{\"charge\":0.205233,\"element\":\"H\",\"location\":[2.710551,0.093820,-4.537249]},{\"charge\":0.205233,\"element\":\"H\",\"location\":[5.099551,-2.195180,-4.372249]},{\"charge\":-0.410466,\"element\":\"O\",\"location\":[4.980551,-3.081180,-4.749249]},{\"charge\":0.205233,\"element\":\"H\",\"location\":[5.316551,-3.678180,-4.064249]},{\"charge\":0.205233,\"element\":\"H\",\"location\":[-5.827449,2.844820,-5.065249]},{\"charge\":-0.410466,\"element\":\"O\",\"location\":[-6.486449,2.716820,-5.767249]},{\"charge\":0.205233,\"element\":\"H\",\"location\":[-6.978449,1.916820,-5.535249]},{\"charge\":0.205233,\"element\":\"H\",\"location\":[-3.558449,-3.765180,-6.451249]},{\"charge\":-0.410466,\"element\":\"O\",\"location\":[-2.843449,-4.406180,-6.329249]},{\"charge\":0.205233,\"element\":\"H\",\"location\":[-2.774449,-4.481180,-5.360249]},{\"charge\":0.205233,\"element\":\"H\",\"location\":[-3.638449,0.543820,7.125751]},{\"charge\":-0.410466,\"element\":\"O\",\"location\":[-3.678449,0.036820,7.955751]},{\"charge\":0.205233,\"element\":\"H\",\"location\":[-2.862449,-0.490180,7.907751]},{\"charge\":0.205233,\"element\":\"H\",\"location\":[1.445551,4.236820,8.311751]},{\"charge\":-0.410466,\"element\":\"O\",\"location\":[0.589551,3.854820,8.560751]},{\"charge\":0.205233,\"element\":\"H\",\"location\":[0.812551,2.978820,8.910751]}],\"bonds\":[{\"atoms\":[122,121],\"order\":1},{\"atoms\":[122,123],\"order\":1},{\"atoms\":[154,155],\"order\":1},{\"atoms\":[26,27],\"order\":1},{\"atoms\":[26,25],\"order\":1},{\"atoms\":[67,68],\"order\":1},{\"atoms\":[44,45],\"order\":1},{\"atoms\":[44,43],\"order\":1},{\"atoms\":[156,155],\"order\":1},{\"atoms\":[13,14],\"order\":1},{\"atoms\":[94,95],\"order\":1},{\"atoms\":[68,69],\"order\":1},{\"atoms\":[166,167],\"order\":1},{\"atoms\":[196,197],\"order\":1},{\"atoms\":[95,96],\"order\":1},{\"atoms\":[14,15],\"order\":1},{\"atoms\":[167,168],\"order\":1},{\"atoms\":[197,198],\"order\":1},{\"atoms\":[194,195],\"order\":1},{\"atoms\":[194,193],\"order\":1},{\"atoms\":[58,59],\"order\":1},{\"atoms\":[177,176],\"order\":1},{\"atoms\":[79,80],\"order\":1},{\"atoms\":[187,188],\"order\":1},{\"atoms\":[175,176],\"order\":1},{\"atoms\":[59,60],\"order\":1},{\"atoms\":[188,189],\"order\":1},{\"atoms\":[16,17],\"order\":1},{\"atoms\":[179,178],\"order\":1},{\"atoms\":[179,180],\"order\":1},{\"atoms\":[191,190],\"order\":1},{\"atoms\":[191,192],\"order\":1},{\"atoms\":[80,81],\"order\":1},{\"atoms\":[77,76],\"order\":1},{\"atoms\":[77,78],\"order\":1},{\"atoms\":[18,17],\"order\":1},{\"atoms\":[150,149],\"order\":1},{\"atoms\":[157,158],\"order\":1},{\"atoms\":[92,91],\"order\":1},{\"atoms\":[92,93],\"order\":1},{\"atoms\":[133,134],\"order\":1},{\"atoms\":[148,149],\"order\":1},{\"atoms\":[135,134],\"order\":1},{\"atoms\":[158,159],\"order\":1},{\"atoms\":[115,116],\"order\":1},{\"atoms\":[172,173],\"order\":1},{\"atoms\":[106,107],\"order\":1},{\"atoms\":[117,116],\"order\":1},{\"atoms\":[107,108],\"order\":1},{\"atoms\":[174,173],\"order\":1},{\"atoms\":[36,35],\"order\":1},{\"atoms\":[99,98],\"order\":1},{\"atoms\":[144,143],\"order\":1},{\"atoms\":[183,182],\"order\":1},{\"atoms\":[186,185],\"order\":1},{\"atoms\":[185,184],\"order\":1},{\"atoms\":[143,142],\"order\":1},{\"atoms\":[35,34],\"order\":1},{\"atoms\":[119,120],\"order\":1},{\"atoms\":[119,118],\"order\":1},{\"atoms\":[98,97],\"order\":1},{\"atoms\":[55,56],\"order\":1},{\"atoms\":[136,137],\"order\":1},{\"atoms\":[138,137],\"order\":1},{\"atoms\":[182,181],\"order\":1},{\"atoms\":[9,3],\"order\":1},{\"atoms\":[75,74],\"order\":1},{\"atoms\":[22,23],\"order\":1},{\"atoms\":[73,74],\"order\":1},{\"atoms\":[66,65],\"order\":1},{\"atoms\":[56,57],\"order\":1},{\"atoms\":[24,23],\"order\":1},{\"atoms\":[41,42],\"order\":1},{\"atoms\":[41,40],\"order\":1},{\"atoms\":[64,65],\"order\":1},{\"atoms\":[5,4],\"order\":2},{\"atoms\":[10,3],\"order\":1},{\"atoms\":[3,11],\"order\":1},{\"atoms\":[3,1],\"order\":1},{\"atoms\":[61,62],\"order\":1},{\"atoms\":[7,0],\"order\":1},{\"atoms\":[165,164],\"order\":1},{\"atoms\":[62,63],\"order\":1},{\"atoms\":[71,72],\"order\":1},{\"atoms\":[71,70],\"order\":1},{\"atoms\":[4,6],\"order\":1},{\"atoms\":[4,1],\"order\":1},{\"atoms\":[12,6],\"order\":1},{\"atoms\":[141,140],\"order\":1},{\"atoms\":[139,140],\"order\":1},{\"atoms\":[114,113],\"order\":1},{\"atoms\":[113,112],\"order\":1},{\"atoms\":[1,0],\"order\":1},{\"atoms\":[1,2],\"order\":1},{\"atoms\":[161,160],\"order\":1},{\"atoms\":[161,162],\"order\":1},{\"atoms\":[0,8],\"order\":1},{\"atoms\":[163,164],\"order\":1},{\"atoms\":[90,89],\"order\":1},{\"atoms\":[131,132],\"order\":1},{\"atoms\":[131,130],\"order\":1},{\"atoms\":[89,88],\"order\":1},{\"atoms\":[52,53],\"order\":1},{\"atoms\":[147,146],\"order\":1},{\"atoms\":[53,54],\"order\":1},{\"atoms\":[145,146],\"order\":1},{\"atoms\":[30,29],\"order\":1},{\"atoms\":[152,153],\"order\":1},{\"atoms\":[152,151],\"order\":1},{\"atoms\":[124,125],\"order\":1},{\"atoms\":[29,28],\"order\":1},{\"atoms\":[101,102],\"order\":1},{\"atoms\":[101,100],\"order\":1},{\"atoms\":[125,126],\"order\":1},{\"atoms\":[49,50],\"order\":1},{\"atoms\":[51,50],\"order\":1},{\"atoms\":[85,86],\"order\":1},{\"atoms\":[19,20],\"order\":1},{\"atoms\":[171,170],\"order\":1},{\"atoms\":[104,105],\"order\":1},{\"atoms\":[104,103],\"order\":1},{\"atoms\":[170,169],\"order\":1},{\"atoms\":[87,86],\"order\":1},{\"atoms\":[21,20],\"order\":1},{\"atoms\":[32,31],\"order\":1},{\"atoms\":[32,33],\"order\":1},{\"atoms\":[199,200],\"order\":1},{\"atoms\":[83,84],\"order\":1},{\"atoms\":[83,82],\"order\":1},{\"atoms\":[47,46],\"order\":1},{\"atoms\":[47,48],\"order\":1},{\"atoms\":[201,200],\"order\":1},{\"atoms\":[202,203],\"order\":1},{\"atoms\":[203,204],\"order\":1},{\"atoms\":[129,128],\"order\":1},{\"atoms\":[128,127],\"order\":1},{\"atoms\":[38,37],\"order\":1},{\"atoms\":[38,39],\"order\":1},{\"atoms\":[110,109],\"order\":1},{\"atoms\":[110,111],\"order\":1}],\"formula\":\"C3H135NO66\",\"molecular_weight\":1242.071100,\"units\":{\"molecular_weight\":\"g / mol\"}});\n",
       "\n",
       "               $d.resizable({\n",
       "                   aspectRatio: 400 / 300,\n",
       "                   resize: function (evt, ui) {\n",
       "                       $d.imolecule.renderer.setSize(ui.size.width,\n",
       "                                                     ui.size.height);\n",
       "                   }\n",
       "               });\n",
       "           });\n",
       "           </script>"
      ],
      "text/plain": [
       "<IPython.core.display.HTML object>"
      ]
     },
     "metadata": {},
     "output_type": "display_data"
    }
   ],
   "source": [
    "imolecule.draw('files/alanine_solvated.xyz')"
   ]
  },
  {
   "cell_type": "markdown",
   "metadata": {},
   "source": [
    "## Molecular Dynamics of Alanine and 633 waters"
   ]
  },
  {
   "cell_type": "code",
   "execution_count": null,
   "metadata": {
    "collapsed": false
   },
   "outputs": [],
   "source": [
    "from simtk.openmm.app import *\n",
    "from simtk.openmm import *\n",
    "from simtk.unit import *\n",
    "from sys import stdout\n",
    "\n",
    "# Reads in the input files\n",
    "prmtop = AmberPrmtopFile('files/alanine_topo.txt')\n",
    "inpcrd = AmberInpcrdFile('files/alanine_coords.txt')\n",
    "system = prmtop.createSystem(nonbondedMethod=PME, nonbondedCutoff=1*nanometer, constraints=HBonds)\n",
    "# Defines the integrator. In this case, it's a verlet integrator with a step size of 0.002 picoseconds\n",
    "integrator = VerletIntegrator(0.002*picoseconds)\n",
    "\n",
    "# Creates a simulation object, sets positions, etc\n",
    "simulation = Simulation(prmtop.topology, system, integrator)\n",
    "simulation.context.setPositions(inpcrd.positions)\n",
    "\n",
    "# Minimizes the energy of the structure\n",
    "simulation.minimizeEnergy()\n",
    "\n",
    "# Runs the simulation and appends every 10th step to structure to the pdb.\n",
    "simulation.reporters.append(PDBReporter('files/alanine_simulation.pdb', 10))\n",
    "simulation.reporters.append(StateDataReporter(stdout, 10, step=True, potentialEnergy=True, temperature=True))\n",
    "# And, for now, let's run 100 time steps only: \n",
    "simulation.step(1000)"
   ]
  },
  {
   "cell_type": "markdown",
   "metadata": {},
   "source": [
    "# To visualize the trajectories!\n",
    "* Install VMD for your computer\n",
    "* Copy the alanine_simulation.pdb file\n",
    "* Open VMD with said file"
   ]
  }
 ],
 "metadata": {
  "kernelspec": {
   "display_name": "Python 2",
   "language": "python",
   "name": "python2"
  },
  "language_info": {
   "codemirror_mode": {
    "name": "ipython",
    "version": 2
   },
   "file_extension": ".py",
   "mimetype": "text/x-python",
   "name": "python",
   "nbconvert_exporter": "python",
   "pygments_lexer": "ipython2",
   "version": "2.7.9"
  }
 },
 "nbformat": 4,
 "nbformat_minor": 0
}
