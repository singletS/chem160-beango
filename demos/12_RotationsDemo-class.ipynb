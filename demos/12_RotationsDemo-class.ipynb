{
 "cells": [
  {
   "cell_type": "markdown",
   "metadata": {},
   "source": [
    "\n",
    "# Visualizing the spherical harmonics. <br>\n",
    "\n",
    "## Introduction"
   ]
  },
  {
   "cell_type": "markdown",
   "metadata": {},
   "source": [
    "In this iPython demo, we will explore a different way of visualizing the spherical harmonics, which you saw in class in the context of molecular rotations.  We will plot the spherical harmonics as a colormap on the surface of a 3D sphere, where the colors represent the value of the spherical harmonic. This should give you an intuition of what the spherical harmonics \"look\" like (and why they're called like that). <br><br>\n",
    "\n",
    "The spherical harmonics are defined as the angular portion of the solution of Laplace equation in 3 dimensions:\n",
    "\n",
    "$$\\vec \\nabla^2 \\psi=0 \\quad \\text{(Laplace Equation)}$$\n",
    "\n",
    "They appear everywhere in physics because they are eigenfunctions of the square of the orbital angular momentum operator, $\\hat{L}=-i\\hbar \\vec{r} \\nabla$. We will see the spherical harmonics again when looking at the solutions of the hydrogen atom and in the computation of atomic orbital electron configurations later in the course. The functional form of the spherical harmonics is:\n",
    "\n",
    "$$Y^{m}_{l}(\\theta,\\phi)=N e^{im\\phi}P^{m}_{l}(\\cos(\\theta))$$\n",
    "\n",
    "where $N$ is a normalization constant and $P^{m}_{l}(\\cos(\\theta))$ is the associated Legendre polynomial. These functions fullfill:\n",
    "\n",
    "$$\\hat{L}^2 Y^{m}_{l}(\\theta,\\phi) = \\hbar^2 l(l+1) Y^{m}_{l}(\\theta,\\phi)$$\n",
    "\n",
    "Notice that the spherical harmonics are defined in spherical coordinates and depend only on $\\theta$ and $\\phi$, meaning they are independent of $r$. That's why we can visualize them on the surface of a sphere.<br><br>\n",
    "\n",
    "<img src=\"files/3D_Spherical.svg\" alt=\"Drawing\" style=\"width: 400px;\"/>\n",
    "\n",
    "As you noticed, the spherical harmonics are complex functions. However we can build a real basis of spherical harmonics as follows:\n",
    "\n",
    "$$ \\begin{align}\n",
    "Y_{\\ell m} &=\n",
    "\\begin{cases}\n",
    "\\displaystyle \\sqrt{2} \\, (-1)^m \\, \\operatorname{Im}[{Y_\\ell^{m}}] & \\text{if}\\ m<0\\\\\n",
    "\\displaystyle  Y_\\ell^m & \\text{if}\\ m=0\\\\\n",
    "\\displaystyle \\sqrt{2} \\, (-1)^m \\, \\operatorname{Re}[{Y_\\ell^m}] & \\text{if}\\ m>0.\n",
    "\\end{cases}\n",
    "\\end{align}$$\n",
    "\n",
    "Notice the change in the notation for the real harmonics (both m and l appear as subscripts). These are the functions we will be plotting today.<br><br>\n",
    "\n",
    "### First, lets import the modules we'll be needing. "
   ]
  },
  {
   "cell_type": "code",
   "execution_count": null,
   "metadata": {
    "collapsed": false
   },
   "outputs": [],
   "source": [
    "%matplotlib inline\n",
    "import numpy as np\n",
    "from scipy.special import sph_harm\n",
    "import matplotlib.pyplot as plt\n",
    "from mpl_toolkits.mplot3d import axes3d\n",
    "import matplotlib\n",
    "from matplotlib import cm\n",
    "import imp\n",
    "import os\n",
    "qworld = imp.load_source('qworld', '../library/quantumWorld.py')"
   ]
  },
  {
   "cell_type": "markdown",
   "metadata": {},
   "source": [
    "##### **Caution!**<br>Some of the cells below might take too long to run depending on your system specs.  If you find that a particular cell is running too slowly, modify the parameter values to increase the speed (e.g. decrease number of time steps, or the number of values on your grids.)"
   ]
  },
  {
   "cell_type": "markdown",
   "metadata": {},
   "source": [
    "## <i class=\"fa fa-wrench\"></i> Step 1: Plotting the spherical Harmonics"
   ]
  },
  {
   "cell_type": "markdown",
   "metadata": {},
   "source": [
    "In the following cell, we have written for you a bunch of functions we will need in order to plot the spherical harmonics on the surface of a 3D sphere. You only need to add three lines of code to the first function, where you transform spherical to cartesian coordinates. Remember how to do that? <br><br>  $$x = r\\sin(\\theta)\\cos(\\phi)$$ $$y = r\\sin(\\theta)\\sin(\\phi)$$ $$z = r\\cos(\\theta)$$\n",
    "\n",
    "And another 3 lines to the second function, where we define the real spherical harmonics:\n",
    "\n",
    "$$ \\begin{align}\n",
    "Y_{\\ell m} &=\n",
    "\\begin{cases}\n",
    "\\displaystyle \\sqrt{2} \\, (-1)^m \\, \\operatorname{Im}[{Y_\\ell^{m}}] & \\text{if}\\ m<0\\\\\n",
    "\\displaystyle  Y_\\ell^0 & \\text{if}\\ m=0\\\\\n",
    "\\displaystyle \\sqrt{2} \\, (-1)^m \\, \\operatorname{Re}[{Y_\\ell^m}] & \\text{if}\\ m>0.\n",
    "\\end{cases}\n",
    "\\end{align}$$"
   ]
  },
  {
   "cell_type": "code",
   "execution_count": null,
   "metadata": {
    "collapsed": false
   },
   "outputs": [],
   "source": [
    "def spherical_to_cartesian(theta, phi, r=1):\n",
    "    '''This function converts spherical coordinates to cartesian coordinates. \n",
    "    '''\n",
    "    #################\n",
    "    #WRITE THREE LINES OF CODE THAT TRANSFORM SPHERICAL TO CARTESIAN COORDINATES\n",
    "    #the output should be x,y,z\n",
    "    x = \n",
    "    y = \n",
    "    z = \n",
    "    #################\n",
    "    \n",
    "    return x,y,z\n",
    "\n",
    "def get_real_sh(Y_lm,m):\n",
    "    #################\n",
    "    #COMPLETE THE MISSING THREE LINES OF CODE TO CALCULATE THE REAL \n",
    "    # SPHERICAL HARMONICS\n",
    "    if m<0:\n",
    "        Y_lm_real =\n",
    "    elif m>0:\n",
    "        Y_lm_real =\n",
    "    else:\n",
    "        Y_lm_real =\n",
    "    #################\n",
    "    return Y_lm_real\n",
    "    \n",
    "def plot_spherical_harmonics(l, m, theta, phi, ax):\n",
    "    '''this function does some matplotlib trickery to plot the \n",
    "    real Y_lm spherical harmonics\n",
    "    on the surface of a 3D sphere as a colormap. \n",
    "    '''\n",
    "    theta_mg, phi_mg = np.meshgrid(theta, phi)\n",
    "    # computing the spherical harmonics\n",
    "    Y_lm = sph_harm(m, l, phi_mg, theta_mg) \n",
    "    Y_lm_real = get_real_sh(Y_lm,m)\n",
    "\n",
    "    color_map = matplotlib.cm.get_cmap(name='seismic', lut=None)\n",
    "    cm = matplotlib.cm.ScalarMappable(norm=None, cmap=color_map)\n",
    "    mapped_Y_lm = cm.to_rgba(Y_lm_real)\n",
    "    \n",
    "    x,y,z = spherical_to_cartesian(theta_mg, phi_mg, r=1)\n",
    "    #x,y,z = spherical_to_cartesian(theta_mg, phi_mg - np.pi/2.0, r=1)\n",
    "    \n",
    "    dt = np.dtype(object) \n",
    "    colors = np.zeros(Y_lm_real.shape, dtype = dt)\n",
    "\n",
    "    for ph in range(len(phi)):\n",
    "        for th in range(len(theta)):\n",
    "            colors[ph,th] = mapped_Y_lm[ph,th]\n",
    "    \n",
    "    surf = ax.plot_surface(x,y,z, facecolors = colors)\n",
    "    ax.view_init(20, 45)\n",
    "    ax.set_title('l='+str(l)+' m='+str(m))\n",
    "    ax.set_xlabel('x',fontsize=16)\n",
    "    ax.set_ylabel('y',fontsize=16)\n",
    "    ax.set_zlabel('z',fontsize=16)\n",
    "    \n",
    "def plot_spherical_harmonics_many_m(l, fig, theta, phi):\n",
    "    '''\n",
    "    This function plots on several subplots inside a singel figure the spherical harmonics\n",
    "    Y_l,0 Y_l,1, Y_l,2.. Y_l,l. (that is, many m for a single value of l)\n",
    "    '''\n",
    "    num_rows = 1\n",
    "    num_cols = 2*l+1\n",
    "    for m in range(-l,l+1,1):\n",
    "        ax = fig.add_subplot(num_rows,num_cols,m+l+1,projection='3d')\n",
    "        plot_spherical_harmonics(l, m, theta, phi, ax)\n",
    "        \n",
    "def plot_on_sphere(f_xyz, theta_mg, phi_mg, ax):\n",
    "    '''This python function plots any f_xyz function as a colormap on the surface of a sphere. \n",
    "    '''\n",
    "    \n",
    "    color_map = matplotlib.cm.get_cmap(name='seismic', lut=None)\n",
    "    cm = matplotlib.cm.ScalarMappable(norm=None, cmap=color_map)\n",
    "    mapped_f_xyz = cm.to_rgba(f_xyz)\n",
    "    \n",
    "    x,y,z = spherical_to_cartesian(theta_mg, phi_mg, r=1)\n",
    "    #x,y,z = spherical_to_cartesian(theta_mg, phi_mg - np.pi/2.0, r=1)\n",
    "    \n",
    "    dt = np.dtype(object) \n",
    "    colors = np.zeros(f_xyz.shape, dtype = dt)\n",
    "\n",
    "    for ph in range(len(phi)):\n",
    "        for th in range(len(theta)):\n",
    "            colors[ph,th] = mapped_f_xyz[ph,th]\n",
    "    \n",
    "    cosa=ax.plot_surface(x,y,z, facecolors = colors)\n",
    "    ax.view_init(20, 45)\n",
    "    return cosa"
   ]
  },
  {
   "cell_type": "markdown",
   "metadata": {},
   "source": [
    "Now create an array of theta $\\theta$ values that goes from 0 to $\\pi$ and an array of phi $\\phi$ that goes from 0 to $2\\pi$. "
   ]
  },
  {
   "cell_type": "markdown",
   "metadata": {},
   "source": [
    "**NOTE: Choose the step size such that your figures have good resolution, but don't take hours to generate.  In my machine, we used intervals of 0.01.**"
   ]
  },
  {
   "cell_type": "code",
   "execution_count": null,
   "metadata": {
    "collapsed": false
   },
   "outputs": [],
   "source": [
    "# CREATE AN ARRAY theta THE GOES FROM 0 TO 2PI AND AN ARRAY PHI THAT GOES FROM O TO PI\n",
    "# USE INTERVALS OF 0.01\n",
    "theta = \n",
    "phi = "
   ]
  },
  {
   "cell_type": "markdown",
   "metadata": {},
   "source": [
    "Now run the pieces of code below to plot the $l=1\\;$  $l=2\\;$ and $l=3\\;$ spherical harmonics for different values of $m$.\n",
    "\n",
    "#### For l=0"
   ]
  },
  {
   "cell_type": "code",
   "execution_count": null,
   "metadata": {
    "collapsed": false
   },
   "outputs": [],
   "source": [
    "fig = plt.figure()\n",
    "fig.set_size_inches(7, 7)\n",
    "l=0\n",
    "# USE THE FUNCTION plot_spherical_harmonics_many_m(l, fig)\n"
   ]
  },
  {
   "cell_type": "markdown",
   "metadata": {},
   "source": [
    "\n",
    "#### Now repeat for l=1"
   ]
  },
  {
   "cell_type": "code",
   "execution_count": null,
   "metadata": {
    "collapsed": false
   },
   "outputs": [],
   "source": [
    "fig = plt.figure()\n",
    "fig.set_size_inches(15, 5)\n",
    "l=1\n",
    "# USE THE FUNCTION plot_spherical_harmonics_many_m(l, fig)\n"
   ]
  },
  {
   "cell_type": "markdown",
   "metadata": {},
   "source": [
    "#### Now repeat for l=2"
   ]
  },
  {
   "cell_type": "code",
   "execution_count": null,
   "metadata": {
    "collapsed": false
   },
   "outputs": [],
   "source": [
    "fig = plt.figure()\n",
    "fig.set_size_inches(20, 4)\n",
    "l=2\n",
    "# USE THE FUNCTION plot_spherical_harmonics_many_m(l, fig)\n"
   ]
  },
  {
   "cell_type": "markdown",
   "metadata": {},
   "source": [
    "### <i class=\"fa fa-gear\"></i> Don't you think you've seen these functions before? Aren't they beautiful? \n",
    "\n",
    "We will see in a few weeks that the solutions for the Schrodinger equation of the hydrogen atom can be expressed as:\n",
    "\n",
    "$$\\psi(r,\\theta,\\phi)=NR(r)Y^{m}_{l}(\\theta,\\phi)$$\n",
    "\n",
    "where R is a radial function, and Y a spherical harmonic. The spherical harmonics determine the spatial form of the atomic orbitals. You are already familiar with these forms:\n",
    "\n",
    "<img src=\"files/aorbitals.jpg\" alt=\"Drawing\" style=\"width: 600px;\"/>\n",
    "\n",
    "Now go ahead an compare the plots for the orbitals with our representation of the harmonics. Can you match them?"
   ]
  },
  {
   "cell_type": "markdown",
   "metadata": {},
   "source": [
    "## <i class=\"fa fa-wrench\"></i> Step 2. Propagating a linear combination of rotational eigenstates. "
   ]
  },
  {
   "cell_type": "markdown",
   "metadata": {},
   "source": [
    "Like other eigenfunctions we've worked with (particle in a box eigenfunctions, Harmonic Oscillator eigenfunctions in 1D and 2D, etc), we can take linear combinations of the spherical harmonics, and propagate the resulting wavefunction through time.  To do this, we do what we always do: We get the energy associated to each eigenfunction/spherical harmonic, and we propagate the coefficient associated to that eigenfunction as: \n",
    "$$c_{l,m}(t) = c_{l,m}(0)\\;e^{-\\frac{iE_lt}{\\hbar}} $$\n",
    "<br>Where $c_l^m$ is the coefficient associated to the $l,m$ spherical harmonic $Y_l^m$ and $E_l$ is its energy. "
   ]
  },
  {
   "cell_type": "markdown",
   "metadata": {},
   "source": [
    "**Before continuing, review the expression for the energy $E_l$ of the $Y_{l,m}$ eigenstate.**"
   ]
  },
  {
   "cell_type": "markdown",
   "metadata": {},
   "source": [
    "In the cell below, we'll create a Meshgrid, and will create a linear combination of two spherical harmonics with different values of $l$"
   ]
  },
  {
   "cell_type": "code",
   "execution_count": null,
   "metadata": {
    "collapsed": false
   },
   "outputs": [],
   "source": [
    "#Meshgrid\n",
    "theta = np.arange(0, 2*np.pi, 0.01)\n",
    "phi = np.arange(0, np.pi, 0.01)\n",
    "theta_mg, phi_mg = np.meshgrid(theta, phi)\n",
    "\n",
    "#Get spherical harmonic the first\n",
    "l1 = 2\n",
    "m1 = 2\n",
    "Y_lm = sph_harm(m1, l1, phi_mg, theta_mg) \n",
    "Y_lm_1 = get_real_sh(Y_lm,m1)\n",
    "\n",
    "#Get spherical harmonic the second\n",
    "l2 = 1\n",
    "m2 = 0\n",
    "Y_lm = sph_harm(m2, l2, phi_mg, theta_mg) \n",
    "Y_lm_2 = get_real_sh(Y_lm,m2)\n",
    "\n",
    "# HERE COMPUTE THE ENERGIES, ASSIGN TO E1 AND E2 (2 LINES)\n",
    "E1 = \n",
    "E2 = \n",
    "\n",
    "# MAKE INITIAL LINEAR COMBINATION (EQUAL SUPERPOSITION) (3 LINES)\n",
    "c1_0 = \n",
    "c2_0 = \n",
    "Psi = "
   ]
  },
  {
   "cell_type": "markdown",
   "metadata": {},
   "source": [
    "Now let's plot the initial linear combination. But first, we'll create a directory called sph_harm_plots where we'll store all our plots and movies. "
   ]
  },
  {
   "cell_type": "code",
   "execution_count": null,
   "metadata": {
    "collapsed": false
   },
   "outputs": [],
   "source": [
    "!mkdir sph_harm_plots\n",
    "!rm sph_harm_plots/*"
   ]
  },
  {
   "cell_type": "code",
   "execution_count": null,
   "metadata": {
    "collapsed": false
   },
   "outputs": [],
   "source": [
    "#Plot the pdf of the initial linear combination on the surface of a sphere as a color map: \n",
    "fig = plt.figure()\n",
    "fig.set_size_inches(6, 6)\n",
    "ax = fig.add_subplot(111,projection='3d')\n",
    "plot_on_sphere(np.abs(Psi)**2.0, theta_mg, phi_mg, ax)\n",
    "plt.savefig('sph_harm_plots/test000.png')\n",
    "ttl=plt.title('PDF at t=0.0',fontsize=20)"
   ]
  },
  {
   "cell_type": "markdown",
   "metadata": {},
   "source": [
    "Now we'll time evolve this linear combination of spherical harmonics. "
   ]
  },
  {
   "cell_type": "code",
   "execution_count": null,
   "metadata": {
    "collapsed": false
   },
   "outputs": [],
   "source": [
    "from matplotlib import animation\n",
    "\n",
    "#Time evolve an plot at each time step. \n",
    "#Create a time array that goes from t=0 to t=3 in steps of 0.1\n",
    "t_array = np.arange(0,2,.1)\n",
    "\n",
    "#Write a for loop that loops over each value of the time array. \n",
    "for i in range(len(t_array)):\n",
    "    #Get the i-th time value. \n",
    "    t = t_array[i]\n",
    "    print 'time is ', t\n",
    "    \n",
    "    ###################\n",
    "    #USE THE cn_t_function IN qworld TO GET THE VALUE OF THE cn COEFFICIENT AT TIME t \n",
    "    #assign to variables c1_t and c2_t (2 LINES)\n",
    "    c1_t = \n",
    "    c2_t = \n",
    "    ###################\n",
    "    \n",
    "    ##################\n",
    "    #ASSIGN TO VARIABLE  psi_t THE UPDATED LINEAR COMBINATION OF THE TWO EIGENFUNCTIONS\n",
    "    Psi = \n",
    "    ##################\n",
    "    \n",
    "    fig = plt.figure()\n",
    "    fig.set_size_inches(6, 6)\n",
    "    ax = fig.add_subplot(111,projection='3d')\n",
    "    surf=plot_on_sphere(np.abs(Psi)**2.0, theta_mg, phi_mg, ax)\n",
    "    ttl=plt.title('PDF at t='+str(t),fontsize=20)\n",
    "    str_num = '%03d' % i\n",
    "    plt.savefig('sph_harm_plots/test'+str_num+'.png')\n",
    "    plt.close(fig)"
   ]
  },
  {
   "cell_type": "markdown",
   "metadata": {},
   "source": [
    "The following two lines build and display the animation for the propagation."
   ]
  },
  {
   "cell_type": "code",
   "execution_count": null,
   "metadata": {
    "collapsed": false
   },
   "outputs": [],
   "source": [
    "!ffmpeg -framerate 1 -pattern_type glob -i 'sph_harm_plots/*.png' -c:v libx264 -pix_fmt yuv420p sph_harm_plots/out.mp4"
   ]
  },
  {
   "cell_type": "code",
   "execution_count": null,
   "metadata": {
    "collapsed": false
   },
   "outputs": [],
   "source": [
    "!mplayer sph_harm_plots/out.mp4"
   ]
  },
  {
   "cell_type": "markdown",
   "metadata": {},
   "source": [
    "## <i class=\"fa fa-wrench\"></i> Step 3. Now rerun the code for generating the animation, but change the two spherical harmonics. (i.e. different values of $l$ and $m$.) Try the case where only the values of m differ.  What do you observe?"
   ]
  },
  {
   "cell_type": "markdown",
   "metadata": {
    "collapsed": false
   },
   "source": [
    "After you're done with this demo clean the folder where you saved the images for the movie executing the following box:"
   ]
  },
  {
   "cell_type": "code",
   "execution_count": null,
   "metadata": {
    "collapsed": true
   },
   "outputs": [],
   "source": [
    "!rm -rf sph_harm_plots/"
   ]
  },
  {
   "cell_type": "code",
   "execution_count": null,
   "metadata": {
    "collapsed": true
   },
   "outputs": [],
   "source": []
  }
 ],
 "metadata": {
  "kernelspec": {
   "display_name": "Python 2",
   "language": "python",
   "name": "python2"
  },
  "language_info": {
   "codemirror_mode": {
    "name": "ipython",
    "version": 2
   },
   "file_extension": ".py",
   "mimetype": "text/x-python",
   "name": "python",
   "nbconvert_exporter": "python",
   "pygments_lexer": "ipython2",
   "version": "2.7.10"
  }
 },
 "nbformat": 4,
 "nbformat_minor": 0
}
