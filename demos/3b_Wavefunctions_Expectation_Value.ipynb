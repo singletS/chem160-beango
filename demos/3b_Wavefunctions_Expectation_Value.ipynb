{
 "cells": [
  {
   "cell_type": "markdown",
   "metadata": {},
   "source": [
    "# Demo 3b: <br> Wavefunctions and expectation values\n",
    "\n",
    "## Introduction\n",
    "\n",
    "In this iPython notebook, we'll get the probability density function associated to a wavefunction, and we'll calculate some expectation values\n"
   ]
  },
  {
   "cell_type": "markdown",
   "metadata": {},
   "source": [
    "# Step 1: let's import some useful modules"
   ]
  },
  {
   "cell_type": "code",
   "execution_count": null,
   "metadata": {
    "collapsed": false
   },
   "outputs": [],
   "source": [
    "%matplotlib inline\n",
    "import numpy as np #python numerical library\n",
    "from scipy.integrate import quad #a little function to evaluate some integrals\n",
    "import matplotlib.pyplot as plt"
   ]
  },
  {
   "cell_type": "markdown",
   "metadata": {},
   "source": [
    "## Step 2: Let's define some functions we'll need\n",
    "\n",
    "First we'll write a function that returns a valid wavefunction for the 1D particle in a box.  In the slides you saw the expression for this wavefunction: $$ \\psi(x)=\\sqrt{\\frac{2}{L}}\\sin(\\frac{2\\pi x}{L}) $$  This will be the wavefunction we'll use to evaluate expectation values. "
   ]
  },
  {
   "cell_type": "code",
   "execution_count": null,
   "metadata": {
    "collapsed": false
   },
   "outputs": [],
   "source": [
    "def wavefunction(x, L):\n",
    "    '''given x, returns a valid wavefunction for the 1D particle in a box'''\n",
    "    ##########\n",
    "    ### Write a single line that assigns to the variable \"psi_x\"\n",
    "    ### the expression above evaluated at x \n",
    "    ##########\n",
    "    \n",
    "    \n",
    "    return psi_x"
   ]
  },
  {
   "cell_type": "markdown",
   "metadata": {},
   "source": [
    "## Probability density\n",
    "Next, a function that returns the probability density associated to a wave function.  In class, we saw that  $ \\psi^*_n(x)\\psi_n(x)$\n",
    "gave the probability of finding the particle in position $x$"
   ]
  },
  {
   "cell_type": "code",
   "execution_count": null,
   "metadata": {
    "collapsed": false
   },
   "outputs": [],
   "source": [
    "def probabilityDensity(psi_x):\n",
    "    ''' get probability density function from psi'''\n",
    "    prob = np.conjugate(psi_x)*psi_x\n",
    "    return prob"
   ]
  },
  {
   "cell_type": "markdown",
   "metadata": {},
   "source": [
    "## Expectation value integrand\n",
    "Finally, a function that returns the product $$\\psi(x)^* f(x) \\psi(x)$$,\n",
    "which is what we need to integrate to get an expectation value of the function $f(x)$"
   ]
  },
  {
   "cell_type": "code",
   "execution_count": null,
   "metadata": {
    "collapsed": false
   },
   "outputs": [],
   "source": [
    "def expectation_value_generalized(x, f_x):\n",
    "    ''' return <x> for the 1D particle in a box\n",
    "    x is a position array\n",
    "    and f_x is a FUNCTION that we define below... (f_x is NOT a variable) \n",
    "       it can be the position function --> f(x) = x\n",
    "       or it could be x^2 --> f(x) = x**2\n",
    "       or it could be whatever you want! it is defined in the next cell\n",
    "    '''\n",
    "    psi_x = wavefunction(x, L)\n",
    "\n",
    "    #########\n",
    "    #########\n",
    "    ### Write a single line that assigns to the variable \"integrand\" \n",
    "    ### to the product conjugate(psi_x) f(x) psi_x  \n",
    "    #########\n",
    "    \n",
    "    \n",
    "    return integrand"
   ]
  },
  {
   "cell_type": "markdown",
   "metadata": {},
   "source": [
    "## Position function\n",
    "And before we move on, we define a function that given x, returns ... uhhhmmmmmm.... x\n",
    "I know this seems silly know, but later on, when we want to evaluate the expectation values of more complicated functions, this will be useful!"
   ]
  },
  {
   "cell_type": "code",
   "execution_count": null,
   "metadata": {
    "collapsed": false
   },
   "outputs": [],
   "source": [
    "def f_x_position(x):\n",
    "    '''the most simple function of x'''\n",
    "    f_x = x\n",
    "    return f_x"
   ]
  },
  {
   "cell_type": "markdown",
   "metadata": {},
   "source": [
    "# Step 3: Plot wavefunctions\n",
    "Now let's construct the wave function and plot it along with the probability density function associated to it,"
   ]
  },
  {
   "cell_type": "code",
   "execution_count": null,
   "metadata": {
    "collapsed": false
   },
   "outputs": [],
   "source": [
    "L = 5 #length of the box\n",
    "x = np.arange(0, L, 0.01) #range of x values, from 0 to L in intervals of 0.01\n",
    "\n",
    "#generate the wave function\n",
    "psi_x = wavefunction(x,L)\n",
    "#and the probability density function associated to it\n",
    "pdf = probabilityDensity(psi_x)"
   ]
  },
  {
   "cell_type": "markdown",
   "metadata": {},
   "source": [
    "Let's see what the wavefunction and the pdf look like"
   ]
  },
  {
   "cell_type": "code",
   "execution_count": null,
   "metadata": {
    "collapsed": false
   },
   "outputs": [],
   "source": [
    "#Plot code, both wave function and probability density\n",
    "plt.figure(figsize=(10,8))\n",
    "plt.plot(x, psi_x, linewidth=2)\n",
    "plt.plot(x, pdf, linewidth=2)\n",
    "plt.xlabel('position')\n",
    "plt.ylabel('wave function and pdf')\n",
    "plt.legend(('wave function','pdf'))\n",
    "plt.title('Wave function and associated PDF', fontsize=24)\n",
    "plt.show()"
   ]
  },
  {
   "cell_type": "markdown",
   "metadata": {},
   "source": [
    " # Step 4:  And now expectation values\n",
    " ##  Let's evaluate the expectation value of the position $x$\n",
    " ## <i class=\"fa fa-question-circle\"></i> What do you expect it to be?"
   ]
  },
  {
   "cell_type": "code",
   "execution_count": null,
   "metadata": {
    "collapsed": false
   },
   "outputs": [],
   "source": [
    "#We call the quad function,\n",
    "# which we imported at the very beginning to perform the integral that we need. \n",
    "### Write (ONE LINE) to integrate the expectation value\n",
    "# the last input (f_x_position)\n",
    "# is the f_x that is used by expectation_value_generalized\n",
    "\n",
    "\n",
    "print('The expectation value of x is',x_expectation[0]) # and we print out the result"
   ]
  },
  {
   "cell_type": "markdown",
   "metadata": {},
   "source": [
    "## Let's calculate the spread $ \\left ( x -\\langle  x \\rangle \\right )^2$\n",
    "## which is the expectation value of  $ \\left ( x -\\langle  x \\rangle \\right )^2$\n",
    "### which is the same as saying $\\langle \\left(x - \\frac{L}{2}\\right)\\rangle$.\n",
    "\n",
    "First define a function that, given $x$, returns $\\left(x - \\frac{L}{2}\\right)^2$"
   ]
  },
  {
   "cell_type": "code",
   "execution_count": null,
   "metadata": {
    "collapsed": false
   },
   "outputs": [],
   "source": [
    "#########\n",
    "### Write three lines to define a function called f_x_spread(), which \n",
    "### takes as input x, and returns (x - L/2)**2\n",
    "############\n"
   ]
  },
  {
   "cell_type": "markdown",
   "metadata": {},
   "source": [
    "##  Evaluate expectation value of $\\left(x - \\frac{L}{2}\\right)^2$\n"
   ]
  },
  {
   "cell_type": "code",
   "execution_count": null,
   "metadata": {
    "collapsed": false
   },
   "outputs": [],
   "source": [
    "L = 5 #length of the box\n",
    "x = np.arange(0,5, 0.01)\n",
    "\n",
    "x_expectation = quad(expectation_value_generalized, 0, L, args=(f_x_spread))\n",
    "print 'The variance of the PDF is -->', x_expectation[0]"
   ]
  },
  {
   "cell_type": "code",
   "execution_count": null,
   "metadata": {
    "collapsed": true
   },
   "outputs": [],
   "source": []
  }
 ],
 "metadata": {
  "kernelspec": {
   "display_name": "Python 2",
   "language": "python",
   "name": "python2"
  },
  "language_info": {
   "codemirror_mode": {
    "name": "ipython",
    "version": 2
   },
   "file_extension": ".py",
   "mimetype": "text/x-python",
   "name": "python",
   "nbconvert_exporter": "python",
   "pygments_lexer": "ipython2",
   "version": "2.7.9"
  }
 },
 "nbformat": 4,
 "nbformat_minor": 0
}
