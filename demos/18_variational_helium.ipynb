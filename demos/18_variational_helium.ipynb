{
 "cells": [
  {
   "cell_type": "markdown",
   "metadata": {
    "collapsed": false
   },
   "source": [
    "# Helium Revisited:<br> The Variational Principle\n",
    "\n",
    "The variational principle puts a lower bound on the possible values we can get when solving the Schrodinger equation, since any wavefunction $\\psi$ will have to satisfy:\n",
    "\n",
    "$$ E_{ground} \\leq \\langle \\psi | H| \\psi \\rangle $$\n",
    "\n",
    "then we can think about optimizing the $\\psi$ to get closer to $E_{ground}$.\n",
    "\n",
    "Our strategy will be:\n",
    "\n",
    "* Create a wavefunction $\\psi(\\zeta)$ as a function of a few parameters (e.g. $\\zeta$).\n",
    "* Create a energy function $E(\\zeta)$ that depend on our previous wavefunction.\n",
    "* Optimize numerically this function over $\\zeta$.\n",
    "\n",
    "<br>\n",
    "## <i class=\"fa fa-book\"></i>  Preliminaries"
   ]
  },
  {
   "cell_type": "code",
   "execution_count": null,
   "metadata": {
    "collapsed": false
   },
   "outputs": [],
   "source": [
    "from scipy.integrate import quad, dblquad, tplquad\n",
    "from scipy.optimize import minimize\n",
    "from scipy.linalg import eigh\n",
    "import numpy as np"
   ]
  },
  {
   "cell_type": "markdown",
   "metadata": {},
   "source": [
    "# Part 1: Very Poor Man's Wave-Function\n",
    "\n",
    "Recall from lecture that Hyllerraas provided a particularly convenient transformation for the inter-electron coordinates in Helium. He wrote that $s = r_1 + r_2$, $ t = r_1 - r_2$, and $u = r_{12}$. This means that our very poor man's (VPM) wave-function goes from\n",
    "$$ \\psi_{VPM}(r_1, r_2) = N e^{-\\zeta (r_1 + r_2)} $$\n",
    "to\n",
    "$$ \\psi_{VPM}(s, t, u) = N e^{-\\zeta s}.$$ \n",
    "\n",
    "This is clearly substantially easier to deal with. We've defined this below:"
   ]
  },
  {
   "cell_type": "code",
   "execution_count": null,
   "metadata": {
    "collapsed": false
   },
   "outputs": [],
   "source": [
    "######################## PHI 1 ########################\n",
    "def phi1(s, t, u, zeta, Z=2):\n",
    "    return np.exp(-zeta*s)\n",
    "\n",
    "def phi1_du(s, t, u, zeta, Z=2):\n",
    "    return 0.0\n",
    "\n",
    "def phi1_dt(s, t, u, zeta, Z=2):\n",
    "    return 0.0\n",
    "\n",
    "def phi1_ds(s, t, u, zeta, Z=2):\n",
    "    return -zeta*np.exp(-zeta*s)"
   ]
  },
  {
   "cell_type": "markdown",
   "metadata": {},
   "source": [
    "\n",
    "\n",
    "Next, we're going to apply the [variational principle](https://en.wikipedia.org/wiki/Variational_method_(quantum_mechanics) like we did in class. We know from lecture that we seek the minimum of $ \\langle E(\\zeta) \\rangle$, where our expectation value is:\n",
    "$$ \\langle E(\\zeta) \\rangle = \\frac{\\langle \\psi_{VPM}(\\zeta) | H | \\psi_{VPM}(\\zeta) \\rangle}{\\langle \\psi_{VPM}(\\zeta) |\\psi_{VPM}(\\zeta) \\rangle} = \\frac{H_{11}}{S_{11}}$$\n",
    "\n",
    "I've gone ahead and worked through the math and found that the denominator is given by:\n",
    "$$ H_{11}=\\ \\langle \\psi_{VPM}(\\zeta) | H | \\psi_{VPM}(\\zeta) \\rangle = \\int_0^\\infty ds \\int_0^s du \\int_0^u dt \\; \\psi_{VPM}(\\zeta)^2 \\left( s^2 - t^2 - 4 s u Z + (s - t)(s + t) u \\zeta^2 \\right )$$\n",
    "\n",
    "and\n",
    "$$ S_{11} =\\langle \\psi_{VPM}(\\zeta) |\\psi_{VPM}(\\zeta) \\rangle = \\int_0^\\infty ds \\int_0^s du \\int_0^u dt \\; u \\left( s^2 - t^2 \\right) \\left(\\psi_{VPM}(s; \\zeta)\\right)^2.$$\n",
    "\n",
    "### Define $\\psi(\\zeta)$\n",
    "\n",
    "Given these formulas, let's program them. Here, you'll want to fill in the two functions below with just the integrands for the  functions above. We'll pass these functions to the triple integration routines next."
   ]
  },
  {
   "cell_type": "code",
   "execution_count": null,
   "metadata": {
    "collapsed": false
   },
   "outputs": [],
   "source": [
    "def S11(t, u, s, zeta=1.6875, Z=2):\n",
    "    return u*(s*s - t*t)*phi1(s, t, u, zeta)*phi1(s, t, u, zeta)\n",
    "\n",
    "def H11(t, u, s, zeta=1.6875, Z=2):\n",
    "    return np.exp(-2*s*zeta)*(s*s - t*t - 4.0*s*u*Z + (s - t)*(s + t)*u*zeta*zeta)"
   ]
  },
  {
   "cell_type": "markdown",
   "metadata": {},
   "source": [
    "This is a 3D integral, so let's go ahead and call the tplquad function (tp is for triple).\n",
    "\n",
    "I'll give you the code for the overlap integral, and you'll have to adopt it for the hamiltonian matrix element"
   ]
  },
  {
   "cell_type": "code",
   "execution_count": null,
   "metadata": {
    "collapsed": false
   },
   "outputs": [],
   "source": [
    "overlap, error = tplquad(   , \n",
    "                        0.0, np.inf,\n",
    "                        lambda x: 0.0, lambda x: x,\n",
    "                        lambda x, y: 0.0, lambda x, y: y,\n",
    "                        args=(1.6875, 2.0))\n",
    "print overlap"
   ]
  },
  {
   "cell_type": "markdown",
   "metadata": {},
   "source": [
    "Adapt the above code to work with the matrix element method you wrote above.\n",
    "\n",
    "Do you get -0.06165877303407153?"
   ]
  },
  {
   "cell_type": "code",
   "execution_count": null,
   "metadata": {
    "collapsed": false
   },
   "outputs": [],
   "source": [
    "matel, error = tplquad(      , \n",
    "                        0.0, 50.0,\n",
    "                        lambda x: 0.0, lambda x: x,\n",
    "                        lambda x, y: 0.0, lambda x, y: y,\n",
    "                        args=(1.6875, 2.0))\n",
    "print matel"
   ]
  },
  {
   "cell_type": "markdown",
   "metadata": {},
   "source": [
    "### Define $E(\\zeta)$\n",
    "With triple integration in hand, let's write an energy function to feed into our minimizer. You'll want to take the code snippets that you wrote above and paste them into the method, exp_val, below, and then divide them."
   ]
  },
  {
   "cell_type": "code",
   "execution_count": null,
   "metadata": {
    "collapsed": false
   },
   "outputs": [],
   "source": [
    "def expected_value(zeta):\n",
    "    # fill me/copy-paste me\n",
    "    \n",
    "    energy = matel/overlap\n",
    "    return energy"
   ]
  },
  {
   "cell_type": "markdown",
   "metadata": {},
   "source": [
    "### Optimize $E(\\zeta)$\n",
    "Finally, feed the method that you wrote above and feed it into the **minimize** function that we imported from scipy. \n",
    "\n",
    "The syntax is **minimize(function, [starting guess])**.\n",
    "\n",
    "Use a starting guess of 2.0."
   ]
  },
  {
   "cell_type": "code",
   "execution_count": null,
   "metadata": {
    "collapsed": false
   },
   "outputs": [],
   "source": [
    "## fill me\n",
    "opt = minimize()\n",
    "opt"
   ]
  },
  {
   "cell_type": "markdown",
   "metadata": {},
   "source": [
    "### Compare with the exact energy"
   ]
  },
  {
   "cell_type": "code",
   "execution_count": null,
   "metadata": {
    "collapsed": false
   },
   "outputs": [],
   "source": [
    "Hartree_to_Ev = 27.211399\n",
    "E_exact=-79\n",
    "E_var1 = opt['fun']*Hartree_to_Ev\n",
    "diff_E=E_var1-E_exact\n",
    "print('Exact Energy --> -79 eV')\n",
    "print('Variational --> %f eV'%(E_var1))\n",
    "print('Off by %f eV (%f %%)'%(diff_E, np.abs(diff_E/E_exact)*100))"
   ]
  },
  {
   "cell_type": "markdown",
   "metadata": {},
   "source": [
    "## Part 2: General Wavefunctions\n",
    "\n",
    "#### Careful! Many equations are next, you can browse over them, most importantly try to get the gist of them."
   ]
  },
  {
   "cell_type": "markdown",
   "metadata": {},
   "source": [
    "Asuming a basic form for a basis wavefunction as:\n",
    "$$\n",
    "u^a t^b u^c e^{-\\zeta s}\n",
    "$$\n",
    "We will assume our wave-function can be given by a sum of the following states:\n",
    "$$ \\phi_1(s,t,u;\\zeta) = e^{-\\zeta s} $$\n",
    "$$ \\phi_2(s,t,u;\\zeta) = e^{-\\zeta s}u $$\n",
    "$$ \\phi_3(s,t,u;\\zeta) = e^{-\\zeta s}t^2 $$\n",
    "$$ \\phi_4(s,t,u;\\zeta) = e^{-\\zeta s}s $$\n",
    "$$ \\phi_5(s,t,u;\\zeta) = e^{-\\zeta s}s^2 $$\n",
    "$$ \\phi_6(s,t,u;\\zeta) = e^{-\\zeta s}u^2 $$\n",
    "$$ \\phi_7(s,t,u;\\zeta) = e^{-\\zeta s}s u $$\n",
    "$$ \\phi_8(s,t,u;\\zeta) = e^{-\\zeta s}t^2 u $$\n",
    "$$ \\phi_9(s,t,u;\\zeta) = e^{-\\zeta s}u^3 $$\n",
    "$$ \\phi_{10}(s,t,u;\\zeta) = e^{-\\zeta s}t^2 u^2 $$\n",
    "\n",
    "I've gone ahead and defined these below for you, as well as all their relevant derivatives.\n",
    "### Just press shift+enter. This is just ugly book keeping."
   ]
  },
  {
   "cell_type": "code",
   "execution_count": null,
   "metadata": {
    "collapsed": false
   },
   "outputs": [],
   "source": [
    "############################## PHI 2 ########################\n",
    "def phi2(s, t, u, zeta, Z=2):\n",
    "    return np.exp(-zeta*s)*u\n",
    "\n",
    "def phi2_du(s, t, u, zeta, Z=2):\n",
    "    return np.exp(-zeta*s)\n",
    "\n",
    "def phi2_dt(s, t, u, zeta, Z=2):\n",
    "    return 0.0\n",
    "\n",
    "def phi2_ds(s, t, u, zeta, Z=2):\n",
    "    return -zeta*np.exp(-zeta*s)*u\n",
    "\n",
    "############################## PHI 3 ########################\n",
    "def phi3(s, t, u, zeta, Z=2):\n",
    "    return np.exp(-zeta*s)*t*t\n",
    "\n",
    "def phi3_du(s, t, u, zeta, Z=2):\n",
    "    return 0.0\n",
    "\n",
    "def phi3_dt(s, t, u, zeta, Z=2):\n",
    "    return 2.0*np.exp(-zeta*s)*t\n",
    "\n",
    "def phi3_ds(s, t, u, zeta, Z=2):\n",
    "    return -zeta*np.exp(-zeta*s)*t*t\n",
    "\n",
    "############################## PHI 4 ########################\n",
    "def phi4(s, t, u, zeta, Z=2):\n",
    "    return np.exp(-zeta*s)*s\n",
    "\n",
    "def phi4_du(s, t, u, zeta, Z=2):\n",
    "    return 0.0\n",
    "\n",
    "def phi4_dt(s, t, u, zeta, Z=2):\n",
    "    return 0.0\n",
    "\n",
    "def phi4_ds(s, t, u, zeta, Z=2):\n",
    "    return np.exp(-zeta*s)*(1.0 - s*zeta)\n",
    "\n",
    "############################## PHI 5 ########################\n",
    "def phi5(s, t, u, zeta, Z=2):\n",
    "    return np.exp(-zeta*s)*s*s\n",
    "\n",
    "def phi5_du(s, t, u, zeta, Z=2):\n",
    "    return 0.0\n",
    "\n",
    "def phi5_dt(s, t, u, zeta, Z=2):\n",
    "    return 0.0\n",
    "\n",
    "def phi5_ds(s, t, u, zeta, Z=2):\n",
    "    return np.exp(-zeta*s)*s*(2.0 - s*zeta)\n",
    "\n",
    "############################## PHI 6 ########################\n",
    "def phi6(s, t, u, zeta, Z=2):\n",
    "    return np.exp(-zeta*s)*u*u\n",
    "\n",
    "def phi6_du(s, t, u, zeta, Z=2):\n",
    "    return 2.0*u*np.exp(-zeta*s)\n",
    "\n",
    "def phi6_dt(s, t, u, zeta, Z=2):\n",
    "    return 0.0\n",
    "\n",
    "def phi6_ds(s, t, u, zeta, Z=2):\n",
    "    return -zeta*u*u*np.exp(-zeta*s)\n",
    "\n",
    "############################## PHI 7 ########################\n",
    "def phi7(s, t, u, zeta, Z=2):\n",
    "    return np.exp(-zeta*s)*s*u\n",
    "\n",
    "def phi7_du(s, t, u, zeta, Z=2):\n",
    "    return u*np.exp(-zeta*s)\n",
    "\n",
    "def phi7_dt(s, t, u, zeta, Z=2):\n",
    "    return 0.0\n",
    "\n",
    "def phi7_ds(s, t, u, zeta, Z=2):\n",
    "    return np.exp(-zeta*s)*(u - s*u*zeta)\n",
    "\n",
    "############################## PHI 8 ########################\n",
    "def phi8(s, t, u, zeta, Z=2):\n",
    "    return np.exp(-zeta*s)*t*t*u\n",
    "\n",
    "def phi8_du(s, t, u, zeta, Z=2):\n",
    "    return t*t*np.exp(-zeta*s)\n",
    "\n",
    "def phi8_dt(s, t, u, zeta, Z=2):\n",
    "    return 2.0*t*u*np.exp(-zeta*s)\n",
    "\n",
    "def phi8_ds(s, t, u, zeta, Z=2):\n",
    "    return -t*t*u*zeta*np.exp(-zeta*s)\n",
    "\n",
    "############################## PHI 9 ########################\n",
    "def phi9(s, t, u, zeta, Z=2):\n",
    "    return np.exp(-zeta*s)*u*u*u\n",
    "\n",
    "def phi9_du(s, t, u, zeta, Z=2):\n",
    "    return 3.0*u*u*np.exp(-zeta*s)\n",
    "\n",
    "def phi9_dt(s, t, u, zeta, Z=2):\n",
    "    return 0.0\n",
    "\n",
    "def phi9_ds(s, t, u, zeta, Z=2):\n",
    "    return -u*u*u*zeta*np.exp(-zeta*s)\n",
    "\n",
    "############################## PHI 10 ########################\n",
    "def phi10(s, t, u, zeta, Z=2):\n",
    "    return np.exp(-zeta*s)*t*t*u*u\n",
    "\n",
    "def phi10_du(s, t, u, zeta, Z=2):\n",
    "    return 2.0*t*t*u*np.exp(-zeta*s)\n",
    "\n",
    "def phi10_dt(s, t, u, zeta, Z=2):\n",
    "    return 2.0*t*u*u*np.exp(-zeta*s)\n",
    "\n",
    "def phi10_ds(s, t, u, zeta, Z=2):\n",
    "    return -t*t*u*u*zeta*np.exp(-zeta*s)"
   ]
  },
  {
   "cell_type": "markdown",
   "metadata": {},
   "source": [
    "### Important Part: Function Pointers!"
   ]
  },
  {
   "cell_type": "code",
   "execution_count": null,
   "metadata": {
    "collapsed": false
   },
   "outputs": [],
   "source": [
    "phi = {1: (phi1,  phi1_du,  phi1_dt,  phi1_ds ),\n",
    "       2: (phi2,  phi2_du,  phi2_dt,  phi2_ds ),\n",
    "       3: (phi3,  phi3_du,  phi3_dt,  phi3_ds ),\n",
    "       4: (phi4,  phi4_du,  phi4_dt,  phi4_ds ),\n",
    "       5: (phi5,  phi5_du,  phi5_dt,  phi5_ds ),\n",
    "       6: (phi6,  phi6_du,  phi6_dt,  phi6_ds ),\n",
    "       7: (phi7,  phi7_du,  phi7_dt,  phi7_ds ),\n",
    "       8: (phi8,  phi8_du,  phi8_dt,  phi8_ds ),\n",
    "       9: (phi9,  phi9_du,  phi9_dt,  phi9_ds ),\n",
    "       10:(phi10, phi10_du, phi10_dt, phi10_ds)}"
   ]
  },
  {
   "cell_type": "markdown",
   "metadata": {},
   "source": [
    "Next, we'll need to write down a more general expression for the Hamiltonian matrix elements. Note, that because these functions aren't orthogonal, we're going to have to deal with with off diagonal matrix elements. \n",
    "\n",
    "$$ \\langle \\psi_{n}(\\zeta) | H | \\psi_{m}(\\zeta) \\rangle = \\int_0^\\infty ds \\int_0^s du \\int_0^u dt \\; \\left( A_{n,m} + B_{n,m} + C_{n,m} + D_{n,m} \\right)$$\n",
    "where\n",
    "$$ A_{n,m} = u \\left( s^2 - t^2 \\right) \\left( \n",
    "\\frac{\\partial \\phi_n(s,t,u;\\zeta)}{\\partial s} \\frac{\\partial \\phi_m(s,t,u;\\zeta)}{\\partial s} + \\frac{\\partial \\phi_n(s,t,u;\\zeta)}{\\partial t} \\frac{\\partial \\phi_m(s,t,u;\\zeta)}{\\partial t}+ \\frac{\\partial \\phi_n(s,t,u;\\zeta)}{\\partial u} \\frac{\\partial \\phi_m(s,t,u;\\zeta)}{\\partial u} \\right)$$\n",
    "\n",
    "$$ B_{n,m} = s\\left(u^2 - t^2 \\right) \\left( \\frac{\\partial \\phi_n(s, t, u;\\zeta) }{\\partial u} \\frac{\\partial \\phi_m(s, t, u;\\zeta) }{\\partial s} + \\frac{\\phi_n(s, t, u;\\zeta) }{\\partial s} \\frac{\\partial \\phi_n(s, t, u;\\zeta) }{\\partial u}\\right) $$\n",
    "\n",
    "$$ C_{n,m} = t\\left(s^2 - u^2 \\right) \\left( \\frac{\\partial \\phi_n(s, t, u;\\zeta) }{\\partial u} \\frac{\\partial \\phi_m(s, t, u;\\zeta) }{\\partial t} + \\frac{\\phi_n(s, t, u;\\zeta) }{\\partial t} \\frac{\\partial \\phi_n(s, t, u;\\zeta) }{\\partial u}\\right) $$\n",
    "\n",
    "$$ D_{n,m} = \\left( s^2 - t^2 - 4 Z s u \\right) \\phi_n(s, t, u;\\zeta)\\phi_m(s, t, u;\\zeta).$$\n",
    "\n",
    "And\n",
    "$$ \\langle \\psi_{n}(\\zeta) | \\psi_{m}(\\zeta) \\rangle = \\int_0^\\infty ds \\int_0^s du \\int_0^u dt \\; u \\left( s^2 - t^2 \\right) \\phi_n(s,t,u;\\zeta) \\phi_m(s,t,u;\\zeta).$$\n",
    "\n",
    "I've gone ahead and defined these for you below because they're a giant pain in the butt to get right."
   ]
  },
  {
   "cell_type": "code",
   "execution_count": null,
   "metadata": {
    "collapsed": false
   },
   "outputs": [],
   "source": [
    "def Hnm(t, u, s, n, m, zeta=1.6875, Z=2.0):\n",
    "    A = u*(s*s - t*t)*(phi[n][3](s, t, u, zeta)*phi[m][3](s, t, u, zeta) \n",
    "                     + phi[n][2](s, t, u, zeta)*phi[m][2](s, t, u, zeta) \n",
    "                     + phi[n][1](s, t, u, zeta)*phi[m][1](s, t, u, zeta))\n",
    "    \n",
    "    B = s*(u*u-t*t)*(phi[n][1](s, t, u, zeta)*phi[m][3](s, t, u, zeta)\n",
    "                   + phi[n][3](s, t, u, zeta)*phi[m][1](s, t, u, zeta))\n",
    "    \n",
    "    C = t*(s*s - u*u)*(phi[n][1](s, t, u, zeta)*phi[m][2](s, t, u, zeta)\n",
    "                     + phi[n][2](s, t, u, zeta)*phi[m][1](s, t, u, zeta))\n",
    "    \n",
    "    D = (s*s - t*t - 8.0*s*u)*phi[n][0](s, t, u, zeta)*phi[m][0](s, t, u, zeta)\n",
    "    return A + B + C + D\n",
    "\n",
    "\n",
    "def Snm(t, u, s, n, m, zeta=1.6875, Z=2.0):\n",
    "    prefactor = u*(s*s-t*t)\n",
    "    return prefactor*phi[n][0](s, t, u, zeta)*phi[m][0](s, t, u, zeta)"
   ]
  },
  {
   "cell_type": "markdown",
   "metadata": {},
   "source": [
    "## Secular Matrix\n",
    "Next, let's write a method to create the secular matrix. \n",
    "\n",
    "1) The first thing that you're going to do is define the number of functions to include. We're going to start with 2 but this can go up to 10. \n",
    "\n",
    "2) Next, you're going to define the Hamiltonian and Overlap matrices to be of size NxN.\n",
    "\n",
    "3) Write two for-loops to loop through the number of basis functions. For each element of the matrix, use the same code for triple integration that we used above with a few modifications. First, the method that we're integrating is different (Hnm instead of H11, Snm instead of S11), and our args will be args=(n+1, m+1, zeta, 2.0) instead of args=(zeta, 2.0). Why n+1 and m+1?\n",
    "\n",
    "4) Next, use the hermitian eigenvalue solver to solve the generalized eigenvalue problem. We're going to do this by using eigh(Hmat, Smat).\n",
    "\n",
    "5) Finally, return the smallest eigenvalue.\n",
    "\n",
    "With this function written, call minimize on that function with a guess of [1.6875]."
   ]
  },
  {
   "cell_type": "code",
   "execution_count": null,
   "metadata": {
    "collapsed": false
   },
   "outputs": [],
   "source": [
    "def H_sec_gen(zeta):\n",
    "    nbfs = 2\n",
    "    Hmat = np.zeros((nbfs, nbfs))\n",
    "    Smat = np.zeros_like(Hmat)\n",
    "    \n",
    "    for n in range(0, nbfs):\n",
    "        for m in range(0, nbfs):\n",
    "            Hmat[n, m] = tplquad(Hnm, \n",
    "                        0.0, np.inf,\n",
    "                        lambda x: 0.0, lambda x: x,\n",
    "                        lambda x, y: 0.0, lambda x, y: y,\n",
    "                        args=(n+1, m+1, zeta, 2.0))[0]\n",
    "            Smat[n, m] = tplquad(Snm, \n",
    "                        0.0, np.inf,\n",
    "                        lambda x: 0.0, lambda x: x,\n",
    "                        lambda x, y: 0.0, lambda x, y: y,\n",
    "                        args=(n+1, m+1, zeta, 2.0))[0]\n",
    "    \n",
    "    evals, evecs = eigh(Hmat, Smat)  \n",
    "    return np.min(evals)"
   ]
  },
  {
   "cell_type": "markdown",
   "metadata": {},
   "source": [
    "### Optmize again\n",
    "\n",
    "This will take some time because we have build a matrix, each matrix element is created via a 3D integration and then we have solve the eigenvalues!"
   ]
  },
  {
   "cell_type": "code",
   "execution_count": null,
   "metadata": {
    "collapsed": false
   },
   "outputs": [],
   "source": [
    " ## Fill me\n",
    "opt = minimize()\n",
    "opt"
   ]
  },
  {
   "cell_type": "markdown",
   "metadata": {},
   "source": [
    "### Compare new results"
   ]
  },
  {
   "cell_type": "code",
   "execution_count": null,
   "metadata": {
    "collapsed": false
   },
   "outputs": [],
   "source": [
    "Hartree_to_Ev = 27.211399\n",
    "E_exact=-79\n",
    "E_var1 = opt['fun']*Hartree_to_Ev\n",
    "diff_E=E_var1-E_exact\n",
    "print('Exact Energy --> -79 eV')\n",
    "print('Variational --> %f eV'%(E_var1))\n",
    "print('Off by %f eV (%f %%)'%(diff_E, np.abs(diff_E/E_exact)*100))"
   ]
  },
  {
   "cell_type": "markdown",
   "metadata": {},
   "source": [
    "### <i class=\"fa fa-question-circle\"></i> Questions/Discuss\n",
    "\n",
    "* How close did you get to the exact value?\n",
    "* Can you see this working with bigger molecules? \n",
    "* What tradeoff/advantages do you see? How could you improve?\n",
    "* What role do the different functions play in the solution?"
   ]
  },
  {
   "cell_type": "code",
   "execution_count": null,
   "metadata": {
    "collapsed": true
   },
   "outputs": [],
   "source": []
  }
 ],
 "metadata": {
  "kernelspec": {
   "display_name": "Python 2",
   "language": "python",
   "name": "python2"
  },
  "language_info": {
   "codemirror_mode": {
    "name": "ipython",
    "version": 2
   },
   "file_extension": ".py",
   "mimetype": "text/x-python",
   "name": "python",
   "nbconvert_exporter": "python",
   "pygments_lexer": "ipython2",
   "version": "2.7.10"
  }
 },
 "nbformat": 4,
 "nbformat_minor": 0
}
