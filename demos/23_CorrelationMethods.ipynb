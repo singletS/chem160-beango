{
 "cells": [
  {
   "cell_type": "markdown",
   "metadata": {},
   "source": [
    "# Exploring Correlation Methods\n",
    "\n",
    "Today we are going to get some intuition on the interplay of accuracy and computational time that is often an issue when dealing with computational problems.\n",
    "\n",
    "We will be looking at some pre-computed calculation that were made on a professional Quantum Chemistry software package (**Orca**).\n",
    "\n",
    "We will focus our attention on methane:\n",
    "\n",
    "![](files/methane.png)\n"
   ]
  },
  {
   "cell_type": "markdown",
   "metadata": {},
   "source": [
    "First let's load some preliminaries\n",
    "## <i class=\"fa fa-book\"></i>  Preliminaries"
   ]
  },
  {
   "cell_type": "code",
   "execution_count": null,
   "metadata": {
    "collapsed": false
   },
   "outputs": [],
   "source": [
    "# our bread and butter\n",
    "import numpy as np\n",
    "import matplotlib.pyplot as plt\n",
    "%matplotlib inline\n",
    "\n",
    "# add all probables spots for the quantum world library\n",
    "import sys\n",
    "sys.path.append('../library')\n",
    "sys.path.append('../../library')\n",
    "sys.path.append('/home/student/chem160/library')\n",
    "#This is how we'll import our own home-made modules\n",
    "import quantumWorld as qworld\n",
    "qworld.fancy_plotting()\n",
    "# convenient units\n",
    "hartree_to_kcal = 627.503"
   ]
  },
  {
   "cell_type": "markdown",
   "metadata": {},
   "source": [
    "## Part 1: Loading the data\n",
    "\n",
    "Our data is stored in python **pickle** format, let's load it:"
   ]
  },
  {
   "cell_type": "code",
   "execution_count": null,
   "metadata": {
    "collapsed": false
   },
   "outputs": [],
   "source": [
    "import pickle\n",
    "afile = open('files/data_methane.pckl')\n",
    "data = pickle.load(afile )\n",
    "afile.close()"
   ]
  },
  {
   "cell_type": "markdown",
   "metadata": {},
   "source": [
    "Once we load it it will be a dictionary of dictionaries, exploring the following correlation methods:\n",
    "\n",
    "* HF\n",
    "* MP2\n",
    "* QCISD\n",
    "* CCSD\n",
    "* CCSD(T)\n",
    "* DLPNO-CCSD\n",
    "\n",
    "Each method can be accesed via:\n",
    "\n",
    "```python\n",
    "data[method]\n",
    "```\n",
    "for example 'MP2' calculation data is:\n",
    "\n",
    "```python\n",
    "data['MP2']\n",
    "```\n",
    "\n",
    "### Try loading one type of method, what type of data is inside?"
   ]
  },
  {
   "cell_type": "code",
   "execution_count": null,
   "metadata": {
    "collapsed": false
   },
   "outputs": [],
   "source": []
  },
  {
   "cell_type": "markdown",
   "metadata": {},
   "source": [
    "Each method has information on various aspects of the calculations:\n",
    "\n",
    "* **Basis_set**, basis set  used.\n",
    "* **Nbasis**, number of basis functions.\n",
    "* **Energy**, final energy calculation.\n",
    "* **Ctime**, computing time in seconds.\n",
    "* **E_corr**, correlation energy recovered, remember $E_{corr} = E_{method}-E_{HF}$\n",
    "* **E_corr_percent**, percent of correlation energy recovered, in this case, comparing with the exact energy. In formula this would be $ \\frac{|E_{corr}|}{|E_{exact}-E_{HF}|} \\times 100$\n",
    "\n",
    "Each of these elements is an array, so for example if you wanted to access the Calculation times for MP2 methods, you would use:\n",
    "\n",
    "\n",
    "```python\n",
    "data['MP2']['Ctime']\n",
    "```\n",
    "\n",
    "# Try it out!"
   ]
  },
  {
   "cell_type": "code",
   "execution_count": null,
   "metadata": {
    "collapsed": false
   },
   "outputs": [],
   "source": []
  },
  {
   "cell_type": "markdown",
   "metadata": {},
   "source": [
    "## Part 2 : Finding trends\n",
    "\n",
    "We will do plotting and curve fitting to figure out the trends for multiple methods.\n",
    "\n",
    "For this we have the utility function **qworld.polynomial_fit(x,y)** which recieves as input an array vector **x** and **y** of data and will return a array **x_fit, y_fit** and **label_fit** which represents the fitted polynomial.\n",
    "\n",
    "### Fitting a trend example"
   ]
  },
  {
   "cell_type": "code",
   "execution_count": null,
   "metadata": {
    "collapsed": false
   },
   "outputs": [],
   "source": [
    "# set the data\n",
    "x = np.linspace(0,100,100)\n",
    "y = 0.3 * np.power(x,2.5)*(1+0.3*np.sin(x))\n",
    "# get the fit\n",
    "x_fit,y_fit,label_fit = qworld.polynomial_fit(x,y)\n",
    "#plotting stuff\n",
    "plt.plot(x,y,'o',label='Data')\n",
    "plt.plot(x_fit,y_fit,label=label_fit)\n",
    "plt.xlabel('$x$')\n",
    "plt.ylabel('$f(x)$')\n",
    "plt.title('Polynomial fit of trend')\n",
    "plt.legend(loc='best')\n",
    "plt.show()"
   ]
  },
  {
   "cell_type": "markdown",
   "metadata": {},
   "source": [
    "## Your mission: <br> find out trends for multiple variables <i class=\"fa fa-line-chart\"></i>\n",
    "Mainly using x as a dimention for the number of basis sets, for multiple methods, investigate:\n",
    "\n",
    "* Scaling factor for computing times\n",
    "* Correlation energy retrieved.\n",
    "* Percent of Correlation energy calculated.\n",
    "\n",
    "\n",
    "### <i class=\"fa fa-line-chart\"></i> Effect on computing time\n"
   ]
  },
  {
   "cell_type": "code",
   "execution_count": null,
   "metadata": {
    "collapsed": false
   },
   "outputs": [],
   "source": [
    "for method in data.keys():\n",
    "    x = data[method]['Nbasis']\n",
    "    ###fill the data to be plotted on y\n",
    "    \n",
    "    ###fit the data\n",
    "    \n",
    "    ##make plots\n",
    "\n",
    "\n",
    "plt.xlabel('Number of Basis sets')\n",
    "plt.ylabel('Computing time $(s)$')\n",
    "plt.title('Polynomial fit of trend')\n",
    "plt.legend(loc='best',ncol=2,prop={'size':16})\n",
    "plt.show()"
   ]
  },
  {
   "cell_type": "markdown",
   "metadata": {},
   "source": [
    "### <i class=\"fa fa-line-chart\"></i> Effect on correlation energy\n"
   ]
  },
  {
   "cell_type": "code",
   "execution_count": null,
   "metadata": {
    "collapsed": false
   },
   "outputs": [],
   "source": [
    "\n",
    "plt.xlabel('Number of Basis sets')\n",
    "plt.ylabel('$E_{corr}$')\n",
    "plt.title('Polynomial fit of trend')\n",
    "plt.legend(loc='best',ncol=2,prop={'size':16})\n",
    "plt.show()"
   ]
  },
  {
   "cell_type": "markdown",
   "metadata": {},
   "source": [
    "### <i class=\"fa fa-line-chart\"></i> Effect on percent of correlation energy"
   ]
  },
  {
   "cell_type": "code",
   "execution_count": null,
   "metadata": {
    "collapsed": false
   },
   "outputs": [],
   "source": [
    "\n",
    "plt.xlabel('Number of Basis sets')\n",
    "plt.ylabel('$E_{corr}$%')\n",
    "plt.title('Polynomial fit of trend')\n",
    "plt.legend(loc='best',ncol=2,prop={'size':16})\n",
    "plt.show()"
   ]
  },
  {
   "cell_type": "markdown",
   "metadata": {},
   "source": [
    "### <i class=\"fa fa-question-circle\"></i> Questions\n",
    "\n",
    "* Any other ideas on possible interesting trends to look at?\n",
    "* What would be the sweet spot between accurate and still not to expensive?"
   ]
  }
 ],
 "metadata": {
  "kernelspec": {
   "display_name": "Python 2",
   "language": "python",
   "name": "python2"
  },
  "language_info": {
   "codemirror_mode": {
    "name": "ipython",
    "version": 2
   },
   "file_extension": ".py",
   "mimetype": "text/x-python",
   "name": "python",
   "nbconvert_exporter": "python",
   "pygments_lexer": "ipython2",
   "version": "2.7.10"
  }
 },
 "nbformat": 4,
 "nbformat_minor": 0
}
