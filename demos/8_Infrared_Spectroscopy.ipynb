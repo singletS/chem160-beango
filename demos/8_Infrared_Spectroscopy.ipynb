{
 "cells": [
  {
   "cell_type": "markdown",
   "metadata": {},
   "source": [
    "## Demo 8: Infrared spectroscopy.<br>\n",
    "\n",
    "A spectrum is how molecules say hello to you.\n",
    "\n",
    "![](files/Modo_rotacao.gif)\n",
    "\n",
    "\"<a href=\"https://commons.wikimedia.org/wiki/File:Modo_rotacao.gif#/media/File:Modo_rotacao.gif\">Modo rotacao</a>\" by Original uploader <a href=\"//pt.wikipedia.org/wiki/User:Tiago_Becerra_Paolini\" class=\"extiw\" title=\"pt:User:Tiago Becerra Paolini\">Tiago Becerra Paolini</a> at <a class=\"external text\" href=\"http://pt.wikipedia.org\">pt.wikipedia</a> - Transferred from <a class=\"external text\" href=\"http://pt.wikipedia.org\">pt.wikipedia</a>. Licensed under Public Domain via <a href=\"https://commons.wikimedia.org/wiki/\">Commons</a>.\n",
    "\n",
    "<br>\n",
    "\n",
    "### Introduction\n",
    "\n",
    "In this demo we will explore how a system interacts with an external field by studying the example of a harmonic oscillator interacting with a time-dependent field (e.g. laser).\n",
    "\n",
    "We'll **review** some of the stuff you've learned so far : \n",
    "\n",
    "1. The quantum harmonic oscillator.\n",
    "1. How to generate an animation.\n",
    "\n",
    "And we'll play around with some **new concepts** :\n",
    "\n",
    "1. Time dependent hamiltonian.\n",
    "2. Solutions to the harmonic oscillator interacting with a time dependent field.\n",
    "3. Transition probabilities.\n",
    "4. Infrared spectrum."
   ]
  },
  {
   "cell_type": "markdown",
   "metadata": {},
   "source": [
    "### <i class=\"fa fa-book\"></i> Step 1: Import the required modules."
   ]
  },
  {
   "cell_type": "code",
   "execution_count": null,
   "metadata": {
    "collapsed": false
   },
   "outputs": [],
   "source": [
    "% pylab inline\n",
    "import numpy as np\n",
    "from matplotlib import pyplot as plt\n",
    "import imp\n",
    "from scipy.integrate import simps\n",
    "#This is how we'll import our own homemade modules\n",
    "qworld = imp.load_source('qworld', '../library/quantumWorld.py')"
   ]
  },
  {
   "cell_type": "markdown",
   "metadata": {},
   "source": [
    "### <i class=\"fa fa-book\"></i> Step 2:  Let's see how a time-dependent field interacts with a Harmonic Oscillator"
   ]
  },
  {
   "cell_type": "markdown",
   "metadata": {},
   "source": [
    "The Hamiltonian of a Harmonic Oscillator interacting with a time-dependent field (e.g. laser) is given by:\n",
    "$$ \\hat{H}(t) = -\\frac{\\hbar^2}{2m}\\frac{d}{dx^2}+\\frac{1}{2}m\\omega_0^2x^2+\\frac{2\\pi}{\\lambda}E_0\\sin(\\omega_f\\;t)x $$\n",
    "\n",
    "Notice that there are two different frequencies here:  $\\omega_0$ is the frequency associated to the Harmonic Oscillator, which will have energies equal to $E_n = (n+\\frac{1}{2})\\hbar\\omega_0$.  And $\\omega_f$ is the frequency of the incoming field (i.e. laser).\n",
    "\n",
    "The time-dependent solution for a ground state is given by the following expression (this is obtained through a technique called **Perturbation Theory**, which we have not seen in class yet):\n",
    "\n",
    "$$\\psi(x,t) = \\psi_0(x) + \\frac{iE_0\\frac{2\\pi}{\\lambda}}{2\\sqrt{2m\\hbar\\omega_0}}[\\frac{e^{-i(\\omega_0 - \\omega_f)t}-1}{\\omega_0 - \\omega_f}+\\frac{e^{i(\\omega_0 + \\omega_f)t}-1}{\\omega_0 + \\omega_f}]\\;\\psi_1(x)$$  \n",
    "\n",
    "Here, $\\psi_0(x)$ and $\\psi_1(x)$ are the ground  and the first excited states of the standard (time-independent non-interacting) Harmonic Oscillator. "
   ]
  },
  {
   "cell_type": "markdown",
   "metadata": {},
   "source": [
    "We will generate an animation of how the probability density associated to this wave function evolves in time for different values of $\\omega_f$, and we will observe what happens when $\\omega_f \\approx \\omega_0$. First, we need to write a function called time_dependent_psi that returns $\\psi(x,t)$ as defined above:"
   ]
  },
  {
   "cell_type": "code",
   "execution_count": null,
   "metadata": {
    "collapsed": false
   },
   "outputs": [],
   "source": [
    "def time_dependent_psi(x, t, omega_f, omega_0 = 1, Lam = 1, E_0 = 1, m=1, hbar=1):\n",
    "    '''This function returns psi(x,t) for a harmonic oscillator \n",
    "    under a time dependent field: \n",
    "    INPUTS: \n",
    "        x --> array of positions\n",
    "        t --> time\n",
    "        omega_f --> frequency of the field/laser that interacts with the \n",
    "                    particle in the Harmonic Oscillator\n",
    "    '''\n",
    "    #We'll first get the ground state of the standard HO\n",
    "    psi_0 = qworld.harmonic_oscillator_wf(x,0)\n",
    "    #Then we'll compute the two terms in front of the first excited state \n",
    "    term1 = 1j*E_0*(2*np.pi/Lam) / (2*np.sqrt(2*m*hbar*omega_0))\n",
    "    term2 = (np.exp(-1j*(omega_0-omega_f)*t)-1) / (omega_0-omega_f) + (np.exp(1j*(omega_0+omega_f)*t)-1) / (omega_0+omega_f)\n",
    "    #We'll then get the first excited state for the standard HO\n",
    "    psi_1 = qworld.harmonic_oscillator_wf(x, 1)\n",
    "    #######################################################################\n",
    "    # (ONE LINE) COMBINE EVERYTHING INTO THE EXPRESSION FOR THE WAVEFUNCTION\n",
    "    # assign the result to the variable psi_x_t\n",
    "\n",
    "    #######################################################################\n",
    "    return psi_x_t"
   ]
  },
  {
   "cell_type": "markdown",
   "metadata": {},
   "source": [
    "### <i class=\"fa fa-wrench\"></i> Step 3: Now let's generate an animation of the moving gaussian / ground state for a given field frequency.\n",
    "\n",
    "Use a field frequency of $\\omega_f = 3.0$. Complete code for the animation."
   ]
  },
  {
   "cell_type": "code",
   "execution_count": null,
   "metadata": {
    "collapsed": false
   },
   "outputs": [],
   "source": [
    "#Set the field frequency value to either an off-resonant frequency \n",
    "#(omega_f = 3) or a near-resonant frequency (omega_f = 1.1)\n",
    "omega_f = 1.05\n",
    "\n",
    "#import the animation module\n",
    "from matplotlib import animation\n",
    "\n",
    "#We'll set up the figure for you\n",
    "fig = plt.figure()\n",
    "ax = plt.axes(xlim=(-3, 3), ylim=(0, 1)) #create single axis in figure\n",
    "plt.xlabel('position')\n",
    "plt.ylabel('amplitude')\n",
    "line, = ax.plot([], [], lw=2) #line is a plot.... \n",
    "\n",
    "#This init function will be called to create \n",
    "#the base frame upon which the animation takes place.\n",
    "#we'll set it up for you as well\n",
    "def init():\n",
    "    line.set_data([], []) #sets the line data to nothing\n",
    "    return line,  #return the line object\n",
    "\n",
    "### COMPLETE THIS ANIMATION FUNCTION, WHICH WILL BE CALLED \n",
    "### ITERATIVELY FOR MANY VALUES OF T\n",
    "def animate(t): \n",
    "    ###############################################\n",
    "    # (ONE LINE) CREATE AN ARRAY OF POSITION FROM -3 TO 3, INTERVALS OF 0.01\n",
    "    #CALL IT x_array\n",
    "\n",
    "    ###############################################\n",
    "    \n",
    "    #Scale the time if necessary\n",
    "    t_anim = t\n",
    "\n",
    "    #######################################################################\n",
    "    #CALL time_dependent_psi TO GENERATE THE TIME-DEPENDENT WAVEFUNCTION\n",
    "    #AT TIME t, CALL THE OUTPUT psi\n",
    "\n",
    "    ########################################################################\n",
    "    \n",
    "    ################################################################################\n",
    "    #NORMALIZE CALLING THE FUNCTION qworld.normalize_wf, CALL THE OUTPUT psi_norm\n",
    "\n",
    "    #################################################################################\n",
    "\n",
    "    #################################################################################\n",
    "    # GET THE PDF CALLING THE FUNCTION qworld.probabilityDensity, CALL THE OUTPUT pdf\n",
    "\n",
    "    #################################################################################\n",
    "    \n",
    "    #Plot\n",
    "    line.set_data(x_array, pdf)  #This is what you plot at each frame in the animation. \n",
    "    return line\n",
    "\n",
    "#Let's create the animation!!!\n",
    "anim = animation.FuncAnimation(fig, animate, init_func=init, frames=200)\n",
    "\n",
    "qworld.display_animation(anim)"
   ]
  },
  {
   "cell_type": "markdown",
   "metadata": {},
   "source": [
    "Now Repeat the process above for a field frequency of $\\omega_f = 1.05$, which is very close to $\\omega_0$. **You might want to speed up the dynamics by changing t_anim = t. Multiply it by a factor of 2 or 3**  Do this by modifying the cell above."
   ]
  },
  {
   "cell_type": "markdown",
   "metadata": {},
   "source": [
    "#### <i class=\"fa fa-gear\"></i> Question: After watching both animations. What can you tell about the behavior of the system as a function of $\\omega_f$? Discuss it with your classmates. <br>\n",
    "You can play around with different values of $\\omega_f$ to get a better sense of what's happening."
   ]
  },
  {
   "cell_type": "markdown",
   "metadata": {},
   "source": [
    "### <i class=\"fa fa-wrench\"></i> Step 4: Now, we will compute the overlap of the time-dependent wave function and the first excited state of the Harmonic Oscillator as a function of time.<br>\n",
    "\n",
    "From the expression of the wavefunction $\\psi(x,t)$ and exploiting the orthonormality of the eigenstates of the standard harmonic oscillator, we can deduce that:\n",
    "$$c_1(t) =  \\int_{-\\infty}^{\\infty}\\psi^*_1(x)\\;\\psi(x,t)\\;dx=\\frac{iE_0\\frac{2\\pi}{\\lambda}}{2\\sqrt{2m\\hbar\\omega_0}}[\\frac{e^{-i(\\omega_0 - \\omega_f)t}-1}{\\omega_0 - \\omega_f}+\\frac{e^{i(\\omega_0 + \\omega_f)t}-1}{\\omega_0 + \\omega_f}]\\;$$"
   ]
  },
  {
   "cell_type": "markdown",
   "metadata": {},
   "source": [
    "Now complete the following function that returns the overlap of the time-dependent wave function with the first excited state."
   ]
  },
  {
   "cell_type": "code",
   "execution_count": null,
   "metadata": {
    "collapsed": false
   },
   "outputs": [],
   "source": [
    "def overlap(t, omega_f, omega_0 = 1, Lam = 1, E_0 = 0.1, m=1, hbar=1):\n",
    "    #################################################################################\n",
    "    # (ONE LINE) WRITE THE FORMULA OF THE FIRST TERM IN THE EXPRESSION FOR c_1(t), CALL IT term1\n",
    "    # HINT: check out the expression for term2 and compare it with the formula above\n",
    "\n",
    "    #################################################################################\n",
    "    term2 = (np.exp(-1j*(omega_0-omega_f)*t)-1) / (omega_0-omega_f) + (np.exp(1j*(omega_0+omega_f)*t)-1) / (omega_0+omega_f)\n",
    "    return term1*term2"
   ]
  },
  {
   "cell_type": "markdown",
   "metadata": {},
   "source": [
    "Use the \"overlap\" function above to compute the overlap $c_1(t)$ of the time-dependent wave function with the first excited state for the case where $\\omega_f = 3.0$ (OFF-RESONANCE) for different times.  Then square this amplitude, $|c_1(t)|^2$ and plot it as a function of time."
   ]
  },
  {
   "cell_type": "code",
   "execution_count": null,
   "metadata": {
    "collapsed": false
   },
   "outputs": [],
   "source": [
    "#Set the value of omega_f to off-resonance\n",
    "omega_f = 3.0\n",
    "#Create a time array, t = 0 to 10\n",
    "t_array = np.arange(0,10,0.01)\n",
    "\n",
    "#################################################################\n",
    "# (ONE LINE) CALL THE overlap FUNCTION TO CALCULATE c_1(t). \n",
    "# Assign it to a variable called c1_t\n",
    "\n",
    "#################################################################\n",
    "\n",
    "#Square it to get a \"probability\" of transition to excited state\n",
    "#(Don't worry about the fact that it's not properly normalized)\n",
    "prob_excited_state = np.abs(c1_t**2)\n",
    "\n",
    "#Let's plot.\n",
    "plt.plot(t_array, prob_excited_state)\n",
    "plt.xlabel('Time')\n",
    "plt.ylabel('|C_1(t)|^2 (not normalized)', fontsize = 14)\n",
    "plt.show()"
   ]
  },
  {
   "cell_type": "markdown",
   "metadata": {},
   "source": [
    "Now use the \"overlap\" function above to compute the overlap $c_1(t)$ of the time-dependent wave function with the first excited state for the case where $\\omega_f = 1.05$ (NEAR-RESONANCE) for different times.  Then compute $|c_1(t)|^2$ and plot as a function of time. "
   ]
  },
  {
   "cell_type": "code",
   "execution_count": null,
   "metadata": {
    "collapsed": false
   },
   "outputs": [],
   "source": [
    "#Set the value of omega_f to near-resonance\n",
    "omega_f = 1.05\n",
    "#Create a time array, t = 0 to 10\n",
    "t_array = np.arange(0,300,0.01)\n",
    "\n",
    "#################################################################\n",
    "# (ONE LINE) CALL THE overlap FUNCTION TO CALCULATE c_1(t). \n",
    "# Assign it to a variable called c1_t\n",
    "\n",
    "#################################################################\n",
    "\n",
    "#Square it to get a \"probability\" of transition to excited state\n",
    "#(Don't worry about the fact that it's not properly normalized)\n",
    "prob_excited_state = np.abs(c1_t**2)\n",
    "\n",
    "#Let's plot.\n",
    "plt.plot(t_array, prob_excited_state)\n",
    "plt.xlabel('Time', fontsize = 14)\n",
    "plt.ylabel('|C_1(t)|^2 (not normalized)', fontsize = 14)\n",
    "plt.show()"
   ]
  },
  {
   "cell_type": "markdown",
   "metadata": {},
   "source": [
    "#### <i class=\"fa fa-gear\"></i> Question: How does the amplitude change between the resonance and the non-resonance case? Discuss it with your classmates."
   ]
  },
  {
   "cell_type": "markdown",
   "metadata": {},
   "source": [
    "### <i class=\"fa fa-wrench\"></i> Step 5: Calculate the IR spectrum."
   ]
  },
  {
   "cell_type": "markdown",
   "metadata": {},
   "source": [
    "The average transition amplitude to the first excited state at a particular $\\omega_f$ ($A_{0 \\to 1}(;\\omega_f)$), is obtained by integrating $c_1(t;\\omega_f)$ over time:\n",
    "\n",
    "$$A_{0 \\to 1}(;\\omega_f)=\\int_{0}^{t}c_1(t;\\omega_f)\\;dt$$ \n",
    "\n",
    "Now, let's create an array of many values of $\\omega_f$ and for each one of these values of $\\omega_f$ we'll calculate $A_{0 \\to 1}(;\\omega_f)$, as shown above. By squaring $A_{0 \\to 1}(;\\omega_f)$, we'll get the value of the intensity at that particular $\\omega_f$, which corresponds to the average transition probability, $P_{0 \\to 1}(;\\omega_f)$:\n",
    "\n",
    "$$P_{0 \\to 1}(;\\omega_f)=|A_{0 \\to 1}(;\\omega_f)|^2$$\n",
    "\n",
    "The intensity of the transition is proportional to the average transition probability, and a plot of $P_{0 \\to 1}(;\\omega_f)$ as a function of $\\omega_f$ constitutes an spectrum. Molecular vibrations, which are modeled as harmonic oscillators, have transition energies that corresponds to frequencies in the infrared (IR) band of the electromagnetic spectrum."
   ]
  },
  {
   "cell_type": "code",
   "execution_count": null,
   "metadata": {
    "collapsed": false
   },
   "outputs": [],
   "source": [
    "#Create omega_array, an array of values from -3 to 3, intervals of 0.011\n",
    "omega_array = np.arange(0,3,0.011)\n",
    "#Initialize our IR array to a bunch of zeros\n",
    "IR_array = np.zeros_like(omega_array)\n",
    "#For each value of omega:\n",
    "for i in range(len(omega_array)):\n",
    "    omega_f = omega_array[i]\n",
    "    #Array of time values\n",
    "    t_array = np.arange(0,30,0.1)\n",
    "    #assign to c1_t the overlap as a function of time, by calling the \n",
    "    #the overlap function above.\n",
    "    c1_t = overlap(t_array, omega_f)\n",
    "    ###########################################################################\n",
    "    # (ONE LINE) FOR EACH OMEGA, INTEGRATE, USING SIMPS, c1_t OVER TIME\n",
    "    # TO OBTAIN THE TRANSITION AMPLITUDE AT THAT FREQUENCY AVERAGED OVER TIME\n",
    "    # assign it to a variable called transition_amplitude\n",
    "\n",
    "    ############################################################################\n",
    "    \n",
    "    #We'll store the transition probability squared in an array. \n",
    "    IR_array[i] = np.abs(transition_amplitude)**2"
   ]
  },
  {
   "cell_type": "markdown",
   "metadata": {},
   "source": [
    "** Now let's plot our spectrum**"
   ]
  },
  {
   "cell_type": "code",
   "execution_count": null,
   "metadata": {
    "collapsed": false
   },
   "outputs": [],
   "source": [
    "qworld.my_plotting_function(omega_array, [IR_array], ['IR Spectrum'],'IR Spectrum','Frequency','Absorption intensity')"
   ]
  },
  {
   "cell_type": "markdown",
   "metadata": {},
   "source": [
    "#### <i class=\"fa fa-gear\"></i> Based on the results you've observed so far, discuss how spectroscopy is explained from the perspective of a system interacting with a time dependent field."
   ]
  },
  {
   "cell_type": "markdown",
   "metadata": {
    "collapsed": false
   },
   "source": [
    "### <i class=\"fa fa-book\"></i> Step 6. Check out what you learned in this demo. <br>\n",
    "\n",
    "#### 1. General solutions for a harmonic oscillator interacting with an electromagnetic field. <br>\n",
    "\n",
    "#### 2. How light drives transitions between quantum states. <br>\n",
    "\n",
    "#### 3. How to calculate transition amplitudes and transition probabilities and their role in spectroscopy."
   ]
  },
  {
   "cell_type": "code",
   "execution_count": null,
   "metadata": {
    "collapsed": true
   },
   "outputs": [],
   "source": []
  }
 ],
 "metadata": {
  "kernelspec": {
   "display_name": "Python 2",
   "language": "python",
   "name": "python2"
  },
  "language_info": {
   "codemirror_mode": {
    "name": "ipython",
    "version": 2
   },
   "file_extension": ".py",
   "mimetype": "text/x-python",
   "name": "python",
   "nbconvert_exporter": "python",
   "pygments_lexer": "ipython2",
   "version": "2.7.10"
  }
 },
 "nbformat": 4,
 "nbformat_minor": 0
}
