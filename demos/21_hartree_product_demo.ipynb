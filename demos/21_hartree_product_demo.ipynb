{
 "cells": [
  {
   "cell_type": "markdown",
   "metadata": {},
   "source": [
    "# Hartree and Hartree-Fock approximations.<br>\n",
    "\n",
    "\n",
    "### In this demo we are going to compare the Hartree and the Hartree-Fock approximations for computing the molecular energy and check the Koopmans theorem. <br>\n",
    "\n",
    "\n",
    "### Let's import some modules."
   ]
  },
  {
   "cell_type": "code",
   "execution_count": 1,
   "metadata": {
    "collapsed": false
   },
   "outputs": [
    {
     "name": "stderr",
     "output_type": "stream",
     "text": [
      "/home/student/anaconda/lib/python2.7/site-packages/IPython/html.py:14: ShimWarning: The `IPython.html` package has been deprecated. You should import from `notebook` instead. `IPython.html.widgets` has moved to `ipywidgets`.\n",
      "  \"`IPython.html.widgets` has moved to `ipywidgets`.\", ShimWarning)\n",
      "/home/student/anaconda/lib/python2.7/site-packages/IPython/utils/traitlets.py:5: UserWarning: IPython.utils.traitlets has moved to a top-level traitlets package.\n",
      "  warn(\"IPython.utils.traitlets has moved to a top-level traitlets package.\")\n"
     ]
    }
   ],
   "source": [
    "# imports\n",
    "import chemlab\n",
    "import chemview\n",
    "import numpy as np \n",
    "from scipy.linalg import eigh\n",
    "import scipy.linalg as LA\n",
    "import matplotlib.pyplot as plt\n",
    "# Pyquante\n",
    "import PyQuante\n",
    "from PyQuante.Molecule import Molecule\n",
    "from PyQuante import Ints\n",
    "from PyQuante.Ints import coulomb\n",
    "from PyQuante.hartree_fock import rhf\n",
    "from PyQuante.Ints import getbasis\n",
    "from PyQuante import SCF\n",
    "from PyQuante import configure_output\n",
    "# add all probables spots for the quantum world library\n",
    "import sys\n",
    "sys.path.append('../library')\n",
    "sys.path.append('../../library')\n",
    "sys.path.append('/home/student/chem160/library')\n",
    "#This is how we'll import our own home-made modules\n",
    "import quantumWorld as qworld\n",
    "import hartreeProduct as hp\n",
    "%matplotlib inline"
   ]
  },
  {
   "cell_type": "markdown",
   "metadata": {},
   "source": [
    "# <i class=\"fa fa-wrench\"></i> Step 1 : <i class=\"fa fa-wrench\"></i>  Define the molecule.<br>\n",
    "\n",
    "### We are going to calculate the hydrogen molecule with an internuclear distance of 0.75 angstroms. Create the molecule using the Molecule object from pyquante:\n",
    "```python\n",
    "variable_name = Molecule('name',\n",
    "                          atomlist = [(atomic_number,(x1, y1, z1)),\n",
    "                                      (atomic_number,(x2, y2, z2))],\n",
    "                          units='Angstrom')\n",
    "```"
   ]
  },
  {
   "cell_type": "code",
   "execution_count": 2,
   "metadata": {
    "collapsed": false
   },
   "outputs": [],
   "source": [
    "r = 0.75\n",
    "# COMPLETE THE CODE TO CREATE MOLECULAR HYDROGEN"
   ]
  },
  {
   "cell_type": "markdown",
   "metadata": {},
   "source": [
    "## Now visualize it:"
   ]
  },
  {
   "cell_type": "code",
   "execution_count": 3,
   "metadata": {
    "collapsed": false
   },
   "outputs": [
    {
     "data": {
      "text/html": [
       "<div id=\"molecule_b03dd393-3edc-4c3f-97a6-ad8dd8a4570c\"></div>\n",
       "           <script type=\"text/javascript\">\n",
       "           require.config({baseUrl: \"/\",\n",
       "                             paths: {imolecule: ['nbextensions/imolecule.min', 'https://rawgit.com/patrickfuller/imolecule/master/js/build/imolecule.min']}});\n",
       "           require(['imolecule'], function () {\n",
       "               var $d = $('#molecule_b03dd393-3edc-4c3f-97a6-ad8dd8a4570c');\n",
       "               $d.width(400); $d.height(300);\n",
       "               $d.imolecule = jQuery.extend({}, imolecule);\n",
       "               $d.imolecule.create($d, {drawingType: 'ball and stick',\n",
       "                                        cameraType: 'perspective',\n",
       "                                        shader: 'phong'});\n",
       "               $d.imolecule.draw({\"atoms\":[{\"element\":\"H\",\"location\":[0.000000,0.000000,-0.375000]},{\"element\":\"H\",\"location\":[0.000000,0.000000,0.375000]}],\"bonds\":[],\"formula\":\"H2\",\"molecular_weight\":2.015880,\"units\":{\"molecular_weight\":\"g / mol\"}});\n",
       "\n",
       "               $d.resizable({\n",
       "                   aspectRatio: 400 / 300,\n",
       "                   resize: function (evt, ui) {\n",
       "                       $d.imolecule.renderer.setSize(ui.size.width,\n",
       "                                                     ui.size.height);\n",
       "                   }\n",
       "               });\n",
       "           });\n",
       "           </script>"
      ],
      "text/plain": [
       "<IPython.core.display.HTML object>"
      ]
     },
     "metadata": {},
     "output_type": "display_data"
    }
   ],
   "source": [
    "qworld.visualize_Mol(h2)"
   ]
  },
  {
   "cell_type": "markdown",
   "metadata": {},
   "source": [
    "# <i class=\"fa fa-wrench\"></i> Step 2 : Define the basis and run the Hartree-Fock calculation."
   ]
  },
  {
   "cell_type": "markdown",
   "metadata": {},
   "source": [
    "Recall from class that our Hartree Fock energy is given by:\n",
    "\n",
    "$$E = \\sum_{i=1}^N\\left( h_i + \\epsilon_i \\right)$$\n",
    "\n",
    "where the *orbital energies*, $\\epsilon_i$ are given by:\n",
    "\n",
    "$$\\epsilon_i = h_i + \\sum_{j=1}^N \\left( 2 J_{ij} - K_{ij} \\right), \\ \\text{(Closed shell molecule)} $$ \n",
    "\n",
    "where\n",
    "\n",
    "$$h_j = \\int dr_j \\psi^\\dagger_j(r_j) \\left( -\\frac{1}{2}\\nabla^2_j - \\sum_A^M \\frac{Z_A}{R_{jA}}  \\right) \\psi_j(r_j) $$\n",
    "\n",
    "is the 1 electron integral,\n",
    "\n",
    "$$J_{ij} = \\int \\int dr_1 dr_2 \\psi^*_i(r_1) \\psi^*_j(r_2) \\frac{1}{r_{12}} \\psi_i(r_1) \\psi_j(r_2) $$\n",
    "\n",
    "is the coulomb integral, and\n",
    "\n",
    "$$K_{ij} = \\int \\int dr_1 dr_2 \\psi^*_i(r_1) \\psi^*_j(r_2) \\frac{1}{r_{12}} \\psi_i(r_2) \\psi_j(r_1) $$\n",
    "is the exchange integral.\n",
    "\n",
    "You're going to write this in your considerable exercise, but for the time being, we'll just go ahead and use PyQuante. The method that you're interested in is Restricted Hartree-Fock (rhf)\n",
    "```python\n",
    "    HFenergy, orbital_energies, orbitals = rhf(molecule,basis_data=basis_set)\n",
    "```"
   ]
  },
  {
   "cell_type": "code",
   "execution_count": 4,
   "metadata": {
    "collapsed": false
   },
   "outputs": [
    {
     "name": "stderr",
     "output_type": "stream",
     "text": [
      "RHF calculation on h2\n",
      "Nbf = 10\n",
      "Nclosed = 1\n",
      "Calculating Integrals...\n",
      "Integrals Calculated.\n",
      "Using DIIS averaging\n",
      "Iteration: 0    Energy: -1.069550    EnergyVar: 1.069550\n",
      "Iteration: 1    Energy: -1.137402    EnergyVar: 0.067852\n",
      "Iteration: 2    Energy: -1.131095    EnergyVar: 0.006307\n",
      "Iteration: 3    Energy: -1.131128    EnergyVar: 0.000034\n",
      "PyQuante converged in 4 iterations\n",
      "Final HF energy for system h2 is -1.131119\n"
     ]
    },
    {
     "name": "stdout",
     "output_type": "stream",
     "text": [
      "FINAL HF ENERGY:\n",
      "-1.13111938387\n"
     ]
    }
   ],
   "source": [
    "basis_set='6-31G**'\n",
    "configure_output(stream=sys.stderr)\n",
    "# COMPLETE THE LINE TO RUN THE RESTRICTED HARTREE-FOCK CALCULATION USING PYQUANTE\n",
    "\n",
    "\n",
    "print \"FINAL HF ENERGY:\"\n",
    "print HFenergy"
   ]
  },
  {
   "cell_type": "markdown",
   "metadata": {},
   "source": [
    "# <i class=\"fa fa-wrench\"></i>  Step 3: Now let's explore some properties: the Koopmans' theorem. "
   ]
  },
  {
   "cell_type": "markdown",
   "metadata": {},
   "source": [
    "### Next, let's go ahead and see if Koopman's theorem also applies here. We know that the experimental first ionization energy of hydrogen is $15.43eV$. Where $1 \\ ha=27.211eV$. <br>\n",
    "\n",
    "### Compute the ionization energy of molecular hydrogen in eV using the Koopmans' theorem. Remember that you obtained the orbital energies from the HF calculation."
   ]
  },
  {
   "cell_type": "code",
   "execution_count": 5,
   "metadata": {
    "collapsed": false
   },
   "outputs": [
    {
     "name": "stdout",
     "output_type": "stream",
     "text": [
      "The ionization energy of H2 is:  16.1049760778 eV\n",
      "using the Koopmans' approach with the 6-31G** basis set.\n",
      "The percentage error is: 4.37443990803\n"
     ]
    }
   ],
   "source": [
    "firstIEH2=\n",
    "print \"The ionization energy of H2 is: \",firstIEH2,\"eV\"\n",
    "print \"using the Koopmans' approach with the 6-31G** basis set.\" \n",
    "print \"The percentage error is:\",100*abs(firstIEH2-15.43)/15.43\n"
   ]
  },
  {
   "cell_type": "markdown",
   "metadata": {},
   "source": [
    "## ... Curious fact <i class=\"fa fa-lightbulb-o\"></i>\n",
    "\n",
    "### The Koopmans' theorem is named after Tjalling Koopmans, who published this result in 1934. Tjalling started as a student in mathematics, then moved to theoretical physics and finally to economics. He is famous in the quantum chemistry field because of his theorem, but guess what, he is even more famous in economics, where he got the nobel prize for his contributions to the theory of optimal use of resources. Well done Tjalling.\n",
    "\n",
    "![](files/koopmans.jpg)\n"
   ]
  },
  {
   "cell_type": "markdown",
   "metadata": {},
   "source": [
    "# <i class=\"fa fa-wrench\"></i> Step 4: Run the Hartree product calculation, how bad is it? "
   ]
  },
  {
   "cell_type": "markdown",
   "metadata": {},
   "source": [
    "Recall from class that the energy of the Hartree-Product approximation is found as:\n",
    "\n",
    "$$ E_0 = \\langle \\psi_0 | \\sum_i \\hat{h}_i + \\sum_{i>j} \\frac{1}{| r_i - r_j |} | \\psi_0 \\rangle,$$\n",
    "where\n",
    "$$\\psi_T = |\\phi_1^1 \\rangle |\\phi_2^2 \\rangle ... |\\phi_N^N \\rangle.$$\n",
    "\n",
    "This simplifies to:\n",
    "\n",
    "$$E_T = \\sum_i \\langle \\phi_i | \\hat{h}_i | \\phi_i \\rangle + \\sum_{i>j}  ( ij | ij ).$$\n",
    "\n",
    "We have implemented the Hartree-Product using our own routine, so all you need to do is call the **hp.hartreeProduct()** method and you'll be all set:\n",
    "\n",
    "    HPenergy, orbital_energies, MO_coeff = hp.hartreeProduct(molecule,basis=basis_name)"
   ]
  },
  {
   "cell_type": "code",
   "execution_count": 6,
   "metadata": {
    "collapsed": false
   },
   "outputs": [
    {
     "name": "stdout",
     "output_type": "stream",
     "text": [
      "Iteration number 1, energy = -0.427649, energyvar = 0.427649\n",
      "Iteration number 2, energy = -0.497845, energyvar = 0.070196\n",
      "Iteration number 3, energy = -0.515634, energyvar = 0.017789\n",
      "Iteration number 4, energy = -0.520979, energyvar = 0.005345\n",
      "Iteration number 5, energy = -0.522566, energyvar = 0.001587\n",
      "Iteration number 6, energy = -0.523047, energyvar = 0.000481\n",
      "Converged in 6 iterations\n",
      "Final Hartree Fock Energy for h2 is -0.523047\n",
      "FINAL Hartree-Product ENERGY:\n",
      "-0.523046518583\n"
     ]
    }
   ],
   "source": [
    "# COMPLETE THE LINE FOR THE HARTREE-PRODUCT CALCULATION\n",
    "\n",
    "print \"FINAL Hartree-Product ENERGY:\"\n",
    "print HPenergy"
   ]
  },
  {
   "cell_type": "code",
   "execution_count": null,
   "metadata": {
    "collapsed": false
   },
   "outputs": [],
   "source": []
  }
 ],
 "metadata": {
  "kernelspec": {
   "display_name": "Python 2",
   "language": "python",
   "name": "python2"
  },
  "language_info": {
   "codemirror_mode": {
    "name": "ipython",
    "version": 2
   },
   "file_extension": ".py",
   "mimetype": "text/x-python",
   "name": "python",
   "nbconvert_exporter": "python",
   "pygments_lexer": "ipython2",
   "version": "2.7.10"
  }
 },
 "nbformat": 4,
 "nbformat_minor": 0
}
