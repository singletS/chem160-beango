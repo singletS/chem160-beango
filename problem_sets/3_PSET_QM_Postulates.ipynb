{
 "cells": [
  {
   "cell_type": "markdown",
   "metadata": {},
   "source": [
    "# 3- Wavefunctions and <br> Probability Density Functions\n",
    "\n",
    "## Intro\n",
    "\n",
    "![](files/QuantumHarmonicOsc.gif)\n",
    "\n",
    "In this problem set, we will explore the postulates of Quantum Mechanics:\n",
    "\n",
    "* A wavefunction $\\Psi$ contains all the information about the quantum system.\n",
    "* The probability density (at time t) of a wavefunction is  $\\Psi^∗(r,t)\\Psi(r,t)$.\n",
    "* For every observable of a system, there is a corresponding quantum mechanical operator.\n",
    "* When using a normalized wavefunction $\\Psi$, the average value of an observable is given by its expectation value.\n",
    "* The wavefunction evolves in time according to the Schrödinger equation.\n",
    "\n"
   ]
  },
  {
   "cell_type": "markdown",
   "metadata": {},
   "source": [
    "# <i class=\"fa fa-check-circle-o\"></i> Exercise 0: <br>The QuantumWorld module\n",
    "## <i class=\"fa fa-exclamation-triangle\"></i> Grad students, one point, required\n",
    "## <i class=\"fa fa-smile-o\"></i> Undergrad students, not required\n",
    "\n",
    "\n",
    "Modules are collections of functions and data structures that make coding much easier. We have already used a few: **numpy**, **scipy**, **matplotlib**.\n",
    "\n",
    "We have also build a module for this course to help our  exploration of quantum mechanics: **quantumWorld**.\n",
    "\n",
    "Undergrad students will be able to use functions of this library, but **Grad students will have to use their own created functions for the same purposes.**\n",
    "\n",
    "\n",
    "### First we import the modules you'll need"
   ]
  },
  {
   "cell_type": "code",
   "execution_count": null,
   "metadata": {
    "collapsed": false
   },
   "outputs": [],
   "source": [
    "#Here is what we usually import\n",
    "% matplotlib inline\n",
    "import numpy as np\n",
    "from matplotlib import pyplot as plt\n",
    "from scipy.integrate import simps\n",
    "##this allow us to print out the available functions and documentation in our library,\n",
    "import pydoc \n",
    "# add all probable spots for the quantum world library\n",
    "import sys\n",
    "sys.path.append('../library')\n",
    "sys.path.append('../../library')\n",
    "sys.path.append('/home/beangoben/chem160/library')\n",
    "#This is how we'll import our own home-made modules\n",
    "import quantumWorld as qworld"
   ]
  },
  {
   "cell_type": "markdown",
   "metadata": {},
   "source": [
    "## 0.a - 1D Numerical Particle in the box eigenfunction\n",
    "should be called **box_1D_eigenfunction** and take 3 input variables: \n",
    "\n",
    "* **x** grid for the particle.\n",
    "* box length **L**.\n",
    "* and eigenstate number **n**.\n",
    "\n",
    "Code the function here:"
   ]
  },
  {
   "cell_type": "code",
   "execution_count": null,
   "metadata": {
    "collapsed": true
   },
   "outputs": [],
   "source": []
  },
  {
   "cell_type": "markdown",
   "metadata": {},
   "source": [
    "## 0.b- PDF of a wavefunction\n",
    "should be called  **probabilityDensity** and should take a variable:\n",
    "\n",
    "* **psi_x**, a vector representing a wavefunction.\n",
    "\n",
    "Code the function here:"
   ]
  },
  {
   "cell_type": "code",
   "execution_count": null,
   "metadata": {
    "collapsed": true
   },
   "outputs": [],
   "source": []
  },
  {
   "cell_type": "markdown",
   "metadata": {},
   "source": [
    "## 0.c - 1D Analytical Energy of the $n$-th eigenstate of PIB\n",
    "should be called **\n",
    "analytical_E_n_1D_PIB** and take 2 input variables: \n",
    "\n",
    "* box length **L**.\n",
    "* and eigenstate number **n**.\n",
    "\n",
    "Code the function here:\n"
   ]
  },
  {
   "cell_type": "code",
   "execution_count": null,
   "metadata": {
    "collapsed": true
   },
   "outputs": [],
   "source": []
  },
  {
   "cell_type": "markdown",
   "metadata": {},
   "source": [
    "## 0.d - Numerical Gradient\n",
    "\n",
    "The momentum operator in the coordinate basis is to take the first spatial derivative. Since we are operating on a grid and vector, we will have make a numerical derivative function.  We will approximate the derivative by taking linear combinations of function values at the grid points. There are many ways of calculating derivatives, we will use [**finite differences**](https://en.wikipedia.org/wiki/Finite_difference):\n",
    "$$\n",
    "\\begin{align*}\n",
    "\\frac{d y}{d x} &= \\frac{1}{2 \\Delta x} (x_{i+1} - x_{i-1}),\\quad \\text{central difference}\\\\\n",
    "\\frac{d y}{d x} &= \\frac{1}{ \\Delta x} (x_{i+1} - x_{i}),\\quad \\text{forward difference}\\\\\n",
    "\\frac{d y}{d x} &= \\frac{1}{ \\Delta x} (x_{i} - x_{i-1}),\\quad \\text{backward difference}\n",
    "\\end{align*}\n",
    "$$\n",
    "\n",
    "Undegrad students could use **np.gradient**. (Undergraduate students are also encouraged to make your own funtion if you want a small challenge.)\n",
    "\n",
    "Your function should be a first-order  central difference called **gradient** which takes an  input:\n",
    "\n",
    "* **x**, position vector.\n",
    "* **y**, function vector ($f(x)$).\n",
    "\n",
    "and should return a derivative vector **div** of same length as **x** and **y**.\n",
    "\n",
    "**Note:** You will have to decide what to do with the border cases of your vector, could be a forward or backward difference method there.\n",
    "\n",
    "Code goes here:"
   ]
  },
  {
   "cell_type": "code",
   "execution_count": null,
   "metadata": {
    "collapsed": false
   },
   "outputs": [],
   "source": []
  },
  {
   "cell_type": "markdown",
   "metadata": {},
   "source": [
    "# <i class=\"fa fa-check-circle-o\"></i> Exercise 1: Normalize your $\\Psi$ \n",
    "## 1 point\n",
    "\n",
    "In this exercise, you will first construct a wave function and determine if it is properly normalized.\n",
    "\n",
    "You will then write a Python function that normalizes any wavefunction you give as input.\n",
    "\n",
    "## 1.a - Construct a wave function psi_x \n",
    "\n",
    "We want $\\psi(x)$ to be a linear combination of the first four eigenstates of the 1D particle in a box, remember you worked with these functions in PSET2. Use a box of length 10. \n",
    "\n",
    "Mathematically this would be:\n",
    "\n",
    "\\begin{align*} \n",
    "\\psi(x) = \\psi _1(x) + \\psi _2(x)+ \\psi _3(x)+ \\psi _4(x) \\\\ \n",
    "\\text{ where }\\psi _n(x) = \\sqrt{\\frac{2}{L}}\\sin(\\frac{n \\pi x }{L})\n",
    "\\end{align*}\n",
    "\n",
    "**Pro tip**:\n",
    "Use the function box_1D_eigenfunction inside QuantumWorld (now imported as qworld). \n"
   ]
  },
  {
   "cell_type": "code",
   "execution_count": null,
   "metadata": {
    "collapsed": false,
    "scrolled": true
   },
   "outputs": [],
   "source": [
    "#Set the values of L, and x. \n",
    "\n",
    "\n",
    "\n",
    "#######(ONE LINE)\n",
    "#initialize psi_x as an array of zeros, same length as x\n",
    "#######\n",
    "\n",
    "#For each value of n, from 1 to n_max - 1 ...\n",
    "for n in range(1,n_max + 1):\n",
    "    ########(ONE LINE)\n",
    "    #assign to the variable psi_n the 1D particle-in-box nth eigenfunction \n",
    "\n",
    "    #########\n",
    "    #update psi_n\n"
   ]
  },
  {
   "cell_type": "markdown",
   "metadata": {},
   "source": [
    "## 1.b -  Construct the pdf associated to $\\psi(x)$\n",
    "### and plot  $\\psi(x)$ with it's pdf. <i class=\"fa fa-line-chart\"></i>\n"
   ]
  },
  {
   "cell_type": "code",
   "execution_count": null,
   "metadata": {
    "collapsed": false
   },
   "outputs": [],
   "source": [
    "#########(ONE LINE)\n",
    "#Assign variable pdf the probability density function associated to psi_x. \n",
    "##########\n",
    "\n",
    "\n",
    "#Plot both psi_x and pdf as a function of x, overlayed in the same figure\n"
   ]
  },
  {
   "cell_type": "markdown",
   "metadata": {},
   "source": [
    "## 1.3 - $\\Psi$ is not normalized <i class=\"fa fa-meh-o\"></i> ..we have to fix that.\n",
    "\n",
    "### Write a function ..\n",
    "that takes an input wavefunction **psi_x** and returns the same but normalized wavefunction. \n",
    "\n",
    "If a wavefunction is not properly normalized, you will need to calculate the following norm: \n",
    "\n",
    "$$ \\text{if } \\langle \\psi | \\psi \\rangle = \\int_0^L \\psi^*(x)\\psi(x)dx = A$$\n",
    "And then divide the wavefunction by $\\sqrt{A}$ :\n",
    "\n",
    "$$\\psi_{norm}(x)=\\frac{\\psi(x)}{\\sqrt{\\langle \\psi | \\psi \\rangle}}=\\frac{\\psi(x)}{\\sqrt{A}}$$"
   ]
  },
  {
   "cell_type": "code",
   "execution_count": null,
   "metadata": {
    "collapsed": false
   },
   "outputs": [],
   "source": [
    "#Define a function called normalize_wf, which takes inputs, x and psi_x, and returns the\n",
    "#normalized wave function, wf_norm\n",
    "def normalize_wf(x, psi_x):\n",
    "    '''this function normalizes a wave function\n",
    "    Input --> x, numpy array of position vectors\n",
    "              psi_x, numpy array representing wave function, same length as x\n",
    "    Output: \n",
    "            wf_norm --> normalized wave function\n",
    "    ''' \n",
    "    #########(THREE LINES)\n",
    "    # 1. Get the probability density function of psi_x, then assign it to pdf\n",
    "\n",
    "    # 2. Integrate the pdf over the entire range x.  Use simps and assign it to integral_norm\n",
    "\n",
    "    # 3. normalize the wavefunction by dividing psi_x by the square root of integral norm.  \n",
    "    #Assign to wf_norm\n",
    "\n",
    "    ############\n",
    "    return wf_norm"
   ]
  },
  {
   "cell_type": "markdown",
   "metadata": {},
   "source": [
    "## 1.d - Normalize that $\\psi$!\n",
    "\n",
    "Use the function you created in *1c* to normalize the $\\psi(x)$ you built in *1.b*.\n",
    "\n",
    "Double check that the new wave function is actually normalized by performing the appropriate integral."
   ]
  },
  {
   "cell_type": "code",
   "execution_count": null,
   "metadata": {
    "collapsed": false
   },
   "outputs": [],
   "source": [
    "#Assign the variable pdf_before the pdf associated to psi_x (before normalization)\n",
    "\n",
    "##########(ONE LINE)\n",
    "#Perform the integral of pdf_before over the entire range x, using the simps function \n",
    "#assign this value to integral_before\n",
    "\n",
    "\n",
    "#####(THREE LINES)\n",
    "# 1. normalize the wavefunction psi_x, using the function normalize_wf you just made,\n",
    "# and assign to psi_norm\n",
    "\n",
    "# 2. Assign pdf_after to the pdf associated of the normalized wave function\n",
    "\n",
    "# 3. Perform the integral of pdf_after over the entire range x. (Use the simps function \n",
    "# and assign this value to integral_after)\n",
    "\n",
    "############\n",
    "\n",
    "#print both values, integral_before and integral_after.  Is your new WaveFunction normalized?\n",
    "print 'the value before normalization is --> ', integral_before\n",
    "print 'the value after normalization is --> ', integral_after"
   ]
  },
  {
   "cell_type": "markdown",
   "metadata": {},
   "source": [
    "# <i class=\"fa fa-check-circle-o\"></i> Exercise 2: <br> Time-Dependent Schrodinger Equation\n",
    "\n",
    "In the next exercises, you will incorporate time dependence into wavefunctions, just like we did for the solutions to the wave equation.\n",
    "\n",
    "You will create an animation that allows you to observe the time-dependence of a normalized superposition of two eigenfunctions of the 1D particle in a box. \n"
   ]
  },
  {
   "cell_type": "markdown",
   "metadata": {},
   "source": [
    "## 2.a - Making time-dependent wavefunctions\n",
    "### Write a function ..\n",
    "that takes as input an initial value of a coefficient, $c_n(0)$, a value of time **t**, and the energy of the eigenstate associated to **n**, $E_n$, and returns $c_n(t)$\n",
    "\n",
    "## Recall that ...\n",
    "the expression for the evolution of the coefficient $c_n$ is given by: <br>\n",
    "\n",
    "### $$c_n(t) = c_n(0) e^{ \\frac{-iE_n t}{\\hbar} }$$"
   ]
  },
  {
   "cell_type": "code",
   "execution_count": null,
   "metadata": {
    "collapsed": false
   },
   "outputs": [],
   "source": [
    "#create a function called cn_t_function, which takes as input \n",
    "#cn_0 --> the initial value of the coefficient\n",
    "#t --> a value of time\n",
    "#E_n --> the energy eigenvalue associated to the nth eigenfunction of the particle in a box\n",
    "#and returns as output cn_t, the value of the coefficient at time t\n",
    "def cn_t_function(cn_0, t, E_n, hbar = 1):\n",
    "    '''this function evolves the coefficient cn\n",
    "    '''\n",
    "    #write the exponent (recall that in python, 1j means sqrt(-1) (i.e. 'i'))\n",
    "    \n",
    "    ########(ONE LINE)\n",
    "    #multiply e^exponent (use np.exp function for the exponential)\n",
    "    #by cn_0, assign the product to the variable cn_t\n",
    "    ###########\n",
    "    \n",
    "    return cn_t"
   ]
  },
  {
   "cell_type": "markdown",
   "metadata": {},
   "source": [
    "## 2.b - Construct an initial wave function\n",
    "that is a normalized superposition of the **n=1** and **n=2** eigenstates (with equal contribution from each)."
   ]
  },
  {
   "cell_type": "code",
   "execution_count": null,
   "metadata": {
    "collapsed": false
   },
   "outputs": [],
   "source": [
    "#Set the values of L and the x array\n",
    "\n",
    "#Set the values of n1 and n2\n",
    "\n",
    "#Set the initial values of the c_n coefficients\n",
    "\n",
    "\n",
    "#####(TWO LINES)\n",
    "# Set the values of E1 and E2 to the analytical energies\n",
    "# of the n=1 and n=2 eigenstates.\n",
    "###  \n",
    "\n",
    "######(TWO LINES)\n",
    "# Assign to psi1_x and psi2_x the n=1 and n=1 eigenfunctions, respectively\n",
    "###########\n",
    "\n",
    "#Perform the linear combination, and assign it to psi0\n",
    "#The wave function at time = 0\n",
    "\n",
    "#Plot psi0, our wave function at time = 0\n"
   ]
  },
  {
   "cell_type": "markdown",
   "metadata": {},
   "source": [
    "## 2.3 - <i class=\"fa fa-video-camera\"></i> Create an animation for a time evolving $\\Psi$\n",
    "\n",
    "We will use the wavefunction you constructed above by evolving the coefficients according to the solutions to the time-dependent Schrodinger Equation.\n",
    "\n",
    "We'll actually make the animation show the evolution of the PDF assocaited to the wavefunction."
   ]
  },
  {
   "cell_type": "code",
   "execution_count": null,
   "metadata": {
    "collapsed": false
   },
   "outputs": [],
   "source": [
    "#import the animation module\n",
    "from matplotlib import animation\n",
    "\n",
    "#We'll set up the figure for you\n",
    "fig = plt.figure()\n",
    "ax = plt.axes(xlim=(0, 10), ylim=(0.0, 0.4)) #create single axis in figure\n",
    "plt.xlabel('position')\n",
    "plt.ylabel('amplitude')\n",
    "line, = ax.plot([], [], lw=2) #line is a plot.... \n",
    "\n",
    "#This init function will be called to create \n",
    "#the base frame upon which the animation takes place.\n",
    "#we'll set it up for you as well\n",
    "def init():\n",
    "    line.set_data([], []) #sets the line data to nothing\n",
    "    return line,  #return the line object\n",
    "\n",
    "### COMPLETE THIS ANIMATION FUNCTION, WHICH WILL BE CALLED \n",
    "### ITERATIVELY FOR MANY VALUES OF t\n",
    "def animate(t): \n",
    "    ########## (FOUR LINES)\n",
    "    # 1. assing to c1_t the value of c1 at time=t.\n",
    "    # Use the function cn_t_function you created above. \n",
    "\n",
    "    # 2 . assing to c2_t the value of c2 at time=t.\n",
    "    # Use the function cn_t_function you created above. \n",
    "\n",
    "    # 3 . Assign to psi_x that linear combination c1(t)*psi_1 + c2(t)*psi_2\n",
    "\n",
    "    # 4 . Assign to y the pdf associted to psi_x\n",
    "\n",
    "    ############\n",
    "    line.set_data(x, y)  #This is what you plot at each frame in the animation. \n",
    "    return line,\n",
    "\n",
    "#Let's create the animation!!!\n",
    "anim = animation.FuncAnimation(fig, animate, init_func=init, frames=200)\n",
    "#save the animation\n",
    "qworld.embedAnimation(anim,plt)"
   ]
  },
  {
   "cell_type": "markdown",
   "metadata": {},
   "source": [
    "# <i class=\"fa fa-check-circle-o\"></i> Exercise 3: <br> Observables and Expectation Values\n",
    "\n",
    "In this exercise, you will work with  operators that are associated with the momentum and position observables. <br>\n",
    "\n",
    "You will build a function that takes a wavefunction as an input, and applies the momentum operator. <br>\n",
    "\n",
    "Then you will evaluate the expectation values of the position and the momentum as a function of time for the wavefunction that we constructed above."
   ]
  },
  {
   "cell_type": "markdown",
   "metadata": {},
   "source": [
    "## 3.a - Momentum Operator as a Python function\n",
    "The operator associated to the momentum observable is given by:\n",
    "### $$\\hat{p} = -i \\hbar \\frac{d}{dx}$$.\n",
    "\n",
    "Write a function that takes an input wavefunction $\\psi(x)$ (i.e. an array of values for the wavefunction) and returns $\\hat{p}\\psi(x) =  -i \\hbar \\frac{d\\psi(x)}{dx}$.\n",
    "\n",
    "**Hint:** Use the numerical derivative!"
   ]
  },
  {
   "cell_type": "code",
   "execution_count": null,
   "metadata": {
    "collapsed": false
   },
   "outputs": [],
   "source": [
    "#Create a function called momentum_operator that takes as input psi_x, \n",
    "#and returns -i*hbar*dpsi/dx\n",
    "def momentum_operator(psi_x, dx, hbar = 1):\n",
    "    '''this function applies the momentum operator to psi_x\n",
    "    input : \n",
    "        --> psi_x : a numpy array, representing a wave function\n",
    "        --> hbar: planck's constant / 2pi (defaults to atomic units)\n",
    "    '''\n",
    "    #assign to prefactor -i*hbar (recall that, in python, i is 1j) \n",
    "    \n",
    "    ########### (ONE LINE)\n",
    "    #assign to derivative the derivative of psi_x with respect to x.  Use the np.gradient function. \n",
    "\n",
    "    ############\n",
    "    \n",
    "    #return prefactor*derivative\n",
    "    return prefactor * derivative"
   ]
  },
  {
   "cell_type": "markdown",
   "metadata": {},
   "source": [
    "## 3.2 - Expectation value for time-evolving $\\Psi$\n",
    "\n",
    "Now we will evolve the wavefunction created above, but this time we'll evaluate at each time point the . of position and of momentum/."
   ]
  },
  {
   "cell_type": "code",
   "execution_count": null,
   "metadata": {
    "collapsed": false
   },
   "outputs": [],
   "source": [
    "#Create two empty lists, one which will hold the expectation of p for different times\n",
    "\n",
    "#the other the expectation value of x, for different times. \n",
    "\n",
    "\n",
    "dx = 0.01\n",
    "##########(ONE LINE)\n",
    "#Create an array of times, from 0 to 100, in intervals of 1\n",
    "\n",
    "###########\n",
    "\n",
    "#Write a for loop, for each value of t in t_array:\n",
    "for t in t_array:\n",
    "    \n",
    "    #######(TWO LINES)\n",
    "    #assign to c1_t the value of c1 at time=t.  Use the function cn_t_function you created above.  \n",
    "\n",
    "    #assign to c2_t the value of c2 at time=t.  Use the function cn_t_function you created above. \n",
    "\n",
    "    ###########\n",
    "    \n",
    "    #Assign to psi_x that linear combination c1(t)*psi_1 + c2(t)*psi_2\n",
    "\n",
    "    \n",
    "    #########(ONE LINE)\n",
    "    #Using the momentum_operator function, act on psi_x with p, and assign to output \n",
    "    #to p_on_psi\n",
    "    ###########\n",
    "    \n",
    "    #Assign to p_integrand the product psi-star * p_on_psi\n",
    "    \n",
    "    ###########\n",
    "    #Using the simps function, integrate the integrand to get the expectation value of p. \n",
    "    #assign this to p_expectation\n",
    "    ############\n",
    "    \n",
    "    #Get the integrand psi-star * x * psi.  Assign it to x_integrand\n",
    "    \n",
    "    ###########\n",
    "    #Using simps, integrate it to get the expectation value of x. Assign to x_expectation. \n",
    "    ############\n",
    "    \n",
    "    #Append <x>(t) and <p>(t) to the appropriate arrays. \n",
    "    p_array.append(p_expectation)\n",
    "    x_array.append(x_expectation)\n",
    "\n",
    "\n",
    "#Plot both <p> and <x> as a function of time    \n"
   ]
  },
  {
   "cell_type": "markdown",
   "metadata": {},
   "source": [
    "## 3.c - <i class=\"fa fa-question-circle\"></i> Questions\n",
    "\n",
    "### When the particle is moving towards the right of the box,\n",
    "### is the expectation value of momentum positive or negative? \n",
    "### Is this what you would expect? "
   ]
  },
  {
   "cell_type": "markdown",
   "metadata": {
    "collapsed": false
   },
   "source": [
    "FILL ME"
   ]
  },
  {
   "cell_type": "markdown",
   "metadata": {},
   "source": [
    "# <i class=\"fa fa-check-circle-o\"></i> Exercise 4:  <i class=\"fa fa-book\"></i> Article review\n",
    "## <i class=\"fa fa-exclamation-triangle\"></i> Grad students, one point, required\n",
    "## <i class=\"fa fa-smile-o\"></i> Undergrad students, one point, optional\n",
    "\n",
    "![](files/nano_article.png)\n",
    "\n",
    "[**Real-time single-molecule imaging of quantum interference**](http://www.nature.com/nnano/journal/v7/n5/full/nnano.2012.34.html) by Thomas Juffmann et al., 2012, NATURE NANOTECHNOLOGY, [doi:10.1038/nnano.2012.34](doi:10.1038/nnano.2012.34).\n",
    "\n",
    "You can find the article inside of the folder \"files\".\n",
    "\n",
    "## 4.a - <i class=\"fa fa-pencil\"></i> One sentence summary of the result of the paper"
   ]
  },
  {
   "cell_type": "markdown",
   "metadata": {},
   "source": [
    "FILL ME"
   ]
  },
  {
   "cell_type": "markdown",
   "metadata": {},
   "source": [
    "## 4.b - <i class=\"fa fa-pencil\"></i> Brief summary of the experiment setup"
   ]
  },
  {
   "cell_type": "markdown",
   "metadata": {},
   "source": [
    "FILL ME"
   ]
  },
  {
   "cell_type": "markdown",
   "metadata": {},
   "source": [
    "## 4.c - <i class=\"fa fa-question-circle\"></i> What's the wavelength associated with the particles?\n",
    "### (Give formula and plug in the numbers)"
   ]
  },
  {
   "cell_type": "markdown",
   "metadata": {},
   "source": [
    "FILL ME"
   ]
  },
  {
   "cell_type": "markdown",
   "metadata": {},
   "source": [
    "## 4.d - <i class=\"fa fa-pencil\"></i> Explain the fringe patterns in fig. 3 and fig. 4"
   ]
  },
  {
   "cell_type": "markdown",
   "metadata": {},
   "source": [
    "FILL ME"
   ]
  },
  {
   "cell_type": "markdown",
   "metadata": {},
   "source": [
    "## 4.e - <i class=\"fa fa-question-circle\"></i> How does the observed phenomena relate with the postulates of quantum mechanics?\n",
    "\n",
    "### (Give specific examples and the specific postulates that are related)"
   ]
  },
  {
   "cell_type": "markdown",
   "metadata": {},
   "source": [
    "FILL ME"
   ]
  },
  {
   "cell_type": "markdown",
   "metadata": {},
   "source": [
    "# <i class=\"fa fa-check-circle-o\"></i> Exercise 5:  Operators in  QM\n",
    "\n",
    "\n",
    "## <i class=\"fa fa-exclamation-triangle\"></i> Grad students, one point, required\n",
    "## <i class=\"fa fa-smile-o\"></i> Undergrad students, one point, optional\n",
    "\n",
    "### <i class=\"fa fa-pencil\"></i> You can write your answers here with [markdown + latex](https://guides.github.com/features/mastering-markdown/) or turn them in paper. Show your work.\n"
   ]
  },
  {
   "cell_type": "markdown",
   "metadata": {},
   "source": [
    "## Commutator\n",
    "We difine the commutator $[ \\cdot , \\cdot ]$ of two operators $\\hat{A}$ and $\\hat{B}$ as:\n",
    "$$\n",
    "[\\hat{A},\\hat{B}]=\\hat{A}\\hat{B}-\\hat{B}\\hat{A}\n",
    "$$\n",
    "The commutator is very important in quantum mechanics since if two physical quantities are to be simultaneously observable, their operator representations must commute $[\\hat{A},\\hat{B}]=0$.\n",
    "\n",
    "##  5.a - What is the commutator of $[\\hat{x}, \\hat{p}] $?"
   ]
  },
  {
   "cell_type": "markdown",
   "metadata": {},
   "source": [
    "## Functions of Operators\n",
    "Often in quantum mechanics one has to deal with functions of operators.\n",
    "For example whenever looking at the time evolution of wavefunctions we\n",
    "deal with the exponential of the Hamiltonian operator $e^{−i\\hat{H}t}$.\n",
    "\n",
    "We can define the exponential of the operator $\\hat{K}$ as:\n",
    "$$\n",
    "e^{\\hat{K}} = \\sum_{n=0}^{\\infty} \\frac{1}{n!}\\hat{K}^n\n",
    "$$\n",
    "\n",
    "### Prove the following properties:\n",
    "\n",
    "## 5.b \n",
    "Show that if $\\hat{K}$ commutes with another operator $\\hat{A}$, $[\\hat{K}, \\hat{A}] = 0$, then $[e^\\hat{K}, \\hat{A}] = 0$.\n",
    "\n",
    "## 5.c\n",
    "Show that the adjoint of $e^\\hat{K}$ is given by $\\left (e^\\hat{K} \\right )^\\dagger = e^{\\hat{K}^\\dagger}$\n",
    "\n",
    "## 5.d\n",
    "Show that if $ \\psi_\\lambda $ is an eigenfunction of $\\hat{K}$  with eigenvalue $\\lambda$ , it is also an\n",
    "eigenfunction of $e^{\\hat{K}}$ with eigenvalue $e^\\lambda$\n",
    "\n"
   ]
  },
  {
   "cell_type": "code",
   "execution_count": null,
   "metadata": {
    "collapsed": true
   },
   "outputs": [],
   "source": []
  }
 ],
 "metadata": {
  "kernelspec": {
   "display_name": "Python 2",
   "language": "python",
   "name": "python2"
  },
  "language_info": {
   "codemirror_mode": {
    "name": "ipython",
    "version": 2
   },
   "file_extension": ".py",
   "mimetype": "text/x-python",
   "name": "python",
   "nbconvert_exporter": "python",
   "pygments_lexer": "ipython2",
   "version": "2.7.9"
  }
 },
 "nbformat": 4,
 "nbformat_minor": 0
}
