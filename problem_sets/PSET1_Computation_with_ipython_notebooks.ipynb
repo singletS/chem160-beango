{
 "cells": [
  {
   "cell_type": "markdown",
   "metadata": {},
   "source": [
    "# 1 Introduction to IPython notebooks\n",
    "#### <i class=\"fa fa-exclamation-circle\"></i> Disclaimer: Do not modify this iPython notebook.  If you want to modify it, copy it to a different directory, one that is not automatically updated, and modify it there\n",
    "\n",
    "\n",
    "![ipython logo](http://ipython.org/_static/IPy_header.png)\n",
    "![python logo](https://www.python.org/static/community_logos/python-logo-generic.svg)\n",
    "\n",
    "### What is it exactly?\n",
    "\n",
    "An IPython Notebook is an interactive environment for writing and running Python code, it is a **complete and self-contained record of a computation** that can be converted to various formats and shared with others.\n",
    "\n",
    "It is particularly popular in the scientific computing community since it is a great tool for interactive data analysis and visualization.\n",
    "\n",
    "You can combine:\n",
    "- Live code\n",
    "- Interactive widgets\n",
    "- Plots\n",
    "- Narrative text\n",
    "- Equations\n",
    "- Images\n",
    "- Video\n",
    "\n",
    " \n",
    "### A bit more...\n",
    "\n",
    "The Ipython project has recently expanded in the latest version 3.0 to include other type of computational kernels such as R, Julia, C++ and Matlab. For more information check the links at the bottom of this Ipython Notebook.\n",
    "\n",
    "### Why should you use Python? (Why not C++, Matlab, etc.)\n",
    "\n",
    "* Python is great for rapid development, got an idea? Than making a fast script is super faster.\n",
    "* There is a library for everything!\n",
    "* Learning curve is very small compared to many other languages.\n",
    "\n",
    "more: http://www.quora.com/Why-should-we-go-for-Python-Is-it-more-advanced-than-C++-or-Java"
   ]
  },
  {
   "cell_type": "markdown",
   "metadata": {},
   "source": [
    "## Let's Start!\n",
    "### <i class=\"fa fa-code\"></i> Running Code"
   ]
  },
  {
   "cell_type": "markdown",
   "metadata": {},
   "source": [
    "Run a code cell using `Shift-Enter` or pressing the <button class='btn btn-default btn-xs'><i class=\"icon-play fa fa-play\"></i></button> button in the toolbar above:"
   ]
  },
  {
   "cell_type": "code",
   "execution_count": null,
   "metadata": {
    "collapsed": false
   },
   "outputs": [],
   "source": [
    "print( \"Hello World\")"
   ]
  },
  {
   "cell_type": "code",
   "execution_count": null,
   "metadata": {
    "collapsed": false
   },
   "outputs": [],
   "source": [
    "2+2 #?"
   ]
  },
  {
   "cell_type": "markdown",
   "metadata": {},
   "source": [
    "### Iterative computing\n",
    "The kernel maintains the state of a notebook's computations.\n",
    "\n",
    "For example you can save a variable or the result of a computation..."
   ]
  },
  {
   "cell_type": "code",
   "execution_count": null,
   "metadata": {
    "collapsed": false
   },
   "outputs": [],
   "source": [
    "saved_var = \"How much is 2 x 4 ?\"\n",
    "saved_result = 2 * 4"
   ]
  },
  {
   "cell_type": "markdown",
   "metadata": {},
   "source": [
    "and use later in another cell"
   ]
  },
  {
   "cell_type": "code",
   "execution_count": null,
   "metadata": {
    "collapsed": false
   },
   "outputs": [],
   "source": [
    "print(saved_var)\n",
    "print(saved_result)\n",
    "print(\"Magic!\")"
   ]
  },
  {
   "cell_type": "markdown",
   "metadata": {},
   "source": [
    "### Stopping code\n",
    "Code is run in a separate process called the IPython Kernel.  The Kernel can be interrupted or restarted.  Try running the following cell and then hit the <button class='btn btn-default btn-xs'><i class='icon-stop fa fa-stop'></i></button> button in the toolbar above."
   ]
  },
  {
   "cell_type": "code",
   "execution_count": null,
   "metadata": {
    "collapsed": false
   },
   "outputs": [],
   "source": [
    "import time\n",
    "time.sleep(10)"
   ]
  },
  {
   "cell_type": "markdown",
   "metadata": {},
   "source": [
    "### Restarting\n",
    "\n",
    "You can reset this state by restarting the kernel. This is done by clicking on the <button class='btn btn-default btn-xs'><i class='fa fa-repeat icon-repeat'></i></button> in the toolbar above."
   ]
  },
  {
   "cell_type": "markdown",
   "metadata": {},
   "source": [
    "## Python basics\n",
    "### Lists and Arrays\n",
    "\n",
    "We can create a list of elements (numbers, characters, structures, other lists, etc) using the \"[,]\" characters:"
   ]
  },
  {
   "cell_type": "code",
   "execution_count": 19,
   "metadata": {
    "collapsed": false
   },
   "outputs": [
    {
     "name": "stdout",
     "output_type": "stream",
     "text": [
      "['cow', 'taco', 'cat']\n"
     ]
    }
   ],
   "source": [
    "a_list = [ \"cow\", \"taco\", \"cat\"] #list\n",
    "print(a_list)"
   ]
  },
  {
   "cell_type": "markdown",
   "metadata": {},
   "source": [
    "and we can add elements ussing the function \"append\" associated to the list:"
   ]
  },
  {
   "cell_type": "code",
   "execution_count": 20,
   "metadata": {
    "collapsed": false
   },
   "outputs": [
    {
     "data": {
      "text/plain": [
       "['cow', 'taco', 'cat', 'Chicken']"
      ]
     },
     "execution_count": 20,
     "metadata": {},
     "output_type": "execute_result"
    }
   ],
   "source": [
    "a_list.append(\"Chicken\") # now part of the family\n",
    "a_list"
   ]
  },
  {
   "cell_type": "markdown",
   "metadata": {},
   "source": [
    "For creating and manipulating arrays,, we can use the Numpy module for numerical arrays (want to know more? click on the image)\n",
    "\n",
    "[![](http://upload.wikimedia.org/wikipedia/en/1/1b/NumPy_logo.png)](http://www.numpy.org/)"
   ]
  },
  {
   "cell_type": "code",
   "execution_count": 21,
   "metadata": {
    "collapsed": false
   },
   "outputs": [
    {
     "name": "stdout",
     "output_type": "stream",
     "text": [
      "[ 0  1  2  3  4  5  6  7  8  9 10 11 12 13 14 15 16 17 18 19 20 21 22 23 24\n",
      " 25 26 27 28 29 30 31 32 33 34 35 36 37 38 39 40 41 42 43 44 45 46 47 48 49\n",
      " 50 51 52 53 54 55 56 57 58 59 60 61 62 63 64 65 66 67 68 69 70 71 72 73 74\n",
      " 75 76 77 78 79 80 81 82 83 84 85 86 87 88 89 90 91 92 93 94 95 96 97 98 99]\n"
     ]
    }
   ],
   "source": [
    "import numpy as np\n",
    "\n",
    "numbers = np.arange(0,100,1) # list of number 0 to 100, in increments of 1\n",
    "print(numbers)"
   ]
  },
  {
   "cell_type": "markdown",
   "metadata": {},
   "source": [
    " what about empty arrays? Here we create a 5 x 1 vector of zeros:"
   ]
  },
  {
   "cell_type": "code",
   "execution_count": 22,
   "metadata": {
    "collapsed": false
   },
   "outputs": [
    {
     "data": {
      "text/plain": [
       "array([[ 0.],\n",
       "       [ 0.],\n",
       "       [ 0.],\n",
       "       [ 0.],\n",
       "       [ 0.]])"
      ]
     },
     "execution_count": 22,
     "metadata": {},
     "output_type": "execute_result"
    }
   ],
   "source": [
    "empty_array = np.zeros((5,1))\n",
    "empty_array"
   ]
  },
  {
   "cell_type": "markdown",
   "metadata": {},
   "source": [
    "we can change values using \\[ index \\]:"
   ]
  },
  {
   "cell_type": "code",
   "execution_count": 23,
   "metadata": {
    "collapsed": false
   },
   "outputs": [
    {
     "data": {
      "text/plain": [
       "array([[  0.],\n",
       "       [  0.],\n",
       "       [ 10.],\n",
       "       [  0.],\n",
       "       [  0.]])"
      ]
     },
     "execution_count": 23,
     "metadata": {},
     "output_type": "execute_result"
    }
   ],
   "source": [
    "empty_array[2] = 10 # manipulate second spot\n",
    "empty_array"
   ]
  },
  {
   "cell_type": "markdown",
   "metadata": {},
   "source": [
    "Notice that indexing in python starts with zero! (So the first element of an array is element 0). Now let's generate a list of random integers:"
   ]
  },
  {
   "cell_type": "code",
   "execution_count": 24,
   "metadata": {
    "collapsed": false
   },
   "outputs": [
    {
     "data": {
      "text/plain": [
       "array([1, 9, 2, 5, 1, 1, 8, 6, 3, 2, 2, 9, 3, 8, 5, 6, 1, 4, 7, 1, 2, 4, 6,\n",
       "       9, 3, 2, 5, 9, 8, 9, 2, 3, 4, 8, 7, 6, 5, 1, 6, 8, 8, 8, 5, 2, 4, 7,\n",
       "       5, 9, 5, 5, 3, 1, 4, 9, 9, 8, 3, 6, 3, 1, 6, 9, 8, 7, 6, 4, 1, 1, 7,\n",
       "       6, 8, 9, 9, 6, 8, 6, 9, 8, 7, 5, 1, 6, 4, 6, 1, 7, 4, 5, 9, 3, 4, 8,\n",
       "       6, 1, 1, 5, 8, 7, 4, 3])"
      ]
     },
     "execution_count": 24,
     "metadata": {},
     "output_type": "execute_result"
    }
   ],
   "source": [
    "integers = np.random.randint(low=1,high=10, size=100)\n",
    "integers"
   ]
  },
  {
   "cell_type": "markdown",
   "metadata": {},
   "source": [
    "Now in the next box write code to print the first element of the list of random integers you obtained in the previous box:"
   ]
  },
  {
   "cell_type": "code",
   "execution_count": 25,
   "metadata": {
    "collapsed": false
   },
   "outputs": [
    {
     "name": "stdout",
     "output_type": "stream",
     "text": [
      "1\n"
     ]
    }
   ],
   "source": [
    "# add code here\n",
    "print integers[0]"
   ]
  },
  {
   "cell_type": "markdown",
   "metadata": {},
   "source": [
    "#### Array utilities\n",
    "and we have many useful utilites to operate on arrays... say you want to\n",
    "* **Sort:** the we use **np.sort(array)**\n",
    "* **Find Max, Min:** the we use **np.min(array)**, **np.max(array)**\n",
    "* **Find index of Max or Min:** the we use **np.argmin(array)**, **np.argmax(array)**\n",
    "* **Calculate mean or std :** you guessed it **np.mean(array)**,**np.std(array)**"
   ]
  },
  {
   "cell_type": "code",
   "execution_count": 26,
   "metadata": {
    "collapsed": false
   },
   "outputs": [
    {
     "name": "stdout",
     "output_type": "stream",
     "text": [
      "('Sorted :', array([1, 1, 1, 1, 1, 1, 1, 1, 1, 1, 1, 1, 1, 1, 2, 2, 2, 2, 2, 2, 2, 3, 3,\n",
      "       3, 3, 3, 3, 3, 3, 3, 4, 4, 4, 4, 4, 4, 4, 4, 4, 4, 5, 5, 5, 5, 5, 5,\n",
      "       5, 5, 5, 5, 5, 6, 6, 6, 6, 6, 6, 6, 6, 6, 6, 6, 6, 6, 6, 7, 7, 7, 7,\n",
      "       7, 7, 7, 7, 8, 8, 8, 8, 8, 8, 8, 8, 8, 8, 8, 8, 8, 8, 9, 9, 9, 9, 9,\n",
      "       9, 9, 9, 9, 9, 9, 9, 9]))\n",
      "('Max:', 9, ', Min:', 1)\n",
      "('Max at:', 1, ', Min at:', 0)\n",
      "('Mean:', 5.1900000000000004, ', Std:', 2.6634376283292256)\n"
     ]
    }
   ],
   "source": [
    "print(\"Sorted :\",np.sort(integers))\n",
    "print(\"Max:\",np.max(integers),\", Min:\",np.min(integers))\n",
    "print(\"Max at:\",np.argmax(integers),\", Min at:\",np.argmin(integers))\n",
    "print(\"Mean:\",np.mean(integers),\", Std:\",np.std(integers))"
   ]
  },
  {
   "cell_type": "markdown",
   "metadata": {},
   "source": [
    "### For loops\n",
    "\n",
    "A for loop goes over each element of a list, **note the spacing/indentation** after starting the for loop!"
   ]
  },
  {
   "cell_type": "code",
   "execution_count": 27,
   "metadata": {
    "collapsed": false
   },
   "outputs": [
    {
     "name": "stdout",
     "output_type": "stream",
     "text": [
      "cow\n",
      "taco\n",
      "cat\n",
      "Chicken\n",
      "Done!\n"
     ]
    }
   ],
   "source": [
    "for i in a_list:\n",
    "    print(i)\n",
    "\n",
    "print(\"Done!\")"
   ]
  },
  {
   "cell_type": "markdown",
   "metadata": {},
   "source": [
    "double loop"
   ]
  },
  {
   "cell_type": "code",
   "execution_count": 28,
   "metadata": {
    "collapsed": false
   },
   "outputs": [
    {
     "name": "stdout",
     "output_type": "stream",
     "text": [
      "cow cow\n",
      "cow taco\n",
      "cow cat\n",
      "cow Chicken\n",
      "taco cow\n",
      "taco taco\n",
      "taco cat\n",
      "taco Chicken\n",
      "cat cow\n",
      "cat taco\n",
      "cat cat\n",
      "cat Chicken\n",
      "Chicken cow\n",
      "Chicken taco\n",
      "Chicken cat\n",
      "Chicken Chicken\n",
      "Done!\n"
     ]
    }
   ],
   "source": [
    "for i in a_list:\n",
    "    for j in a_list:\n",
    "        print i, j\n",
    "print(\"Done!\")"
   ]
  },
  {
   "cell_type": "markdown",
   "metadata": {},
   "source": [
    "for loop along with the index"
   ]
  },
  {
   "cell_type": "code",
   "execution_count": 29,
   "metadata": {
    "collapsed": false
   },
   "outputs": [
    {
     "name": "stdout",
     "output_type": "stream",
     "text": [
      "(0, 'cow')\n",
      "(1, 'taco')\n",
      "(2, 'cat')\n",
      "(3, 'Chicken')\n",
      "Done!\n"
     ]
    }
   ],
   "source": [
    "for index,item in enumerate(a_list):\n",
    "    print(index,item)\n",
    "\n",
    "print(\"Done!\")"
   ]
  },
  {
   "cell_type": "markdown",
   "metadata": {},
   "source": [
    "**What if you want to sample randomly from this list?**\n",
    "\n",
    "Module *random* come to rescue! Re-run the cell to check if they are random"
   ]
  },
  {
   "cell_type": "code",
   "execution_count": 30,
   "metadata": {
    "collapsed": false
   },
   "outputs": [
    {
     "data": {
      "text/plain": [
       "[66]"
      ]
     },
     "execution_count": 30,
     "metadata": {},
     "output_type": "execute_result"
    }
   ],
   "source": [
    "import random\n",
    "\n",
    "random.sample(numbers,  1) # select 1"
   ]
  },
  {
   "cell_type": "code",
   "execution_count": 31,
   "metadata": {
    "collapsed": false
   },
   "outputs": [
    {
     "data": {
      "text/plain": [
       "[64, 9, 58]"
      ]
     },
     "execution_count": 31,
     "metadata": {},
     "output_type": "execute_result"
    }
   ],
   "source": [
    "random.sample(numbers,  3)"
   ]
  },
  {
   "cell_type": "markdown",
   "metadata": {},
   "source": [
    "** What about functions? **\n",
    "\n",
    "Functions are named sections of a program that performs specific tasks. In a computational sense a function could either receive and input and *return* an output(in this sense it would be like a function in a more mathematical sense), but it can also be a routine, that just performs certain task without producing any output. Let's check a couple of examples: "
   ]
  },
  {
   "cell_type": "code",
   "execution_count": 32,
   "metadata": {
    "collapsed": false
   },
   "outputs": [
    {
     "name": "stdout",
     "output_type": "stream",
     "text": [
      "['cow']\n",
      "['cow', 'taco', 'cat', 'Chicken']\n",
      "['cow', 'Chicken', 'cat', 'taco']\n"
     ]
    }
   ],
   "source": [
    "'''Function definition and invocation.'''\n",
    "\n",
    "# function 1\n",
    "def randomSampleAgain(mylist): # use def to define the function\n",
    "    val=random.sample(mylist,1) # take note of the identation\n",
    "    return val # this function return an output using return\n",
    "# function 2\n",
    "def shuffleList(mylist):\n",
    "    val=random.sample(mylist,len(mylist))\n",
    "    for n in range(0,len(mylist)):\n",
    "        mylist[n]=val[n] # notice that this function do not have return, but it is performing a procedure\n",
    "\n",
    "# output of function 1\n",
    "print randomSampleAgain(a_list)\n",
    "# result of function 2        \n",
    "print a_list # before\n",
    "shuffleList(a_list)\n",
    "print a_list # after applying the function"
   ]
  },
  {
   "cell_type": "markdown",
   "metadata": {},
   "source": [
    "## <i class=\"fa fa-line-chart\"></i> Basic Plotting\n",
    "[![](http://matplotlib.org/_static/logo2.png)](http://matplotlib.org/)\n",
    "\n",
    "First we load the module and inline plotting (want to know more? click on the image)"
   ]
  },
  {
   "cell_type": "code",
   "execution_count": 33,
   "metadata": {
    "collapsed": false
   },
   "outputs": [],
   "source": [
    "import matplotlib.pyplot as plt # module export\n",
    "# make plots appear on your ipython notebook\n",
    "%matplotlib inline "
   ]
  },
  {
   "cell_type": "markdown",
   "metadata": {},
   "source": [
    "Now we can make simple plots via the following syntax"
   ]
  },
  {
   "cell_type": "code",
   "execution_count": 34,
   "metadata": {
    "collapsed": false
   },
   "outputs": [
    {
     "data": {
      "image/png": "[encoded data removed]",
      "text/plain": [
       "<matplotlib.figure.Figure at 0x7fb060070750>"
      ]
     },
     "metadata": {},
     "output_type": "display_data"
    }
   ],
   "source": [
    "x = np.arange(-np.pi, np.pi, 0.1) # array between -pi and pi, in steps of 0.1\n",
    "y = np.sin(x) # sin evaluated on x\n",
    "\n",
    "plt.plot(x,y)\n",
    "plt.show()"
   ]
  },
  {
   "cell_type": "markdown",
   "metadata": {},
   "source": [
    "we can even add more context to this plot with more functions"
   ]
  },
  {
   "cell_type": "code",
   "execution_count": 35,
   "metadata": {
    "collapsed": false
   },
   "outputs": [
    {
     "data": {
      "image/png": "[encoded data removed]",
      "text/plain": [
       "<matplotlib.figure.Figure at 0x7fb0436faf10>"
      ]
     },
     "metadata": {},
     "output_type": "display_data"
    }
   ],
   "source": [
    "plt.plot(x,y,label='Sin')\n",
    "plt.xlabel(\"x\")\n",
    "plt.ylabel(\"f(x)\")\n",
    "plt.title('Sine plot')\n",
    "plt.autoscale(tight=True)\n",
    "plt.show()"
   ]
  },
  {
   "cell_type": "markdown",
   "metadata": {},
   "source": [
    "### <i class=\"fa fa-bar-chart\"></i> Histograms\n",
    "Yeah, it's as simple as writing \"histogram\":"
   ]
  },
  {
   "cell_type": "code",
   "execution_count": 36,
   "metadata": {
    "collapsed": false
   },
   "outputs": [
    {
     "data": {
      "image/png": "[encoded data removed]",
      "text/plain": [
       "<matplotlib.figure.Figure at 0x7fb0436fa3d0>"
      ]
     },
     "metadata": {},
     "output_type": "display_data"
    }
   ],
   "source": [
    "plt.hist(integers)\n",
    "plt.show()"
   ]
  },
  {
   "cell_type": "markdown",
   "metadata": {},
   "source": [
    "## When plotting, don't forget to...\n",
    "\n",
    "* Label your axis.\n",
    "* Tittle your graph.\n",
    "* If plotting many items, use a legend.\n",
    "* Plot your data in a approriate range."
   ]
  },
  {
   "cell_type": "markdown",
   "metadata": {},
   "source": [
    "# <i class=\"fa fa-check-circle\"></i> Exercise: Building a square wave! (50% grade)\n",
    "\n",
    "This is your first exercise in ipython notebooks! Let's put to work all the information we have learnt so far. Our goal is to create a function in python that generates a square wave. So first of all you might be wondering, what is a square wave and what is it useful for? So before you start with this exercise check this link: [Square wave](https://en.wikipedia.org/wiki/Square_wave)\n",
    "\n",
    "Now that you have a better understanding of square waves you are probably already thinking how to generate one. As you probably guessed we are going to use the Fourier expansion of the wave:\n",
    "\n",
    "$$\n",
    "f(t) = \\frac{4}{\\pi} \\sum_{k=1}^\\infty {\\sin{\\left (2\\pi (2k-1) \\omega t \\right )}\\over(2k-1)} \\\\ = \\frac{4}{\\pi} \\left(   sin(2\\pi \\omega t) + \\frac{1}{3} sin(6\\pi \\omega t) + + \\frac{1}{5} sin(10\\pi \\omega t) + ...  \\right) \n",
    "$$\n",
    "\n",
    "Where our square wave is a function of time (t) with parameter $\\omega$ (the frequency of the wave). In practice, to generate the function we must truncate the expansion up to certain **n**. The higher the value of n the better we are going to approximate f(t). You must follow the next steps:"
   ]
  },
  {
   "cell_type": "markdown",
   "metadata": {},
   "source": [
    "### Steps:\n",
    "\n",
    "1. Create an empty array to store your input variables and function.\n",
    "2. Add the first component to your function.\n",
    "3. Add more components via a for-loop.\n",
    "4. Create a function that will take as input the number of components **n**, frequency $\\omega$ and input variables and return the square wave.\n",
    "5. For a single frequency, plot four square functions at various degrees of truncation .\n",
    "\n",
    "Fill up your code in the following boxes. Follow the instructions."
   ]
  },
  {
   "cell_type": "markdown",
   "metadata": {},
   "source": [
    "## step 1. Create an empty array to store the function. \n",
    "**hints:** Check the example of the sine function in the plotting section. Use time in multiples $2\\pi$.\n"
   ]
  },
  {
   "cell_type": "code",
   "execution_count": 37,
   "metadata": {
    "collapsed": false
   },
   "outputs": [],
   "source": [
    "# ADD CODE BELOW"
   ]
  },
  {
   "cell_type": "markdown",
   "metadata": {},
   "source": [
    "## Step 2. Add the first component to your function.\n",
    "Use a frequency of $2/\\pi$. Plot the result."
   ]
  },
  {
   "cell_type": "code",
   "execution_count": 38,
   "metadata": {
    "collapsed": false
   },
   "outputs": [],
   "source": [
    "# ADD CODE BELOW"
   ]
  },
  {
   "cell_type": "markdown",
   "metadata": {},
   "source": [
    "## Step 3. Add more components via a for loop. \n",
    "Try adding up to four and plot the result.\n"
   ]
  },
  {
   "cell_type": "code",
   "execution_count": 39,
   "metadata": {
    "collapsed": false
   },
   "outputs": [],
   "source": [
    "# ADD CODE BELOW\n"
   ]
  },
  {
   "cell_type": "markdown",
   "metadata": {},
   "source": [
    "## Step 4. Create a function that will return a square wave.\n",
    "Should take as input the number of components **n**, frequency $\\omega$ as input variables and return an array with the wave."
   ]
  },
  {
   "cell_type": "code",
   "execution_count": 40,
   "metadata": {
    "collapsed": true
   },
   "outputs": [],
   "source": [
    "# ADD CODE BELOW\n"
   ]
  },
  {
   "cell_type": "markdown",
   "metadata": {},
   "source": [
    "## Step 5. Test your function by generating approximations to the square wave with n=4, n=8, n=12 and n=16\n",
    "Plot the results in the SAME graph and label your plot properly.\n",
    "\n",
    "**hint:** Check the code for the sine function above.\n",
    "\n",
    "**note:** if you want to go fancy do this with a for-loop."
   ]
  },
  {
   "cell_type": "code",
   "execution_count": 41,
   "metadata": {
    "collapsed": false
   },
   "outputs": [],
   "source": [
    "# ADD CODE BELOW"
   ]
  },
  {
   "cell_type": "markdown",
   "metadata": {},
   "source": [
    "# <i class=\"fa fa-bug\"></i> Debugging\n",
    "\n",
    "\n",
    "When programming people make mistakes. An error in a program that causes it to produce an incorrect or unexpected result is commonly called a *bug*, and the process of preventing and correcting bugs is called *debugging*. Programming bugs can be classified in different ways, but here we will just make a difference between *source code* bugs and *design* bugs. We will call source code bugs to those errors caused by either bad syntaxis or misinterpretation of the structures in the program, for example, bad identation in a for loop or trying to take the square root of a character type. Frequently source code errors produce error message that help us to track them. By design errors we will make reference to logic mistakes in the program. Specifically to those ocassions in which your code runs and do not produce error messages but it does not do what it is supposed to. In those cases you will have to look at the program and try to find what you are missing or doing wrong. \n",
    "\n",
    "In this section we will concentrate in common *source code* bugs that appear in python. Let's take a look. Start by executing the following box:"
   ]
  },
  {
   "cell_type": "code",
   "execution_count": 42,
   "metadata": {
    "collapsed": false
   },
   "outputs": [
    {
     "ename": "SyntaxError",
     "evalue": "invalid syntax (<ipython-input-42-f8d2c3aff76e>, line 3)",
     "output_type": "error",
     "traceback": [
      "\u001b[1;36m  File \u001b[1;32m\"<ipython-input-42-f8d2c3aff76e>\"\u001b[1;36m, line \u001b[1;32m3\u001b[0m\n\u001b[1;33m    if excitement=100\u001b[0m\n\u001b[1;37m                 ^\u001b[0m\n\u001b[1;31mSyntaxError\u001b[0m\u001b[1;31m:\u001b[0m invalid syntax\n"
     ]
    }
   ],
   "source": [
    "# example 1\n",
    "excitement=100\n",
    "if excitement=100\n",
    "    print ('Hello quantum world')"
   ]
  },
  {
   "cell_type": "markdown",
   "metadata": {},
   "source": [
    "First of all, notice that python helps you finding the error. If something is not working in your code the first thing you should do is to look at the error message. In more complex code, where you have functions calling another functions, the error thread can be pretty long. Always look at the end of the thread! There is where the primary error is described. The error message generally points at the line where the bug occured and describes the type of error you have. In this case we have a syntax error pointing at the \"=\" sign. This is because for logical statements like if the appropiate comparison operator is \"==\" and not \"=\". Take a look at the *condition* operators in python: (http://anh.cs.luc.edu/python/hands-on/3.1/handsonHtml/ifstatements.html). Let's correct the previous error:"
   ]
  },
  {
   "cell_type": "code",
   "execution_count": null,
   "metadata": {
    "collapsed": false
   },
   "outputs": [],
   "source": [
    "# example 1\n",
    "excitement=100\n",
    "if excitement==100\n",
    "    print ('Hello quantum world')"
   ]
  },
  {
   "cell_type": "markdown",
   "metadata": {},
   "source": [
    "Now you can see that the conditional statement has a different color. That's right, the ipython environment help you to visualize if you're doing it right too. But wait, another syntax error? Yes, now the error mark is pointing at the end of the if statement, and this is because we forgot to add \":\". You should do this for for-loops and other control structures too. Let's correct it:"
   ]
  },
  {
   "cell_type": "code",
   "execution_count": null,
   "metadata": {
    "collapsed": false
   },
   "outputs": [],
   "source": [
    "# example 1\n",
    "excitement=100\n",
    "if excitement==100:\n",
    "    print ('Hello quantum world')"
   ]
  },
  {
   "cell_type": "markdown",
   "metadata": {},
   "source": [
    "Nice, our code is working now. Let's try the following box:"
   ]
  },
  {
   "cell_type": "code",
   "execution_count": null,
   "metadata": {
    "collapsed": false
   },
   "outputs": [],
   "source": [
    "# example 2\n",
    "numberOfMinions=10\n",
    "for n in range(1,numberOfMinions+1):\n",
    "print ('Hello minion number: '+n)"
   ]
  },
  {
   "cell_type": "markdown",
   "metadata": {},
   "source": [
    "We have a new type of error: IndentationError. Indentation errors are common in python because this programming language uses *whitespace indentation* to delimite blocks. Indentation always increases after a statement ending in \":\" and should return to the previous indentation afterwards. Let's correct the indentation: "
   ]
  },
  {
   "cell_type": "code",
   "execution_count": null,
   "metadata": {
    "collapsed": false
   },
   "outputs": [],
   "source": [
    "# example 2\n",
    "numberOfMinions=10\n",
    "for n in range(1,numberOfMinions+1):\n",
    "    print ('Hello minion number: '+n) # use tab to facilitate indentation"
   ]
  },
  {
   "cell_type": "markdown",
   "metadata": {},
   "source": [
    "Ok, indentation corrected. Another error? OMG, so many errors in 3 lines of code! Now we have what is generally called as a *type bug*. We are trying to concatenate a string with an integer, and this is causing a problem. To correct the bug we need to transform the integer into string type first. We can use the predefined function \"srt()\" with that purpose:"
   ]
  },
  {
   "cell_type": "code",
   "execution_count": null,
   "metadata": {
    "collapsed": false
   },
   "outputs": [],
   "source": [
    "# example 2\n",
    "numberOfMinions=10\n",
    "for n in range(1,numberOfMinions+1):\n",
    "    print ('Hello minion number: '+str(n))"
   ]
  },
  {
   "cell_type": "markdown",
   "metadata": {},
   "source": [
    "Awesome! Now the code works. As you advance in the course you will get familiar with the different types of variables you can have in python, their properties and predefined functions. Now let's check a property of the string types in python. Execute the following box:"
   ]
  },
  {
   "cell_type": "code",
   "execution_count": null,
   "metadata": {
    "collapsed": false
   },
   "outputs": [],
   "source": [
    "# example 3\n",
    "sentence='I wish I had a cat.'\n",
    "sentence[17]='r'\n",
    "# we want to replace the 't' in 'cat' by 'r'.\n",
    "print sentence"
   ]
  },
  {
   "cell_type": "markdown",
   "metadata": {},
   "source": [
    "What the previous error message said is that in python string type variables are inmutable. Although you can access the individual letters as if the sentence was a list, you cannot modify the elements of the string list. To change it you will need to redefine the variable. For example:"
   ]
  },
  {
   "cell_type": "code",
   "execution_count": null,
   "metadata": {
    "collapsed": false
   },
   "outputs": [],
   "source": [
    "# example 3\n",
    "sentence='I wish I had a cat.'\n",
    "sentence=sentence[:17]+'r'+sentence[18:] # here we are reassigning the whole variable, sentence, by adding the first\n",
    "# sixteen letters of the variable, plus r, plus the letters after the t we want to replace.\n",
    "print sentence"
   ]
  },
  {
   "cell_type": "markdown",
   "metadata": {},
   "source": [
    "Another common error in python is using *python keywords* as variable names. There are keywords predefined in python such as if, for, break, etc, that execute predefined tasks within the language. You should avoid defining variables with these reserved words. For a complete list check: (https://docs.python.org/2.5/ref/keywords.html). Here is an example of the error you will see if you use an ipython keyword:"
   ]
  },
  {
   "cell_type": "code",
   "execution_count": null,
   "metadata": {
    "collapsed": false
   },
   "outputs": [],
   "source": [
    "# example 4\n",
    "break='happiness'"
   ]
  },
  {
   "cell_type": "markdown",
   "metadata": {},
   "source": [
    "Lesson learned! Do not break the happiness.\n",
    "\n",
    "Something that can happen with variables is that we just incorrectly type them. This is probably the most common error you can find. Check out and execute the next box, can you see the error?"
   ]
  },
  {
   "cell_type": "code",
   "execution_count": null,
   "metadata": {
    "collapsed": false
   },
   "outputs": [],
   "source": [
    "# example 5\n",
    "p_list=['python','C','C++','R','Fortran','Java']\n",
    "for n in range(0,7):\n",
    "    print b_list[n]"
   ]
  },
  {
   "cell_type": "markdown",
   "metadata": {},
   "source": [
    "Certainly we should have p_list inside the for loop instead of b_list. Let's change it:"
   ]
  },
  {
   "cell_type": "code",
   "execution_count": null,
   "metadata": {
    "collapsed": false
   },
   "outputs": [],
   "source": [
    "# example 5\n",
    "p_list=['python','C','C++','R','Fortran','Java']\n",
    "for n in range(0,7):\n",
    "    print p_list[n]"
   ]
  },
  {
   "cell_type": "markdown",
   "metadata": {},
   "source": [
    "The for-loop seems to be working but we are getting an error: \"list index our of range\", this is pretty common with lists. In this case we are trying to print 7 elements when the list has only six. Let's correct that:"
   ]
  },
  {
   "cell_type": "code",
   "execution_count": null,
   "metadata": {
    "collapsed": false
   },
   "outputs": [],
   "source": [
    "# example 5\n",
    "p_list=['python','C','C++','R','Fortran','Java']\n",
    "for n in range(0,6):\n",
    "    print p_list[n]"
   ]
  },
  {
   "cell_type": "markdown",
   "metadata": {},
   "source": [
    "Awesome! Finally, let's check a common error that happens in functions. Execute the next box:"
   ]
  },
  {
   "cell_type": "code",
   "execution_count": null,
   "metadata": {
    "collapsed": false
   },
   "outputs": [],
   "source": [
    "# example 6\n",
    "number=100\n",
    "\n",
    "def printNumber():\n",
    "    print number\n",
    "    number=100\n",
    "\n",
    "printNumber()"
   ]
  },
  {
   "cell_type": "markdown",
   "metadata": {},
   "source": [
    "This example illustrate a common mistake we made when interpreting variables. When you define a function, the variables inside the function are different from the variables you define outside, even if they have the same name (unleast they are defined as global variables). In the previous example, the variable **number** is defined outside, but this one is different from the variable **number** defined *inside* the function. Since we are trying to print a variable that hasn't been defined this generates an error. Let's correct it:"
   ]
  },
  {
   "cell_type": "code",
   "execution_count": null,
   "metadata": {
    "collapsed": false
   },
   "outputs": [],
   "source": [
    "# example 6\n",
    "number=100\n",
    "\n",
    "def printNumber():\n",
    "    number=100\n",
    "    print number\n",
    "\n",
    "printNumber()"
   ]
  },
  {
   "cell_type": "markdown",
   "metadata": {},
   "source": [
    "## Before you venture into this brave new world of code\n",
    "### Check the following flow chart that might help\n",
    " **credits to: http://pythonforbiologists.com/ **\n",
    " \n",
    " ![](files/error_flowchart.png)"
   ]
  },
  {
   "cell_type": "markdown",
   "metadata": {},
   "source": [
    "# <i class=\"fa fa-check-circle\"></i> Exercise: debugging. (50% grade)\n",
    "\n",
    "Now your mission is to find the bugs in the following pieces of code. Execute the buggy code, look at the errors, copy the code to a new box, correct it, and add a short description in a markdown of ALL the bugs you find. \n",
    "\n",
    "**Note:** Every piece of code has more than one bug. At least one of the bugs is a design bug."
   ]
  },
  {
   "cell_type": "markdown",
   "metadata": {},
   "source": [
    "## Part 1: Fix the bubble sort algorithm.\n",
    "This is a pretty common algorithm to sort lists.The function should order the list from largest to smallest. Find the errors and correct them.\n",
    "\n",
    "\n",
    "**hint:** you should get [3333, 343, 56, 54, 33, 32, 26, 14, 7, 5, 3, 3, 2, 2, 2, 2]"
   ]
  },
  {
   "cell_type": "code",
   "execution_count": null,
   "metadata": {
    "collapsed": false
   },
   "outputs": [],
   "source": [
    "\n",
    "def bubbleSort(alist):\n",
    "    for passnum in range(len(alist)-1,0,-1):\n",
    "        for i in range(passnum)\n",
    "            if alist[i]>alist[i+1]:\n",
    "                temp = alist[i]\n",
    "            alist[i] = alist[i+1]\n",
    "                alist[j+1] = temp\n",
    "\n",
    "blist = [14,343,32,2,54,2,56,26,2,5,7,2,3333,3,3,33]\n",
    "bubbleSort(alist)\n",
    "print(alist)"
   ]
  },
  {
   "cell_type": "markdown",
   "metadata": {},
   "source": [
    "### Correct version:"
   ]
  },
  {
   "cell_type": "code",
   "execution_count": null,
   "metadata": {
    "collapsed": false
   },
   "outputs": [],
   "source": [
    "# WRITE THE CORRECTED CODE HERE\n"
   ]
  },
  {
   "cell_type": "markdown",
   "metadata": {},
   "source": [
    "### Describe the bugs here:"
   ]
  },
  {
   "cell_type": "markdown",
   "metadata": {},
   "source": [
    "FILL ME"
   ]
  },
  {
   "cell_type": "markdown",
   "metadata": {},
   "source": [
    "## Part 2: Approximating the cosine function (cos(x))\n",
    "Cosine can be expanded as a taylor series, this is how a cosine is actually calcualted in a computer (there are actually more tricks involved).\n",
    "\n",
    "\n",
    "\n",
    "**Goal:** Find the errors and correct them.\n",
    "\n",
    "Here **x** is the argument of the function and **n** the degree of truncation in the Taylor series.\n",
    "\n",
    "**hint:** check out the Taylor expansion of cosine. Here: https://en.wikipedia.org/wiki/Trigonometric_functions.\n"
   ]
  },
  {
   "cell_type": "code",
   "execution_count": null,
   "metadata": {
    "collapsed": true
   },
   "outputs": [],
   "source": [
    "import math\n",
    "def cosine(x,n):\n",
    "    value=np.ones(x.shape)\n",
    "    for n in range(1,n+1):\n",
    "        value=((-1.0)^n)*(x^(2*n))/math.factoriall(2*n)\n",
    "    return value"
   ]
  },
  {
   "cell_type": "markdown",
   "metadata": {},
   "source": [
    "### Correct version:"
   ]
  },
  {
   "cell_type": "code",
   "execution_count": null,
   "metadata": {
    "collapsed": true
   },
   "outputs": [],
   "source": [
    "# WRITE THE CORRECTED CODE HERE\n"
   ]
  },
  {
   "cell_type": "markdown",
   "metadata": {},
   "source": [
    "### Verify your results!\n",
    "Execute this cell which generates a plot that can be compared with the pre-build matlab funtion. \n",
    "\n",
    "**hint: ** You should get a graph similar to the plot posted below:\n",
    "\n",
    "![](files/cosine_expected_result.png)"
   ]
  },
  {
   "cell_type": "code",
   "execution_count": null,
   "metadata": {
    "collapsed": false
   },
   "outputs": [],
   "source": [
    "# DO NOT MODIFY THE PLOTTING CODE\n",
    "x=np.arange(-2.*np.pi,2.*np.pi,0.2)\n",
    "python_result=np.cos(x)\n",
    "plt.figure(figsize=(16,12))\n",
    "for n in range(0,9):\n",
    "    my_result=cosine(x,n)\n",
    "    plt.subplot(3,3,n+1)\n",
    "    plt.plot(x,my_result,label='My cosine function with n='+str(n))\n",
    "    plt.plot(x,python_result,label='Python cosine function')\n",
    "    plt.legend(loc=\"upper center\")\n",
    "    plt.ylim([-1.1,2.5])"
   ]
  },
  {
   "cell_type": "markdown",
   "metadata": {},
   "source": [
    "### Describe the bugs you found here:"
   ]
  },
  {
   "cell_type": "markdown",
   "metadata": {
    "collapsed": true
   },
   "source": [
    "FILL ME"
   ]
  },
  {
   "cell_type": "markdown",
   "metadata": {},
   "source": [
    "## <i class=\"fa fa-plus-circle\"></i>  Extra: Rich display system\n",
    "### Text Cells: Latex & Markdown\n",
    "Cells are by default created as code cells, but they can be easily changed to text cells by cliking on the toolbar.\n",
    "\n",
    "    ![text cell](files/TextCell.png)\n",
    "\n",
    "In text cells you can embed narrative text using [Markdown](https://guides.github.com/features/mastering-markdown/), HTML code and LaTeX equations with inline dollar signs \\$ *insert equation* \\$ and new line as \\$\\$ *insert equation* \\$\\$.\n",
    "\n",
    "For example: $$H\\psi = E\\psi$$\n",
    "\n",
    "The code for this cell is:\n",
    "\n",
    "```markdown\n",
    "### Text Cells: Latex & Markdown\n",
    "Cell are by default created as code cells, can be but can be easily changed to text cells by cliking on the toolbar.\n",
    "    ![text cell](TextCell.png)\n",
    "\n",
    "In text cells you can embed narrative text using [Markdown](https://guides.github.com/features/mastering-markdown/), HTML code and LaTeX equations with inline dollar signs \\$ *insert equation* \\$ and new line as \\$\\$ *insert equation* \\$\\$.\n",
    "\n",
    "For example: $$H\\psi = E\\psi$$\n",
    "```\n"
   ]
  },
  {
   "cell_type": "markdown",
   "metadata": {},
   "source": [
    "### <i class=\"fa fa-picture-o\"></i> Images\n",
    "We can work with images (JPEG, PNG) and SVG via the `Image` and `SVG` class."
   ]
  },
  {
   "cell_type": "code",
   "execution_count": null,
   "metadata": {
    "collapsed": false
   },
   "outputs": [],
   "source": [
    "from IPython.display import Image\n",
    "Image(filename='files/Schrodingers-Cat.jpg')"
   ]
  },
  {
   "cell_type": "markdown",
   "metadata": {},
   "source": [
    "###  <i class=\"fa fa-youtube-play\"></i>Videos?\n"
   ]
  },
  {
   "cell_type": "code",
   "execution_count": null,
   "metadata": {
    "collapsed": false
   },
   "outputs": [],
   "source": [
    "from IPython.display import YouTubeVideo\n",
    "# a talk from Clyde Fare on\n",
    "# how Python & the iPython notebook can \n",
    "# revamp quantum chemical reseach\n",
    "YouTubeVideo('WKoImDmYFQE')"
   ]
  },
  {
   "cell_type": "markdown",
   "metadata": {},
   "source": [
    "### <i class=\"fa fa-html5\"></i> External Websites, HTML?"
   ]
  },
  {
   "cell_type": "code",
   "execution_count": null,
   "metadata": {
    "collapsed": false
   },
   "outputs": [],
   "source": [
    "from IPython.display import HTML\n",
    "HTML('<iframe src=http://ipython.org/ width=700 height=350></iframe>')"
   ]
  },
  {
   "cell_type": "markdown",
   "metadata": {},
   "source": [
    "## <i class=\"fa fa-book\"></i> Extra: Further reading\n"
   ]
  },
  {
   "cell_type": "markdown",
   "metadata": {},
   "source": [
    "### Installing Ipython on your computer:\n",
    "* http://nbviewer.ipython.org/github/demotu/BMC/blob/master/notebooks/PythonInstallation.ipynb\n",
    " \n",
    "### Squeezing all the juice from Ipython\n",
    "* https://github.com/odewahn/ipynb-examples\n",
    "* Ipython minibook: https://github.com/rossant/ipython-minibook http://nbviewer.ipython.org/github/barbagroup/AeroPython/blob/master/lessons/00_Lesson00_QuickPythonIntro.ipynb\n",
    " \n",
    "### Scientific computing con Python:\n",
    "* http://nbviewer.ipython.org/github/demotu/BMC/blob/master/notebooks/PythonForScientificComputing.ipynb\n",
    "* http://nbviewer.ipython.org/github/jrjohansson/scientific-python-lectures/blob/master/Lecture-1-Introduction-to-Python-Programming.ipynb\n",
    "\n",
    "### A gallery of interesting IPython Notebooks\n",
    "* https://github.com/ipython/ipython/wiki/A-gallery-of-interesting-IPython-Notebooks#introductory-tutorials\n",
    "\n",
    "### Kernels\n",
    "* Python(https://github.com/ipython/ipython)\n",
    "* Julia (https://github.com/JuliaLang/IJulia.jl)\n",
    "* R (https://github.com/takluyver/IRkernel)\n",
    "* Ruby (https://github.com/minrk/iruby)\n",
    "* Haskell (https://github.com/gibiansky/IHaskell)\n",
    "* Scala (https://github.com/Bridgewater/scala-notebook)\n",
    "* node.js (https://gist.github.com/Carreau/4279371)\n",
    "* Go (https://github.com/takluyver/igo)\n"
   ]
  }
 ],
 "metadata": {
  "kernelspec": {
   "display_name": "Python 2",
   "language": "python",
   "name": "python2"
  },
  "language_info": {
   "codemirror_mode": {
    "name": "ipython",
    "version": 2
   },
   "file_extension": ".py",
   "mimetype": "text/x-python",
   "name": "python",
   "nbconvert_exporter": "python",
   "pygments_lexer": "ipython2",
   "version": "2.7.9"
  }
 },
 "nbformat": 4,
 "nbformat_minor": 0
}
