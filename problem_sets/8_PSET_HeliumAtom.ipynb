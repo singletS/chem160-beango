{
 "cells": [
  {
   "cell_type": "markdown",
   "metadata": {},
   "source": [
    "# PSET 8: <br> Helium Atom, <br> CI, intro calculations and basis sets!\n",
    "\n",
    "This pset will focus on three strategies of improving our wavefunctions:\n",
    "\n",
    "* **Augmentaing our wavefunction with CIs** By building a poor man's ground wavefunction (No electron-electron repulsion) and adding in a **smart way** more excitations to the wavefunction.\n",
    "* **Treating missing effect via pertubation theory**, by adding the electron-electron repulsion perturbatively to an initial approximation.\n",
    "* **Using a bigger basis set of  possible atomic orbitals.** For this we will use Hartree Fock theory! The building block for all Quantum chemistry calculations.\n",
    "\n",
    "All this to improve the accuracy for this little two proton, two electron fellow:\n",
    "[![](files/Helium.png)](https://en.wikipedia.org/wiki/Helium)\n",
    "\n",
    "Viewed is the charge density distribuiton of the helium atom.\n",
    "## Import Libraries and Functions"
   ]
  },
  {
   "cell_type": "code",
   "execution_count": null,
   "metadata": {
    "collapsed": false
   },
   "outputs": [],
   "source": [
    "#Here is what we usually import\n",
    "% matplotlib inline\n",
    "import numpy as np\n",
    "from matplotlib import pyplot as plt\n",
    "from scipy.integrate import simps\n",
    "import scipy as sp\n",
    "import scipy.sparse as sparse\n",
    "import scipy.sparse.linalg\n",
    "import scipy.integrate as integrate\n",
    "from matplotlib import animation\n",
    "##this let's us print out the available functions in our library,\n",
    "## as well as the documentation\n",
    "import pydoc \n",
    "# add all probables spots for the quantum world library\n",
    "import sys\n",
    "sys.path.append('../library')\n",
    "sys.path.append('../../library')\n",
    "#sys.path.append('/home/student/chem160/library')\n",
    "#This is how we'll import our own home-made modules\n",
    "import quantumWorld as qworld"
   ]
  },
  {
   "cell_type": "markdown",
   "metadata": {},
   "source": [
    "# <i class=\"fa fa-check-circle-o\"></i> Exercise 1: <br>  Poor man's Helium + CI\n",
    "## 1 point\n",
    "\n",
    "in the pencasts and in lecture you saw that, if we make the \"very poorman's\" approximation for the Helium atom (i.e. neglect in the Hamiltoninan the interaction term between the two electrons) we get a system that is easy to solve (basically two independent hydrogen-like 1-electron systems) but with a crappy value for the energy (as compared to experiments).\n",
    "\n",
    "Here we'll try something a bit more sophisticated. \n",
    "\n",
    "We will:\n",
    "\n",
    "* Build a Hamiltonian matrix with a basis set of two elements: ground and excited states\n",
    "* Solve the eigenvalue problem to get a the optimal mix of both solutions.\n",
    "* Explore pertubation theory on this basis set.\n"
   ]
  },
  {
   "cell_type": "markdown",
   "metadata": {},
   "source": [
    "\n",
    "\n",
    "\n",
    "## Part 1: Poor man's approximation\n",
    "#### What follows is pretty extensive documentation of all the math steps. Please read through it. \n",
    "\n",
    "We'll include a second term in our expression for the two-electron wave function which will represent an electron configuration where one electron is in the 1S hydrogen-like orbital and the other is in a 2S hydrogen-like orbital:\n",
    "\n",
    "$$\\Psi(\\vec{r_1},\\vec{r_2}) = c_1\\psi_1(\\vec{r_1},\\vec{r_2}) + c_2\\psi_2(\\vec{r_1},\\vec{r_2})$$\n",
    "<br>\n",
    "\n",
    "$$\\Psi(\\vec{r_1},\\vec{r_2}) = c_1\\;\\phi_{1S}(\\vec{r_1})\\phi_{1S}(\\vec{r_2}) + c_2[\\frac{1}{\\sqrt{2}}(\\;\\phi_{1S}(\\vec{r_1})\\phi_{2S}(\\vec{r_2})+\\phi_{1S}(\\vec{r_2})\\phi_{2S}(\\vec{r_1})\\;)]\\;)$$\n",
    "<br>\n",
    "\n",
    "Notice that the second term $[\\phi_{1S}(\\vec{r_1})\\phi_{2S}(\\vec{r_2})+\\phi_{1S}(\\vec{r_2})\\phi_{2S}(\\vec{r_1})]$ is symmetric with respect to exchange of the two electrons, i.e. it represents a singlet state. \n",
    "\n"
   ]
  },
  {
   "cell_type": "markdown",
   "metadata": {},
   "source": [
    "### Eigenvalues of Hydrogen-like atomic orbitals\n",
    "Recall that the hydrogen-like orbitals are eigenfunctions of the operator $(-\\frac{1}{2}\\nabla_{r_1}^2 - \\frac{Z}{r_1})$ with corresponding eigenvalues (in atomic units) that depend on $Z$, the charge of the nucleus, and the $n$ quantum number of the orbital:\n",
    "\n",
    "\n",
    "$$(-\\frac{1}{2}\\nabla_{r_1}^2 - \\frac{Z}{r_1})\\phi_{1S}(\\vec{r_1}) = -Z^2\\frac{1}{2}\\phi_{1S}(\\vec{r_1})$$\n",
    "\n",
    "$$(-\\frac{1}{2}\\nabla_{r_1}^2 - \\frac{Z}{r_1})\\phi_{2S}(\\vec{r_1}) = -\\frac{Z^2}{2^2}\\frac{1}{2}\\phi_{2S}(\\vec{r_1}) = -\\frac{Z^2}{8}\\phi_{2S}(\\vec{r_1})$$"
   ]
  },
  {
   "cell_type": "markdown",
   "metadata": {},
   "source": [
    "### The Hamiltonian for the Helium atom. "
   ]
  },
  {
   "cell_type": "markdown",
   "metadata": {},
   "source": [
    "You should know by <i class=\"fa fa-heart\"></i> that the Hamiltonian for the Helium atom is given by (in atomic units) \n",
    "![Helium atom](files/HeliumReduced.png)\n",
    "\n",
    "\n",
    "$$\\hat{H} = -\\frac{1}{2}\\nabla_{r_1}^2 -\\frac{1}{2}\\nabla_{r_2}^2 - \\frac{2}{r_1} - \\frac{2}{r_2} + \\frac{1}{r_{12}}   $$"
   ]
  },
  {
   "cell_type": "markdown",
   "metadata": {},
   "source": [
    "### Matrix representation of the Hamiltonian in our Configuration Interaction basis set.\n",
    "\n",
    "We will write the matrix representation of the Hamiltonian as follows:\n",
    "\n",
    "$H = \\begin{pmatrix}\n",
    "H_{11} & H_{12} \\\\\n",
    "H_{21} & H_{22}  \\end{pmatrix} $\n",
    "\n",
    "where the different terms are given by: \n",
    "\n",
    "\n",
    "$$H_{11} = < \\phi_{1S}(\\vec{r_1})\\phi_{1S}(\\vec{r_2})|\\;\\hat{H}\\;|\\;\\phi_{1S}(\\vec{r_1})\\phi_{1S}(\\vec{r_2})>$$\n",
    "\n",
    "$$H_{12} = \\frac{1}{\\sqrt{2}}<\\phi_{1S}(\\vec{r_1})\\phi_{1S}(\\vec{r_2})\\;|\\;\\hat{H}\\;|\\phi_{1S}(\\vec{r_1})\\phi_{2S}(\\vec{r_2})+\\phi_{1S}(\\vec{r_2})\\phi_{2S}(\\vec{r_1})>$$\n",
    "\n",
    "$$H_{21} = \\frac{1}{\\sqrt{2}}<\\phi_{1S}(\\vec{r_1})\\phi_{2S}(\\vec{r_2})+\\phi_{1S}(\\vec{r_2})\\phi_{2S}(\\vec{r_1})|\\;\\hat{H}\\;|\\;\\phi_{1S}(\\vec{r_1})\\phi_{1S}(\\vec{r_2})>$$\n",
    "\n",
    "$$H_{22} = \\frac{1}{2}<\\phi_{1S}(\\vec{r_1})\\phi_{2S}(\\vec{r_2})+\\phi_{1S}(\\vec{r_2})\\phi_{2S}(\\vec{r_1}))|\\;\\hat{H}\\;|\\phi_{1S}(\\vec{r_1})\\phi_{2S}(\\vec{r_2})+\\phi_{1S}(\\vec{r_2})\\phi_{2S}(\\vec{r_1})>$$"
   ]
  },
  {
   "cell_type": "markdown",
   "metadata": {},
   "source": [
    "## Figuring out the different terms:\n",
    "\n",
    "### $H_{11}$\n",
    "\n",
    "Now, let's expand the first term to see what it is in its full glory by writing the full expression for the Hamiltonian (we did this in class when we went over the Poor Man's - not the Very Poor Man's - approximation, i.e. 1st order perturbation theory.  But I'll rederive it here to make the connection):\n",
    "\n",
    "$$H_{11} = < \\phi_{1S}(\\vec{r_1})\\phi_{1S}(\\vec{r_2})\\;|\\;\\hat{H}\\;|\\;\\phi_{1S}(\\vec{r_1})\\phi_{1S}(\\vec{r_2})>$$\n",
    "\n",
    "$$H_{11} = < \\phi_{1S}(\\vec{r_1})\\phi_{1S}(\\vec{r_2})\\;|-\\frac{1}{2}\\nabla_{r_1}^2 -\\frac{1}{2}\\nabla_{r_2}^2 - \\frac{2}{r_1} - \\frac{2}{r_2} + \\frac{1}{r_{12}} |\\;\\phi_{1S}(\\vec{r_1})\\phi_{1S}(\\vec{r_2})>$$\n",
    "\n",
    "Let us split this up into three different terms: \n",
    "\n",
    "#### First term of $H_{11}$:\n",
    "\n",
    "First a term where the hamiltonian only depends on $r1$\n",
    "$$H_{11a} = < \\phi_{1S}(\\vec{r_1})\\phi_{1S}(\\vec{r_2})\\;|-\\frac{1}{2}\\nabla_{r_1}^2 - \\frac{2}{r_1}|\\;\\phi_{1S}(\\vec{r_1})\\phi_{1S}(\\vec{r_2})>$$\n",
    "\n",
    "As we've pointed out in class and in the pencasts, you should notice the fact that the operator that appears in this expression ($-\\frac{1}{2}\\nabla_{r_1}^2 - \\frac{2}{r_1}$) is pretty much the Hamiltonian for the Hydrogen atom in atomic units. And since $\\phi_{1S}$ is an eigenstate of this Hamiltonian: \n",
    "\n",
    "$$(-\\frac{1}{2}\\nabla_{r_1}^2 - \\frac{2}{r_1})\\phi_{1S}(\\vec{r_1}) = -Z^2\\frac{1}{2}\\phi_{1S}(\\vec{r_1})$$ \n",
    "\n",
    "and $\\phi_{1S}$ is normalized, you should be able to see this expression is equal to:\n",
    "\n",
    "$$H_{11a} = -(Z=2)^2\\frac{1}{2} = -2$$"
   ]
  },
  {
   "cell_type": "markdown",
   "metadata": {},
   "source": [
    "#### Second term of $H_{11}$:\n",
    "In the next term, the Hamiltonian only depends on $r2$\n",
    "$$H_{11b} = < \\phi_{1S}(\\vec{r_1})\\phi_{1S}(\\vec{r_2})\\;| -\\frac{1}{2}\\nabla_{r_2}^2 - \\frac{2}{r_2} |\\;\\phi_{1S}(\\vec{r_1})\\phi_{1S}(\\vec{r_2})>$$\n",
    "<br> \n",
    "by the same arguments as above yield that:\n",
    "\n",
    "$$H_{11b} = -2$$"
   ]
  },
  {
   "cell_type": "markdown",
   "metadata": {},
   "source": [
    "#### Third term of $H_{11}$:\n",
    "\n",
    "The next term is more tricky, with its $\\frac{1}{r_{12}}$ term. \n",
    "<br>\n",
    "$$H_{11c} = < \\phi_{1S}(\\vec{r_1})\\phi_{1S}(\\vec{r_2})\\;| \\frac{1}{r_{12}} |\\;\\phi_{1S}(\\vec{r_1})\\phi_{1S}(\\vec{r_2})>$$\n",
    "<br> \n",
    "To solve it, you need some funky integration techniques.  But it turns out the integral equals:\n",
    "\n",
    "$$H_{11c} = \\frac{5}{4}$$\n",
    "\n",
    "Putting these three terms together, we have:\n",
    "$$H_{11} = -2 -2 + \\frac{5}{4} = -\\frac{11}{4}$$"
   ]
  },
  {
   "cell_type": "code",
   "execution_count": null,
   "metadata": {
    "collapsed": false
   },
   "outputs": [],
   "source": [
    "H_11 = -2 - 2 + 5.0/4.0\n",
    "# Hard science right here\n",
    "print H_11"
   ]
  },
  {
   "cell_type": "markdown",
   "metadata": {},
   "source": [
    "## $H_{12} = H_{21}$\n",
    "The second term looks a bit more intimidating, but it turns out that most of the integrals go to zero because of the orthogonality of $\\phi_{1S}(\\vec{r})$ and $\\phi_{2S}(\\vec{r})$ \n",
    "\n",
    "\n",
    "$$H_{12} = <\\phi_{1S}(\\vec{r_1})\\phi_{1S}(\\vec{r_2})\\;|\\;\\hat{H}\\;|\\;\\phi_{1S}(\\vec{r_1})\\phi_{2S}(\\vec{r_2})+\\phi_{1S}(\\vec{r_2})\\phi_{2S}(\\vec{r_1})>$$\n",
    "\n",
    "Here is $H_{12}$ with the Hamiltonian fully expanded:\n",
    "\n",
    "$$H_{12} = <\\phi_{1S}(\\vec{r_1})\\phi_{1S}(\\vec{r_2})\\;|-\\frac{1}{2}\\nabla_{r_1}^2 -\\frac{1}{2}\\nabla_{r_2}^2 - \\frac{2}{r_1} - \\frac{2}{r_2} + \\frac{1}{r_{12}}|\\;\\phi_{1S}(\\vec{r_1})\\phi_{2S}(\\vec{r_2})+\\phi_{1S}(\\vec{r_2})\\phi_{2S}(\\vec{r_1})>$$\n",
    "\n",
    "We can split this up into two different terms. And it turns out (again because of orthogonality of the hydrogen-like atom eigenstates) that these expressions reduce to the following integrals:\n",
    "\n",
    "$$H_{12a} = <\\phi_{1S}(\\vec{r_1})\\phi_{1S}(\\vec{r_2})\\;|\\;\\hat{H}\\;|\\;\\phi_{1S}(\\vec{r_1})\\phi_{2S}(\\vec{r_2})> \\;\\; = <\\phi_{1S}(\\vec{r_1})\\phi_{1S}(\\vec{r_2})\\;|\\;\\frac{1}{r_{12}}\\;|\\;\\phi_{1S}(\\vec{r_1})\\phi_{2S}(\\vec{r_2})>  $$\n",
    "<br>\n",
    "\n",
    "$$H_{12b} = <\\phi_{1S}(\\vec{r_1})\\phi_{1S}(\\vec{r_2})\\;|\\;\\hat{H}\\;|\\;\\phi_{1S}(\\vec{r_2})\\phi_{2S}(\\vec{r_1})>\\;\\; = <\\phi_{1S}(\\vec{r_1})\\phi_{1S}(\\vec{r_2})\\;|\\;\\frac{1}{r_{12}}\\;|\\;\\phi_{1S}(\\vec{r_2})\\phi_{2S}(\\vec{r_1})>\\ $$\n",
    "\n"
   ]
  },
  {
   "cell_type": "code",
   "execution_count": null,
   "metadata": {
    "collapsed": false
   },
   "outputs": [],
   "source": [
    "H_12a = (4096.0/64827.0)*np.sqrt(2)*2  # Integrals, precomputed\n",
    "H_12b = (4096.0/64827.0)*np.sqrt(2)*2  # Integrals, precomputed\n",
    "H_12 = (1.0/np.sqrt(2))*(H_12a + H_12b)\n",
    "H_21 = H_12\n",
    "print H_12"
   ]
  },
  {
   "cell_type": "markdown",
   "metadata": {},
   "source": [
    "# $H_{22}$"
   ]
  },
  {
   "cell_type": "markdown",
   "metadata": {},
   "source": [
    "The last term looks even more intimidating, but it can be dealt with:\n",
    "\n",
    "$$H_{22} = <\\phi_{1S}(\\vec{r_1})\\phi_{2S}(\\vec{r_2})+\\phi_{1S}(\\vec{r_2})\\phi_{2S}(\\vec{r_1})|\\;\\hat{H}\\;|\\phi_{1S}(\\vec{r_1})\\phi_{2S}(\\vec{r_2})+\\phi_{1S}(\\vec{r_2})\\phi_{2S}(\\vec{r_1})>$$\n",
    "\n",
    "We can expand this out into four terms. And one can show that:\n",
    "\n",
    "$$H_{22} = \\frac{1}{2} (2\\;J_{22,22} + 2\\;K_{22,22})$$\n",
    "\n",
    "Where\n",
    "\n",
    "$$J_{22} = <\\phi_{1S}(\\vec{r_1})\\phi_{2S}(\\vec{r_2})|\\;\\hat{H}\\;|\\phi_{1S}(\\vec{r_1})\\phi_{2S}(\\vec{r_2})> \\;\\; =  -2 - \\frac{1}{2} + \\;\\; <\\phi_{1S}(\\vec{r_1})\\phi_{2S}(\\vec{r_2})|\\;\\frac{1}{r_{12}}\\;|\\phi_{1S}(\\vec{r_1})\\phi_{2S}(\\vec{r_2})> $$ \n",
    "\n",
    "$$K_{22} = <\\phi_{1S}(\\vec{r_1})\\phi_{2S}(\\vec{r_2})|\\;\\hat{H}\\;|\\phi_{1S}(\\vec{r_2})\\phi_{2S}(\\vec{r_1})>\\;\\; = \\;\\;<\\phi_{1S}(\\vec{r_1})\\phi_{2S}(\\vec{r_2})|\\;\\frac{1}{r_{12}}\\;|\\phi_{1S}(\\vec{r_2})\\phi_{2S}(\\vec{r_1})> $$\n",
    "\n",
    "We'll give you the expressions for these below:\n"
   ]
  },
  {
   "cell_type": "code",
   "execution_count": null,
   "metadata": {
    "collapsed": false
   },
   "outputs": [],
   "source": [
    "\n",
    "J_22 = -5.0/2.0 + (17.0/81.0)*2 \n",
    "K_22 = (16.0/729.0)*2\n",
    "# fill me here\n",
    "H_22 = \n"
   ]
  },
  {
   "cell_type": "markdown",
   "metadata": {},
   "source": [
    "##  Build $H = \\begin{pmatrix} H_{11} & H_{12} \\\\ H_{21} & H_{22}  \\end{pmatrix} $\n",
    "\n",
    "Putting all this together, we can now build the matrix  "
   ]
  },
  {
   "cell_type": "code",
   "execution_count": null,
   "metadata": {
    "collapsed": false
   },
   "outputs": [],
   "source": [
    "H = np.zeros((2,2))\n",
    "\n",
    "\n",
    "#######\n"
   ]
  },
  {
   "cell_type": "markdown",
   "metadata": {},
   "source": [
    "### Get the eigenvalues of the $H$ matrix\n",
    "\n",
    "Print the ground state energy and look at the $c1$ and $c2$ coeficicents"
   ]
  },
  {
   "cell_type": "code",
   "execution_count": null,
   "metadata": {
    "collapsed": false
   },
   "outputs": [],
   "source": [
    "\n",
    "\n",
    "print 'The ground state energy estimate is --> ', eigvals[0]\n",
    "print 'The c1 and c2 coefficients are --> ', eigvecs[:,0] "
   ]
  },
  {
   "cell_type": "markdown",
   "metadata": {},
   "source": [
    "## <i class=\"fa fa-question-circle\"></i> Compare\n",
    "\n",
    "How does this estimate compare to:\n",
    "\n",
    "1.  The exact ground state energy of He?\n",
    "\n",
    "2.  The Very Poor Man's approximation to the ground state energy of He?\n",
    "\n",
    "3.  The Poor Man's approximation?\n",
    "\n",
    "Recall that here, we are working in the atomic unit of energy, the Hartree.  Whereas in the lecture notes, sometimes the energies are given in electron volts.  You might need the following conversion factor:\n"
   ]
  },
  {
   "cell_type": "code",
   "execution_count": null,
   "metadata": {
    "collapsed": false
   },
   "outputs": [],
   "source": [
    "Hartree_to_Ev = 27.211399\n",
    "\n",
    "print 'Exact Energy --> -79 eV'\n",
    "print 'Very Poor Mans approx. --> -108.8 eV'\n",
    "print 'Poor Mans approx (1st Perturbation Theory using Very poor mans orbitals) --> -74.8 eV'\n",
    "print 'Our Configuration interaction estimate --> ', eigvals[0]*Hartree_to_Ev"
   ]
  },
  {
   "cell_type": "markdown",
   "metadata": {},
   "source": [
    "## Part 2: First Order Pertubation theory \n",
    "\n",
    "Pertubation theory can be used to \"recover\" what is lost when using approximations, it works by assuming that your exact solution can be described as a power series, for example if $E_{Exact}$ is the exact energy , this would be:\n",
    "$$\n",
    "E_{Exact} = E_{0} + \\lambda E_{1} + \\lambda^2 E_{2} + \\lambda^3 E_{3} \\dots\n",
    "$$\n",
    "\n",
    "where $E_0$ is a first approximation to the problem, $E_i$ are smaller higher order corrections and $\\lambda$ is the pertubation parameter.\n",
    "We can apply this idea to first order on the Hamiltonian:\n",
    "\n",
    "$$H = H_{0} + \\lambda H_{1} $$\n",
    "\n",
    "Where $H_{0}$ is our Very Poor Man's hamiltonian approximation and the term $H_{1} = \\frac{1}{r_{12}}$, will treat the interaction between the two electrons, i.e. as a pertubation. In this case $\\lambda$ will be a knob that we can gradually \"turn on and off\" by multiplying the interaction term, and make it change from 0 to 1.\n",
    "When $\\lambda = 0$ is Very Poor Man's aproximation.  \n",
    "\n",
    "When $\\lambda = 1$  we are back with the full Coulomb interaction.  And in between we are somewhere between the two scenarios. When we do this multiplication ( $\\lambda\\frac{1}{r_{12}}$ ), all the integrals that have  $\\frac{1}{r_{12}}$ sandwiched in between will end up having a $\\lambda$ factor as well.\n",
    "\n",
    "Normally in pertubation theory you also optimize your $\\lambda$ based on a certain criteria, in quantum mechanics you use the variational principle. You will not have to do this.\n",
    "\n",
    "Your mission is to create a hamiltonian that depends on lambda:"
   ]
  },
  {
   "cell_type": "code",
   "execution_count": null,
   "metadata": {
    "collapsed": false
   },
   "outputs": [],
   "source": [
    "#Matrix for different values of lambda. \n",
    "\n",
    "def H_lambda(Lambda):\n",
    "    \n",
    "    H = np.zeros((2,2))\n",
    "        \n",
    "    return H"
   ]
  },
  {
   "cell_type": "markdown",
   "metadata": {},
   "source": [
    "### Vary $\\lambda$ from 0 to 1, and get the ground state energy and the c1 and c2 coefficients for each value. "
   ]
  },
  {
   "cell_type": "code",
   "execution_count": null,
   "metadata": {
    "collapsed": false
   },
   "outputs": [],
   "source": [
    "Lambda_array = np.arange(0,1,0.01)\n",
    "c1 = np.zeros(len(Lambda_array))\n",
    "c2 = np.zeros(len(Lambda_array))\n",
    "Eg = np.zeros(len(Lambda_array))\n",
    "\n",
    "###################\n",
    "###Write a for loop that loops over the indices i of the\n",
    "## Lambda_array array.  At each value, \n",
    "## 1. get the H matrix, \n",
    "## 2. get the c1 and c2 coefficients. Plug them in the appropriate arrays \n",
    "## 3. get the ground state energy. Plug it in the appropriate array.\n",
    "\n",
    "\n",
    "\n",
    "###################"
   ]
  },
  {
   "cell_type": "markdown",
   "metadata": {},
   "source": [
    "### <i class=\"fa fa-line-chart\"></i> Plot both coefficients squared $c_1^2$ and $c_2^2$ as a function of $\\lambda$. "
   ]
  },
  {
   "cell_type": "code",
   "execution_count": null,
   "metadata": {
    "collapsed": false
   },
   "outputs": [],
   "source": [
    "plt.plot(Lambda_array, c1**2, lw=4)\n",
    "plt.plot(Lambda_array, c2**2, lw = 4)\n",
    "plt.legend(('$\\psi_0$ (ground)','$\\psi_1$ (singlet excited)'))\n",
    "plt.ylim((0, 1.5))\n",
    "plt.xlabel('$\\lambda$ parameter (electron interaction strength)')\n",
    "plt.ylabel('$c_1$ and $c_2$ coefficients')\n",
    "plt.title('Contributions from ground and singlet excited vs. $\\lambda$')\n",
    "plt.show()"
   ]
  },
  {
   "cell_type": "markdown",
   "metadata": {},
   "source": [
    "### <i class=\"fa fa-line-chart\"></i> Plot the ground energy as a function of $\\lambda$"
   ]
  },
  {
   "cell_type": "code",
   "execution_count": null,
   "metadata": {
    "collapsed": false,
    "scrolled": true
   },
   "outputs": [],
   "source": [
    "plt.axhline(-79,label=\"$E_{Exact}$\")\n",
    "plt.xlabel('$\\lambda$ parameter (electron interaction strength)')\n",
    "plt.ylabel('Ground State energy')\n",
    "plt.title('CI ground state energy estimate vs. $\\lambda$')\n",
    "plt.legend(loc='best')\n",
    "plt.show()"
   ]
  },
  {
   "cell_type": "markdown",
   "metadata": {},
   "source": [
    "### <i class=\"fa fa-question-circle\"></i> Questions/Discussion\n",
    "\n",
    "* Think about the plots and how to interpret them.\n",
    "* Can you see how, as you graduallly turn on the interation, the energy gets closer to the experimental value, and you get more contribution from the singlet excited state?\n",
    "* How would you choose the ideal $\\lambda$? (Imagine you did not have the exact energy, since this is what we ultimately want)"
   ]
  },
  {
   "cell_type": "markdown",
   "metadata": {},
   "source": [
    "Answer here"
   ]
  },
  {
   "cell_type": "markdown",
   "metadata": {},
   "source": [
    "# <i class=\"fa fa-check-circle-o\"></i> Exercise 2: <br>  Hartree-Fock on Helium\n",
    "## 1 point\n",
    "\n",
    "\n",
    "In the previous exercise we used solutions to the hamiltonian (ground states, exicted states) as our basis set. Each solution was build from fixed $1s$ and $2s$ hydrogen orbitals. Here we will explore the idea of impoving on our guess not from CI, but by increasing the number of available orbitals to choose from. Our basis set will be the atomic orbitals!\n",
    "\n",
    "Unlike Considerable Exercise No. 2, where you will go further and code some of the detail of the Hartree-Fock method, here we'll use Hartree-Fock as implemented in PyQuante more like a **black box method**.  \n",
    "\n",
    "![fake pyquante](files/PyQuante.jpg)\n",
    "From [pyquante's website](http://pyquante.sourceforge.net/):\n",
    ">PyQuante is an open-source suite of programs for developing quantum chemistry methods.\n",
    "> The goal of this software is not necessarily to provide a working quantum chemistry program\n",
    ">, but rather to provide a well-engineered set of tools so that scientists can construct \n",
    "> their own quantum chemistry programs without going through the tedium of having to write \n",
    "> every low-level routine.\n",
    "\n",
    "**Note:** Some people like to prenounciate it as *picante* (spicy in spanish).\n",
    "\n",
    "The steps for a calculation will be:\n",
    "\n",
    "* Specify the helium via **Molecule(name, atomlist)**, check the [documentation](http://pyquante.sourceforge.net/#specifying-a-molecule) on how to do this.\n",
    "* Use the **rhf(molecule, basis)** function, that takes as input a molecule and a specified basis set. We will provide the basis set string.\n",
    "* Each calculation will provide you with energy values, orbital energies and orbital coeficients. We just need the energies right now. Check [if in doubt.](http://pyquante.sourceforge.net/#using-the-code)\n",
    "\n",
    "Finally we will run multiple calculations on increasingly bigger basis sets and compare these values on a plot.\n",
    "\n",
    "\n",
    "\n",
    "**NOTE:** In particular we will use the **rhf**, restricted hartree fock, restricted as in a closed shell...don't worry, this just means the plain vanilla version of hartree fock.\n",
    "\n",
    "\n",
    "## Define the helium atom"
   ]
  },
  {
   "cell_type": "code",
   "execution_count": null,
   "metadata": {
    "collapsed": false
   },
   "outputs": [],
   "source": [
    "from PyQuante.Molecule import Molecule\n",
    "\n"
   ]
  },
  {
   "cell_type": "markdown",
   "metadata": {},
   "source": [
    "## Run a single hartree fock calculation\n",
    "\n",
    "The basis is not important right now.\n",
    "\n",
    "What is the energy? \n",
    "\n",
    "Remember to convert from Hartree to Electron Volts if you want to compare."
   ]
  },
  {
   "cell_type": "code",
   "execution_count": null,
   "metadata": {
    "collapsed": true
   },
   "outputs": [],
   "source": [
    "from PyQuante.hartree_fock import rhf\n",
    "\n"
   ]
  },
  {
   "cell_type": "markdown",
   "metadata": {},
   "source": [
    "## Check one basis set\n",
    "\n",
    "Using the **getbasis(molecule,basis_set_name)** function we will be able to retrieve information on the basis set. We currently only interested in the number of basis functions used. You can retrieve this information using len on the returned value of getbasis.\n",
    "\n",
    "And you can even get further information with **qworld.print_orbitalInfo(molecule,basis_set_name)**.\n",
    "Which will print out:\n",
    "\n",
    "* Number of basis functions\n",
    "    * For each atom, the number of atomic orbitals available to it\n",
    "        * For each atomic orbital, the radial part is decomposed in terms of gaussians since these are easier to calculate.\n",
    "            The general formula for each gaussian  is $ N x^a y^b z^c e^{coef * r^2}$, $N$ being a normalization constant, the $exponent=(a,b,c)$ depending on the direction and $r^2=x^2 +y^2 +z^2$.\n",
    "\n"
   ]
  },
  {
   "cell_type": "code",
   "execution_count": null,
   "metadata": {
    "collapsed": false
   },
   "outputs": [],
   "source": [
    "from PyQuante.Ints import getbasis\n",
    "# choose one\n",
    "basis_sets=['sto3g','cc-pvdz','6-311g++(2d,2p)','6-311g++(3d,3p)','cc-pvtz']\n",
    "# get the information"
   ]
  },
  {
   "cell_type": "markdown",
   "metadata": {},
   "source": [
    "## Effect of basis size\n",
    "Run a for loop over multiple basis sets of increasing size, save the number of basis sets and the calculated energy.\n",
    "\n",
    "Don't worry too much on what the strings mean right now, for more info check [here](https://en.wikipedia.org/wiki/Basis_set_(chemistry)."
   ]
  },
  {
   "cell_type": "code",
   "execution_count": null,
   "metadata": {
    "collapsed": false
   },
   "outputs": [],
   "source": [
    "energies =[]\n",
    "nbfns=[]\n",
    "for bset in basis_sets:\n",
    "    # code for calculating and saving values\n",
    "\n",
    "\n",
    "#convert to numpy array\n",
    "energies  = np.array(energies)\n",
    "nbfns = np.array(nbfns)"
   ]
  },
  {
   "cell_type": "markdown",
   "metadata": {},
   "source": [
    "## <i class=\"fa fa-line-chart\"></i> Plot and compare your energies"
   ]
  },
  {
   "cell_type": "code",
   "execution_count": null,
   "metadata": {
    "collapsed": false
   },
   "outputs": [],
   "source": [
    "\n",
    "\n",
    "plt.xlabel(\"Number of basis functions\")\n",
    "plt.ylabel(\"Energy ($E_v$)\")\n",
    "plt.title(\"Comparison of multiple energy calculations\")\n",
    "plt.show()"
   ]
  },
  {
   "cell_type": "markdown",
   "metadata": {},
   "source": [
    "### <i class=\"fa fa-question-circle\"></i> Questions/Discussion\n",
    "\n",
    "* What trend do you see?\n",
    "* What would be the tradeoffs?\n",
    "* Can you get to the exact energy increasing the basis set?\n",
    "* Which strategy gave better results?\n",
    "* How could further improve the accuracy of your calculations?"
   ]
  },
  {
   "cell_type": "markdown",
   "metadata": {},
   "source": [
    "Answer here"
   ]
  },
  {
   "cell_type": "code",
   "execution_count": null,
   "metadata": {
    "collapsed": true
   },
   "outputs": [],
   "source": []
  }
 ],
 "metadata": {
  "kernelspec": {
   "display_name": "Python 2",
   "language": "python",
   "name": "python2"
  },
  "language_info": {
   "codemirror_mode": {
    "name": "ipython",
    "version": 2
   },
   "file_extension": ".py",
   "mimetype": "text/x-python",
   "name": "python",
   "nbconvert_exporter": "python",
   "pygments_lexer": "ipython2",
   "version": "2.7.10"
  }
 },
 "nbformat": 4,
 "nbformat_minor": 0
}
