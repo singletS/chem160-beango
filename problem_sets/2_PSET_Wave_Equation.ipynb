{
 "cells": [
  {
   "cell_type": "markdown",
   "metadata": {},
   "source": [
    "# 2 - Wave equation solutions\n",
    "\n",
    "#### <i class=\"fa fa-exclamation-circle\"></i> Disclaimer: Do not modify this iPython notebook.  If you want to modify it, copy it to a different directory, one that is not automatically updated, and modify it there\n",
    "\n",
    "## Intro:"
   ]
  },
  {
   "cell_type": "markdown",
   "metadata": {},
   "source": [
    "\n",
    "In this iPython notebook, we will explore solutions to the wave equation.  As you'll learn throughout the course, waves are fundamental to quantum mechanics, and playing around with the wave equation in the early part of the course will sharpen your intuition later on down the road. \n",
    "\n",
    "In the pencasts on the wave equation we saw that the analytical solution to the wave equation that describes a 1-D string can be obtained by the 'separation of variables' technique.  The solution is given in the general form: \n",
    "\n",
    "$$ A(x,t)= \\sum_n c_n \\cos \\left( \\frac{n\\pi c}{L}t \\right)  \\sin \\left( \\frac{n\\pi x}{L} \\right)  $$\n",
    "\n",
    "We'll refer to $ sin \\left( \\frac{n\\pi x}{L} \\right) $ as the **time independent portion**, and to $ cos \\left( \\frac{n\\pi c}{L}t \\right) $ as the **time dependent** portion.\n",
    "\n",
    "Recall that $x$ is position, $t$ is time.  In the case of a string, $L$ is the length of the string and $c$ is the velocity of sound on the string.  Finally, $n$ is an integer that comes from satisfying the boundary conditions\n",
    "\n",
    "That is, the wave can be expressed as a sum of \"Eigenstates\" or \"Harmonics\", each one characterized by a different number $n$ (an integer)."
   ]
  },
  {
   "cell_type": "markdown",
   "metadata": {},
   "source": [
    "# <i class=\"fa fa-check-circle\"></i> Exercise 1: Plotting the Eigenstates\n",
    "## (1 point)"
   ]
  },
  {
   "cell_type": "code",
   "execution_count": 1,
   "metadata": {
    "collapsed": false
   },
   "outputs": [],
   "source": [
    "#We'll import some useful modules for you. \n",
    "%matplotlib inline\n",
    "import numpy as np\n",
    "from matplotlib import pyplot as plt\n",
    "from scipy.integrate import quad\n",
    "from scipy.integrate import simps\n",
    "# the Quantum world library\n",
    "import sys\n",
    "# add all probables spots for the quantum world library\n",
    "sys.path.append('../library')\n",
    "sys.path.append('../../library')\n",
    "sys.path.append('/home/student/chem160/library')\n",
    "import quantumWorld as qworld"
   ]
  },
  {
   "cell_type": "markdown",
   "metadata": {},
   "source": [
    "\n",
    "## 1.a - Define a function for the time-independent portion of an eigenstate\n",
    "\n",
    "Input should be: $x$, $n$, and $L$.\n"
   ]
  },
  {
   "cell_type": "code",
   "execution_count": null,
   "metadata": {
    "collapsed": false
   },
   "outputs": [],
   "source": [
    "def harmonic_time_independent(x,n,L):\n",
    "    #### (ONE LINE)SUBSTITUTE THIS WITH A ONE-LINER THAT ASSIGNS THE \n",
    "    ####TIME-INDEPENDENT PORTION TO A VARIABLE CALLED amplitude\n",
    "\n",
    "    return amplitude"
   ]
  },
  {
   "cell_type": "markdown",
   "metadata": {},
   "source": [
    "## 1.b - Define a function for the time-dependent portion of an eigenstate.\n",
    "\n",
    "Input should be: $t$, $c$, $n$, and $L$."
   ]
  },
  {
   "cell_type": "code",
   "execution_count": null,
   "metadata": {
    "collapsed": false
   },
   "outputs": [],
   "source": [
    "def harmonic_time_dependent(t,c,n,L):\n",
    "    #### (ONE LINE)SUBSTITUTE THIS WITH A ONE-LINER THAT ASSIGNS THE \n",
    "    ####TIME-DEPENDENT PORTION TO A VARIABLE CALLED amplitude\n",
    "\n",
    "    return amplitude"
   ]
  },
  {
   "cell_type": "markdown",
   "metadata": {},
   "source": [
    "## 1.c - <i class=\"fa fa-line-chart\"></i> Plot the time-independent portion of the first harmonic (n=1).\n",
    "\n"
   ]
  },
  {
   "cell_type": "code",
   "execution_count": null,
   "metadata": {
    "collapsed": false
   },
   "outputs": [],
   "source": [
    "###(TWO LINES)DEFINE YOUR WAVE PARAMETERS HERE (n and L).\n",
    "### Assign to L whatever value you'd like for the length of your string. \n",
    "\n",
    "###(ONE LINE) CREATE A POSITION VECTOR x, FROM 0 TO L, with intervals of e.g. 0.1\n",
    "\n",
    "###(ONE LINE) CALL THE FUNCTION YOU WROTE IN 1a,\n",
    "### and ASSIGN THE OUTPUT TO A VARIABLE CALLED wave\n",
    "\n",
    "###PLOT x vs. wave. LABEL YOUR AXES AND ADD A TITLE TO THE FIGURE\n"
   ]
  },
  {
   "cell_type": "markdown",
   "metadata": {},
   "source": [
    "## 1.d - <i class=\"fa fa-line-chart\"></i> Plot multiple harmonics (n=1, 2, 3)\n",
    "Overlay the plots in the same figure and add a legend to your figure."
   ]
  },
  {
   "cell_type": "code",
   "execution_count": null,
   "metadata": {
    "collapsed": false
   },
   "outputs": [],
   "source": [
    "#Wave parameters\n",
    "n =\n",
    "L =\n",
    "### WRITE A FOR LOOP THAT CALLS harmonic_time_independent FUNCTION YOU WROTE ABOVE FOR \n",
    "### n = 1, 2, 3, EACH TIME ASSIGNS THE OUTPUT TO A VARIABLE CALLED wave,\n",
    "### AND PLOTS x vs. wave FOR EACH VALUE OF n OVERLAYED ON THE SAME FIGURE\n",
    "\n",
    "    \n",
    "### ADD X AND Y LABELS TO YOUR AXES, AND A TITLE AND \n",
    "### LEGEND TO YOUR FIGURE\n"
   ]
  },
  {
   "cell_type": "markdown",
   "metadata": {},
   "source": [
    "## 1.e - <i class=\"fa fa-line-chart\"></i>  Plot the first three harmonics of the time-dependent portion.\n",
    "Overlay the three plots in the same figure."
   ]
  },
  {
   "cell_type": "code",
   "execution_count": null,
   "metadata": {
    "collapsed": false
   },
   "outputs": [],
   "source": [
    "#Let's look at the time dependence: \n",
    "L = 10\n",
    "c = 0.1\n",
    "#this is a time array, starts at 0, goes until 100, in intervals of 0.01\n",
    "\n",
    "\n",
    "### write a for loop that calls  harmonic_time_dependent for n = 1,2,3\n",
    "### assigns the oupts to a variable amp, and plots x vs. amp\n",
    "### for each value of n, overlayed in the same figure \n",
    "\n",
    "### add x,y labels, titles and legends to your figures\n"
   ]
  },
  {
   "cell_type": "markdown",
   "metadata": {},
   "source": [
    "## 1.f - <i class=\"fa fa-video-camera\"></i> Animate the eigenstates!\n",
    "### Your first  animation! \n",
    "You can now start to make gifs to share with all your loved ones!\n",
    "\n",
    "Using the animation subpackage from matplotlib make an animation of the n = 4 harmonic.\n",
    "\n",
    "Use the following wave parameters: L = 10, c = 0.1, n=4, \n",
    "##### But  you are encouraged to play around with different parameter values! This will sharpen your intuition.\n"
   ]
  },
  {
   "cell_type": "code",
   "execution_count": null,
   "metadata": {
    "collapsed": false
   },
   "outputs": [],
   "source": [
    "#import the animation module\n",
    "from matplotlib import animation\n",
    "\n",
    "### (THREE LINES) define your wave parameters (L, c, n) here\n",
    "\n",
    "\n",
    "\n",
    "#We'll set up the figure for you\n",
    "fig = plt.figure()\n",
    "ax = plt.axes(xlim=(0, 10), ylim=(-2, 2)) #create single axis in figure\n",
    "plt.xlabel('position')\n",
    "plt.ylabel('amplitude')\n",
    "line, = ax.plot([], [], lw=2) #line is a plot.... \n",
    "\n",
    "#This init function will be called to create \n",
    "#the base frame upon which the animation takes place.\n",
    "#we'll set it up for you as well\n",
    "def init():\n",
    "    line.set_data([], []) #sets the line data to nothing\n",
    "    return line,  #return the line object\n",
    "\n",
    "### COMPLETE THIS ANIMATION FUNCTION, WHICH WILL BE CALLED \n",
    "### ITERATIVELY FOR MANY VALUES OF T\n",
    "def animate(t): \n",
    "    \n",
    "    ### (ONE LINE) CREATE AN ARRAY OF POSITIONS, CALLED x, FROM 0 TO L, with intervals of 0.01\n",
    "\n",
    "    ### (ONE LINE) CALL YOUR harmonic_time_dependent FUNCTION, assign output to amp_t\n",
    "\n",
    "    ### (ONE LINE) CALL YOUR harmonic_time_independent FUNCTION, assing output to amp_x\n",
    "\n",
    "    ### (ONE LINE) MULTIPLY THE TWO OUTPUTS, CALL THAT VARIABLE y\n",
    "\n",
    "    line.set_data(x, y)  #This is what you plot at each frame in the animation. \n",
    "    return line,\n",
    "\n",
    "#Let's create the animation!!!\n",
    "anim = animation.FuncAnimation(fig, animate, init_func=init, frames=200)\n",
    "# Like it? Right click and save it!\n",
    "qworld.embedAnimation(anim,plt)"
   ]
  },
  {
   "cell_type": "markdown",
   "metadata": {},
   "source": [
    "## 1.g - <i class=\"fa fa-question-circle\"></i> Question \n",
    "\n",
    "Now that you can visualize the full harmonic in its entire beauty,\n",
    "\n",
    "#### how do you interpret plots 1.d and 1.e, which showed only the time or position dependence? "
   ]
  },
  {
   "cell_type": "markdown",
   "metadata": {},
   "source": [
    "Fill Me"
   ]
  },
  {
   "cell_type": "markdown",
   "metadata": {},
   "source": [
    "# <i class=\"fa fa-check-circle\"></i> Exercise 2: Superposition and Interference \n",
    "## (1 point)"
   ]
  },
  {
   "cell_type": "markdown",
   "metadata": {},
   "source": [
    "## 2.a - Create an equal superposition of the first two harmonics\n",
    "\n",
    "$$A(x,t)=  \\cos\\left(\\frac{\\pi c}{L}t\\right)\\sin \\left(\\frac{\\pi x}{L}\\right)+  \\cos\\left(\\frac{2\\pi c}{L}t\\right)\\sin\\left(\\frac{2\\pi x}{L}\\right)$$\n",
    "\n",
    "Use a fixed value of x (x = L/3).\n",
    "\n",
    "Plot as a function of time and interpret what you see .\n"
   ]
  },
  {
   "cell_type": "code",
   "execution_count": null,
   "metadata": {
    "collapsed": false
   },
   "outputs": [],
   "source": [
    "### (FOUR LINES) SET YOUR WAVE PARAMETERS (L, n1 = 1, n2 = 2, c)\n",
    "L = \n",
    "n1 = \n",
    "n2 = \n",
    "c = \n",
    "### (ONE LINE) FIX THE VALUE OF the variable x at L/3 \n",
    "\n",
    "### (ONE LINE) CREATE A TIME ARRAY, t, FROM t = 0 TO HOWEVER LONG YOU PLAN \n",
    "### TIME TO RUN\n",
    "\n",
    "### (TWO LINES)CALL YOUR TIME DEPENDENT AND INDEPENDENT FUNCTIONS FOR n1. \n",
    "### ASSIGN OUTPUTS TO VARIABLES Ax_1 and At_1 \n",
    "\n",
    "### (TWO LINES) CALL YOUR TIME DEPENDENT AND INDEPENDENT FUNCTIONS FOR n2. \n",
    "### ASSIGN OUTPUTS TO VARIABLES Ax_2 and At_2 \n",
    "\n",
    "#build the Superposition and Plot it\n"
   ]
  },
  {
   "cell_type": "markdown",
   "metadata": {},
   "source": [
    "## 2.b - <i class=\"fa fa-video-camera\"></i> Animate the superposition"
   ]
  },
  {
   "cell_type": "markdown",
   "metadata": {},
   "source": [
    "### After your code works, you should be able to see the animation by using the animation "
   ]
  },
  {
   "cell_type": "code",
   "execution_count": null,
   "metadata": {
    "collapsed": false
   },
   "outputs": [],
   "source": [
    "#set up figure\n",
    "fig = plt.figure()\n",
    "ax = plt.axes(xlim=(0, 10), ylim=(-2, 2)) #create single axis in figure\n",
    "plt.xlabel('position')\n",
    "plt.ylabel('amplitude')\n",
    "line, = ax.plot([], [], lw=2) #line is a plot.... \n",
    "\n",
    "#This init function will be called to create the base frame upon which the animation takes place. \n",
    "def init():\n",
    "    line.set_data([], []) #sets the line data to nothing\n",
    "    return line,  #return the line object\n",
    "\n",
    "### COMPLETE THIS ANIMATION FUNCTION, WHICH WILL BE CALLED \n",
    "### ITERATIVELY FOR MANY VALUES OF T\n",
    "def animate_superposition(t): #single input parameter, i\n",
    "    ### (ONE LINE) CREATE AN ARRAY OF POSITIONS, CALLED x, FROM 0 TO L\n",
    "\n",
    "    ### (TWO LINES) CALL YOUR harmonic_time_dependent AND harmonic_time_independent\n",
    "    ### FUNCTION for n1 assign output to amp_t1 AND amp_x1 respectively\n",
    "    \n",
    "\n",
    "    ### (TWO LINES) CALL YOUR harmonic_time_dependent AND harmonic_time_independent\n",
    "    ### FUNCTION for n1 assign output to amp_t2 AND amp_x2 respectively\n",
    "\n",
    "    \n",
    "    ### (ONE LINE) CREATE THE SUPERPOSITION OF THE n1 AND n2 HARMONICS. THAT IS, ADD UP amp_t1*amp_x1 + ampt2*amp_x2.  \n",
    "    ### ASSING TO VARIABLE y\n",
    "\n",
    "    line.set_data(x, y) \n",
    "    return line,\n",
    "\n",
    "#Let's create the animation\n",
    "anim = animation.FuncAnimation(fig, animate_superposition, init_func=init, frames=200, interval = 1)\n",
    "#save the animation\n",
    "qworld.embedAnimation(anim,plt)"
   ]
  },
  {
   "cell_type": "markdown",
   "metadata": {},
   "source": [
    "# <i class=\"fa fa-check-circle\"></i> Exercise 3: Decomposition of a square wave into eigenstates\n",
    "## (1 point)"
   ]
  },
  {
   "cell_type": "markdown",
   "metadata": {},
   "source": [
    "## 3.a Create a square wave function.\n",
    "\n",
    "$$\n",
    "f(x)= \\begin{cases}\n",
    "                        0 \\text{, if  $x < \\frac{1}{3}L$ or $x>\\frac{2}{3}L$} \\\\\n",
    "                        1 \\text{, otherwise}\n",
    "                    \\end{cases}              \n",
    "$$\n"
   ]
  },
  {
   "cell_type": "markdown",
   "metadata": {},
   "source": [
    "Write the square function as an actual python function that \n",
    "given an input $x$ and box length $L$, returns a single output $y$\n",
    "### If and else statements:\n",
    "\n",
    "Due to the conditional nature of the function, you might want to use an if and else statement which has the following structure:\n",
    "\n",
    "```python\n",
    "if (condition1):\n",
    "    code1\n",
    "elif (condition2):\n",
    "    code2\n",
    "else (condition3):\n",
    "    code3\n",
    "\n",
    "```\n",
    "The **elif** and **else** are optional, you can use only one **if**, if you wanted.\n",
    "An easy example would be:\n",
    "```python\n",
    "if value > 100:\n",
    "    print(\"Value is bigger than 100\")\n",
    "\n",
    "```\n",
    "\n",
    "A more concrete example in your daily life would be:\n",
    "```python\n",
    "if hunger > 1000:\n",
    "    print(\"You have are really hungry, go to bon me\")\n",
    "elif hunger > 10:\n",
    "    print(\"Slightly hungry, eat a cookie (or an apple).\")\n",
    "else:\n",
    "    print(\"Not hungry at all, ask in one hour again.\")\n",
    "```\n",
    "\n",
    "Now code that function:"
   ]
  },
  {
   "cell_type": "code",
   "execution_count": null,
   "metadata": {
    "collapsed": false
   },
   "outputs": [],
   "source": [
    "def square_function(x, L):\n",
    "    '''given x, returns y as defined by the square function defined in the range 0 <= x <= L\n",
    "    '''\n",
    "    y = np.zeros(len(x))\n",
    "    for i in range(len(x)): \n",
    "        #########\n",
    "        # (A few lines) Code that operates over x[i] and returns a value for y[i]\n",
    "        #########\n",
    "        \n",
    "        y[i] = \n",
    "        \n",
    "    return y"
   ]
  },
  {
   "cell_type": "markdown",
   "metadata": {},
   "source": [
    "And plot it! <i class=\"fa fa-line-chart\"></i>"
   ]
  },
  {
   "cell_type": "code",
   "execution_count": null,
   "metadata": {
    "collapsed": false
   },
   "outputs": [],
   "source": []
  },
  {
   "cell_type": "markdown",
   "metadata": {},
   "source": [
    "## 3.b - On wave decomposition ..\n",
    "\n",
    "Now, follow what we did in the WaveDecomposition.ipynb notebook in class. \n",
    "\n",
    "We want to show that this square-shaped wave can be expressed as a sum of sines, each one with a different frequency (different values of n):\n",
    "\n",
    "$$ f(x) = \\sum_1^{\\infty}c_n\\sin(\\frac{n \\pi x}{L})$$\n",
    "\n",
    "Where the $c_n$ are the \"AMPLITUDES\" associated to each term.\n",
    "\n",
    "In order to get these amplitudes, we need to \"PROJECT\" the square function into each of the of the sine functions.  This is done by taking the following inner product: \n",
    "\n",
    "$$ c_n = \\int_0^L \\sin(\\frac{n \\pi x}{L})f(x)dx $$"
   ]
  },
  {
   "cell_type": "markdown",
   "metadata": {},
   "source": [
    "##### <i class=\"fa fa-info-circle\"></i> Follow the demo 2_Wave_Decomposition.ipynb  closely!!\n",
    "\n",
    "Write code below to get the amplitudes for the c1, c2, c3, ..., c10 coefficients.  Like we did in class you will need to:\n",
    "\n",
    "1. Write a projection_integrand function, that returns, for values of $x$, $n$ and $L$, the product  $\\sin(\\frac{n \\pi x}{L})f(x)$, where $f(x)$ is your square function evaluated at $x$.\n",
    "2. Write a foor loop that iterates over values of $n$, from 1 to 10 .\n",
    "3.  for each value of n, use the simps function to evaluate the integral needed to get the coefficient c_n. Check the documentation: http://docs.scipy.org/doc/scipy/reference/tutorial/integrate.html.\n",
    "4.  Add up all the $c_n\\sin \\left (\\frac{n \\pi x}{L} \\right)$, storing the in an array.\n",
    "5.  Plot the sum-of-sines approximation and the actual square wave function overlayed in the same figure. "
   ]
  },
  {
   "cell_type": "code",
   "execution_count": null,
   "metadata": {
    "collapsed": false
   },
   "outputs": [],
   "source": [
    "def projection_integrand(x,n,L):\n",
    "    ''' this returns the integrand sin(n pi x / L)*square_function\n",
    "    '''\n",
    "    #########\n",
    "    # (ONE LINE) Multiply the harmonic by the square_function\n",
    "    #########\n",
    "\n",
    "    return integrand"
   ]
  },
  {
   "cell_type": "code",
   "execution_count": null,
   "metadata": {
    "collapsed": false
   },
   "outputs": [],
   "source": [
    "# this is the integration function we will use\n",
    "from scipy.integrate import simps\n",
    "# define your parameters and vectors here\n",
    "\n",
    "# your foor loop here, following point 3 and 4\n"
   ]
  },
  {
   "cell_type": "markdown",
   "metadata": {},
   "source": [
    "### Plot multiple values and see if it is converging"
   ]
  },
  {
   "cell_type": "code",
   "execution_count": null,
   "metadata": {
    "collapsed": false
   },
   "outputs": [],
   "source": []
  },
  {
   "cell_type": "markdown",
   "metadata": {},
   "source": [
    "## 2.c - <i class=\"fa fa-video-camera\"></i> Animate the approximation!\n",
    "\n",
    "### First define a function that will return the n-th approximation"
   ]
  },
  {
   "cell_type": "code",
   "execution_count": null,
   "metadata": {
    "collapsed": false,
    "scrolled": true
   },
   "outputs": [],
   "source": [
    "def square_approx(x,n_max,L):\n",
    "    ''' \n",
    "    this returns the n-th approximation of the square wave\n",
    "    '''\n",
    "    y = np.zeros(len(x))\n",
    "    # copy your for loop here\n",
    "\n",
    "    return y"
   ]
  },
  {
   "cell_type": "markdown",
   "metadata": {},
   "source": [
    "### Now on to movie magic!"
   ]
  },
  {
   "cell_type": "code",
   "execution_count": null,
   "metadata": {
    "collapsed": false
   },
   "outputs": [],
   "source": [
    "# Setting up everything for you\n",
    "fig = plt.figure()\n",
    "ax = plt.axes(xlim=(0, 10), ylim=(-0.1, 1.2)) #create single axis in figure\n",
    "plt.xlabel('position')\n",
    "plt.ylabel('amplitude')\n",
    "line1, = ax.plot([], [], lw=2) #line1 is the square plot.... \n",
    "line2, = ax.plot([], [], lw=2) #line2 is the approximation plot.... \n",
    "\n",
    "\n",
    "#This init function will be called to create the base frame upon which the animation takes place. \n",
    "def init():\n",
    "    # first we fill the square wave once, since it does not change\n",
    "    x = np.arange(0, L, 0.01)\n",
    "    y1 = square_function(x,L)\n",
    "    line1.set_data(x, y1)\n",
    "    # sets the line2 data to nothing since we will update\n",
    "    line2.set_data([], []) \n",
    "    return line1,line2  #return the line object\n",
    "\n",
    "### COMPLETE THIS ANIMATION FUNCTION, WHICH WILL BE CALLED \n",
    "### ITERATIVELY FOR MANY VALUES OF n\n",
    "def animate_approximation(n): #single input parameter, i\n",
    "    ### (ONE LINE) CREATE AN ARRAY OF POSITIONS, CALLED x, FROM 0 TO L\n",
    "\n",
    "    ### (ONE LINE) CALL YOUR square_approx function \n",
    "\n",
    "    ### (ONE LINE) update the line data with the approximation\n",
    "     \n",
    "    line2.set_data(x, y2) \n",
    "\n",
    "    return line1,line2\n",
    "#Let's create the animation\n",
    "anim = animation.FuncAnimation(fig, animate_approximation, init_func=init, frames=120, interval = 1)\n",
    "#save the animation\n",
    "qworld.embedAnimation(anim,plt)"
   ]
  },
  {
   "cell_type": "markdown",
   "metadata": {},
   "source": [
    "# <i class=\"fa fa-check-circle\"></i>  Exercise 4: Decompose a sine wave using the sinc basis.\n",
    "## <i class=\"fa fa-exclamation-triangle\"></i> Grad students, required (two points)\n",
    "## <i class=\"fa fa-smile-o\"></i> Undergrad students, optional (one bonus point)\n",
    "\n",
    "In lectures 3 and 4, we discuss the wavefunction that completely describes the state of the quantum system. The wavefunctions formally live in an infinite dimensional Hilbert space. However we cannot represent an infinite space on a computer and we must always restrict ourselves to finite representations. A wavefunction, like many other function, can be expanded using a complete basis set, e.g. the sine basis. In this exercise, we will explore a commonly used basis set known as the *Sinc basis set*. (Note Sinc is not Sine!) A sinc function (as you will plot) is a realization of a delta function. This basis is defined on a grid, meaning that each basis is \"centered\" on a point in space. In other words, each basis function has a significant amplitude only around a certain grid point. Below you will see an example of a localized basis set of gaussian functions:"
   ]
  },
  {
   "cell_type": "code",
   "execution_count": 37,
   "metadata": {
    "collapsed": false
   },
   "outputs": [
    {
     "data": {
      "text/plain": [
       "(0, 15)"
      ]
     },
     "execution_count": 37,
     "metadata": {},
     "output_type": "execute_result"
    },
    {
     "data": {
      "image/png": "[encoded data removed]",
      "text/plain": [
       "<matplotlib.figure.Figure at 0x10721f710>"
      ]
     },
     "metadata": {},
     "output_type": "display_data"
    }
   ],
   "source": [
    "x=np.linspace(0,10,100)\n",
    "positions=(1,3,5,7,9)\n",
    "plt.figure()\n",
    "for n in range(0,5):\n",
    "    g=np.exp(-5.0*(x-positions[n])**2.0)\n",
    "    plt.plot(x,g,label='basis set #'+str(n+1))\n",
    "plt.legend()\n",
    "plt.ylabel('f(x)')\n",
    "plt.xlabel('x')\n",
    "plt.title('Localized gaussian basis sets in the range (0,10)')\n",
    "plt.xlim(0,15)"
   ]
  },
  {
   "cell_type": "markdown",
   "metadata": {},
   "source": [
    "Your mission, if you decide to accept it (if you are a grad student you MUST accept it <i class=\"fa fa-thumbs-up\"></i>), is to decompose a sine wave (see below) using a grid of sinc functions in the range (0,10) (Similar to what you did in exercise 3 of this homework)."
   ]
  },
  {
   "cell_type": "code",
   "execution_count": 38,
   "metadata": {
    "collapsed": false
   },
   "outputs": [
    {
     "data": {
      "text/plain": [
       "<matplotlib.text.Text at 0x106d56f50>"
      ]
     },
     "execution_count": 38,
     "metadata": {},
     "output_type": "execute_result"
    },
    {
     "data": {
      "image/png": "[encoded data removed]",
      "text/plain": [
       "<matplotlib.figure.Figure at 0x107211d10>"
      ]
     },
     "metadata": {},
     "output_type": "display_data"
    }
   ],
   "source": [
    "plt.figure()\n",
    "sine_wave=np.sin(x*np.pi/10.0)\n",
    "plt.plot(x,sine_wave)\n",
    "plt.legend()\n",
    "plt.ylabel('f(x)')\n",
    "plt.xlabel('x')\n",
    "plt.title('Sine wave')"
   ]
  },
  {
   "cell_type": "markdown",
   "metadata": {},
   "source": [
    "Now, let's go into details. To define a basis of N sinc functions we need to introduce a grid of N equispaced points in one dimension on the interval of interest: $[x_{min},x_{man}]$. Each grid point is defined as:\n",
    "$$ \n",
    "x_j=x_{min}+\\Delta x (j-1) \\\\\n",
    "\\Delta x = \\frac{x_{max} -x_{min}}{N-1}\n",
    "$$\n",
    "In this notation, the j-th basis set function, $\\phi_j(x)$, is defined as:\n",
    "$$\n",
    "\\phi_j(x)=\\frac{1}{\\sqrt{\\Delta x}} \\frac{sin[\\pi(x-x_j)/\\Delta x]}{\\pi(x-x_j)/\\Delta x}\n",
    "$$\n",
    "Now we define the sinc function (cardinal sine) as:\n",
    "$$\n",
    "sinc(x)=\\frac{sin(\\pi x)}{\\pi x}\n",
    "$$\n",
    "Using this definition we can write:\n",
    "$$\n",
    "\\phi_j(x)=\\frac{1}{\\sqrt{\\Delta x}} sinc[(x-x_j)/\\Delta x]\n",
    "$$\n",
    "\n",
    "For this exercise you will have to code by following the guidelines below. But don't panic! You already know everything you need to know to do this. (Don't forget to think through the physics behind the formalism!) \n",
    "\n",
    "## Steps for exercise 4: \n",
    "\n",
    "### Step 1:\n",
    "\n",
    "#### Create a grid of 25 points in the range(0,10) to define the basis \n",
    "**Tip**: use the function np.linspace.\n",
    "\n",
    "#### Define your sinc basis set following the formulas shown above. You are free to do it in any way you might think of. One posibility is creating a function that returns one basis set, or you might generate all the basis set and store them.\n",
    "**Tip**: The sinc function is prebuilt in numpy. Check the documentation: http://docs.scipy.org/doc/numpy/reference/generated/numpy.sinc.html.\n",
    "\n",
    "#### Generate 2 plots: 1) A plot showing all your basis sets and 2) a plot zooming into one of the basis sets so you can appreciate the features of the sinc function.\n",
    "\n",
    "### Step 2:\n",
    "\n",
    "#### Verify the *orthonormality* of the sinc basis by using numerical integration. Pick two random basis to make the orthogonality test. \n",
    "**Tip**: Check demo 2. **Note**: The expected results are approximated because of the numerical approach taken.\n",
    "\n",
    "### Step 3:\n",
    "\n",
    "#### Decompose the sine wave (see above) using your sinc basis set. Print the coefficients and make a plot comparing the original sine wave and the sine wave recreated from your decomposition .\n",
    "**Tip**: it's quite similar to what you already did for exercise 3.\n",
    "\n",
    "## Good luck!\n"
   ]
  },
  {
   "cell_type": "code",
   "execution_count": null,
   "metadata": {
    "collapsed": true
   },
   "outputs": [],
   "source": []
  }
 ],
 "metadata": {
  "kernelspec": {
   "display_name": "Python 2",
   "language": "python",
   "name": "python2"
  },
  "language_info": {
   "codemirror_mode": {
    "name": "ipython",
    "version": 2
   },
   "file_extension": ".py",
   "mimetype": "text/x-python",
   "name": "python",
   "nbconvert_exporter": "python",
   "pygments_lexer": "ipython2",
   "version": "2.7.9"
  }
 },
 "nbformat": 4,
 "nbformat_minor": 0
}
