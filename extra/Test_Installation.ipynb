{
 "cells": [
  {
   "cell_type": "markdown",
   "metadata": {},
   "source": [
    "# Basic formatting test"
   ]
  },
  {
   "cell_type": "markdown",
   "metadata": {},
   "source": [
    "# h1\n",
    "## h2\n",
    "### h3\n",
    "#### h4\n",
    "\n",
    "* item1\n",
    "* item2\n",
    "* item3"
   ]
  },
  {
   "cell_type": "markdown",
   "metadata": {},
   "source": [
    "# Can this computer compute?"
   ]
  },
  {
   "cell_type": "code",
   "execution_count": 19,
   "metadata": {
    "collapsed": false
   },
   "outputs": [
    {
     "name": "stdout",
     "output_type": "stream",
     "text": [
      "2 + 2 = 4 \n"
     ]
    }
   ],
   "source": [
    "print(\"2 + 2 = %d \"%(2+2))"
   ]
  },
  {
   "cell_type": "markdown",
   "metadata": {},
   "source": [
    "# Test Modules\n",
    "## One by one ..."
   ]
  },
  {
   "cell_type": "code",
   "execution_count": 3,
   "metadata": {
    "collapsed": false
   },
   "outputs": [
    {
     "name": "stdout",
     "output_type": "stream",
     "text": [
      "2.7.10 |Anaconda 2.3.0 (64-bit)| (default, May 28 2015, 17:02:03) \n",
      "[GCC 4.4.7 20120313 (Red Hat 4.4.7-1)]\n"
     ]
    }
   ],
   "source": [
    "import sys\n",
    "print(sys.version)"
   ]
  },
  {
   "cell_type": "code",
   "execution_count": 2,
   "metadata": {
    "collapsed": false
   },
   "outputs": [
    {
     "name": "stdout",
     "output_type": "stream",
     "text": [
      "1.9.2\n",
      "1.4.3\n",
      "0.16.0\n"
     ]
    }
   ],
   "source": [
    "import numpy\n",
    "import matplotlib\n",
    "import scipy\n",
    "\n",
    "print(numpy.__version__)\n",
    "print(matplotlib.__version__)\n",
    "print(scipy.__version__)"
   ]
  },
  {
   "cell_type": "code",
   "execution_count": 4,
   "metadata": {
    "collapsed": false
   },
   "outputs": [],
   "source": [
    "import openbabel"
   ]
  },
  {
   "cell_type": "code",
   "execution_count": 5,
   "metadata": {
    "collapsed": true
   },
   "outputs": [],
   "source": [
    "import rdkit"
   ]
  },
  {
   "cell_type": "code",
   "execution_count": 6,
   "metadata": {
    "collapsed": false
   },
   "outputs": [
    {
     "name": "stderr",
     "output_type": "stream",
     "text": [
      "/home/student/anaconda/lib/python2.7/site-packages/IPython/html.py:14: ShimWarning: The `IPython.html` package has been deprecated. You should import from `notebook` instead. `IPython.html.widgets` has moved to `ipywidgets`.\n",
      "  \"`IPython.html.widgets` has moved to `ipywidgets`.\", ShimWarning)\n"
     ]
    },
    {
     "data": {
      "text/html": [
       "<div id=\"molecule_064d4028-915a-4a8d-a45a-8363899b022d\"></div>\n",
       "           <script type=\"text/javascript\">\n",
       "           require.config({baseUrl: \"/\",\n",
       "                             paths: {imolecule: ['nbextensions/imolecule.min', 'https://rawgit.com/patrickfuller/imolecule/master/js/build/imolecule.min']}});\n",
       "           require(['imolecule'], function () {\n",
       "               var $d = $('#molecule_064d4028-915a-4a8d-a45a-8363899b022d');\n",
       "               $d.width(400); $d.height(300);\n",
       "               $d.imolecule = jQuery.extend({}, imolecule);\n",
       "               $d.imolecule.create($d, {drawingType: 'ball and stick',\n",
       "                                        cameraType: 'perspective',\n",
       "                                        shader: 'lambert'});\n",
       "               $d.imolecule.draw({\"atoms\":[{\"charge\":-0.048384,\"element\":\"C\",\"location\":[-4.719671,-1.395508,0.184660]},{\"charge\":0.041723,\"element\":\"C\",\"location\":[-3.218437,-1.423956,0.114999]},{\"charge\":0.137938,\"element\":\"C\",\"location\":[-2.528011,-2.600515,-0.600075]},{\"charge\":-0.270810,\"element\":\"N\",\"location\":[-1.142839,-2.048693,-0.645631]},{\"charge\":0.100520,\"element\":\"C\",\"location\":[-1.021103,-0.539328,-0.615225]},{\"charge\":-0.127288,\"element\":\"S\",\"location\":[-2.690523,-0.000842,-0.969840]},{\"charge\":0.127700,\"element\":\"C\",\"location\":[0.135678,-0.720749,-1.565139]},{\"charge\":0.240213,\"element\":\"C\",\"location\":[-0.332173,-2.140887,-1.752401]},{\"charge\":-0.273412,\"element\":\"O\",\"location\":[0.018892,-3.009023,-2.492701]},{\"charge\":-0.301492,\"element\":\"N\",\"location\":[1.446033,-0.712738,-0.841465]},{\"charge\":0.218000,\"element\":\"C\",\"location\":[1.837003,0.507217,-0.406793]},{\"charge\":-0.275443,\"element\":\"O\",\"location\":[1.144835,1.456859,-0.767327]},{\"charge\":0.049105,\"element\":\"C\",\"location\":[3.077276,0.560240,0.460677]},{\"charge\":-0.038625,\"element\":\"C\",\"location\":[3.458218,1.971202,0.837530]},{\"charge\":-0.058114,\"element\":\"C\",\"location\":[2.529918,3.023913,0.774931]},{\"charge\":-0.061490,\"element\":\"C\",\"location\":[2.926619,4.344457,0.769600]},{\"charge\":-0.061741,\"element\":\"C\",\"location\":[4.223298,4.640348,1.131748]},{\"charge\":-0.061490,\"element\":\"C\",\"location\":[5.107381,3.608059,1.455746]},{\"charge\":-0.058114,\"element\":\"C\",\"location\":[4.758129,2.275206,1.229829]},{\"charge\":0.326852,\"element\":\"C\",\"location\":[-3.090455,-3.001340,-2.017164]},{\"charge\":-0.248854,\"element\":\"O\",\"location\":[-2.405484,-3.310080,-2.980146]},{\"charge\":-0.479290,\"element\":\"O\",\"location\":[-4.420506,-3.118252,-2.174139]},{\"charge\":-0.048384,\"element\":\"C\",\"location\":[-2.631368,-1.285149,1.567489]},{\"charge\":0.024360,\"element\":\"H\",\"location\":[-5.169553,-1.322056,-0.806102]},{\"charge\":0.024360,\"element\":\"H\",\"location\":[-5.058186,-0.505165,0.720130]},{\"charge\":0.024360,\"element\":\"H\",\"location\":[-5.089293,-2.287053,0.698807]},{\"charge\":0.063057,\"element\":\"H\",\"location\":[-2.543444,-3.500276,0.033334]},{\"charge\":0.064031,\"element\":\"H\",\"location\":[-0.715403,-0.028849,0.306841]},{\"charge\":0.062218,\"element\":\"H\",\"location\":[0.107364,-0.077859,-2.443216]},{\"charge\":0.149541,\"element\":\"H\",\"location\":[1.827669,-1.566241,-0.444467]},{\"charge\":0.040692,\"element\":\"H\",\"location\":[3.875038,0.107750,-0.146400]},{\"charge\":0.040692,\"element\":\"H\",\"location\":[2.949901,-0.052805,1.361114]},{\"charge\":0.062040,\"element\":\"H\",\"location\":[1.464008,2.860083,0.659589]},{\"charge\":0.061767,\"element\":\"H\",\"location\":[2.204169,5.109334,0.501712]},{\"charge\":0.061758,\"element\":\"H\",\"location\":[4.526189,5.678476,1.189949]},{\"charge\":0.061767,\"element\":\"H\",\"location\":[6.081477,3.850041,1.865063]},{\"charge\":0.062040,\"element\":\"H\",\"location\":[5.499975,1.490664,1.358811]},{\"charge\":0.295114,\"element\":\"H\",\"location\":[-5.015818,-3.055060,-1.416869]},{\"charge\":0.024360,\"element\":\"H\",\"location\":[-2.944899,-2.122615,2.197778]},{\"charge\":0.024360,\"element\":\"H\",\"location\":[-2.928248,-0.339690,2.028845]},{\"charge\":0.024360,\"element\":\"H\",\"location\":[-1.533656,-1.319120,1.635918]}],\"bonds\":[{\"atoms\":[0,1],\"order\":1},{\"atoms\":[1,2],\"order\":1},{\"atoms\":[2,3],\"order\":1},{\"atoms\":[3,4],\"order\":1},{\"atoms\":[4,5],\"order\":1},{\"atoms\":[1,5],\"order\":1},{\"atoms\":[4,6],\"order\":1},{\"atoms\":[6,7],\"order\":1},{\"atoms\":[3,7],\"order\":1},{\"atoms\":[7,8],\"order\":2},{\"atoms\":[6,9],\"order\":1},{\"atoms\":[9,10],\"order\":1},{\"atoms\":[10,11],\"order\":2},{\"atoms\":[10,12],\"order\":1},{\"atoms\":[12,13],\"order\":1},{\"atoms\":[13,14],\"order\":2},{\"atoms\":[14,15],\"order\":1},{\"atoms\":[15,16],\"order\":2},{\"atoms\":[16,17],\"order\":1},{\"atoms\":[17,18],\"order\":2},{\"atoms\":[13,18],\"order\":1},{\"atoms\":[2,19],\"order\":1},{\"atoms\":[19,20],\"order\":2},{\"atoms\":[19,21],\"order\":1},{\"atoms\":[1,22],\"order\":1},{\"atoms\":[0,23],\"order\":1},{\"atoms\":[0,24],\"order\":1},{\"atoms\":[0,25],\"order\":1},{\"atoms\":[2,26],\"order\":1},{\"atoms\":[4,27],\"order\":1},{\"atoms\":[6,28],\"order\":1},{\"atoms\":[9,29],\"order\":1},{\"atoms\":[12,30],\"order\":1},{\"atoms\":[12,31],\"order\":1},{\"atoms\":[14,32],\"order\":1},{\"atoms\":[15,33],\"order\":1},{\"atoms\":[16,34],\"order\":1},{\"atoms\":[17,35],\"order\":1},{\"atoms\":[18,36],\"order\":1},{\"atoms\":[21,37],\"order\":1},{\"atoms\":[22,38],\"order\":1},{\"atoms\":[22,39],\"order\":1},{\"atoms\":[22,40],\"order\":1}],\"formula\":\"C16H18N2O4S\",\"molecular_weight\":334.390120,\"units\":{\"molecular_weight\":\"g / mol\"}});\n",
       "\n",
       "               $d.resizable({\n",
       "                   aspectRatio: 400 / 300,\n",
       "                   resize: function (evt, ui) {\n",
       "                       $d.imolecule.renderer.setSize(ui.size.width,\n",
       "                                                     ui.size.height);\n",
       "                   }\n",
       "               });\n",
       "           });\n",
       "           </script>"
      ],
      "text/plain": [
       "<IPython.core.display.HTML object>"
      ]
     },
     "metadata": {},
     "output_type": "display_data"
    }
   ],
   "source": [
    "import imolecule\n",
    "imolecule.draw(\"CC1(C(N2C(S1)C(C2=O)NC(=O)CC3=CC=CC=C3)C(=O)O)C\")"
   ]
  },
  {
   "cell_type": "code",
   "execution_count": 7,
   "metadata": {
    "collapsed": false
   },
   "outputs": [],
   "source": [
    "import pybel"
   ]
  },
  {
   "cell_type": "code",
   "execution_count": 8,
   "metadata": {
    "collapsed": true
   },
   "outputs": [],
   "source": [
    "import PyQuante"
   ]
  },
  {
   "cell_type": "code",
   "execution_count": 9,
   "metadata": {
    "collapsed": true
   },
   "outputs": [],
   "source": [
    "import mdtraj"
   ]
  },
  {
   "cell_type": "code",
   "execution_count": 13,
   "metadata": {
    "collapsed": false
   },
   "outputs": [],
   "source": [
    "import simtk.openmm"
   ]
  },
  {
   "cell_type": "code",
   "execution_count": 14,
   "metadata": {
    "collapsed": false
   },
   "outputs": [
    {
     "name": "stderr",
     "output_type": "stream",
     "text": [
      "/home/student/anaconda/lib/python2.7/site-packages/IPython/utils/traitlets.py:5: UserWarning: IPython.utils.traitlets has moved to a top-level traitlets package.\n",
      "  warn(\"IPython.utils.traitlets has moved to a top-level traitlets package.\")\n"
     ]
    }
   ],
   "source": [
    "import chemview"
   ]
  },
  {
   "cell_type": "code",
   "execution_count": 16,
   "metadata": {
    "collapsed": false
   },
   "outputs": [],
   "source": [
    "import chemlab"
   ]
  },
  {
   "cell_type": "code",
   "execution_count": null,
   "metadata": {
    "collapsed": true
   },
   "outputs": [],
   "source": []
  }
 ],
 "metadata": {
  "kernelspec": {
   "display_name": "Python 2",
   "language": "python",
   "name": "python2"
  },
  "language_info": {
   "codemirror_mode": {
    "name": "ipython",
    "version": 2
   },
   "file_extension": ".py",
   "mimetype": "text/x-python",
   "name": "python",
   "nbconvert_exporter": "python",
   "pygments_lexer": "ipython2",
   "version": "2.7.10"
  }
 },
 "nbformat": 4,
 "nbformat_minor": 0
}
