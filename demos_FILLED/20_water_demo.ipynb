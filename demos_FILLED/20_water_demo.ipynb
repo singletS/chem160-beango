{
 "cells": [
  {
   "cell_type": "markdown",
   "metadata": {},
   "source": [
    "# A Hartree-Fock calculation of the water molecule.<br>\n",
    "\n",
    "\n",
    "### In this demo we show you how to run a Hartree-Fock calculation using the pyquante software and how to plot the molecular and atomic orbitals using avogadro. As example we will use the water molecule (We will never get tired of water). <br>\n",
    "\n",
    "\n",
    "### Let's import some modules. Pay attention to those required for pyquante.\n",
    "\n",
    "![fake pyquante](files/PyQuante.jpg)"
   ]
  },
  {
   "cell_type": "code",
   "execution_count": 10,
   "metadata": {
    "collapsed": false
   },
   "outputs": [],
   "source": [
    "# imports\n",
    "import chemlab\n",
    "import chemview\n",
    "import numpy as np \n",
    "from scipy.linalg import eigh\n",
    "import scipy.linalg as LA\n",
    "import matplotlib.pyplot as plt\n",
    "%matplotlib inline\n",
    "# Pyquante\n",
    "import PyQuante\n",
    "from PyQuante.Molecule import Molecule\n",
    "from PyQuante import Ints\n",
    "from PyQuante.Ints import coulomb\n",
    "from PyQuante.hartree_fock import rhf\n",
    "from PyQuante.Ints import getbasis\n",
    "from PyQuante import SCF\n",
    "from PyQuante import configure_output\n",
    "# add all probables spots for the quantum world library\n",
    "import sys\n",
    "sys.path.append('../library')\n",
    "sys.path.append('../../library')\n",
    "sys.path.append('/home/student/chem160/library')\n",
    "#This is how we'll import our own home-made modules\n",
    "import quantumWorld as qworld"
   ]
  },
  {
   "cell_type": "markdown",
   "metadata": {},
   "source": [
    "# Step 1 : <i class=\"fa fa-wrench\"></i>  Define the molecule.<br>\n",
    "\n",
    "## A molecule is defined by its atoms and its positions (molecular geometry)<br>\n",
    "\n",
    "### The usual coordinates in terms of bond distances and angles: <br>\n",
    "\n",
    "![](files/water-geometry1.png)\n",
    "\n",
    "### Can be expressed in terms of cartesian coordinates and viceversa: <br>\n",
    "\n",
    "| Symbol | Z  | x  | y  | z  |\n",
    "|---|---|---|---|---|\n",
    "| O  | 8  | 0.0  | 0.0  | 0.0  |\n",
    "| H  | 1  | 0.0  |  $r*sin(\\theta/2)$ | $r*cos(\\theta/2)$  |\n",
    "| H  | 1  |  0.0 |   $-r*sin(\\theta/2)$ | $r*cos(\\theta/2)$  |\n",
    "\n",
    "![](files/water-coordinates.png) <br>\n",
    "\n",
    "### In pyquante the molecule is specified as an object called **molecule**, using the following syntax:\n",
    "\n",
    "```python\n",
    "variable_name = Molecule('name',\n",
    "                          atomlist = [(atomic_number,(x1, y1, z1)),\n",
    "                                      (atomic_number,(x2, y2, z2))],\n",
    "                          units = 'Bohr')\n",
    "```\n",
    "### Let's create the molecule object for water."
   ]
  },
  {
   "cell_type": "code",
   "execution_count": 2,
   "metadata": {
    "collapsed": false
   },
   "outputs": [],
   "source": [
    "r = 0.9584\n",
    "theta = np.pi/180.0 * 104.45\n",
    "water = Molecule('H2O', atomlist = [(8, (0.0, 0.0, 0.0)),\n",
    "                                    (1, (0.0, -r*np.sin(theta/2.0), r*np.cos(theta/2.0))),\n",
    "                                    (1, (0.0, r*np.sin(theta/2.0), r*np.cos(theta/2.0)))])"
   ]
  },
  {
   "cell_type": "markdown",
   "metadata": {},
   "source": [
    "### We can visualize the molecule using the function  *qworld.visualize_Mol()* from the qworld library:"
   ]
  },
  {
   "cell_type": "code",
   "execution_count": 3,
   "metadata": {
    "collapsed": false
   },
   "outputs": [
    {
     "data": {
      "text/html": [
       "<div id=\"molecule_1db02e79-6ceb-4d7c-af6f-0e089d7257ba\"></div>\n",
       "           <script type=\"text/javascript\">\n",
       "           require.config({baseUrl: \"/\",\n",
       "                             paths: {imolecule: ['nbextensions/imolecule.min', 'https://rawgit.com/patrickfuller/imolecule/master/js/build/imolecule.min']}});\n",
       "           require(['imolecule'], function () {\n",
       "               var $d = $('#molecule_1db02e79-6ceb-4d7c-af6f-0e089d7257ba');\n",
       "               $d.width(400); $d.height(300);\n",
       "               $d.imolecule = jQuery.extend({}, imolecule);\n",
       "               $d.imolecule.create($d, {drawingType: 'ball and stick',\n",
       "                                        cameraType: 'perspective',\n",
       "                                        shader: 'phong'});\n",
       "               $d.imolecule.draw({\"atoms\":[{\"element\":\"O\",\"location\":[0.000000,0.000000,-0.207113]},{\"element\":\"H\",\"location\":[0.000000,-0.400870,0.103557]},{\"element\":\"H\",\"location\":[0.000000,0.400870,0.103557]}],\"bonds\":[],\"formula\":\"H2O\",\"molecular_weight\":18.015280,\"units\":{\"molecular_weight\":\"g / mol\"}});\n",
       "\n",
       "               $d.resizable({\n",
       "                   aspectRatio: 400 / 300,\n",
       "                   resize: function (evt, ui) {\n",
       "                       $d.imolecule.renderer.setSize(ui.size.width,\n",
       "                                                     ui.size.height);\n",
       "                   }\n",
       "               });\n",
       "           });\n",
       "           </script>"
      ],
      "text/plain": [
       "<IPython.core.display.HTML object>"
      ]
     },
     "metadata": {},
     "output_type": "display_data"
    }
   ],
   "source": [
    "qworld.visualize_Mol(water)"
   ]
  },
  {
   "cell_type": "markdown",
   "metadata": {
    "collapsed": true
   },
   "source": [
    "# Step 2: <i class=\"fa fa-wrench\"></i>  Choose a basis set.<br> \n",
    "\n",
    "### The most common type of basis set in chemistry is the Gaussian-type basis set (GTOs). Using this basis sets, a hydrogenic atomic orbital (also called Slater-type orbital, STO) is built as a combination of several gaussian function that mimits the behavior of the STO.\n",
    "\n",
    "![](files/sto-3g.png)[From Szabo and Ostlund. *Modern quantum chemistry*] \n",
    "\n",
    "<br>\n",
    "\n",
    "### The advantage of GTOs over STOs is that the electron repulsion integrals (the most expensive to calculate) can be evaluated analytically using GTOs, which makes the computation of large molecules feasible. This is one of the main contributions from John Pople (Nobel Laureate, 1998):\n",
    "\n",
    "![](files/pople.jpg) <br>\n",
    "\n",
    "### Let's use the simplest basis set possible, STO-3G, for our water calculation."
   ]
  },
  {
   "cell_type": "code",
   "execution_count": 4,
   "metadata": {
    "collapsed": true
   },
   "outputs": [],
   "source": [
    "basis_set='sto-3g'"
   ]
  },
  {
   "cell_type": "markdown",
   "metadata": {},
   "source": [
    "# Step 3: <i class=\"fa fa-wrench\"></i>  Run the Hartree-Fock calculation.<br> \n",
    "\n",
    "### You can run a restricted Hartree-Fock calculation (rhf) using the rhf function imported from pyquante. The syntax is the following:\n",
    "\n",
    "```python\n",
    "    energy, orbital_energies, coefficients = rhf(molecule,basis_data=basis_set)\n",
    "```\n",
    "    \n",
    "### The function returns the following outputs: <br>\n",
    "#### 1. Final Hartree-Fock energy. <br>\n",
    "#### 2. A vector of orbital energies. <br>\n",
    "#### 3. A matrix with the final coefficients that represent the eigenvectors (Molecular orbitals) of our Hartree-Fock calculation. <br>"
   ]
  },
  {
   "cell_type": "code",
   "execution_count": 12,
   "metadata": {
    "collapsed": false
   },
   "outputs": [
    {
     "name": "stderr",
     "output_type": "stream",
     "text": [
      "RHF calculation on H2O\n",
      "Nbf = 7\n",
      "Nclosed = 5\n",
      "Calculating Integrals...\n",
      "Integrals Calculated.\n",
      "Using DIIS averaging\n",
      "Iteration: 0    Energy: -71.876793    EnergyVar: 71.876793\n",
      "Iteration: 1    Energy: -73.396319    EnergyVar: 1.519526\n",
      "Iteration: 2    Energy: -73.218762    EnergyVar: 0.177558\n",
      "Iteration: 3    Energy: -73.222225    EnergyVar: 0.003463\n",
      "Iteration: 4    Energy: -73.222029    EnergyVar: 0.000196\n",
      "Iteration: 5    Energy: -73.222052    EnergyVar: 0.000023\n",
      "PyQuante converged in 6 iterations\n",
      "Final HF energy for system H2O is -73.222048\n"
     ]
    },
    {
     "name": "stdout",
     "output_type": "stream",
     "text": [
      "FINAL HF ENERGY:\n",
      "-73.2220481069\n",
      "ORBITAL ENERGIES:\n",
      "[-20.46275722  -1.687059    -0.94420454  -0.58410988  -0.54680695\n",
      "   0.99183167   1.49908372]\n",
      "COEFFICIENTS FOR MOLECULAR ORBITALS:\n",
      "[[ -9.93160339e-01  -2.40265689e-01   2.94902991e-17  -1.04617243e-01\n",
      "    1.12835141e-16  -1.40330194e-01  -4.30211422e-16]\n",
      " [ -4.66861565e-02   8.65892255e-01   3.88578059e-16   4.44185453e-01\n",
      "   -7.32857035e-16   2.43804837e+00   7.10542736e-15]\n",
      " [ -1.64585317e-19   6.29576889e-18  -1.11853614e-16   1.16799791e-15\n",
      "    1.00000000e+00  -1.09194056e-16   1.56201345e-16]\n",
      " [ -5.63785130e-17   7.84095011e-16  -7.12653804e-01  -1.19869392e-15\n",
      "   -1.42689388e-16   4.32986980e-15  -1.55020624e+00]\n",
      " [ -1.19852116e-02   3.73243000e-01   9.43689571e-16  -9.05267058e-01\n",
      "    9.72402494e-16   8.51699616e-01   2.88657986e-15]\n",
      " [  1.51997377e-02   4.80406533e-02   3.79720684e-01  -2.02615231e-02\n",
      "    2.23113089e-16  -1.50962183e+00  -1.91907553e+00]\n",
      " [  1.51997377e-02   4.80406533e-02  -3.79720684e-01  -2.02615231e-02\n",
      "    2.23113089e-16  -1.50962183e+00   1.91907553e+00]]\n"
     ]
    }
   ],
   "source": [
    "configure_output(stream=sys.stderr)\n",
    "energy, orbital_energies, MO_coeff = rhf(water,basis_data=basis_set,verbose=True)\n",
    "\n",
    "print \"FINAL HF ENERGY:\"\n",
    "print energy\n",
    "print \"ORBITAL ENERGIES:\"\n",
    "print orbital_energies\n",
    "print \"COEFFICIENTS FOR MOLECULAR ORBITALS:\"\n",
    "print MO_coeff"
   ]
  },
  {
   "cell_type": "markdown",
   "metadata": {},
   "source": [
    "# Step 4: <i class=\"fa fa-wrench\"></i>  Visualize the atomic and molecular orbitals.<br> \n",
    "\n",
    "### For visualizing the orbitals and other interesting results of the quantum chemistry calculations we will use the Avogadro software.\n",
    "\n",
    "![](files/avogadro.png)\n",
    "\n",
    "### The molecular orbitals are obtained by combining the atomic orbitals using the molecular orbital coefficients from the HF calculation:\n",
    "\n",
    "### $$ \\psi^{MO}_j(r) = \\sum_{i}^{n} C_{ij} \\phi^{AO}_i (r) $$\n",
    "\n",
    "### Avogadro computes the molecular orbitals and plot them. To pass the information to Avogadro we have created a function called *create_Orbital_file()*, available in the qworld library:\n",
    "\n",
    "```python\n",
    " qworld.create_Orbital_file('name_of_file',molecule,basis_set,coefficients,orbital_energies)\n",
    "```"
   ]
  },
  {
   "cell_type": "code",
   "execution_count": null,
   "metadata": {
    "collapsed": false
   },
   "outputs": [],
   "source": [
    "# identity matrix\n",
    "AO_coeff = np.eye(MO_coeff.shape[0])\n",
    "# orbital energies, does not matter\n",
    "orb_e = -1*np.arange(MO_coeff.shape[0],0,-1)\n",
    "# create the atomic orbital file\n",
    "qworld.create_Orbital_file('water-AO',water,basis_set,AO_coeff,orb_e)\n",
    "# Create molecular orbital file\n",
    "qworld.create_Orbital_file('water-MO',water,basis_set,MO_coeff,orbital_energies)"
   ]
  },
  {
   "cell_type": "markdown",
   "metadata": {},
   "source": [
    "### Using Avogadro you will be able to generate a figure like this:\n",
    "\n",
    "![](files/h2o_orbitals.png)\n",
    "Partial Credits: [http://www1.lsbu.ac.uk/water/h2o_orbitals.html](http://www1.lsbu.ac.uk/water/h2o_orbitals.html)"
   ]
  },
  {
   "cell_type": "code",
   "execution_count": null,
   "metadata": {
    "collapsed": true
   },
   "outputs": [],
   "source": []
  }
 ],
 "metadata": {
  "kernelspec": {
   "display_name": "Python 2",
   "language": "python",
   "name": "python2"
  },
  "language_info": {
   "codemirror_mode": {
    "name": "ipython",
    "version": 2
   },
   "file_extension": ".py",
   "mimetype": "text/x-python",
   "name": "python",
   "nbconvert_exporter": "python",
   "pygments_lexer": "ipython2",
   "version": "2.7.10"
  }
 },
 "nbformat": 4,
 "nbformat_minor": 0
}
