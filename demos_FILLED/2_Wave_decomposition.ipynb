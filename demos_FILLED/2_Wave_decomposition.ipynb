{
 "cells": [
  {
   "cell_type": "markdown",
   "metadata": {},
   "source": [
    "# Wave Decomposition\n",
    "#### <i class=\"fa fa-exclamation-circle\"></i> Disclaimer: Do not modify this iPython notebook.  If you want to modify it, copy it to a different directory, one that is not automatically updated, and modify it there\n",
    "\n",
    "In our previous problem set we constructed a square wave from sine waves:\n",
    "\n",
    "![](files/square_wave.gif)\n",
    "\n",
    "Now we will do the inverse process!\n",
    "\n",
    "Let's start with a 1-D wave that looks like a triangle.\n",
    "\n",
    "Our goal will be to \"decompose\" it into a sum of sines functions of different frequencies and amplitudes.\n",
    "\n",
    "## Step 1: let's import some modules"
   ]
  },
  {
   "cell_type": "code",
   "execution_count": 5,
   "metadata": {
    "collapsed": false
   },
   "outputs": [],
   "source": [
    "# This statement let's us show the plots right on this python notebook\n",
    "%matplotlib inline \n",
    "import numpy as np  #import the numerical library, calling it \"np\" in our notebook. \n",
    "from matplotlib import pyplot as plt # import the pyplot module, calling it \"plt\" in our notebook"
   ]
  },
  {
   "cell_type": "markdown",
   "metadata": {},
   "source": [
    "## <i class=\"fa fa-line-chart\"></i>  Step 2: Plot a triangle function\n",
    "Let's make a wave that looks like a triange:\n"
   ]
  },
  {
   "cell_type": "code",
   "execution_count": 6,
   "metadata": {
    "collapsed": false
   },
   "outputs": [],
   "source": [
    "L = 1;  #This is then length of the box. \n",
    "\n",
    "#The x values:\n",
    "x1 = np.arange(0,L/2.0,0.01) #x values, from 0 to half-box in intervals of 0.01\n",
    "x2 = np.arange(L/2.0,L,0.01) #x values, from half-box to L, in intervals of 0.01\n",
    "x = np.concatenate((x1,x2)) #concatenate them into a single x array\n",
    "\n",
    "#The y values:\n",
    "y1 = 2*x1 #the y values for the first half of the box\n",
    "y2 = 2*(1 - x2) # the y values for the second half of the box\n",
    "triangle_y= np.concatenate((y1, y2)) #concatenate them"
   ]
  },
  {
   "cell_type": "markdown",
   "metadata": {},
   "source": [
    "Let's plot it to see what it looks like!!"
   ]
  },
  {
   "cell_type": "code",
   "execution_count": 7,
   "metadata": {
    "collapsed": false
   },
   "outputs": [
    {
     "data": {
      "image/png": "[encoded data removed]",
      "text/plain": [
       "<matplotlib.figure.Figure at 0x7f92ac3acfd0>"
      ]
     },
     "metadata": {},
     "output_type": "display_data"
    }
   ],
   "source": [
    "#Let's plot them to see what it looks like:\n",
    "plt.plot(x,triangle_y)\n",
    "plt.xlabel('x')\n",
    "plt.ylabel('y')\n",
    "plt.title('a triangle-shaped wave!')\n",
    "plt.show()"
   ]
  },
  {
   "cell_type": "markdown",
   "metadata": {},
   "source": [
    "## Step 3: A single decomposition via Inner product\n",
    "Now this is where the fun starts.  We want to show that this triangle-shaped wave can be expressed as a sum of sines, each one with a different frequency (different values of n):\n",
    "\n",
    "$$ f(x) = \\sum_{n=1}^{\\infty} c_n \\left(\\frac{n \\pi x}{L}\\right)$$\n",
    "\n",
    "Where the $c_n$ are the \"AMPLITUDES\" associated to each term.\n",
    "\n",
    "In order to get these amplitudes, we need to \"PROJECT\" the triangle function into each of the of the sine functions.  This is done by taking the following inner product ($\\langle \\cdot , \\cdot \\rangle$) : \n",
    "\n",
    "$$ c_n = \\left \\langle \\sin \\left(\\frac{n \\pi x}{L}\\right) , \\; f(x)  \\right \\rangle = \\frac{2}{L}\\int_0^L \\sin \\left(\\frac{n \\pi x}{L}\\right) f(x)dx $$"
   ]
  },
  {
   "cell_type": "markdown",
   "metadata": {},
   "source": [
    "First, we write the triangle function as an actual python function that \n",
    "given an input x, returns a single output y"
   ]
  },
  {
   "cell_type": "code",
   "execution_count": 17,
   "metadata": {
    "collapsed": false
   },
   "outputs": [],
   "source": [
    "#To use the integration function quad, we need to write the triangle function as an actual python function that \n",
    "#given an input x, returns a single output y\n",
    "def triangle_function(x, L):\n",
    "    '''given x, returns y as defined by the triangle function defined in the range 0 <= x <= L\n",
    "    '''\n",
    "    if x < 0:\n",
    "        print 'Error: the value of x should be between 0 and L'\n",
    "        y = None\n",
    "    elif x < L/2.0:\n",
    "        y = 2*x\n",
    "    elif x <= L:\n",
    "        y = 2*(1 - x)\n",
    "    else:\n",
    "        print 'Error: the value of x should be between 0 and L'\n",
    "        y = None\n",
    "    return y"
   ]
  },
  {
   "cell_type": "markdown",
   "metadata": {},
   "source": [
    "Next, we write a function that returns the integrand \n",
    "$$\\frac{2}{L}\\sin(\\frac{n \\pi x}{L})f(x)$$"
   ]
  },
  {
   "cell_type": "code",
   "execution_count": 18,
   "metadata": {
    "collapsed": false
   },
   "outputs": [],
   "source": [
    "#First, we define a function that returns the integrand: sin(n*pi*x/L)*f(x)\n",
    "def projection_integrand(x,n,L):\n",
    "    '''The inputs to the function are:\n",
    "    x ---> vector of x values. \n",
    "    n ---> the n-number associated to the sine functions\n",
    "    L --> L, upper limit of integration\n",
    "    '''\n",
    "    sine_function = np.sin(n*np.pi*x/np.double(L)) # this is the sine function sin(n*pi*x/L)\n",
    "    integrand = (2.0/L)*sine_function*triangle_function(x, L) # this is the product of the two functions, with the 2/L factor\n",
    "    #return(sine_function*f_x)\n",
    "    return integrand"
   ]
  },
  {
   "cell_type": "markdown",
   "metadata": {},
   "source": [
    "Next, we use scipy's quad function to perform the integral we need.\n",
    "\n",
    "This is how the quad funciton is called (refer to the following iPython video tutorial \n",
    "**\"WE CAN TAKE INNER PRODUCTS BETWEEN TWO WAVE FUNCTIONS\"**"
   ]
  },
  {
   "cell_type": "code",
   "execution_count": 19,
   "metadata": {
    "collapsed": false
   },
   "outputs": [
    {
     "name": "stdout",
     "output_type": "stream",
     "text": [
      "*****************\n",
      "the amplitude of the projection into the n=1 sine function is 0.810569469139\n",
      "*****************\n"
     ]
    }
   ],
   "source": [
    "from scipy.integrate import quad ## an integration function that we need to import \n",
    "n=1 #let's do it for the n=1 sine function\n",
    "c_1 = quad(projection_integrand, 0, L, (n, L))  #take inner product to get the amplitude a_1\n",
    "\n",
    "print '*****************'\n",
    "print 'the amplitude of the projection into the n='+str(n)+' sine function is', c_1[0] \n",
    "print '*****************'"
   ]
  },
  {
   "cell_type": "markdown",
   "metadata": {},
   "source": [
    "## Step 4: Multiple decompositions\n",
    "Now, let's write a for loop (refer to **Let's write a quick for loop** iPython video tutorial) that let's us get the amplitude of the n=1...10 sine functions.\n",
    "\n",
    "We'll store the data in an array. And then we'll plot, for comparison, the true triangle function, and the one that we get from adding all the wave functions. "
   ]
  },
  {
   "cell_type": "code",
   "execution_count": 24,
   "metadata": {
    "collapsed": false
   },
   "outputs": [],
   "source": [
    "#First choose the maximum value of n to include in our sum:\n",
    "n_max = 10"
   ]
  },
  {
   "cell_type": "code",
   "execution_count": 25,
   "metadata": {
    "collapsed": false
   },
   "outputs": [
    {
     "data": {
      "image/png": "[encoded data removed]",
      "text/plain": [
       "<matplotlib.figure.Figure at 0x7f92a7a10150>"
      ]
     },
     "metadata": {},
     "output_type": "display_data"
    }
   ],
   "source": [
    "x = np.arange(0,L,0.01) # our x vector\n",
    "triangle_approx = np.zeros(len(x)) # initialize the approximation to the triangle function to an array of zeros\n",
    "\n",
    "for n in range(1,n_max + 1): #for n = 1, 2, 3, ..., n_max, each different value of n\n",
    "    #1.  get the amplitude a_n for that particular value of n, same method as above\n",
    "    c_n = quad(projection_integrand, 0, L, (n, L)) \n",
    "    \n",
    "    #2.  update our triangle approximation, by adding up the c_n*sin(n*pi*x/L)\n",
    "    triangle_approx = triangle_approx + c_n[0]*np.sin(n*np.pi*x/np.double(L))\n",
    "\n",
    "    \n",
    "#Now let's plot it to see what it looks like:\n",
    "plt.hold(True)\n",
    "plt.plot(x, triangle_approx)\n",
    "plt.plot(x, triangle_y) \n",
    "plt.xlabel('x')\n",
    "plt.ylabel('f(x)')\n",
    "plt.title('approximating the triangle function as a sum of sines, n = 1 ...' + str(n_max))\n",
    "plt.legend(['approximation', 'triangle function'])\n",
    "plt.show()"
   ]
  },
  {
   "cell_type": "markdown",
   "metadata": {},
   "source": [
    "## Step 5: Orthogonality\n",
    "\n",
    "### The Inner product is a measure of how ''similar'' two functions are.\n",
    "When the product is 0 we say two functions are orthogonal to each other. \n",
    "\n",
    "We can also check that all the sine functions with different values of n are **orthogonal** to each other:\n"
   ]
  },
  {
   "cell_type": "code",
   "execution_count": 26,
   "metadata": {
    "collapsed": false
   },
   "outputs": [
    {
     "name": "stdout",
     "output_type": "stream",
     "text": [
      "*****************\n",
      "*****************\n",
      "*****************\n",
      "The inner product between the n = 1 and the n = 2 eigenfunctions is 1.93781440447e-17\n",
      "*****************\n",
      "*****************\n",
      "*****************\n"
     ]
    }
   ],
   "source": [
    "#Pick two values of n:\n",
    "n1 = 1\n",
    "n2 = 2\n",
    "\n",
    "#We define a function that multiplies the two eigenfunctions, and returns the product (2/L)*sin(n1*pi*x/L)sin(n2*pi*x/L)\n",
    "def inner_product_function(x, n1,n2):\n",
    "    sine_1 = np.sin(n1*np.pi*x/L)\n",
    "    sine_2 = np.sin(n2*np.pi*x/L)\n",
    "    integrand = (2.0/L)*sine_1*sine_2\n",
    "    return integrand\n",
    "\n",
    "overlap = quad(inner_product_function, 0, L, (n1,n2)) #take the inner product of the two eigenfunctions\n",
    "print '*****************'\n",
    "print '*****************'\n",
    "print '*****************'\n",
    "print 'The inner product between the n =', n1, 'and the n =', n2, 'eigenfunctions is', overlap[0]\n",
    "print '*****************'\n",
    "print '*****************'\n",
    "print '*****************'  \n",
    "    "
   ]
  },
  {
   "cell_type": "markdown",
   "metadata": {},
   "source": [
    "We can also compare to the analytical solution:\n",
    "$$f(x)=\\frac{8}{\\pi^2}\\sum_{n=1, odd}^{\\infty}\\frac{(-1)^{\\frac{n+1}{2}}}{n^2}\\sin(n \\pi x)$$"
   ]
  },
  {
   "cell_type": "code",
   "execution_count": 29,
   "metadata": {
    "collapsed": false
   },
   "outputs": [],
   "source": [
    "#analytical function\n",
    "def analytical_solution(x, n_max):\n",
    "    f_x = np.zeros(len(x)) #initialize the function as an array of zeros, same length as the x array\n",
    "    for n in range(1,n_max+1,2): #for each value of n < n_max, in steps of 2, so we only get odd numbers \n",
    "        #update the functions by adding the term corresponding to n\n",
    "        f_x = f_x + (8.0/(np.pi)**2)*((-1)**((n-1)/2.0)/n**2)*np.sin(n*np.pi*x)\n",
    "    return f_x"
   ]
  },
  {
   "cell_type": "markdown",
   "metadata": {},
   "source": [
    "### Step 6: Compare solutions\n",
    "\n",
    "**Let's plot all three functions!** \n",
    "\n",
    "(the sum of sines using the analytical expression for c_n, the sum of sines using the numerical values obtained for c_n, and the original triangle function)"
   ]
  },
  {
   "cell_type": "code",
   "execution_count": 30,
   "metadata": {
    "collapsed": false
   },
   "outputs": [
    {
     "data": {
      "image/png": "[encoded data removed]",
      "text/plain": [
       "<matplotlib.figure.Figure at 0x7f92a6c16f50>"
      ]
     },
     "metadata": {},
     "output_type": "display_data"
    }
   ],
   "source": [
    "f_x = analytical_solution(x,n_max) #call the analytical function\n",
    "#PLOT this thing!\n",
    "plt.hold(True)\n",
    "plt.plot(x, f_x)\n",
    "plt.plot(x, triangle_approx)\n",
    "plt.plot(x, triangle_y)\n",
    "plt.legend(('analytical', 'numerical', 'triangle function'))\n",
    "plt.title('Triangle function as sum of sines, n = 1...' + str(n_max))\n",
    "plt.show()"
   ]
  },
  {
   "cell_type": "markdown",
   "metadata": {
    "collapsed": false
   },
   "source": [
    "## Let's take this to infinity!\n",
    "\n",
    "![](files/triangle_decomp.gif)"
   ]
  },
  {
   "cell_type": "code",
   "execution_count": null,
   "metadata": {
    "collapsed": true
   },
   "outputs": [],
   "source": []
  }
 ],
 "metadata": {
  "kernelspec": {
   "display_name": "Python 2",
   "language": "python",
   "name": "python2"
  },
  "language_info": {
   "codemirror_mode": {
    "name": "ipython",
    "version": 2
   },
   "file_extension": ".py",
   "mimetype": "text/x-python",
   "name": "python",
   "nbconvert_exporter": "python",
   "pygments_lexer": "ipython2",
   "version": "2.7.9"
  }
 },
 "nbformat": 4,
 "nbformat_minor": 0
}
