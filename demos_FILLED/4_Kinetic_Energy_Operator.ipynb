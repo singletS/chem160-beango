{
 "cells": [
  {
   "cell_type": "markdown",
   "metadata": {},
   "source": [
    "#Observables and operators: The Kinetic Energy operator\n",
    "\n",
    "![](files/Animated_illustration_of_inflection_point.gif)\n",
    "\n",
    "## Introduction\n",
    "\n",
    "In this iPython notebook, we'll revisite the kinetic energy operator. We will use the wavefunctions of the 1D particle in a box as an example to illustrate the calculation of the kinetic energy analytically and numerically. We will revisite the relationship between observables and operators, and what happens with the observables when our wavefunction is a superposition of two or more eigenstates.\n",
    "\n",
    "We'll **review** some of the stuff you've learned so far : \n",
    "\n",
    "1.  Integration with scipy.integrate.simps\n",
    "2.  The eigenfunctions of the 1D particle in a box.\n",
    "\n",
    "And we'll play around with some **new concepts** :\n",
    "\n",
    "1.  Differentiation by finite differences.\n",
    "\n",
    "\n",
    "## Before you start ...\n",
    "\n",
    "You will find two symbols in this ipython notebook: <i class=\"fa fa-book\"></i> and <i class=\"fa fa-wrench\"></i>. If an step has the symbol <i class=\"fa fa-book\"></i> you will know that you only need to read and execute the boxes. If you find a step with <i class=\"fa fa-wrench\"></i> that is telling you that apart from reading you will have to complete some code. The instructions to complete the code are in capital letters.\n",
    "\n",
    "## Have fun!\n"
   ]
  },
  {
   "cell_type": "markdown",
   "metadata": {},
   "source": [
    " ## <i class=\"fa fa-book\"></i> Step 1: As always, start by importing the modules you'll need"
   ]
  },
  {
   "cell_type": "code",
   "execution_count": 120,
   "metadata": {
    "collapsed": false
   },
   "outputs": [],
   "source": [
    "#As always, import the modules you'll need\n",
    "%matplotlib inline\n",
    "import numpy as np\n",
    "from matplotlib import pyplot as plt"
   ]
  },
  {
   "cell_type": "markdown",
   "metadata": {},
   "source": [
    "## <i class=\"fa fa-wrench\"></i> Step 2: Let's define some functions\n",
    "\n",
    "First we'll write a function that returns a valid wavefunction for the 1D particle in a box. We will use this function later in this demo. We saw the expression for this wavefunction in the previous lecture:\n",
    "\n",
    "$$ \\psi_n(x)=\\sqrt{\\frac{2}{L}}\\sin(\\frac{n\\pi x}{L}) $$ \n",
    "\n",
    "Since you learnt how to write this function last lecture go ahead and **complete the definition of the function below** (just warming up): "
   ]
  },
  {
   "cell_type": "code",
   "execution_count": 121,
   "metadata": {
    "collapsed": false
   },
   "outputs": [],
   "source": [
    "######################################################################\n",
    "# COMPLETE THE FUNCTION BELOW\n",
    "# GIVEN x, L, AND n RETURNS AND EIGENFUNCTION FOR THE 1D PARTICLE IN A BOX\n",
    "# Inputs: x -- numpy array. \n",
    "#        L -- scalar, length of the box. \n",
    "#        n -- integer\n",
    "\n",
    "def box_1D_eigenfunction(x, L, n):\n",
    "    psi_x = np.sqrt(2.0/L) * np.sin(n*np.pi*x/L)\n",
    "    return psi_x\n",
    "\n",
    "########################################################################"
   ]
  },
  {
   "cell_type": "markdown",
   "metadata": {},
   "source": [
    "## <i class=\"fa fa-book\"></i> Step 3. Defining the Kinetic energy operator ($\\hat{T}$)\n",
    "\n",
    "The **kinetic energy operator**, which like all other operators acts on wave functions, is given by:<br>\n",
    "\n",
    "$$ \\hat{T} = \\frac{\\hat{p}^2}{2m}=-\\frac{\\hbar^2}{2m}\\frac{\\partial^2 }{\\partial x^2}$$\n",
    "\n",
    "So, for example, let's apply the kinetic energy operator to the solutions to the 1_D particle in a box:\n",
    "\n",
    "$$ \\hat{T} \\psi_n(x) =-\\frac{\\hbar^2}{2m}\\frac{\\partial^2 }{\\partial x^2} \\sqrt{\\frac{2}{L}}\\sin(\\frac{n\\pi x}{L}) = (-\\frac{\\hbar^2}{2m}) (-\\frac{n^2 \\pi^2}{L^2}) \\sqrt{\\frac{2}{L}}\\sin(\\frac{n\\pi x}{L}) = \\frac{\\hbar^2 n^2 \\pi^2}{2m L^2} \\psi_n(x) $$\n",
    "\n",
    "This case is simple, and we get a nice and clean analytical expression. However not all the wavefunctions are as easy as the solutions for the particle in a box, and in fact, many wavefunctions don't even have analytical expressions. In many cases our wavefunction is just a vector of numbers that we obtain from a numerical calculation in a computer.\n",
    "\n",
    "How do we compute the kinetic energy operator in those cases? Well, the kinetic energy operator is a second derivative and we can approximate its action on the wavefunction using the method of finite differences (https://en.wikipedia.org/wiki/Finite_difference): \n",
    "\n",
    "$$ \\frac{\\partial^2\\psi(x) }{\\partial x^2}\\sim \\frac {\\psi(x+\\Delta x) - 2\\psi(x) + \\psi(x -\\Delta x)}{(\\Delta x) ^2}$$\n",
    "\n",
    "We've written a function called kinetic_energy_operator that employs the formula above to approximate the kinetic energy operator. **Read the function below and understand how the code matches the finite difference approximation of the kinetic energy operator.**"
   ]
  },
  {
   "cell_type": "code",
   "execution_count": 122,
   "metadata": {
    "collapsed": false
   },
   "outputs": [],
   "source": [
    "def kinetic_energy_operator(x, psi_x, h_bar = 1, m = 1):\n",
    "    '''This python function uses a central difference approximation \n",
    "    to get the second derivative of the function psi_x over the range x\n",
    "    Input:\n",
    "        -- x is an array of values\n",
    "        -- psi_x is an array of values, corresponding to the wave function evaluated at x. (same length as x) \n",
    "    '''\n",
    "    dx = x[1] - x[0] #this is delta x\n",
    "    second_derivative = np.zeros_like(x) #an array of zeroes, same length as x. \n",
    "    for i in range(len(x)): #for each element in \n",
    "        if i==0:\n",
    "            #forward differences for approximating the second derivative of psi_x at the first value of x, x[0]\n",
    "            second_derivative[i] = ( psi_x[i+2]  - 2*psi_x[i+1] + psi_x[i] ) / dx**2\n",
    "        elif i==(len(x)-1):\n",
    "            #backwards differences for approximating the second derivative of psi_x at the last value of x, x[-1]\n",
    "            second_derivative[i] = ( psi_x[i] - 2*psi_x[i-1] + psi_x[i-2] ) / dx**2\n",
    "        else:\n",
    "            #central differences for all other values of x\n",
    "            ####\n",
    "            ###(ONE LINE) WRITE A SINGLE LINE OF CODE THAT ASSIGNS TO second_derivative[i] THE NUMERICAL APPROX. \n",
    "            ###TO THE SECOND DERIVATIVE USING THE CENTRAL DIFFERENCE APPROXIMATION\n",
    "            second_derivative[i] = ( psi_x[i+1] - 2*psi_x[i] + psi_x[i-1] ) / dx**2\n",
    "            ####\n",
    "            \n",
    "    T_on_psi = -h_bar**2/(2.0*m)*second_derivative\n",
    "    return T_on_psi\n",
    "        "
   ]
  },
  {
   "cell_type": "markdown",
   "metadata": {},
   "source": [
    "## <i class=\"fa fa-wrench\"></i> Step 4: Compare the analytical expression for the kinetic energy operator with its finite difference  approximation."
   ]
  },
  {
   "cell_type": "markdown",
   "metadata": {},
   "source": [
    "Now we want to compare the analytical expression of the kinetic energy operator with the finite difference approximation, in order to verify the approximation is working well. We are going to do that for the eigenfunctions of the 1-D particle in a box ($\\psi(x)$).\n",
    "\n",
    "You will have to 1) call the function we defined above to calculate $\\hat{T}\\psi(x)$ with finite differences and 2) write the analytical expression of $\\hat{T}\\psi(x)$. The expression is defined in step 3."
   ]
  },
  {
   "cell_type": "code",
   "execution_count": 123,
   "metadata": {
    "collapsed": false
   },
   "outputs": [],
   "source": [
    "# Firts let's choose x, L, and n for our wavefunction\n",
    "L = 10\n",
    "x = np.arange(0,L,0.001)\n",
    "n = 3\n",
    "h_bar = 1\n",
    "m = 1\n",
    "\n",
    "# Generate the eigenfunction \n",
    "psi_x = box_1D_eigenfunction(x,L,n)\n",
    "\n",
    "#########################################################################################################\n",
    "# CALL THE kinetic_energy_operator FUNCTION TO CALCULATE\n",
    "#  T ACTING ON PSI USING FINITE DIFFERENCES (1 LINE OF CODE)\n",
    "T_on_psi_numerical = kinetic_energy_operator(x, psi_x, h_bar, m)\n",
    "#########################################################################################################\n",
    "\n",
    "#########################################################################################################\n",
    "# WRITE HERE THE ANALYTICAL EXPRESSION FOR T ACTING ON PSI \n",
    "# (1 LINE OF CODE)\n",
    "T_on_psi_analytical = (h_bar**2/(2.0*m))*(n*np.pi/L)**2*psi_x\n",
    "#########################################################################################################"
   ]
  },
  {
   "cell_type": "code",
   "execution_count": 124,
   "metadata": {
    "collapsed": false
   },
   "outputs": [
    {
     "data": {
      "image/png": "[encoded data removed]",
      "text/plain": [
       "<matplotlib.figure.Figure at 0x7f4a45973250>"
      ]
     },
     "metadata": {},
     "output_type": "display_data"
    }
   ],
   "source": [
    "#And let's plot them (This code do not need to be modified)\n",
    "\n",
    "fig=plt.figure(figsize=(10,6))\n",
    "plt.plot(x , psi_x, 'g-' ,label='$\\psi(x)$') #Plot the wave function\n",
    "plt.plot(x, T_on_psi_analytical, 'kx',label=\"$\\hat{T}\\psi(x)$ Analytical result\" ) # Plot T acting on the wave function, analytical result\n",
    "plt.plot(x, T_on_psi_numerical, 'r-',label=\"$\\hat{T}\\psi(x)$ Finite differences\" ) # Plot T acting on the wave function, numerical result\n",
    "plt.xlabel('x')\n",
    "plt.ylabel('Eigenfunction and second derivatives')\n",
    "plt.legend(loc='lower left')\n",
    "plt.show()"
   ]
  },
  {
   "cell_type": "markdown",
   "metadata": {},
   "source": [
    "Do you think the finite difference approximation is working well or not? Try other values of $n$ as well."
   ]
  },
  {
   "cell_type": "markdown",
   "metadata": {},
   "source": [
    "## <i class=\"fa fa-wrench\"></i> Step 5: Calculate the expectation value of the Kinetic Energy Operator when the wavefunction is an eigenfunction."
   ]
  },
  {
   "cell_type": "markdown",
   "metadata": {},
   "source": [
    "OK, things are looking good. Now that we have the operator that corresponds to the Kinetic Energy observable, we can get it's expectation value:\n",
    "$$ \\langle \\hat{T} \\rangle = \\int \\psi^{*}(x) \\hat{T} \\psi(x) dx $$\n",
    "From the expression in step 3, we can deduce the expectation value of the kinetic energy operator for the eigenfunctions of the 1-D particle in a box:\n",
    "$$ T_n = \\frac{\\hbar^2 n^2 \\pi^2}{2m L^2} $$\n",
    "\n",
    "Now write a fuction that returns the analytical value of $T_n = E_n$, the kinetic energy of the $n$-th eigenfunction:"
   ]
  },
  {
   "cell_type": "code",
   "execution_count": 125,
   "metadata": {
    "collapsed": false
   },
   "outputs": [],
   "source": [
    "####################################################\n",
    "# COMPLETE THE DEFINITION OF THE FUNCTION BELOW \n",
    "# The function should receive as arguments: n, L, h_bar and m.\n",
    "# HINT: See the equation above\n",
    "\n",
    "def analytical_T_n(n, L, h_bar=1, m=1):\n",
    "    T_analytical = (n*h_bar*np.pi)**2 / (2.0*m*L**2)\n",
    "    return T_analytical\n",
    "\n",
    "####################################################"
   ]
  },
  {
   "cell_type": "markdown",
   "metadata": {},
   "source": [
    "Next, we want to compare the analytical expectation value with the expectation value calculated with the finite difference approximation. Let's write some code that let's us take the expectation value of $\\hat{T}$, $\\langle \\hat{T} \\rangle$, for a given wavefunction. To do this, we will need to integrate $\\psi^*(x)\\hat{T}\\psi(x)$. In the following code complete the expression for the integrand and the value of the integral. Check out the syntax of the simps function in the cheat sheep if you don't remember it:"
   ]
  },
  {
   "cell_type": "code",
   "execution_count": 126,
   "metadata": {
    "collapsed": false
   },
   "outputs": [
    {
     "name": "stdout",
     "output_type": "stream",
     "text": [
      "The expectation value of <T>, obtained numerically, is = 0.444128930221\n",
      "The expectation value of <T>, obtained analytically, should be = 0.444132198049\n"
     ]
    }
   ],
   "source": [
    "from scipy.integrate import simps # this is an alternative function to integrate, using Simpson's rule\n",
    "\n",
    "#let's set h_bar and m equal to 1, for now \n",
    "h_bar = 1\n",
    "m = 1\n",
    "\n",
    "#We will take the expectation value of T when the wave function is the n=1 eigenstate.\n",
    "#define x, L, and n\n",
    "L = 10\n",
    "x = np.arange(0,L,0.01)\n",
    "n = 3\n",
    "\n",
    "#### Now, to get the expectation value:\n",
    "\n",
    "#First we get the wave function (\\psi)\n",
    "psi_x = box_1D_eigenfunction(x, L, n)\n",
    "\n",
    "#Next we get T acting on the wave function (T |psi)\n",
    "T_on_psi = kinetic_energy_operator(x, psi_x)\n",
    "\n",
    "################################################################\n",
    "# NOW COMPLETE THE EXPRESSION FOR THE INTEGRAND\n",
    "# Remember that our integrand is conjugate(psi_x) T psi_x\n",
    "integrand = np.conjugate(psi_x)*T_on_psi \n",
    "################################################################\n",
    "\n",
    "################################################################\n",
    "# NOW CALCULATE THE EXPECTATION VALUE BY INTEGRATING USING SIMPS\n",
    "T_expectation_numerical = simps( integrand, x )\n",
    "################################################################\n",
    "\n",
    "print \"The expectation value of <T>, obtained numerically, is =\", T_expectation_numerical\n",
    "\n",
    "#Let's compare with the analytical expression for E_n\n",
    "\n",
    "T_expectation_analytical = analytical_T_n(n, L)\n",
    "print \"The expectation value of <T>, obtained analytically, should be =\",T_expectation_analytical"
   ]
  },
  {
   "cell_type": "markdown",
   "metadata": {},
   "source": [
    "Now replace the value of n=1 by n=2 in the previous box and check the expectation value for the second eigenfunction. Finally compare the difference between the analytical and the numerical expectation value by executing the next box:"
   ]
  },
  {
   "cell_type": "code",
   "execution_count": 127,
   "metadata": {
    "collapsed": false
   },
   "outputs": [
    {
     "name": "stdout",
     "output_type": "stream",
     "text": [
      "The difference between the analytical the the numerical expectation value of T is: 3.26782773424e-06\n"
     ]
    }
   ],
   "source": [
    "print \"The difference between the analytical the the numerical expectation value of T is:\", \n",
    "print T_expectation_analytical-T_expectation_numerical"
   ]
  },
  {
   "cell_type": "markdown",
   "metadata": {},
   "source": [
    "## <i class=\"fa fa-wrench\"></i> Step 6. Get the expectation value of the kinetic energy when the wave function is a linear combination of two eigenfunctions."
   ]
  },
  {
   "cell_type": "markdown",
   "metadata": {},
   "source": [
    "What if our wave function is a normalized linear combination of n = 1 and n = 2 eigenfunction?  \n",
    "\n",
    "$$ \\psi_{12}(x)=c_1 \\psi_{1}(x) + c_2 \\psi_2(x) $$\n",
    "\n",
    "What is the expectation value for the kinetic energy? We'll find out."
   ]
  },
  {
   "cell_type": "markdown",
   "metadata": {},
   "source": [
    "### First build a wavefunction that is a superposition of the n=1 and n=2 eigenstates"
   ]
  },
  {
   "cell_type": "code",
   "execution_count": 128,
   "metadata": {
    "collapsed": false
   },
   "outputs": [
    {
     "data": {
      "image/png": "[encoded data removed]",
      "text/plain": [
       "<matplotlib.figure.Figure at 0x7f4a458cd490>"
      ]
     },
     "metadata": {},
     "output_type": "display_data"
    }
   ],
   "source": [
    "n1 = 1 \n",
    "n2 = 2\n",
    "c1 = 1.0/np.sqrt(2)\n",
    "c2 = 1.0/np.sqrt(2)\n",
    "\n",
    "################################\n",
    "# IN ONE LINE BUILD A WAVE FUNCTION, psi_12, THAT IS A LINEAR COMBINATION OF THE n=1 AND n=2 EIGENSTATES, \n",
    "# WITH COEFFICIENTS c1 AND c2\n",
    "psi_12 = 1.0/np.sqrt(2)*box_1D_eigenfunction(x, L, n1) + 1.0/np.sqrt(2)*box_1D_eigenfunction(x, L, n2)\n",
    "################################\n",
    "\n",
    "#Let's plot it:\n",
    "fig=plt.figure(figsize=(10,6))\n",
    "plt.plot(x,psi_12, linewidth=3)\n",
    "plt.xlabel('x, position',fontsize=12)\n",
    "plt.ylabel('Wavefunction ($\\psi_{12}(x)$)',fontsize=12)\n",
    "plt.title('A Linear combination of the n='+str(n1)+' and the n='+str(n2)+' eigenstates',fontsize=12)\n",
    "plt.show()"
   ]
  },
  {
   "cell_type": "markdown",
   "metadata": {},
   "source": [
    "### Now using the finite difference method, calculate the expectation value of the superposition of the n=1 and n=2 eigenstates."
   ]
  },
  {
   "cell_type": "code",
   "execution_count": 129,
   "metadata": {
    "collapsed": false
   },
   "outputs": [
    {
     "name": "stdout",
     "output_type": "stream",
     "text": [
      "The expectation value of <T> for the superposition of n=1 and n=2, obtained numerically, is = 0.123369711687\n"
     ]
    }
   ],
   "source": [
    "#####################################################################\n",
    "# CALCULATE THE RESULTS OF ACTING ON psi_12 WITH T (1 LINE OF CODE)\n",
    "T_on_psi_12 = kinetic_energy_operator(x, psi_12)\n",
    "# NOW MULTIPLY ON THE LEFT BY THE COMPLEX CONJUGATE OF psi_12, TO OBTAIN THE INTEGRAND (1 LINE OF CODE)\n",
    "integrand = np.conjugate(psi_12)*T_on_psi_12\n",
    "# NOW USE THE simps INTEGRATION TO GET THE EXPECTATION VALUE (1 LINE OF CODE)\n",
    "T_numerical = simps( integrand, x )\n",
    "#######################################################################\n",
    "print \"The expectation value of <T> for the superposition of n=1 and n=2, obtained numerically, is =\", T_numerical"
   ]
  },
  {
   "cell_type": "markdown",
   "metadata": {},
   "source": [
    "### Now compare the numerical value with the analytical value"
   ]
  },
  {
   "cell_type": "markdown",
   "metadata": {},
   "source": [
    "What do we expect $\\rangle \\hat{T} \\langle$ should be in this case? In general, the expectation value of an operator $\\hat{\\Lambda}$ for a wavefunction that is a superposition of several eigenstates is:\n",
    "\n",
    "$$<\\hat{\\Lambda}> = \\sum_\\lambda |c_\\lambda|^2\\lambda$$ \n",
    "\n",
    "where $c_{\\lambda}$ represent the contribution of the $\\lambda$-th eigenstate to the wavefunction. In this case, the previous formula translates to:\n",
    "\n",
    "$$<\\hat{T}>=|c_1|^2 T_1 + |c_2|^2 T_2 $$\n",
    "\n",
    "Now complete the next box."
   ]
  },
  {
   "cell_type": "code",
   "execution_count": 130,
   "metadata": {
    "collapsed": false
   },
   "outputs": [
    {
     "name": "stdout",
     "output_type": "stream",
     "text": [
      "The expectation value of <T>, obtained analytically, should be = 0.123370055014\n"
     ]
    }
   ],
   "source": [
    "########################################################################\n",
    "# WRITE THE ANALYTICAL EXPRESSION FOR WHAT <T> SHOULD BE EQUAL T (1 LINE OF CODE)\n",
    "# HINT: Use the function you defined in step 5.\n",
    "T_analytical = np.abs(c1**2.0)*analytical_T_n(n1, L) + np.abs(c2**2.0)*analytical_T_n(n2, L)\n",
    "########################################################################\n",
    "\n",
    "print \"The expectation value of <T>, obtained analytically, should be =\", T_analytical"
   ]
  },
  {
   "cell_type": "markdown",
   "metadata": {},
   "source": [
    "Now we compare both values:"
   ]
  },
  {
   "cell_type": "code",
   "execution_count": 131,
   "metadata": {
    "collapsed": false
   },
   "outputs": [
    {
     "name": "stdout",
     "output_type": "stream",
     "text": [
      "The difference between the analytical the the numerical expectation value of T is: 3.43326179403e-07\n"
     ]
    }
   ],
   "source": [
    "print \"The difference between the analytical the the numerical expectation value of T is:\", \n",
    "print T_analytical-T_numerical"
   ]
  },
  {
   "cell_type": "markdown",
   "metadata": {},
   "source": [
    "## <i class=\"fa fa-book\"></i> Step 7. Check what you learnt.\n",
    "\n",
    "### In this demo we learnt:\n",
    "\n",
    "### 1. The definition of the kinetic energy operator.\n",
    "\n",
    "### 2. The analytical expression of the kinetic energy operator for the 1D-particle-in-a-box problem.\n",
    "\n",
    "### 3. How to calculate the action of the kinetic energy operator and its expectation value numerically, using finite differences, for an arbitrary 1D wavefunction.\n",
    "\n",
    "### 4. How expectation values are calculated for a superposition of eigenstates."
   ]
  },
  {
   "cell_type": "code",
   "execution_count": null,
   "metadata": {
    "collapsed": true
   },
   "outputs": [],
   "source": []
  }
 ],
 "metadata": {
  "kernelspec": {
   "display_name": "Python 2",
   "language": "python",
   "name": "python2"
  },
  "language_info": {
   "codemirror_mode": {
    "name": "ipython",
    "version": 2
   },
   "file_extension": ".py",
   "mimetype": "text/x-python",
   "name": "python",
   "nbconvert_exporter": "python",
   "pygments_lexer": "ipython2",
   "version": "2.7.9"
  }
 },
 "nbformat": 4,
 "nbformat_minor": 0
}
